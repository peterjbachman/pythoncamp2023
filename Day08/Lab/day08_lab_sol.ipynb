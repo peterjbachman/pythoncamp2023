{
 "cells": [
  {
   "cell_type": "markdown",
   "metadata": {},
   "source": [
    "#### Day 8: Lab \n",
    "\n",
    "1. Write a function using recursion to calculate the greatest common divisor of two numbers \n",
    "- Helpful link: https://www.khanacademy.org/computing/computer-science/cryptography/modarithmetic/a/the-euclidean-algorithm"
   ]
  },
  {
   "cell_type": "code",
   "execution_count": 11,
   "metadata": {},
   "outputs": [
    {
     "data": {
      "text/plain": [
       "6"
      ]
     },
     "execution_count": 11,
     "metadata": {},
     "output_type": "execute_result"
    }
   ],
   "source": [
    "def gcd(x, y):\n",
    "\t## get remainder\n",
    "\tup = max(x,y)\n",
    "\tlo = min(x,y)\n",
    "\tre = up % lo\n",
    "\t## base case, no remainder\n",
    "\t## then that \"divisor\" is answer\n",
    "\tif re == 0:\n",
    "\t\treturn lo\n",
    "\t## otherwise, call function again with new inputs\n",
    "\treturn gcd(lo, re)\n",
    "\n",
    "gcd(270, 192)\n",
    "\n",
    "# gcd(192, 78), gcd(78, 36), gcd(36, 6)\n",
    "# x = 270, 192 , 78, 36\n",
    "# y = 192, 78, 36, 6\n",
    "# up = 270, 192, 78, 36\n",
    "# lo = 192, 78, 36, 6\n",
    "# re = 78, 36, 6, 0\n",
    "# return gcd(192, 78), gcd(78, 36), gcd(36, 6), 6"
   ]
  },
  {
   "cell_type": "markdown",
   "metadata": {},
   "source": [
    "2. Write a function using recursion that checks whether a number is a prime number. \n",
    "    - return True if n is prime\n",
    "    - return False otherwise"
   ]
  },
  {
   "cell_type": "code",
   "execution_count": 25,
   "metadata": {},
   "outputs": [
    {
     "data": {
      "text/plain": [
       "False"
      ]
     },
     "execution_count": 25,
     "metadata": {},
     "output_type": "execute_result"
    }
   ],
   "source": [
    "# Returns true if n is prime, else\n",
    "# return false.\n",
    "# i is current divisor to check.\n",
    "def isPrime(n, i = 2):\n",
    "    if n == 1: \n",
    "        return False\n",
    "    if n == i: \n",
    "        return True\n",
    "    elif n % i == 0: \n",
    "        return False\n",
    "    return isPrime(n, i + 1)\n",
    "\n",
    "isPrime(27)\n",
    "# n = 27, \n",
    "# i = 2, \n",
    "# return isPrime(27,3)"
   ]
  },
  {
   "cell_type": "code",
   "execution_count": 18,
   "metadata": {},
   "outputs": [
    {
     "name": "stdout",
     "output_type": "stream",
     "text": [
      "True\n",
      "False\n",
      "False\n"
     ]
    }
   ],
   "source": [
    "print(isPrime(2))\n",
    "print(isPrime(177))\n",
    "print(isPrime(27))"
   ]
  },
  {
   "cell_type": "code",
   "execution_count": null,
   "metadata": {},
   "outputs": [],
   "source": [
    "# Another implementation\n",
    "def isPrime(n, i = 2):\n",
    "    # Base cases\n",
    "    if (n <= 2):\n",
    "        return True if(n == 2) else False\n",
    "    if (n % i == 0):\n",
    "        return False\n",
    "    if (i * i > n):\n",
    "        return True\n",
    " \n",
    "    # Check for next divisor\n",
    "    return isPrime(n, i + 1)"
   ]
  },
  {
   "cell_type": "code",
   "execution_count": null,
   "metadata": {},
   "outputs": [],
   "source": []
  }
 ],
 "metadata": {
  "kernelspec": {
   "display_name": "base",
   "language": "python",
   "name": "python3"
  },
  "language_info": {
   "codemirror_mode": {
    "name": "ipython",
    "version": 3
   },
   "file_extension": ".py",
   "mimetype": "text/x-python",
   "name": "python",
   "nbconvert_exporter": "python",
   "pygments_lexer": "ipython3",
   "version": "3.9.13"
  },
  "orig_nbformat": 4
 },
 "nbformat": 4,
 "nbformat_minor": 2
}
