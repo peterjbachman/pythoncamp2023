{
 "cells": [
  {
   "cell_type": "markdown",
   "metadata": {},
   "source": [
    "#### Day 6: Regular Expressions and Naive Bayes Classifier\n"
   ]
  },
  {
   "cell_type": "markdown",
   "metadata": {},
   "source": [
    "##### Part 1: Regular Expressions\n",
    "\n",
    "- Regular expressions are useful to extract information from text.\n",
    "- Set of “rules” to identify or match a particular sequence of characters.\n",
    "- Most text in utf-8 or utf-16: letters, digits, punctuation and symbols\n",
    "- In Python, mainly through library `re`\n"
   ]
  },
  {
   "cell_type": "code",
   "execution_count": null,
   "metadata": {},
   "outputs": [],
   "source": [
    "# Set Directory\n",
    "import os\n",
    "os.chdir('/Users/ysui/Desktop/PhD/MTE/pythoncamp2023_prep/Day06/Lecture')\n",
    "\n",
    "import re # for regular expressions"
   ]
  },
  {
   "cell_type": "markdown",
   "metadata": {},
   "source": [
    "For demonstration, we will work with Obama's 2008 concession speech from New Hampshire primary. "
   ]
  },
  {
   "cell_type": "code",
   "execution_count": null,
   "metadata": {},
   "outputs": [],
   "source": [
    "# read in example text, remember:\n",
    "# readlines makes a list of each line break in file\n",
    "with open(\"obama-nh.txt\", \"r\") as f:\n",
    "  text = f.readlines()"
   ]
  },
  {
   "cell_type": "markdown",
   "metadata": {},
   "source": [
    "Let's take a look at how this file is structured "
   ]
  },
  {
   "cell_type": "code",
   "execution_count": null,
   "metadata": {},
   "outputs": [],
   "source": [
    "# How does it impact our 'text' object?\n",
    "print(text[0])\n",
    "# print(text[1])\n",
    "# print(text[2])\n",
    "\n",
    "# print(text[0:3])"
   ]
  },
  {
   "cell_type": "code",
   "execution_count": null,
   "metadata": {},
   "outputs": [],
   "source": [
    "# Join into one string\n",
    "# What could we have done at the outset instead?\n",
    "alltext = ''.join(text) "
   ]
  },
  {
   "cell_type": "markdown",
   "metadata": {},
   "source": [
    "Or equivalently"
   ]
  },
  {
   "cell_type": "code",
   "execution_count": null,
   "metadata": {},
   "outputs": [],
   "source": [
    "with open(\"obama-nh.txt\", \"r\") as f:\n",
    "  alltext = f.read()"
   ]
  },
  {
   "cell_type": "markdown",
   "metadata": {},
   "source": [
    "##### 1.1 Useful functions from `re` library:\n",
    "\n",
    "- `re.findall`: Return all non-overlapping matches of pattern \n",
    "            in string, as a list of strings\n",
    "- `re.split`: Split string by the occurrences of pattern.\n",
    "- `re.match`: Search the beginning of the string for a\n",
    "          regular expression and return the first occurrence.\n",
    "          Returns a match object.\n",
    "- `re.search`: Like re.match, but will check all lines of the input string.\n",
    "- `re.compile`: Compile a regular expression pattern into a regular \n",
    "            expression object, which can be used for matching using\n",
    "            match(), search() and other methods\n",
    "\n",
    "Source: https://docs.python.org/3/library/re.html"
   ]
  },
  {
   "cell_type": "markdown",
   "metadata": {},
   "source": [
    "Let's run some examples!"
   ]
  },
  {
   "cell_type": "code",
   "execution_count": null,
   "metadata": {},
   "outputs": [],
   "source": [
    "# re.findall(pattern = \"Yes we can\", string= alltext) # All instance of Yes we can\n",
    "re.findall(\"Yes we can\", alltext) # All instance of Yes we can"
   ]
  },
  {
   "cell_type": "code",
   "execution_count": null,
   "metadata": {},
   "outputs": [],
   "source": [
    "re.findall(\"American\", alltext) # All instances of American"
   ]
  },
  {
   "cell_type": "code",
   "execution_count": null,
   "metadata": {},
   "outputs": [],
   "source": [
    "re.findall(\"\\n\", alltext) # all breaklines"
   ]
  },
  {
   "cell_type": "markdown",
   "metadata": {},
   "source": [
    "##### 1.2 Backslash Characters\n",
    "\n",
    "Regular expressions use the backslash character `\\` to indicte special forms or to allow special characters to be used without invoking their special meaning. \n",
    "\n",
    "! This collides with Python's usage of the same character for the same purpose in string literals \n",
    "\n",
    "How do we find the literal character `\\` in our file? "
   ]
  },
  {
   "cell_type": "code",
   "execution_count": null,
   "metadata": {},
   "outputs": [],
   "source": [
    "# re.findall(\"\\\", alltext)\n",
    "# re.findall(\"\\\\\", alltext)\n",
    "re.findall(\"\\\\\\\\\", alltext)"
   ]
  },
  {
   "cell_type": "markdown",
   "metadata": {},
   "source": [
    "One way to address such issue is to use Python's raw string notation for regular expression patterns. \n",
    "\n",
    "Backslashes are NOT handled in any special way in a string prefixed with `r`. \n",
    "\n",
    "So equivalently: "
   ]
  },
  {
   "cell_type": "code",
   "execution_count": null,
   "metadata": {},
   "outputs": [],
   "source": [
    "re.findall(r\"\\\\\", alltext)"
   ]
  },
  {
   "cell_type": "code",
   "execution_count": null,
   "metadata": {},
   "outputs": [],
   "source": [
    "print(\"\\n\")"
   ]
  },
  {
   "cell_type": "code",
   "execution_count": null,
   "metadata": {},
   "outputs": [],
   "source": [
    "print(r\"\\n\")"
   ]
  },
  {
   "cell_type": "code",
   "execution_count": null,
   "metadata": {},
   "outputs": [],
   "source": [
    "print(\"\\\\n\")"
   ]
  },
  {
   "cell_type": "markdown",
   "metadata": {},
   "source": [
    "##### 1.3 Basic special characters"
   ]
  },
  {
   "cell_type": "code",
   "execution_count": null,
   "metadata": {},
   "outputs": [],
   "source": [
    "# \\d find any decimal digit, equivalent to [0-9]\n",
    "re.findall(\"\\d\", alltext) "
   ]
  },
  {
   "cell_type": "code",
   "execution_count": null,
   "metadata": {},
   "outputs": [],
   "source": [
    "# \\D any character that is NOT a decimal digit, equivalent to ^[0-9]\n",
    "re.findall(\"\\D\", alltext) "
   ]
  },
  {
   "cell_type": "markdown",
   "metadata": {},
   "source": [
    "`[]` can be used to indicate a set of characters "
   ]
  },
  {
   "cell_type": "code",
   "execution_count": null,
   "metadata": {},
   "outputs": [],
   "source": [
    "# all instances of the char in []\n",
    "re.findall(\"[a]\", alltext) "
   ]
  },
  {
   "cell_type": "code",
   "execution_count": null,
   "metadata": {},
   "outputs": [],
   "source": [
    "# all instances of the from char 1 to char 2 in []\n",
    "re.findall(\"[a-d]\", alltext) "
   ]
  },
  {
   "cell_type": "code",
   "execution_count": null,
   "metadata": {},
   "outputs": [],
   "source": [
    "# all char, ^ except for of the from char 1 to char 2 in []\n",
    "re.findall(\"[^a-z]\", alltext) "
   ]
  },
  {
   "cell_type": "code",
   "execution_count": null,
   "metadata": {},
   "outputs": [],
   "source": [
    "# all char and digits (alphanumeric)\n",
    "re.findall(\"[a-zA-Z0-9]\", alltext) "
   ]
  },
  {
   "cell_type": "code",
   "execution_count": null,
   "metadata": {},
   "outputs": [],
   "source": [
    "# \\w alphanumeric, one word char \n",
    "re.findall(\"\\w\", alltext) # same as above"
   ]
  },
  {
   "cell_type": "code",
   "execution_count": null,
   "metadata": {},
   "outputs": [],
   "source": [
    "# \\W non-alphanumeric, opposite to \\w\n",
    "re.findall(\"\\W\", alltext) # same as re.findall(r\"[^a-zA-Z0-9]\", alltext)"
   ]
  },
  {
   "cell_type": "code",
   "execution_count": null,
   "metadata": {},
   "outputs": [],
   "source": [
    "# \\s whitespace\n",
    "re.findall(\"\\s\", alltext) "
   ]
  },
  {
   "cell_type": "code",
   "execution_count": null,
   "metadata": {},
   "outputs": [],
   "source": [
    "# \\S non-whitespace\n",
    "re.findall(\"\\S\", alltext) "
   ]
  },
  {
   "cell_type": "code",
   "execution_count": null,
   "metadata": {},
   "outputs": [],
   "source": [
    "# . any char (include white spaces, except a newline)\n",
    "re.findall(\".\", alltext) "
   ]
  },
  {
   "cell_type": "code",
   "execution_count": null,
   "metadata": {},
   "outputs": [],
   "source": [
    "# \\ is an escape character (. has a special use)\n",
    "re.findall(\"\\.\", alltext) "
   ]
  },
  {
   "cell_type": "code",
   "execution_count": null,
   "metadata": {},
   "outputs": [],
   "source": [
    "# ? Makes the preceding RE optional. (match 0 or 1 repetitions of the preceding RE)\n",
    "re.findall(\"Am?\", alltext) # This would match A or Am where m is optional"
   ]
  },
  {
   "cell_type": "code",
   "execution_count": null,
   "metadata": {},
   "outputs": [],
   "source": [
    "# + match 1 or more repetitions of the preceding RE \n",
    "re.findall(\"\\d+\", alltext)\n",
    "# re.findall(\"am+\", alltext)"
   ]
  },
  {
   "cell_type": "code",
   "execution_count": null,
   "metadata": {},
   "outputs": [],
   "source": [
    "# * match 0 or more repetitions of the preceding RE\n",
    "re.findall(\"am*\", alltext) # match a, am, or a followed by any number of m's "
   ]
  },
  {
   "cell_type": "code",
   "execution_count": null,
   "metadata": {},
   "outputs": [],
   "source": [
    "# get any word that starts with America\n",
    "re.findall(r\"America[a-z]*\", alltext) "
   ]
  },
  {
   "cell_type": "markdown",
   "metadata": {},
   "source": [
    "`{m}` specifies exactly m copies of the previous RE should be matched"
   ]
  },
  {
   "cell_type": "code",
   "execution_count": null,
   "metadata": {},
   "outputs": [],
   "source": [
    "# {x} exactly x times (numbers with exact number of digits)\n",
    "re.findall(\"\\d{2}\", alltext) "
   ]
  },
  {
   "cell_type": "code",
   "execution_count": null,
   "metadata": {},
   "outputs": [],
   "source": [
    "re.findall(\"\\d{1}\", alltext) "
   ]
  },
  {
   "cell_type": "markdown",
   "metadata": {},
   "source": [
    "`{m,n}` matches from m to n repetitions of the preceding RE, while attempting to match as many repetitions as possible"
   ]
  },
  {
   "cell_type": "code",
   "execution_count": null,
   "metadata": {},
   "outputs": [],
   "source": [
    "re.findall(\"\\d{1,3}\", alltext) "
   ]
  },
  {
   "cell_type": "markdown",
   "metadata": {},
   "source": [
    "- There are so many more special characters\n",
    "- Regex can be super powerful and complicated \n",
    "- Use parenthese to group things together when using operators like `+`, `*`, `?`, `^`\n",
    "\n",
    "\n",
    "<br>\n",
    "\n",
    "##### Short Exercise: \n",
    "How would we grab 10/10 and 19/18 as they appear in the text using `re.findall()`? "
   ]
  },
  {
   "cell_type": "code",
   "execution_count": null,
   "metadata": {},
   "outputs": [],
   "source": [
    "x = \"Hi 10/10 hello 19/18 asdf 7/6 and 1/10 or 10/1 \""
   ]
  },
  {
   "cell_type": "markdown",
   "metadata": {},
   "source": [
    "<br>\n",
    "<br>\n",
    "<br>\n",
    "<br>\n",
    "<br>\n",
    "<br>\n",
    "<br>\n",
    "<br>\n",
    "<br>\n",
    "<br>\n",
    "<br>\n",
    "<br>"
   ]
  },
  {
   "cell_type": "code",
   "execution_count": null,
   "metadata": {},
   "outputs": [],
   "source": [
    "# Answer\n",
    "re.findall(\"\\d{2}/\\d{2}\", x) "
   ]
  },
  {
   "cell_type": "markdown",
   "metadata": {},
   "source": [
    "#### 1.4 `re.split()`\n",
    "\n",
    "Split string by the occurrences of pattern. "
   ]
  },
  {
   "cell_type": "code",
   "execution_count": null,
   "metadata": {},
   "outputs": [],
   "source": [
    "# splits at digits, deletes digits\n",
    "re.split(\"\\d\", alltext) "
   ]
  },
  {
   "cell_type": "code",
   "execution_count": null,
   "metadata": {},
   "outputs": [],
   "source": [
    "re.split(\"America*\", alltext) "
   ]
  },
  {
   "cell_type": "markdown",
   "metadata": {},
   "source": [
    "#### 1.5 `re.compile()`\n",
    "\n",
    "Compile a RE pattern into a RE object, which can then be used for matching using the `match()` and `search()` methods. "
   ]
  },
  {
   "cell_type": "code",
   "execution_count": null,
   "metadata": {},
   "outputs": [],
   "source": [
    "keyword = re.compile(\"America[a-z]*\")"
   ]
  },
  {
   "cell_type": "code",
   "execution_count": null,
   "metadata": {},
   "outputs": [],
   "source": [
    "# search file for keyword in line by line version\n",
    "for l in text: \n",
    "    if keyword.search(l): # reuse the RE here\n",
    "        print(l)"
   ]
  },
  {
   "cell_type": "code",
   "execution_count": null,
   "metadata": {},
   "outputs": [],
   "source": [
    "# Create a regex object\n",
    "pattern = re.compile('\\d+')"
   ]
  },
  {
   "cell_type": "code",
   "execution_count": null,
   "metadata": {},
   "outputs": [],
   "source": [
    "pattern.findall(alltext) # equivalent to the earlier but longer version using RE"
   ]
  },
  {
   "cell_type": "code",
   "execution_count": null,
   "metadata": {},
   "outputs": [],
   "source": [
    "pattern.split(alltext)"
   ]
  },
  {
   "cell_type": "markdown",
   "metadata": {},
   "source": [
    "#### 1.6 `re.MULTILINE` or `re.M`\n",
    "\n",
    "When specified, it helps to search across lines in a single string. "
   ]
  },
  {
   "cell_type": "code",
   "execution_count": null,
   "metadata": {},
   "outputs": [],
   "source": [
    "mline = \"python\\nis\\nfun\"\n",
    "print(mline)"
   ]
  },
  {
   "cell_type": "markdown",
   "metadata": {},
   "source": [
    "I want to search for \"fun\" in the third line, where it starts with an \"f\"\n",
    "\n",
    "- We can use `^` to search the start of a string\n",
    "- Be careful, `^` when used in `[]` means negating characters\n",
    "- `$` can be used to match the end of a string"
   ]
  },
  {
   "cell_type": "code",
   "execution_count": null,
   "metadata": {},
   "outputs": [],
   "source": [
    "re.findall(\"^f\\w*\", mline)"
   ]
  },
  {
   "cell_type": "code",
   "execution_count": null,
   "metadata": {},
   "outputs": [],
   "source": [
    "# re.findall(\"^f\\w*\", mline, re.M)\n",
    "re.findall(\"^f\\w*\", mline, re.MULTILINE)"
   ]
  },
  {
   "cell_type": "markdown",
   "metadata": {},
   "source": [
    "#### Short Exercise: \n",
    "\n",
    "What does the following code search for? "
   ]
  },
  {
   "cell_type": "code",
   "execution_count": null,
   "metadata": {},
   "outputs": [],
   "source": [
    "re.findall(\"^.*\\.$\", alltext, re.MULTILINE)"
   ]
  },
  {
   "cell_type": "markdown",
   "metadata": {},
   "source": [
    "##### Part 2: Naive Bayes Classification\n",
    "\n",
    "\n",
    "Docs for this library: https://www.nltk.org/api/nltk.classify.naivebayes.html"
   ]
  },
  {
   "cell_type": "markdown",
   "metadata": {},
   "source": [
    "#### 2.1 Installation and Import Libraries"
   ]
  },
  {
   "cell_type": "code",
   "execution_count": null,
   "metadata": {},
   "outputs": [],
   "source": [
    "# !pip3 install nltk\n",
    "import nltk\n",
    "nltk.download('names')\n",
    "from nltk.corpus import names\n",
    "import random"
   ]
  },
  {
   "cell_type": "code",
   "execution_count": null,
   "metadata": {},
   "outputs": [],
   "source": [
    "# Create a list of tuples with names\n",
    "names = ([(name, 'male') for name in names.words('male.txt')] +\n",
    "        [(name, 'female') for name in names.words('female.txt')])"
   ]
  },
  {
   "cell_type": "code",
   "execution_count": null,
   "metadata": {},
   "outputs": [],
   "source": [
    "names"
   ]
  },
  {
   "cell_type": "code",
   "execution_count": null,
   "metadata": {},
   "outputs": [],
   "source": [
    "# Now, we shuffle\n",
    "random.shuffle(names)\n",
    "print(names)"
   ]
  },
  {
   "cell_type": "markdown",
   "metadata": {},
   "source": [
    "#### 2.2 Split Training and Test Sets"
   ]
  },
  {
   "cell_type": "code",
   "execution_count": null,
   "metadata": {},
   "outputs": [],
   "source": [
    "len(names) # N of observations"
   ]
  },
  {
   "cell_type": "code",
   "execution_count": null,
   "metadata": {},
   "outputs": [],
   "source": [
    "# Define training and test set sizes\n",
    "train_size = 5000\n",
    "\n",
    "# Split train and test objects\n",
    "train_names = names[:train_size]\n",
    "test_names = names[train_size:]"
   ]
  },
  {
   "cell_type": "markdown",
   "metadata": {},
   "source": [
    "#### 2.3 Define Features"
   ]
  },
  {
   "cell_type": "code",
   "execution_count": null,
   "metadata": {},
   "outputs": [],
   "source": [
    "# A simple feature: Get the last letter of the name\n",
    "def g_features1(name):\n",
    "  return {'last_letter': word[-1]}"
   ]
  },
  {
   "cell_type": "markdown",
   "metadata": {},
   "source": [
    "Tips: Python functions can return multiple values"
   ]
  },
  {
   "cell_type": "code",
   "execution_count": null,
   "metadata": {},
   "outputs": [],
   "source": [
    "# Quick break — some syntax:\n",
    "def return_two():\n",
    "  return 5, 10\n",
    "\n",
    "# When a method returns two values, we can use this format: \n",
    "x, y = return_two()\n",
    "x, y"
   ]
  },
  {
   "cell_type": "markdown",
   "metadata": {},
   "source": [
    "#### 2.4 Data Preparation\n",
    "\n",
    "Loop over names, and return tuple of dictionary and label"
   ]
  },
  {
   "cell_type": "code",
   "execution_count": null,
   "metadata": {},
   "outputs": [],
   "source": [
    "train_set = [(g_features1(n), g) for (n, g) in train_names]\n",
    "test_set = [(g_features1(n), g) for (n,g) in test_names]"
   ]
  },
  {
   "cell_type": "code",
   "execution_count": null,
   "metadata": {},
   "outputs": [],
   "source": [
    "train_set"
   ]
  },
  {
   "cell_type": "markdown",
   "metadata": {},
   "source": [
    "#### 2.5 Train the Classifier"
   ]
  },
  {
   "cell_type": "code",
   "execution_count": null,
   "metadata": {},
   "outputs": [],
   "source": [
    "# Run the naive Bayes classifier for the train set\n",
    "classifier = nltk.NaiveBayesClassifier.train(train_set)"
   ]
  },
  {
   "cell_type": "markdown",
   "metadata": {},
   "source": [
    "#### 2.6 Test your Classifier"
   ]
  },
  {
   "cell_type": "code",
   "execution_count": null,
   "metadata": {},
   "outputs": [],
   "source": [
    "# Apply the classifier to some names\n",
    "classifier.classify(g_features1('Cecilia'))"
   ]
  },
  {
   "cell_type": "code",
   "execution_count": null,
   "metadata": {},
   "outputs": [],
   "source": [
    "classifier.classify(g_features1('Leticia'))"
   ]
  },
  {
   "cell_type": "code",
   "execution_count": null,
   "metadata": {},
   "outputs": [],
   "source": [
    "classifier.classify(g_features1('Irene'))"
   ]
  },
  {
   "cell_type": "code",
   "execution_count": null,
   "metadata": {},
   "outputs": [],
   "source": [
    "classifier.classify(g_features1('Jie'))"
   ]
  },
  {
   "cell_type": "code",
   "execution_count": null,
   "metadata": {},
   "outputs": [],
   "source": [
    "classifier.classify(g_features1('Tian'))"
   ]
  },
  {
   "cell_type": "code",
   "execution_count": null,
   "metadata": {},
   "outputs": [],
   "source": [
    "classifier.classify(g_features1('Masanori'))"
   ]
  },
  {
   "cell_type": "code",
   "execution_count": null,
   "metadata": {},
   "outputs": [],
   "source": [
    "classifier.classify(g_features1('Peter'))"
   ]
  },
  {
   "cell_type": "code",
   "execution_count": null,
   "metadata": {},
   "outputs": [],
   "source": [
    "# Get the probability of female:\n",
    "classifier.prob_classify(g_features1('Cecilia')).prob(\"female\")"
   ]
  },
  {
   "cell_type": "code",
   "execution_count": null,
   "metadata": {},
   "outputs": [],
   "source": [
    "classifier.prob_classify(g_features1('Peter')).prob(\"male\")"
   ]
  },
  {
   "cell_type": "markdown",
   "metadata": {},
   "source": [
    "We can check the overall accuracy with our test set. \n",
    "\n",
    "More on accuracy, F1, precision, recall: https://towardsdatascience.com/accuracy-precision-recall-or-f1-331fb37c5cb9"
   ]
  },
  {
   "cell_type": "code",
   "execution_count": null,
   "metadata": {},
   "outputs": [],
   "source": [
    "print(nltk.classify.accuracy(classifier, test_set))"
   ]
  },
  {
   "cell_type": "markdown",
   "metadata": {},
   "source": [
    "#### 2.7 Feature Attribution"
   ]
  },
  {
   "cell_type": "code",
   "execution_count": null,
   "metadata": {},
   "outputs": [],
   "source": [
    "# Lets see what is driving this\n",
    "classifier.show_most_informative_features(5)"
   ]
  },
  {
   "cell_type": "markdown",
   "metadata": {},
   "source": [
    "Let's be smarter and add more features!"
   ]
  },
  {
   "cell_type": "code",
   "execution_count": null,
   "metadata": {},
   "outputs": [],
   "source": [
    "# What all are we including now?\n",
    "def g_features2(name):\n",
    "  features = {}\n",
    "  features[\"firstletter\"] = name[0].lower()\n",
    "  features[\"lastletter\"] = name[-1].lower()\n",
    "  for letter in 'abcdefghijklmnopqrstuvwxyz':\n",
    "      features[\"count(%s)\" % letter] = name.lower().count(letter)\n",
    "      features[\"has(%s)\" % letter] = (letter in name.lower())\n",
    "  return features"
   ]
  },
  {
   "cell_type": "code",
   "execution_count": null,
   "metadata": {},
   "outputs": [],
   "source": [
    "g_features2('Cecilia')"
   ]
  },
  {
   "cell_type": "code",
   "execution_count": null,
   "metadata": {},
   "outputs": [],
   "source": [
    "# Run for train set\n",
    "train_set = [(g_features2(n), g) for (n,g) in train_names]\n",
    "# Run for test set\n",
    "test_set = [(g_features2(n), g) for (n,g) in test_names]"
   ]
  },
  {
   "cell_type": "code",
   "execution_count": null,
   "metadata": {},
   "outputs": [],
   "source": [
    "# Run new classifier\n",
    "classifier_new = nltk.NaiveBayesClassifier.train(train_set)"
   ]
  },
  {
   "cell_type": "code",
   "execution_count": null,
   "metadata": {},
   "outputs": [],
   "source": [
    "# Check the overall accuracy with test set\n",
    "print(nltk.classify.accuracy(classifier_new, test_set))"
   ]
  },
  {
   "cell_type": "code",
   "execution_count": null,
   "metadata": {},
   "outputs": [],
   "source": [
    "# Lets see what is driving this\n",
    "classifier_new.show_most_informative_features(20)"
   ]
  },
  {
   "cell_type": "code",
   "execution_count": null,
   "metadata": {},
   "outputs": [],
   "source": [
    "# Worse? Better? How can we refine?\n",
    "# Lets look at the errors from this model\n",
    "# and see if we can do better\n",
    "errors = []\n",
    "for (name, label) in test_names:\n",
    "  guess = classifier.classify(g_features2(name))\n",
    "  if guess != label:\n",
    "    prob = classifier.prob_classify(g_features2(name)).prob(guess)\n",
    "    errors.append((label, guess, prob, name))"
   ]
  },
  {
   "cell_type": "code",
   "execution_count": null,
   "metadata": {},
   "outputs": [],
   "source": [
    "for (label, guess, prob, name) in sorted(errors):\n",
    "  print('correct={} guess={} prob={:.2f} name={}'.format(label, guess, prob, name))"
   ]
  },
  {
   "cell_type": "markdown",
   "metadata": {},
   "source": [
    "What could we do to improve it? (Lab Assignment)"
   ]
  },
  {
   "cell_type": "markdown",
   "metadata": {},
   "source": [
    "<br>\n",
    "<br>\n",
    "Now lets look at some bigger documents. \n",
    "\n",
    "This may take a while to download."
   ]
  },
  {
   "cell_type": "code",
   "execution_count": null,
   "metadata": {},
   "outputs": [],
   "source": [
    "from nltk.corpus import movie_reviews\n",
    "nltk.download('movie_reviews')"
   ]
  },
  {
   "cell_type": "code",
   "execution_count": null,
   "metadata": {},
   "outputs": [],
   "source": [
    "# list of tuples\n",
    "# ([words], label)\n",
    "documents = [(list(movie_reviews.words(fileid)), category)\n",
    "              for category in movie_reviews.categories()\n",
    "              for fileid in movie_reviews.fileids(category)]\n"
   ]
  },
  {
   "cell_type": "code",
   "execution_count": null,
   "metadata": {},
   "outputs": [],
   "source": [
    "# type(documents[0])\n",
    "# type(documents)\n",
    "# documents[0][1] # only neg & pos"
   ]
  },
  {
   "cell_type": "code",
   "execution_count": null,
   "metadata": {},
   "outputs": [],
   "source": [
    "random.shuffle(documents)"
   ]
  },
  {
   "cell_type": "code",
   "execution_count": null,
   "metadata": {},
   "outputs": [],
   "source": [
    "# Dictionary of words and number of instances\n",
    "all_words = nltk.FreqDist(w.lower() for w in movie_reviews.words())\n",
    "len(all_words)"
   ]
  },
  {
   "cell_type": "code",
   "execution_count": null,
   "metadata": {},
   "outputs": [],
   "source": [
    "all_words"
   ]
  },
  {
   "cell_type": "code",
   "execution_count": null,
   "metadata": {},
   "outputs": [],
   "source": [
    "# Check the frequency of ','\n",
    "all_words[',']"
   ]
  },
  {
   "cell_type": "code",
   "execution_count": null,
   "metadata": {},
   "outputs": [],
   "source": [
    "word_features = [k for k in all_words.keys() if all_words[k] > 5]"
   ]
  },
  {
   "cell_type": "code",
   "execution_count": null,
   "metadata": {},
   "outputs": [],
   "source": [
    "len(word_features)"
   ]
  },
  {
   "cell_type": "code",
   "execution_count": null,
   "metadata": {},
   "outputs": [],
   "source": [
    "# Function to get document features\n",
    "def document_features(document):\n",
    "  document_words = set(document)\n",
    "  features = {}\n",
    "  for word in word_features:\n",
    "      features['contains(%s)' % word] = (word in document_words)\n",
    "  return features"
   ]
  },
  {
   "cell_type": "code",
   "execution_count": null,
   "metadata": {},
   "outputs": [],
   "source": [
    "document_features(['This', 'is', 'a', 'horrible', 'movie'])"
   ]
  },
  {
   "cell_type": "code",
   "execution_count": null,
   "metadata": {},
   "outputs": [],
   "source": [
    "document_features(movie_reviews.words('pos/cv957_8737.txt'))"
   ]
  },
  {
   "cell_type": "code",
   "execution_count": 351,
   "metadata": {},
   "outputs": [],
   "source": [
    "## Now we have tuple of ({features}, label)\n",
    "train_docs = documents[:1000]\n",
    "test_docs = documents[1000:1500]\n",
    "train_set = [(document_features(d), c) for (d,c) in train_docs]\n",
    "test_set = [(document_features(d), c) for (d,c) in test_docs]\n",
    "classifier = nltk.NaiveBayesClassifier.train(train_set)"
   ]
  },
  {
   "cell_type": "code",
   "execution_count": 353,
   "metadata": {},
   "outputs": [
    {
     "name": "stdout",
     "output_type": "stream",
     "text": [
      "0.784\n"
     ]
    }
   ],
   "source": [
    "print(nltk.classify.accuracy(classifier, test_set))"
   ]
  },
  {
   "cell_type": "code",
   "execution_count": 354,
   "metadata": {},
   "outputs": [
    {
     "name": "stdout",
     "output_type": "stream",
     "text": [
      "Most Informative Features\n",
      "   contains(beautifully) = True              pos : neg    =     12.9 : 1.0\n",
      "        contains(finest) = True              pos : neg    =     12.9 : 1.0\n",
      "  contains(breathtaking) = True              pos : neg    =     12.2 : 1.0\n",
      "  contains(unconvincing) = True              neg : pos    =     11.0 : 1.0\n",
      "      contains(captures) = True              pos : neg    =     10.4 : 1.0\n",
      "        contains(seagal) = True              neg : pos    =     10.3 : 1.0\n",
      "   contains(outstanding) = True              pos : neg    =      9.8 : 1.0\n",
      "           contains(joy) = True              pos : neg    =      9.6 : 1.0\n",
      "       contains(ominous) = True              pos : neg    =      9.1 : 1.0\n",
      "        contains(stinks) = True              neg : pos    =      8.8 : 1.0\n"
     ]
    }
   ],
   "source": [
    "classifier.show_most_informative_features(10)"
   ]
  },
  {
   "cell_type": "code",
   "execution_count": null,
   "metadata": {},
   "outputs": [],
   "source": [
    "# Copyright of the original version:\n",
    "\n",
    "# Copyright (c) 2014 Matt Dickenson\n",
    "# \n",
    "# Permission is hereby granted, free of charge, to any person obtaining a copy\n",
    "# of this software and associated documentation files (the \"Software\"), to deal\n",
    "# in the Software without restriction, including without limitation the rights\n",
    "# to use, copy, modify, merge, publish, distribute, sublicense, and/or sell\n",
    "# copies of the Software, and to permit persons to whom the Software is\n",
    "# furnished to do so, subject to the following conditions:\n",
    "# \n",
    "# The above copyright notice and this permission notice shall be included in all\n",
    "# copies or substantial portions of the Software.\n",
    "# \n",
    "# THE SOFTWARE IS PROVIDED \"AS IS\", WITHOUT WARRANTY OF ANY KIND, EXPRESS OR\n",
    "# IMPLIED, INCLUDING BUT NOT LIMITED TO THE WARRANTIES OF MERCHANTABILITY,\n",
    "# FITNESS FOR A PARTICULAR PURPOSE AND NONINFRINGEMENT. IN NO EVENT SHALL THE\n",
    "# AUTHORS OR COPYRIGHT HOLDERS BE LIABLE FOR ANY CLAIM, DAMAGES OR OTHER\n",
    "# LIABILITY, WHETHER IN AN ACTION OF CONTRACT, TORT OR OTHERWISE, ARISING FROM,\n",
    "# OUT OF OR IN CONNECTION WITH THE SOFTWARE OR THE USE OR OTHER DEALINGS IN THE\n",
    "# SOFTWARE.\n"
   ]
  }
 ],
 "metadata": {
  "kernelspec": {
   "display_name": "base",
   "language": "python",
   "name": "python3"
  },
  "language_info": {
   "codemirror_mode": {
    "name": "ipython",
    "version": 3
   },
   "file_extension": ".py",
   "mimetype": "text/x-python",
   "name": "python",
   "nbconvert_exporter": "python",
   "pygments_lexer": "ipython3",
   "version": "3.9.13"
  },
  "orig_nbformat": 4
 },
 "nbformat": 4,
 "nbformat_minor": 2
}
