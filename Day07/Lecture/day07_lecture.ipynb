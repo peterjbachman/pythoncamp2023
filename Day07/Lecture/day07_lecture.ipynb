{
 "cells": [
  {
   "cell_type": "markdown",
   "metadata": {},
   "source": [
    "#### Day 7: SQL and Database\n",
    "\n",
    "What is a database? \n",
    "- A database is a collection of information that is organized so that it can be easily accessed, managed, and updated.\n",
    "- In a relational database, digital information about a specific customer is organized into rows, columns, and tables which are indexed to make it easier to find relevant information through SQL queries.\n",
    "- Source: https://searchsqlserver.techtarget.com/definition/database\n",
    "\n",
    "\n",
    "Why create a relational database?\n",
    "- Flexible, can add new data and new relationships easily\n",
    "- Eliminates redundancies (e.g., a csv with several rows of repeated data)\n",
    "- Source: https://www.ibm.com/cloud/learn/relational-databases\n",
    "- Example: https://www.pragimtech.com/blog/contribute/article_images/2220211210231003/what-is-a-relational-database.jpg\n",
    "\n",
    "\n",
    "What is ORM? \n",
    "- ORM stands for Object Relational Mapping. \n",
    "- ORM is a technique used in creating a \"bridge\" between OOP and relational databases. \n",
    "- An ORM tool is a software designed to help OOP (like Python) to interact with relational databases. \n",
    "<br>\n",
    "<br>"
   ]
  },
  {
   "cell_type": "markdown",
   "metadata": {},
   "source": [
    "#### Python offers several ORM tools that help us to do that! \n",
    "\n",
    "Here is an example of SQL code that retrieves information about a particular user from a database: \n",
    "\n",
    "`SELECT id, name, email, country, phone_number FROM users WHERE id = 20`\n",
    "\n",
    "This code returns specified information about this user from a table called \"users\" using the WHERE clause where we specified that id = 20 for this user. \n",
    "\n",
    "On the other hand, an ORM tool can do the exact same query with much shorter code! \n",
    "\n",
    "`users.GetById(20)`"
   ]
  },
  {
   "cell_type": "markdown",
   "metadata": {},
   "source": [
    "<br>\n",
    "<br>\n",
    "Let's install `sqlite` first! \n",
    "\n",
    "- On Mac, open terminal, then run `brew install sqlite3`\n",
    "- On Windows, follow this tutorial: https://www.guru99.com/download-install-sqlite.html\n",
    "\n",
    "Now we can install this library `sqlalchemy` for python. \n",
    "\n",
    "- Check tutorial: http://pythoncentral.io/introductory-tutorial-python-sqlalchemy/\n",
    "- Find documentation: https://www.kite.com/python/docs/\n",
    "\n",
    "<br>\n",
    "<br>"
   ]
  },
  {
   "cell_type": "code",
   "execution_count": 1,
   "metadata": {},
   "outputs": [],
   "source": [
    "# !pip3 install sqlalchemy\n",
    "import sqlalchemy\n",
    "\n",
    "import warnings\n",
    "warnings.filterwarnings('ignore')"
   ]
  },
  {
   "cell_type": "markdown",
   "metadata": {},
   "source": [
    "##### 1. Establish connectivity using the Engine\n",
    "\n",
    "The engine is typically a global object created using `create_engine()` just once for a particular database. "
   ]
  },
  {
   "cell_type": "code",
   "execution_count": 2,
   "metadata": {},
   "outputs": [],
   "source": [
    "# Make sure to change to your directory\n",
    "engine = sqlalchemy.create_engine('sqlite:///players.db')"
   ]
  },
  {
   "cell_type": "markdown",
   "metadata": {},
   "source": [
    "The parameter `echo = True` makes SQLAlchemy log all SQL commands it is doing while you apply commands. \n",
    "\n",
    "For now, I'm just turning it off to make the cell output cleaner. \n",
    "\n",
    "The database will be intact, until you execute the commands. "
   ]
  },
  {
   "cell_type": "markdown",
   "metadata": {},
   "source": [
    "##### 2. Instantiate a Base\n",
    "\n",
    "With the help of ORM tools, we don't need to write SQL queries anymore. \n",
    "\n",
    "Everything is done using a declarative system. \n",
    "\n",
    "The `Base` class maintains a catalog of all the tables and classes (i.e. structures of the database). \n",
    "\n",
    "More information: https://stackoverflow.com/questions/1279613/what-is-an-orm-how-does-it-work-and-how-should-i-use-one"
   ]
  },
  {
   "cell_type": "code",
   "execution_count": 3,
   "metadata": {},
   "outputs": [],
   "source": [
    "from sqlalchemy.ext.declarative import declarative_base\n",
    "Base = declarative_base() "
   ]
  },
  {
   "cell_type": "markdown",
   "metadata": {},
   "source": [
    "In our database, each class is a table. Each attribute is a column in the table. \n",
    "\n",
    "A brief note on the table relations in SQL. \n",
    "1. One-to-one: one record of a table is linked to zero or one record of another table. \n",
    "    - A student can only have one student ID and one grade for a particular course. \n",
    "2. One-to-many: one record of a table can be mapped to multiple rows of another table. \n",
    "    - A student can have multiple emails of different type, e.g. school email, personal email, etc. \n",
    "3. Many-to-many: each row in a table can map to multiple rows in another table and vice versa. \n",
    "    - A student can know how to use several programming languages like R, Python, Julia. \n",
    "    - And one programming language (e.g. Python) can be mapped to multiple students who have the same skills. \n",
    "\n",
    "\n",
    "<br>\n",
    "\n",
    "#### 3. Create our tables\n",
    "\n",
    "Let's create a one-to-many example:   \n",
    "One basketball team can have many players in each of them, but one player can only play for one basketball team. \n",
    "\n",
    "We need: \n",
    "1. Two tables: one for players, and one for teams\n",
    "2. Foreign key on players to reference unique team ID (primary key for teams)\n",
    "3. relationship() method to specify "
   ]
  },
  {
   "cell_type": "code",
   "execution_count": 4,
   "metadata": {},
   "outputs": [],
   "source": [
    "from sqlalchemy import Column, Integer, String, ForeignKey\n",
    "# Create a table for Players\n",
    "# Our Player table has 4 columns: ID, Name, Number, and Team ID\n",
    "class Player(Base):\n",
    "    __tablename__ = 'players'\n",
    "\n",
    "    ## At first, only specify data types for the columns\n",
    "    ## primary_key is unique, non-nullable identifier for row\n",
    "    ## Have an ID column because player attributes (name, etc) are not unique\n",
    "    ## At least 1 primary_key per table\n",
    "    id = Column(Integer, primary_key = True) \n",
    "    name = Column(String)\n",
    "    number = Column(Integer)\n",
    "    \n",
    "    ## ForeignKey tells us we have a relationship with another table (\"teams\") by the (\"id\") variable\n",
    "    ## This info constrained to only come from that table\n",
    "    ## What we are referencing is usually the primary key for that table\n",
    "    team_id = Column(Integer, ForeignKey(\"teams.id\")) \n",
    "\n",
    "    ## Populate non-ID fields in the table through the constructor\n",
    "    def __init__(self, name, number, team=None):\n",
    "        self.name = name\n",
    "        self.number = number\n",
    "        self.team = team\n",
    "      \n",
    "    # Optional to define the representation (what gets returned when you enter this object)\n",
    "    def __repr__(self):\n",
    "        return \"<Player('%s', '%s')>\" % (self.name, self.number)"
   ]
  },
  {
   "cell_type": "markdown",
   "metadata": {},
   "source": [
    "When creating the tables, we can add simple constraints. \n",
    "\n",
    "For example, in the `players` table we created above, we already set a constraint on the column `id`. \n",
    "\n",
    "We said that this column `id` should be part of the primary key for this table. \n",
    "\n",
    "- A primary key uniquely identified a row in a table.\n",
    "- A foreign key is used to link two tables together by referencing the primary key of the related table. \n",
    "- A primary key cannot have a NULL value, where foreign keys can take NULL values. "
   ]
  },
  {
   "cell_type": "code",
   "execution_count": 5,
   "metadata": {},
   "outputs": [],
   "source": [
    "from sqlalchemy.orm import relationship\n",
    "# Our Team table has 2 columns: ID and Name\n",
    "class Team(Base):\n",
    "  __tablename__ = \"teams\"\n",
    "  \n",
    "  id = Column(Integer, primary_key=True)\n",
    "  name = Column(String)\n",
    "\n",
    "  ## - relationship() tells us another table wants to reference us\n",
    "  ## - now notice we use \"Player\" object syntax and \"team\" member variable syntax\n",
    "  ## - Note: this is NOT a column\n",
    "  ##          but we can call <team obj>.players\n",
    "  ##          or <player obj>.team\n",
    "  players = relationship(\"Player\", backref=\"team\")\n",
    "  \n",
    "  def __init__(self, name):\n",
    "    self.name = name\n",
    "  \n",
    "  def __repr__(self):\n",
    "    return \"<team('%s')>\" % (self.name)"
   ]
  },
  {
   "cell_type": "markdown",
   "metadata": {},
   "source": [
    "#### 4. Issue commands to database\n",
    "\n",
    "- First time create tables\n",
    "- The MetaData is a registry which includes the ability to make schema commands to database.\n",
    "- Our SQLite database does not actually have a players table present, so we use MetaData to issue the SQL \"CREATE TABLE\" command to the database for all tables that don’t yet exist."
   ]
  },
  {
   "cell_type": "code",
   "execution_count": 6,
   "metadata": {},
   "outputs": [],
   "source": [
    "Base.metadata.create_all(engine)"
   ]
  },
  {
   "cell_type": "markdown",
   "metadata": {},
   "source": [
    "Now we should see our database \"player.db\" in our working directory! \n",
    "\n",
    "Let's check what columns we have in the tables"
   ]
  },
  {
   "cell_type": "code",
   "execution_count": 7,
   "metadata": {},
   "outputs": [
    {
     "data": {
      "text/plain": [
       "Table('players', MetaData(), Column('id', Integer(), table=<players>, primary_key=True, nullable=False), Column('name', String(), table=<players>), Column('number', Integer(), table=<players>), Column('team_id', Integer(), ForeignKey('teams.id'), table=<players>), schema=None)"
      ]
     },
     "execution_count": 7,
     "metadata": {},
     "output_type": "execute_result"
    }
   ],
   "source": [
    "# - SQLAlchemy represents info for specific table with Table object\n",
    "Player.__table__  \n",
    "# Team.__table__"
   ]
  },
  {
   "cell_type": "markdown",
   "metadata": {},
   "source": [
    "5. Create instances for each table"
   ]
  },
  {
   "cell_type": "code",
   "execution_count": 8,
   "metadata": {},
   "outputs": [],
   "source": [
    "# Very similar syntax to what we've done before with class definitions!\n",
    "# One instance for each table\n",
    "p1 = Player(name = \"Cecilia\", number = 24)\n",
    "t1 = Team(name = \"WashU\")"
   ]
  },
  {
   "cell_type": "markdown",
   "metadata": {},
   "source": [
    "p1 and t1 are not yet connected "
   ]
  },
  {
   "cell_type": "code",
   "execution_count": 9,
   "metadata": {},
   "outputs": [
    {
     "data": {
      "text/plain": [
       "[]"
      ]
     },
     "execution_count": 9,
     "metadata": {},
     "output_type": "execute_result"
    }
   ],
   "source": [
    "t1.players"
   ]
  },
  {
   "cell_type": "code",
   "execution_count": 10,
   "metadata": {},
   "outputs": [
    {
     "data": {
      "text/plain": [
       "[<Player('Cecilia', '24')>]"
      ]
     },
     "execution_count": 10,
     "metadata": {},
     "output_type": "execute_result"
    }
   ],
   "source": [
    "# add team reference to player \n",
    "p1.team = t1\n",
    "# now a part of team object\n",
    "t1.players"
   ]
  },
  {
   "cell_type": "code",
   "execution_count": 11,
   "metadata": {},
   "outputs": [
    {
     "data": {
      "text/plain": [
       "<team('WashU')>"
      ]
     },
     "execution_count": 11,
     "metadata": {},
     "output_type": "execute_result"
    }
   ],
   "source": [
    "p1.team"
   ]
  },
  {
   "cell_type": "markdown",
   "metadata": {},
   "source": [
    "Let's create another Player Peter! "
   ]
  },
  {
   "cell_type": "code",
   "execution_count": 12,
   "metadata": {},
   "outputs": [
    {
     "name": "stdout",
     "output_type": "stream",
     "text": [
      "None\n"
     ]
    }
   ],
   "source": [
    "peter = Player(\"Peter Bachman\", 5)\n",
    "# Let's print the ID\n",
    "print(peter.id)"
   ]
  },
  {
   "cell_type": "markdown",
   "metadata": {},
   "source": [
    "<br>\n",
    "<br>\n",
    "\n",
    "- Nothing?\n",
    "- Even though we didn’t specify it in the constructor, the id attribute still produces a value of None when we access it (as opposed to Python’s usual behavior of raising AttributeError for an undefined attribute).\n",
    "- When we put the `peter` object in the db a real ID will be assigned"
   ]
  },
  {
   "cell_type": "markdown",
   "metadata": {},
   "source": [
    "6. Create a `Session` to actually store things into the database\n",
    "\n",
    "A Session is a \"holding zone\" for all the objects and associations we have created. \n",
    "The Session will hold objects until we commit or close. "
   ]
  },
  {
   "cell_type": "code",
   "execution_count": 13,
   "metadata": {},
   "outputs": [],
   "source": [
    "from sqlalchemy.orm import sessionmaker\n",
    "Session = sessionmaker(engine) # sessionmake object\n",
    "session = Session() # Session object"
   ]
  },
  {
   "cell_type": "code",
   "execution_count": 14,
   "metadata": {},
   "outputs": [],
   "source": [
    "# add player\n",
    "session.add(peter)\n",
    "session.add(p1)"
   ]
  },
  {
   "cell_type": "code",
   "execution_count": 15,
   "metadata": {},
   "outputs": [],
   "source": [
    "# add multiple players\n",
    "session.add_all([Player(\"Irene\", 7),\n",
    "                 Player(\"Jie\", 9),\n",
    "                 Player(\"Leticia\", 21),\n",
    "                 Player(\"Tian\", 33),\n",
    "                 Player(\"Masanori\", 19)])"
   ]
  },
  {
   "cell_type": "code",
   "execution_count": 16,
   "metadata": {},
   "outputs": [
    {
     "data": {
      "text/plain": [
       "IdentitySet([<Player('Peter Bachman', '5')>, <Player('Cecilia', '24')>, <team('WashU')>, <Player('Irene', '7')>, <Player('Jie', '9')>, <Player('Leticia', '21')>, <Player('Tian', '33')>, <Player('Masanori', '19')>])"
      ]
     },
     "execution_count": 16,
     "metadata": {},
     "output_type": "execute_result"
    }
   ],
   "source": [
    "# see what we've done this session\n",
    "session.new "
   ]
  },
  {
   "cell_type": "code",
   "execution_count": 17,
   "metadata": {},
   "outputs": [],
   "source": [
    "# before we commit, if we made a mistake, we can correct it\n",
    "# session.rollback() # it rolls back all changes"
   ]
  },
  {
   "cell_type": "code",
   "execution_count": 18,
   "metadata": {},
   "outputs": [],
   "source": [
    "# now make changes to actual db\n",
    "session.commit()"
   ]
  },
  {
   "cell_type": "markdown",
   "metadata": {},
   "source": [
    "<br>\n",
    "<br>\n",
    "\n",
    "Now that we created the database, let's make some queries!"
   ]
  },
  {
   "cell_type": "code",
   "execution_count": 19,
   "metadata": {},
   "outputs": [
    {
     "name": "stdout",
     "output_type": "stream",
     "text": [
      "ID: 1\n",
      "ID: 2\n"
     ]
    }
   ],
   "source": [
    "# Test again for ID... \n",
    "# (it keeps the count in the order they entered the database)\n",
    "print('ID: ' + str(peter.id))\n",
    "print('ID: ' + str(p1.id))"
   ]
  },
  {
   "cell_type": "code",
   "execution_count": 20,
   "metadata": {},
   "outputs": [
    {
     "name": "stdout",
     "output_type": "stream",
     "text": [
      "5 Peter Bachman 1\n",
      "7 Irene 3\n",
      "9 Jie 4\n",
      "19 Masanori 7\n",
      "21 Leticia 5\n",
      "24 Cecilia 2\n",
      "33 Tian 6\n"
     ]
    }
   ],
   "source": [
    "# Some querying\n",
    "# order the results\n",
    "# you can think of it as... session.query(TABLE).order_by(COLUMN)\n",
    "for player in session.query(Player).order_by(Player.number): # .asc() .desc()\n",
    "  print(player.number, player.name, player.id)"
   ]
  },
  {
   "cell_type": "markdown",
   "metadata": {},
   "source": [
    "`.filter()`\n",
    "\n",
    "Source: https://docs.sqlalchemy.org/en/20/tutorial/index.html#unified-tutorial"
   ]
  },
  {
   "cell_type": "code",
   "execution_count": 21,
   "metadata": {},
   "outputs": [
    {
     "name": "stdout",
     "output_type": "stream",
     "text": [
      "24 Cecilia\n"
     ]
    }
   ],
   "source": [
    "for player in session.query(Player).filter(Player.name == \"Cecilia\").order_by(Player.number):\n",
    "  print(player.number, player.name)"
   ]
  },
  {
   "cell_type": "code",
   "execution_count": 22,
   "metadata": {},
   "outputs": [
    {
     "name": "stdout",
     "output_type": "stream",
     "text": [
      "5 Peter Bachman\n",
      "7 Irene\n",
      "9 Jie\n",
      "19 Masanori\n",
      "21 Leticia\n",
      "33 Tian\n"
     ]
    }
   ],
   "source": [
    "for player in session.query(Player).filter(Player.name != \"Cecilia\").order_by(Player.number):\n",
    "  print(player.number, player.name)"
   ]
  },
  {
   "cell_type": "code",
   "execution_count": 23,
   "metadata": {},
   "outputs": [
    {
     "name": "stdout",
     "output_type": "stream",
     "text": [
      "19 Masanori\n",
      "21 Leticia\n",
      "24 Cecilia\n",
      "33 Tian\n"
     ]
    }
   ],
   "source": [
    "for player in session.query(Player).filter(Player.number > 10).order_by(Player.number):\n",
    "  print(player.number, player.name)"
   ]
  },
  {
   "cell_type": "markdown",
   "metadata": {},
   "source": [
    "`or_()`"
   ]
  },
  {
   "cell_type": "code",
   "execution_count": 24,
   "metadata": {},
   "outputs": [
    {
     "name": "stdout",
     "output_type": "stream",
     "text": [
      "7 Irene\n",
      "24 Cecilia\n"
     ]
    }
   ],
   "source": [
    "from sqlalchemy import or_\n",
    "for player in session.query(Player).filter(or_(Player.name == \"Cecilia\", Player.name == \"Irene\")).order_by(Player.number):\n",
    "  print(player.number, player.name)"
   ]
  },
  {
   "cell_type": "markdown",
   "metadata": {},
   "source": [
    "`.like()`"
   ]
  },
  {
   "cell_type": "code",
   "execution_count": 25,
   "metadata": {},
   "outputs": [
    {
     "name": "stdout",
     "output_type": "stream",
     "text": [
      "21 Leticia\n",
      "24 Cecilia\n",
      "33 Tian\n"
     ]
    }
   ],
   "source": [
    "# return all the rows with 'name' column contains the partial string \"Plum\"\n",
    "for player in session.query(Player).filter(Player.name.like(\"%ia%\")).order_by(Player.number):\n",
    "  print(player.number, player.name)"
   ]
  },
  {
   "cell_type": "markdown",
   "metadata": {},
   "source": [
    "`.and()`"
   ]
  },
  {
   "cell_type": "code",
   "execution_count": 26,
   "metadata": {},
   "outputs": [
    {
     "name": "stdout",
     "output_type": "stream",
     "text": [
      "24 Cecilia\n",
      "33 Tian\n"
     ]
    }
   ],
   "source": [
    "from sqlalchemy import and_\n",
    "for player in session.query(Player).filter(and_(Player.name.like(\"%ia%\"), Player.number > 21)).order_by(Player.number):\n",
    "  print(player.number, player.name)"
   ]
  },
  {
   "cell_type": "code",
   "execution_count": 27,
   "metadata": {},
   "outputs": [],
   "source": [
    "# functions\n",
    "# we can also apply functions using the func package\n",
    "from sqlalchemy import func"
   ]
  },
  {
   "cell_type": "code",
   "execution_count": 28,
   "metadata": {},
   "outputs": [
    {
     "name": "stdout",
     "output_type": "stream",
     "text": [
      "Tian 33\n"
     ]
    }
   ],
   "source": [
    "# note that I need to query the columns I want back\n",
    "for player in session.query(Player.name, Player.number, func.max(Player.number)):\n",
    "  print(player.name, player.number)"
   ]
  },
  {
   "cell_type": "code",
   "execution_count": 29,
   "metadata": {},
   "outputs": [
    {
     "data": {
      "text/plain": [
       "<Player('Leticia', '21')>"
      ]
     },
     "execution_count": 29,
     "metadata": {},
     "output_type": "execute_result"
    }
   ],
   "source": [
    "# Results can be indexed as lists\n",
    "results = session.query(Player).filter(and_(Player.name.like(\"%ia%\"), Player.number > 10)).order_by(Player.number)\n",
    "results.first()"
   ]
  },
  {
   "cell_type": "code",
   "execution_count": 30,
   "metadata": {},
   "outputs": [
    {
     "data": {
      "text/plain": [
       "3"
      ]
     },
     "execution_count": 30,
     "metadata": {},
     "output_type": "execute_result"
    }
   ],
   "source": [
    "# Check the number of elements in results\n",
    "# len(results)\n",
    "results.count()"
   ]
  },
  {
   "cell_type": "code",
   "execution_count": 31,
   "metadata": {},
   "outputs": [
    {
     "data": {
      "text/plain": [
       "<Player('Leticia', '21')>"
      ]
     },
     "execution_count": 31,
     "metadata": {},
     "output_type": "execute_result"
    }
   ],
   "source": [
    "results[0]\n",
    "# results[1]\n",
    "# results[2]"
   ]
  },
  {
   "cell_type": "markdown",
   "metadata": {},
   "source": [
    "Let's create a new team, and assign some players to that team!"
   ]
  },
  {
   "cell_type": "code",
   "execution_count": 32,
   "metadata": {},
   "outputs": [],
   "source": [
    "duke = Team('Duke')"
   ]
  },
  {
   "cell_type": "code",
   "execution_count": 33,
   "metadata": {},
   "outputs": [
    {
     "data": {
      "text/plain": [
       "[<Player('Peter Bachman', '5')>,\n",
       " <Player('Cecilia', '24')>,\n",
       " <Player('Irene', '7')>,\n",
       " <Player('Jie', '9')>,\n",
       " <Player('Leticia', '21')>,\n",
       " <Player('Tian', '33')>,\n",
       " <Player('Masanori', '19')>]"
      ]
     },
     "execution_count": 33,
     "metadata": {},
     "output_type": "execute_result"
    }
   ],
   "source": [
    "# query all players\n",
    "players = session.query(Player).all()\n",
    "players"
   ]
  },
  {
   "cell_type": "code",
   "execution_count": 34,
   "metadata": {},
   "outputs": [],
   "source": [
    "# Assign Peter to Duke\n",
    "peter.team = duke"
   ]
  },
  {
   "cell_type": "code",
   "execution_count": 35,
   "metadata": {},
   "outputs": [
    {
     "data": {
      "text/plain": [
       "<team('Duke')>"
      ]
     },
     "execution_count": 35,
     "metadata": {},
     "output_type": "execute_result"
    }
   ],
   "source": [
    "# Assign Irene to Duke\n",
    "players[2].team = duke\n",
    "players[2].team"
   ]
  },
  {
   "cell_type": "code",
   "execution_count": 36,
   "metadata": {},
   "outputs": [],
   "source": [
    "players[3].team = t1\n",
    "players[4].team = duke\n",
    "players[5].team = duke\n",
    "players[6].team = t1"
   ]
  },
  {
   "cell_type": "code",
   "execution_count": 37,
   "metadata": {},
   "outputs": [
    {
     "data": {
      "text/plain": [
       "[<Player('Peter Bachman', '5')>,\n",
       " <Player('Irene', '7')>,\n",
       " <Player('Leticia', '21')>,\n",
       " <Player('Tian', '33')>]"
      ]
     },
     "execution_count": 37,
     "metadata": {},
     "output_type": "execute_result"
    }
   ],
   "source": [
    "# Check Duke's players\n",
    "duke.players"
   ]
  },
  {
   "cell_type": "code",
   "execution_count": 38,
   "metadata": {},
   "outputs": [
    {
     "data": {
      "text/plain": [
       "[<Player('Cecilia', '24')>, <Player('Jie', '9')>, <Player('Masanori', '19')>]"
      ]
     },
     "execution_count": 38,
     "metadata": {},
     "output_type": "execute_result"
    }
   ],
   "source": [
    "t1.players"
   ]
  },
  {
   "cell_type": "markdown",
   "metadata": {},
   "source": [
    "Let's check the players team!"
   ]
  },
  {
   "cell_type": "code",
   "execution_count": 39,
   "metadata": {},
   "outputs": [
    {
     "data": {
      "text/plain": [
       "<team('Duke')>"
      ]
     },
     "execution_count": 39,
     "metadata": {},
     "output_type": "execute_result"
    }
   ],
   "source": [
    "peter.team\n",
    "# or\n",
    "# players[0].team"
   ]
  },
  {
   "cell_type": "code",
   "execution_count": 40,
   "metadata": {},
   "outputs": [
    {
     "data": {
      "text/plain": [
       "[<Player('Peter Bachman', '5')>,\n",
       " <Player('Irene', '7')>,\n",
       " <Player('Leticia', '21')>,\n",
       " <Player('Tian', '33')>]"
      ]
     },
     "execution_count": 40,
     "metadata": {},
     "output_type": "execute_result"
    }
   ],
   "source": [
    "# We can get the roster from mason's team\n",
    "peter.team.players"
   ]
  },
  {
   "cell_type": "code",
   "execution_count": 41,
   "metadata": {},
   "outputs": [
    {
     "data": {
      "text/plain": [
       "2"
      ]
     },
     "execution_count": 41,
     "metadata": {},
     "output_type": "execute_result"
    }
   ],
   "source": [
    "# Now note the id:\n",
    "peter.team_id"
   ]
  },
  {
   "cell_type": "code",
   "execution_count": 42,
   "metadata": {},
   "outputs": [],
   "source": [
    "# Let's commit the changes! \n",
    "session.commit()"
   ]
  },
  {
   "cell_type": "markdown",
   "metadata": {},
   "source": [
    "Lets load the two tables together using: \n",
    "\n",
    "`query(Table1).join(Table2)`"
   ]
  },
  {
   "cell_type": "code",
   "execution_count": 43,
   "metadata": {},
   "outputs": [
    {
     "name": "stdout",
     "output_type": "stream",
     "text": [
      "24 Cecilia WashU\n"
     ]
    }
   ],
   "source": [
    "for i in session.query(Player).join(Team).filter(Player.name == \"Cecilia\").filter(Team.name == \"WashU\").order_by(Player.number):\n",
    "  print(i.number, i.name, i.team.name)"
   ]
  },
  {
   "cell_type": "code",
   "execution_count": 44,
   "metadata": {},
   "outputs": [
    {
     "name": "stdout",
     "output_type": "stream",
     "text": [
      "24 Cecilia WashU\n"
     ]
    }
   ],
   "source": [
    "# equivalently using the and_()\n",
    "for i in session.query(Player).join(Team).filter(and_(Player.name==\"Cecilia\", Team.name==\"WashU\")).order_by(Player.number):\n",
    "  print(i.number, i.name, i.team.name)"
   ]
  },
  {
   "cell_type": "code",
   "execution_count": 45,
   "metadata": {},
   "outputs": [
    {
     "data": {
      "text/plain": [
       "[<Player('Peter Bachman', '5')>,\n",
       " <Player('Cecilia', '24')>,\n",
       " <Player('Irene', '7')>,\n",
       " <Player('Jie', '9')>,\n",
       " <Player('Leticia', '21')>,\n",
       " <Player('Tian', '33')>,\n",
       " <Player('Masanori', '19')>]"
      ]
     },
     "execution_count": 45,
     "metadata": {},
     "output_type": "execute_result"
    }
   ],
   "source": [
    "# now deletion\n",
    "# list we queried above\n",
    "players"
   ]
  },
  {
   "cell_type": "code",
   "execution_count": 46,
   "metadata": {},
   "outputs": [
    {
     "data": {
      "text/plain": [
       "1"
      ]
     },
     "execution_count": 46,
     "metadata": {},
     "output_type": "execute_result"
    }
   ],
   "source": [
    "session.query(Player).filter(Player.number == 24).count()"
   ]
  },
  {
   "cell_type": "code",
   "execution_count": 47,
   "metadata": {},
   "outputs": [],
   "source": [
    "# query 1 player\n",
    "# now we have the representation of him\n",
    "cecilia = session.query(Player).filter(Player.number == 24).first()"
   ]
  },
  {
   "cell_type": "code",
   "execution_count": 48,
   "metadata": {},
   "outputs": [],
   "source": [
    "# now we can delete cecilia\n",
    "session.delete(cecilia)"
   ]
  },
  {
   "cell_type": "code",
   "execution_count": 49,
   "metadata": {},
   "outputs": [
    {
     "data": {
      "text/plain": [
       "0"
      ]
     },
     "execution_count": 49,
     "metadata": {},
     "output_type": "execute_result"
    }
   ],
   "source": [
    "# it's gone!\n",
    "session.query(Player).filter(Player.number == 24).count()"
   ]
  },
  {
   "cell_type": "code",
   "execution_count": 50,
   "metadata": {},
   "outputs": [
    {
     "data": {
      "text/plain": [
       "[<Player('Peter Bachman', '5')>,\n",
       " <Player('Cecilia', '24')>,\n",
       " <Player('Irene', '7')>,\n",
       " <Player('Jie', '9')>,\n",
       " <Player('Leticia', '21')>,\n",
       " <Player('Tian', '33')>,\n",
       " <Player('Masanori', '19')>]"
      ]
     },
     "execution_count": 50,
     "metadata": {},
     "output_type": "execute_result"
    }
   ],
   "source": [
    "# But I am still in our object players\n",
    "players"
   ]
  },
  {
   "cell_type": "code",
   "execution_count": 51,
   "metadata": {},
   "outputs": [],
   "source": [
    "# Let's update our players variable\n",
    "players = session.query(Player).all()"
   ]
  },
  {
   "cell_type": "code",
   "execution_count": 52,
   "metadata": {},
   "outputs": [
    {
     "data": {
      "text/plain": [
       "[<Player('Peter Bachman', '5')>,\n",
       " <Player('Irene', '7')>,\n",
       " <Player('Jie', '9')>,\n",
       " <Player('Leticia', '21')>,\n",
       " <Player('Tian', '33')>,\n",
       " <Player('Masanori', '19')>]"
      ]
     },
     "execution_count": 52,
     "metadata": {},
     "output_type": "execute_result"
    }
   ],
   "source": [
    "players"
   ]
  },
  {
   "cell_type": "code",
   "execution_count": 53,
   "metadata": {},
   "outputs": [],
   "source": [
    "# commit our changes\n",
    "session.commit()"
   ]
  },
  {
   "cell_type": "code",
   "execution_count": 54,
   "metadata": {},
   "outputs": [
    {
     "data": {
      "text/plain": [
       "[1, 3, 4, 5, 6, 7]"
      ]
     },
     "execution_count": 54,
     "metadata": {},
     "output_type": "execute_result"
    }
   ],
   "source": [
    "# print IDs \n",
    "[p.id for p in players]"
   ]
  },
  {
   "cell_type": "code",
   "execution_count": 55,
   "metadata": {},
   "outputs": [],
   "source": [
    "# Add Cecilia again\n",
    "cecilia = Player(name = \"Cecilia\", number = 9)\n",
    "session.add(cecilia)"
   ]
  },
  {
   "cell_type": "code",
   "execution_count": 56,
   "metadata": {},
   "outputs": [],
   "source": [
    "session.commit()"
   ]
  },
  {
   "cell_type": "code",
   "execution_count": 57,
   "metadata": {},
   "outputs": [],
   "source": [
    "players = session.query(Player).all()"
   ]
  },
  {
   "cell_type": "code",
   "execution_count": 58,
   "metadata": {},
   "outputs": [
    {
     "data": {
      "text/plain": [
       "[<Player('Peter Bachman', '5')>,\n",
       " <Player('Irene', '7')>,\n",
       " <Player('Jie', '9')>,\n",
       " <Player('Leticia', '21')>,\n",
       " <Player('Tian', '33')>,\n",
       " <Player('Masanori', '19')>,\n",
       " <Player('Cecilia', '9')>]"
      ]
     },
     "execution_count": 58,
     "metadata": {},
     "output_type": "execute_result"
    }
   ],
   "source": [
    "players"
   ]
  },
  {
   "cell_type": "code",
   "execution_count": 62,
   "metadata": {},
   "outputs": [
    {
     "name": "stdout",
     "output_type": "stream",
     "text": [
      "Peter Bachman 5 <team('Duke')> 1\n",
      "Irene 7 <team('Duke')> 3\n",
      "Jie 9 <team('WashU')> 4\n",
      "Leticia 21 <team('Duke')> 5\n",
      "Tian 33 <team('Duke')> 6\n",
      "Masanori 19 <team('WashU')> 7\n",
      "Cecilia 9 None 8\n"
     ]
    }
   ],
   "source": [
    "# How to convert data to csv\n",
    "for player in players:\n",
    "  ## apply skills we've learned already\n",
    "  print(player.name, player.number, player.team, player.id)"
   ]
  },
  {
   "cell_type": "code",
   "execution_count": 63,
   "metadata": {},
   "outputs": [],
   "source": [
    "# A more complete Example:\n",
    "import csv\n",
    "with open(\"players.csv\", 'w') as f:\n",
    "    my_writer = csv.DictWriter(f, fieldnames = (\"name\", \"number\", \"team\"))\n",
    "    my_writer.writeheader()\n",
    "    for player in players:\n",
    "        try:\n",
    "            my_writer.writerow({\"name\":player.name, \"number\":player.number, \"team\":player.team.name})\n",
    "        except AttributeError:\n",
    "            my_writer.writerow({\"name\":player.name, \"number\":player.number, \"team\":\"\"})"
   ]
  },
  {
   "cell_type": "code",
   "execution_count": 61,
   "metadata": {},
   "outputs": [],
   "source": [
    "# Copyright of the original version:\n",
    "\n",
    "# Copyright (c) 2014 Matt Dickenson\n",
    "# \n",
    "# Permission is hereby granted, free of charge, to any person obtaining a copy\n",
    "# of this software and associated documentation files (the \"Software\"), to deal\n",
    "# in the Software without restriction, including without limitation the rights\n",
    "# to use, copy, modify, merge, publish, distribute, sublicense, and/or sell\n",
    "# copies of the Software, and to permit persons to whom the Software is\n",
    "# furnished to do so, subject to the following conditions:\n",
    "# \n",
    "# The above copyright notice and this permission notice shall be included in all\n",
    "# copies or substantial portions of the Software.\n",
    "# \n",
    "# THE SOFTWARE IS PROVIDED \"AS IS\", WITHOUT WARRANTY OF ANY KIND, EXPRESS OR\n",
    "# IMPLIED, INCLUDING BUT NOT LIMITED TO THE WARRANTIES OF MERCHANTABILITY,\n",
    "# FITNESS FOR A PARTICULAR PURPOSE AND NONINFRINGEMENT. IN NO EVENT SHALL THE\n",
    "# AUTHORS OR COPYRIGHT HOLDERS BE LIABLE FOR ANY CLAIM, DAMAGES OR OTHER\n",
    "# LIABILITY, WHETHER IN AN ACTION OF CONTRACT, TORT OR OTHERWISE, ARISING FROM,\n",
    "# OUT OF OR IN CONNECTION WITH THE SOFTWARE OR THE USE OR OTHER DEALINGS IN THE\n",
    "# SOFTWARE."
   ]
  }
 ],
 "metadata": {
  "kernelspec": {
   "display_name": "base",
   "language": "python",
   "name": "python3"
  },
  "language_info": {
   "codemirror_mode": {
    "name": "ipython",
    "version": 3
   },
   "file_extension": ".py",
   "mimetype": "text/x-python",
   "name": "python",
   "nbconvert_exporter": "python",
   "pygments_lexer": "ipython3",
   "version": "3.9.13"
  },
  "orig_nbformat": 4
 },
 "nbformat": 4,
 "nbformat_minor": 2
}
