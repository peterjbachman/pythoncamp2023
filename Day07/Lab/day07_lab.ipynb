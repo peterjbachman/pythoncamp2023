{
 "cells": [
  {
   "cell_type": "markdown",
   "metadata": {},
   "source": [
    "#### Day07: Lab\n",
    "\n",
    "This lab focuses on extracting and displaying information from a database. \n",
    "\n",
    "Please run all the code chunks until you see the lab exercises (at the very bottom). "
   ]
  },
  {
   "cell_type": "code",
   "execution_count": 1,
   "metadata": {},
   "outputs": [],
   "source": [
    "# import libraries\n",
    "import sqlalchemy\n",
    "from sqlalchemy.ext.declarative import declarative_base\n",
    "from sqlalchemy import Column, Integer, String, ForeignKey, and_, or_\n",
    "from sqlalchemy.orm import relationship, sessionmaker\n",
    "from sqlalchemy import func"
   ]
  },
  {
   "cell_type": "code",
   "execution_count": 3,
   "metadata": {},
   "outputs": [],
   "source": [
    "# Setting things up:\n",
    "engine = sqlalchemy.create_engine('sqlite:///geog.db')\n",
    "Base = declarative_base() "
   ]
  },
  {
   "cell_type": "code",
   "execution_count": 4,
   "metadata": {},
   "outputs": [],
   "source": [
    "# Schemas\n",
    "class Region(Base):\n",
    "  __tablename__ = 'regions'\n",
    "\n",
    "  id = Column(Integer, primary_key=True)\n",
    "  name = Column(String)\n",
    "  departments = relationship(\"Department\", backref = \"region\")\n",
    "\n",
    "  def __init__(self, name):\n",
    "    self.name = name \n",
    "\n",
    "  def __repr__(self):\n",
    "    return \"<Region('%s')>\" % self.id "
   ]
  },
  {
   "cell_type": "code",
   "execution_count": 5,
   "metadata": {},
   "outputs": [],
   "source": [
    "class Department(Base):\n",
    "  __tablename__ = 'departments'\n",
    "\n",
    "  id = Column(Integer, primary_key=True)\n",
    "  deptname = Column(String)\n",
    "  region_id = Column(Integer, ForeignKey('regions.id')) \n",
    "  towns = relationship(\"Town\", backref = \"department\")\n",
    "\n",
    "  def __init__(self, deptname):\n",
    "    self.deptname = deptname \n",
    "\n",
    "  def __repr__(self):\n",
    "    return \"<Department('%s')>\" % self.id "
   ]
  },
  {
   "cell_type": "code",
   "execution_count": 6,
   "metadata": {},
   "outputs": [],
   "source": [
    "class Town(Base):\n",
    "  __tablename__ = 'towns'\n",
    "\n",
    "  id = Column(Integer, primary_key=True)\n",
    "  name = Column(String)\n",
    "  population = Column(Integer)\n",
    "  dept_id = Column(Integer, ForeignKey('departments.id'))\n",
    "\n",
    "  def __init__(self, name, population):\n",
    "    self.name = name \n",
    "    self.population = population\n",
    "\n",
    "  def __repr__(self):\n",
    "    return \"<Town('%s')>\" % (self.name)"
   ]
  },
  {
   "cell_type": "code",
   "execution_count": 7,
   "metadata": {},
   "outputs": [],
   "source": [
    "#First time create tables\n",
    "Base.metadata.create_all(engine) "
   ]
  },
  {
   "cell_type": "code",
   "execution_count": 8,
   "metadata": {},
   "outputs": [],
   "source": [
    "#Create a session to actually store things in the db\n",
    "Session = sessionmaker(bind=engine)\n",
    "session = Session()"
   ]
  },
  {
   "cell_type": "code",
   "execution_count": 9,
   "metadata": {},
   "outputs": [],
   "source": [
    "# Create regions\n",
    "reg1 = Region('Region 1')\n",
    "reg2 = Region('Region 2')\n",
    "reg3 = Region('Region 3')"
   ]
  },
  {
   "cell_type": "code",
   "execution_count": 12,
   "metadata": {},
   "outputs": [],
   "source": [
    "# Create departments, nested in regions\n",
    "dept1 = Department('Department 1')\n",
    "reg1.departments.append(dept1)\n",
    "\n",
    "dept2 = Department('Department 2')\n",
    "reg1.departments.append(dept2)\n",
    "\n",
    "dept3 = Department('Department 3')\n",
    "reg3.departments.append(dept3)\n",
    "\n",
    "dept4 = Department('Department 4')\n",
    "reg2.departments.append(dept4)\n"
   ]
  },
  {
   "cell_type": "code",
   "execution_count": 13,
   "metadata": {},
   "outputs": [],
   "source": [
    "# Create towns, nested in departments\n",
    "t1 = Town(\"a\", 10000)\n",
    "t2 = Town(\"b\", 20000)\n",
    "dept1.towns = [t1, t2]\n",
    "\n",
    "t3 = Town(\"c\", 30000)\n",
    "t4 = Town(\"d\", 40000)\n",
    "dept2.towns = [t3, t4]\n",
    "\n",
    "t5 = Town(\"e\", 50000)\n",
    "t6 = Town(\"f\", 60000)\n",
    "dept3.towns = [t5, t6]\n",
    "\n",
    "t7 = Town(\"g\", 70000)\n",
    "t8 = Town(\"h\", 80000)\n",
    "dept4.towns = [t7, t8]"
   ]
  },
  {
   "cell_type": "code",
   "execution_count": 14,
   "metadata": {},
   "outputs": [],
   "source": [
    "session.add_all([reg1, reg2, reg3])\n",
    "session.add_all([dept1, dept2, dept3, dept4])\n",
    "session.add_all([t1, t2, t3, t4, t5, t6, t7, t8])\n",
    "\n",
    "session.commit()"
   ]
  },
  {
   "cell_type": "markdown",
   "metadata": {},
   "source": [
    "1. Print all of the towns, and order them by Town.id in descending order."
   ]
  },
  {
   "cell_type": "code",
   "execution_count": 2,
   "metadata": {},
   "outputs": [],
   "source": [
    "# YOUR CODE HERE"
   ]
  },
  {
   "cell_type": "markdown",
   "metadata": {},
   "source": [
    "2. Display, by department, the cities having more than 50,000 inhabitants."
   ]
  },
  {
   "cell_type": "code",
   "execution_count": null,
   "metadata": {},
   "outputs": [],
   "source": [
    "# YOUR CODE HERE"
   ]
  },
  {
   "cell_type": "markdown",
   "metadata": {},
   "source": [
    "3. Display the total number of inhabitants per department using only a query. (no lists!)"
   ]
  },
  {
   "cell_type": "code",
   "execution_count": 17,
   "metadata": {},
   "outputs": [],
   "source": [
    "# YOUR CODE HERE"
   ]
  },
  {
   "cell_type": "code",
   "execution_count": 1,
   "metadata": {},
   "outputs": [],
   "source": []
  },
  {
   "cell_type": "code",
   "execution_count": null,
   "metadata": {},
   "outputs": [],
   "source": []
  }
 ],
 "metadata": {
  "kernelspec": {
   "display_name": "base",
   "language": "python",
   "name": "python3"
  },
  "language_info": {
   "codemirror_mode": {
    "name": "ipython",
    "version": 3
   },
   "file_extension": ".py",
   "mimetype": "text/x-python",
   "name": "python",
   "nbconvert_exporter": "python",
   "pygments_lexer": "ipython3",
   "version": "3.9.13"
  },
  "orig_nbformat": 4
 },
 "nbformat": 4,
 "nbformat_minor": 2
}
