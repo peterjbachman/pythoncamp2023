{
 "cells": [
  {
   "cell_type": "markdown",
   "metadata": {},
   "source": [
    "Fill in the following methods for the class 'Clock'"
   ]
  },
  {
   "cell_type": "code",
   "execution_count": null,
   "metadata": {},
   "outputs": [],
   "source": [
    "class Clock:\n",
    "    def __init__(self, hour, minutes):\n",
    "        self.minutes = minutes\n",
    "        self.hour = hour\n",
    "\n",
    "    ## Print the time\n",
    "    def __str__(self):\n",
    "        # YOUR CODE HERE\n",
    "    \n",
    "    ## Add time\n",
    "    ## Don't return anything\n",
    "    def __add__(self,minutes):\n",
    "        # YOUR CODE HERE\n",
    "    \n",
    "    ## Subtract time\n",
    "    ## Don't return anything\n",
    "    def __sub__(self,minutes):\n",
    "        # YOUR CODE HERE\n",
    "    \n",
    "    ## Are two times equal?\n",
    "    def __eq__(self, other):\n",
    "        # YOUR CODE HERE\n",
    "    \n",
    "    ## Are two times not equal?\n",
    "    def __ne__(self, other):\n",
    "        # YOUR CODE HERE\n"
   ]
  },
  {
   "cell_type": "markdown",
   "metadata": {},
   "source": [
    "You should be able to run all code below if class Clock is created correctly"
   ]
  },
  {
   "cell_type": "code",
   "execution_count": null,
   "metadata": {},
   "outputs": [],
   "source": [
    "# You should be able to run these\n",
    "clock1 = Clock(23, 5)\n",
    "print(clock1) # 23:05\n",
    "clock2 = Clock(12, 45)\n",
    "print(clock2) # 12:45\n",
    "clock3 = Clock(12, 45)\n",
    "print(clock3) # 12:45"
   ]
  },
  {
   "cell_type": "code",
   "execution_count": null,
   "metadata": {},
   "outputs": [],
   "source": [
    "print(clock1 == clock2) ## False\n",
    "print(clock1 != clock2) ## True\n",
    "print(clock2 == clock3) ## True"
   ]
  },
  {
   "cell_type": "code",
   "execution_count": null,
   "metadata": {},
   "outputs": [],
   "source": [
    "print(\"testing addition\")\n",
    "clock1 + 60\n",
    "print(clock1) # 00:05\n",
    "print(clock1 == Clock(0, 5)) # True"
   ]
  },
  {
   "cell_type": "code",
   "execution_count": null,
   "metadata": {},
   "outputs": [],
   "source": [
    "print(\"testing subtraction\")\n",
    "clock1 - 100\n",
    "print(clock1) # 22:25"
   ]
  }
 ],
 "metadata": {
  "language_info": {
   "name": "python"
  },
  "orig_nbformat": 4
 },
 "nbformat": 4,
 "nbformat_minor": 2
}
