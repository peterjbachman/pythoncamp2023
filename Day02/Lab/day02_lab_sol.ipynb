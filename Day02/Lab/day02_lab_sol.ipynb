{
 "cells": [
  {
   "cell_type": "markdown",
   "metadata": {},
   "source": [
    "Fill in the following methods for the class 'Clock'"
   ]
  },
  {
   "cell_type": "code",
   "execution_count": 1,
   "metadata": {},
   "outputs": [],
   "source": [
    "class Clock:\n",
    "    def __init__(self, hour, minutes):\n",
    "        self.minutes = minutes\n",
    "        self.hour = hour\n",
    "\n",
    "    ## Print the time\n",
    "    def __str__(self):\n",
    "        return \"%02d:%02d\" % (self.hour, self.minutes)\n",
    "    \n",
    "    ## Add time\n",
    "    ## Don't return anything\n",
    "    def __add__(self,minutes):\n",
    "        ## convert everything to minutes\n",
    "        time_min = self.hour*60 + self.minutes + minutes\n",
    "        ## 24*60 is minutes in a day\n",
    "        ## take just the remainder in case it runs over a day\n",
    "        time_min = time_min % (24*60) \n",
    "        self.hour = time_min // 60\n",
    "        self.minutes = time_min % 60        \n",
    "    \n",
    "    ## Subtract time\n",
    "    ## Don't return anything\n",
    "    def __sub__(self,minutes):\n",
    "        ## uses the __add__ function!\n",
    "        self.__add__(-1*minutes)        \n",
    "    \n",
    "    ## Are two times equal?\n",
    "    def __eq__(self, other):\n",
    "        return self.hour == other.hour and self.minutes == other.minutes        \n",
    "    \n",
    "    ## Are two times not equal?\n",
    "    def __ne__(self, other):\n",
    "        ## uses the __eq__ function!  \n",
    "        return not self.__eq__(other)        \n"
   ]
  },
  {
   "cell_type": "markdown",
   "metadata": {},
   "source": [
    "You should be able to run all code below if class Clock is created correctly"
   ]
  },
  {
   "cell_type": "code",
   "execution_count": 2,
   "metadata": {},
   "outputs": [
    {
     "name": "stdout",
     "output_type": "stream",
     "text": [
      "23:05\n",
      "12:45\n",
      "12:45\n"
     ]
    }
   ],
   "source": [
    "# You should be able to run these\n",
    "clock1 = Clock(23, 5)\n",
    "print(clock1) # 23:05\n",
    "clock2 = Clock(12, 45)\n",
    "print(clock2) # 12:45\n",
    "clock3 = Clock(12, 45)\n",
    "print(clock3) # 12:45"
   ]
  },
  {
   "cell_type": "code",
   "execution_count": 3,
   "metadata": {},
   "outputs": [
    {
     "name": "stdout",
     "output_type": "stream",
     "text": [
      "False\n",
      "True\n",
      "True\n"
     ]
    }
   ],
   "source": [
    "print(clock1 == clock2) ## False\n",
    "print(clock1 != clock2) ## True\n",
    "print(clock2 == clock3) ## True"
   ]
  },
  {
   "cell_type": "code",
   "execution_count": 4,
   "metadata": {},
   "outputs": [
    {
     "name": "stdout",
     "output_type": "stream",
     "text": [
      "testing addition\n",
      "00:05\n",
      "True\n"
     ]
    }
   ],
   "source": [
    "print(\"testing addition\")\n",
    "clock1 + 60\n",
    "print(clock1) # 00:05\n",
    "print(clock1 == Clock(0, 5)) # True"
   ]
  },
  {
   "cell_type": "code",
   "execution_count": 5,
   "metadata": {},
   "outputs": [
    {
     "name": "stdout",
     "output_type": "stream",
     "text": [
      "testing subtraction\n",
      "22:25\n"
     ]
    }
   ],
   "source": [
    "print(\"testing subtraction\")\n",
    "clock1 - 100\n",
    "print(clock1) # 22:25"
   ]
  },
  {
   "cell_type": "code",
   "execution_count": null,
   "metadata": {},
   "outputs": [],
   "source": []
  }
 ],
 "metadata": {
  "kernelspec": {
   "display_name": "base",
   "language": "python",
   "name": "python3"
  },
  "language_info": {
   "codemirror_mode": {
    "name": "ipython",
    "version": 3
   },
   "file_extension": ".py",
   "mimetype": "text/x-python",
   "name": "python",
   "nbconvert_exporter": "python",
   "pygments_lexer": "ipython3",
   "version": "3.9.13"
  },
  "orig_nbformat": 4
 },
 "nbformat": 4,
 "nbformat_minor": 2
}
