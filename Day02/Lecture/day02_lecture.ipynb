{
 "cells": [
  {
   "cell_type": "markdown",
   "metadata": {},
   "source": [
    "#### Day 2: Namespace, Classes, and OOP\n",
    "\n",
    "\n",
    "##### Part 1: Namespace and Scopes\n",
    "\n",
    "- Namespace:  \n",
    "    a naming system for making names unique to avoid ambiguity. It maps names to objects.\n",
    "- Scope:  \n",
    "    level at which _a namespace is directly accessible_  It is the area of a program where a name can be unambiguously used.\n",
    "\n",
    "<br>\n",
    "\n",
    "Python follows the hierarchy: LEGB\n",
    "1. Local: local names, e.g., inside a function/defined at function call\n",
    "2. Enclosing: enclosing functions, innermost first (only when nested functions)\n",
    "3. Global: global names in current module, script, or program\n",
    "4. Built-in: Python's pre-built-in names such as int(), sum()\n",
    "\n",
    "Reference: https://realpython.com/python-scope-legb-rule/#using-the-legb-rule-for-python-scope\n"
   ]
  },
  {
   "cell_type": "code",
   "execution_count": null,
   "metadata": {},
   "outputs": [],
   "source": [
    "# A silly function that prints an integer\n",
    "def print_int(x): \n",
    "    x = 5\n",
    "    print('Here is an integer: %s' % x)\n",
    "\n",
    "print_int(x = 'int') # What’s wrong with this?\n",
    "# x # will this print `5`?\n",
    "# The function searches within itself (local scope) then the global scope."
   ]
  },
  {
   "cell_type": "code",
   "execution_count": null,
   "metadata": {},
   "outputs": [],
   "source": [
    "# Let's redefine the function print_int()\n",
    "def print_int(x):\n",
    "    int = x \n",
    "    print('Here is an integer: %s' % x)\n",
    "print_int(x = 'int') # What is going to happen? # Now, the function works as expected."
   ]
  },
  {
   "cell_type": "code",
   "execution_count": null,
   "metadata": {},
   "outputs": [],
   "source": [
    "# Let's define a global variable x\n",
    "x = 20\n",
    "x"
   ]
  },
  {
   "cell_type": "code",
   "execution_count": null,
   "metadata": {},
   "outputs": [],
   "source": [
    "print_int(x) # What is going to happen?\n",
    "# print_int(x=10) # What is going to happen?"
   ]
  },
  {
   "cell_type": "markdown",
   "metadata": {},
   "source": [
    "Do not use build-in or module names to name objects! \n",
    "\n",
    "Here is a list: https://docs.python.org/3/library/functions.html\n",
    "\n",
    "This will get very confusing and break things."
   ]
  },
  {
   "cell_type": "code",
   "execution_count": null,
   "metadata": {},
   "outputs": [],
   "source": [
    "# # Let's try a new function for the product of random uniform draws\n",
    "def random_product(lower, upper): \n",
    "    random1\n",
    "    random2\n",
    "    return random1 * random2\n",
    "# random_product(0, 1) # What is happening?"
   ]
  },
  {
   "cell_type": "code",
   "execution_count": null,
   "metadata": {},
   "outputs": [],
   "source": [
    "# But, it would have (wrongly) worked if we had random1 and random2 defined in our global space\n",
    "random1 = 2\n",
    "random2 = 2\n",
    "random_product(0, 1)"
   ]
  },
  {
   "cell_type": "code",
   "execution_count": null,
   "metadata": {},
   "outputs": [],
   "source": [
    "# We must define values for objects random1, random2 \n",
    "# To do so, we must load module for random sampling\n",
    "import random\n",
    "def random_product(lower, upper): \n",
    "    random1 = uniform(lower, upper)\n",
    "    random2 = uniform(lower, upper)\n",
    "    return random1 * random2\n",
    "# print(random_product(0, 1)) # Wait, uniform is not defined!"
   ]
  },
  {
   "cell_type": "markdown",
   "metadata": {},
   "source": [
    "We have 2 options now: \n",
    "1. add the module name before global name\n",
    "2. import the method as a global name"
   ]
  },
  {
   "cell_type": "code",
   "execution_count": null,
   "metadata": {},
   "outputs": [],
   "source": [
    "# Add the module name before global name\n",
    "# This is equivalent to use package_name::function_name() in R. \n",
    "def random_product(lower, upper): \n",
    "    random1 = random.uniform(lower, upper)\n",
    "    random2 = random.uniform(lower, upper)\n",
    "    return random1 * random2\n",
    "print(random_product(0, 1))"
   ]
  },
  {
   "cell_type": "code",
   "execution_count": null,
   "metadata": {},
   "outputs": [],
   "source": [
    "# Or we can import the method as a global name.\n",
    "from random import uniform \n",
    "def random_product(lower, upper): \n",
    "    random1 = uniform(lower, upper)\n",
    "    random2 = uniform(lower, upper)\n",
    "    return random1 * random2\n",
    "print(random_product(0, 1))"
   ]
  },
  {
   "cell_type": "code",
   "execution_count": null,
   "metadata": {},
   "outputs": [],
   "source": [
    "# We can also import all methods from a module using * after import\n",
    "from random import * \n",
    "\n",
    "# We can also rename a package for convenience\n",
    "import random as rm\n",
    "rm.uniform(0,1)"
   ]
  },
  {
   "cell_type": "markdown",
   "metadata": {},
   "source": [
    "##### Part 2: Classes --> Object Oriented Programming\n",
    "\n",
    "4 Main Blocks of OOP: \n",
    "1. Classes: blueprint for creating objects. You can interpret class as a concpet while the object is the reality or the embodiment of that concept.  \n",
    "2. Objects: instances of a class created with certain data. \n",
    "3. Methods: defines the behavior of the objects created from the class. You can think of methods as actions that an object is able to perform. \n",
    "4. Attributes: characteristics of the class that helps it to separate from other classes. "
   ]
  },
  {
   "cell_type": "code",
   "execution_count": null,
   "metadata": {},
   "outputs": [],
   "source": [
    "# Classes help you create objects with \n",
    "#  - certain attributes\n",
    "#  - ability to perform certain functions (methods). \n",
    "\n",
    "# Why Classes?\n",
    "# - Classes provide an easy way of keeping data, methods, \n",
    "#   and functions in one place.\n",
    "# - Inherentence of methods and functions (more to come below) \n",
    "# - Ability to reuse the code which makes the program more efficient.\n",
    "# - Cleaner structure to the code and better readability\n",
    "# Source: https://intellipaat.com/blog/tutorial/python-tutorial/python-classes-and-objects/#_Advantages_of_class\n",
    "\n",
    "# An instance is a particular realization of a class.\n",
    "# We use attributes and methods of classes all the time in R.\n"
   ]
  },
  {
   "cell_type": "code",
   "execution_count": null,
   "metadata": {},
   "outputs": [],
   "source": [
    "# create a class\n",
    "class Human:\n",
    "    # attribute for the class\n",
    "    latin_name = 'homo sapien'"
   ]
  },
  {
   "cell_type": "code",
   "execution_count": null,
   "metadata": {},
   "outputs": [],
   "source": [
    "# create an instance of a class and name it ’me.’ \n",
    "me = Human()"
   ]
  },
  {
   "cell_type": "code",
   "execution_count": null,
   "metadata": {},
   "outputs": [],
   "source": [
    "me.latin_name"
   ]
  },
  {
   "cell_type": "code",
   "execution_count": null,
   "metadata": {},
   "outputs": [],
   "source": [
    "# Check type\n",
    "type(me)"
   ]
  },
  {
   "cell_type": "code",
   "execution_count": null,
   "metadata": {},
   "outputs": [],
   "source": [
    "# Check methods and attributes\n",
    "dir(me)"
   ]
  },
  {
   "cell_type": "markdown",
   "metadata": {},
   "source": [
    "Notice these double underscore methods that we did not define.   \n",
    "There are often referred to as dunder methods which are reserved methods that are provided by Python, but you can still overwrite. "
   ]
  },
  {
   "cell_type": "code",
   "execution_count": null,
   "metadata": {},
   "outputs": [],
   "source": [
    "# All instances share the same attributes\n",
    "you = Human()\n",
    "you.latin_name # == me.latin_name"
   ]
  },
  {
   "cell_type": "code",
   "execution_count": null,
   "metadata": {},
   "outputs": [],
   "source": [
    "# We can define an initialization method (__init__) for our class\n",
    "# create a class\n",
    "class Human:\n",
    "    # attribute for the class\n",
    "    latin_name = 'homo sapien'\n",
    "    # add attributes for the instance\n",
    "    # this is an initializer (or constructor) \n",
    "    # parameters needed when initializing\n",
    "    def __init__(self, age, pronoun, name): \n",
    "        self.age = age \n",
    "        self.pronoun = pronoun\n",
    "        self.name = name "
   ]
  },
  {
   "cell_type": "code",
   "execution_count": null,
   "metadata": {},
   "outputs": [],
   "source": [
    "# me = Human() # Now we need to add age and name\n",
    "me = Human(age = 24, pronoun = 'she', name = 'Cecilia')\n",
    "# dir(me)"
   ]
  },
  {
   "cell_type": "code",
   "execution_count": null,
   "metadata": {},
   "outputs": [],
   "source": [
    "you = Human('John', 'he', 'NA') # What is wrong here? \n",
    "# you.age\n",
    "# you.name"
   ]
  },
  {
   "cell_type": "code",
   "execution_count": null,
   "metadata": {},
   "outputs": [],
   "source": [
    "# We may include default arguments to the initializer, as we do with methods\n",
    "class Human:\n",
    "    # attribute for the class\n",
    "    latin_name = 'homo sapien'\n",
    "    # add attributes for the instance\n",
    "    # this is an initializer ()or constructor) \n",
    "    def __init__(self, age, pronoun = 'None', name = 'None'):\n",
    "        self.age = age \n",
    "        self.pronoun = pronoun\n",
    "        self.name = name "
   ]
  },
  {
   "cell_type": "code",
   "execution_count": null,
   "metadata": {},
   "outputs": [],
   "source": [
    "me = Human(age = 24, name = 'Cecilia')\n",
    "# me.age\n",
    "# me.pronoun\n",
    "# me.name"
   ]
  },
  {
   "cell_type": "code",
   "execution_count": null,
   "metadata": {},
   "outputs": [],
   "source": [
    "# When using classes, we can define methods that are specific for that class\n",
    "class Human:\n",
    "    # attribute for the class\n",
    "    latin_name = 'homo sapien'\n",
    "    # add attributes for the instance\n",
    "    def __init__(self, age, pronoun, name = 'None'): \n",
    "        self.age = age\n",
    "        self.pronoun = pronoun\n",
    "        self.name = name\n",
    "    # add functions for the class\n",
    "    def speak(self, words): \n",
    "        return words\n",
    "\n",
    "    def introduce(self):\n",
    "        if self.pronoun in ['she', 'She']: \n",
    "            return self.speak(\"Hello. I'm Ms. %s\" % self.name)\n",
    "        elif self.pronoun in ['he', 'He']: \n",
    "            return self.speak(\"Hello. I'm Mr. %s\" % self.name)\n",
    "        else: \n",
    "            return self.speak(\"Hello. I'm %s\" % self.name)        "
   ]
  },
  {
   "cell_type": "code",
   "execution_count": null,
   "metadata": {},
   "outputs": [],
   "source": [
    "# We can create an instance of Human, then use the methods associated with it.\n",
    "me = Human(age = 24, pronoun = 'she', name = 'Cecilia')\n",
    "# me.speak('Hi John!')\n",
    "me.introduce()"
   ]
  },
  {
   "cell_type": "markdown",
   "metadata": {},
   "source": [
    "#### OOP -- Inheritance and Polymorphism\n",
    "\n",
    "Inheritance enables you to create sub-classes that inherit the methods of another class."
   ]
  },
  {
   "cell_type": "code",
   "execution_count": null,
   "metadata": {},
   "outputs": [],
   "source": [
    "class PhDStudent(Human):\n",
    "    pass "
   ]
  },
  {
   "cell_type": "code",
   "execution_count": null,
   "metadata": {},
   "outputs": [],
   "source": [
    "me = PhDStudent(age = 24, name = 'Cecilia', pronoun = 'she')\n",
    "me.speak(\"Hi, I'm a political science PhD student.\")\n",
    "# me.introduce()"
   ]
  },
  {
   "cell_type": "code",
   "execution_count": null,
   "metadata": {},
   "outputs": [],
   "source": [
    "# We can add more attributes to our new class\n",
    "class PhDStudent(Human):\n",
    "    def __init__(self, age, pronoun, name, field):\n",
    "        Human.__init__(self, age, pronoun, name)\n",
    "        self.field = field\n",
    "me = PhDStudent(age = 24, name = 'Cecilia', pronoun = 'she', field = 'Methods')\n",
    "me.field\n",
    "# me.introduce()"
   ]
  },
  {
   "cell_type": "markdown",
   "metadata": {},
   "source": [
    "Polymorphism adapts a given method of a class to its sub-classes.\n",
    "\n",
    "Same function name being used for different types (classes)"
   ]
  },
  {
   "cell_type": "code",
   "execution_count": null,
   "metadata": {},
   "outputs": [],
   "source": [
    "# Very nice feature of python!\n",
    "# Built-in example (from https://www.geeksforgeeks.org/polymorphism-in-python):\n",
    "# len() being used for a string\n",
    "print(len('Cecilia'))\n",
    "# len() being used for a list\n",
    "print(len([10, 20, 30]))"
   ]
  },
  {
   "cell_type": "code",
   "execution_count": null,
   "metadata": {},
   "outputs": [],
   "source": [
    "# Polymorphism with user-created classes: \n",
    "class AP:\n",
    "    def discipline(self):\n",
    "        print(\"American Politics is Political Science's subfield\")\n",
    "\n",
    "class CP:\n",
    "    def discipline(self):\n",
    "        print(\"Comparative Politics is Political Science's subfield\")\n",
    "\n",
    "class IR:\n",
    "    def discipline(self):\n",
    "        print(\"International Relations is Political Science's subfield\")\n"
   ]
  },
  {
   "cell_type": "code",
   "execution_count": null,
   "metadata": {},
   "outputs": [],
   "source": [
    "obj_cp = CP()\n",
    "obj_ap = AP()\n",
    "obj_ir = IR()\n",
    "for sub in [obj_cp, obj_ir, obj_ap]:\n",
    "    sub.discipline()"
   ]
  },
  {
   "cell_type": "markdown",
   "metadata": {},
   "source": [
    "A more comlicated example: \n",
    "- Add a student's name to the roster for a grade\n",
    "- Get a list of all students enrolled in a grade\n",
    "- Get a sorted list of all students in all grades.\n",
    "\n",
    "Note that all our students only have one name."
   ]
  },
  {
   "cell_type": "code",
   "execution_count": null,
   "metadata": {},
   "outputs": [],
   "source": [
    "class School():\n",
    "    def __init__(self, school_name):\n",
    "        self.school_name = school_name \n",
    "        self.db = {} \n",
    "        \n",
    "    def add(self, name, student_grade): \n",
    "        if student_grade in self.db: \n",
    "            self.db[student_grade].append(name) \n",
    "        else: \n",
    "            self.db[student_grade] = [name] \n",
    "\n",
    "    def sort(self):\n",
    "        sorted_students={} \n",
    "        for key in self.db.keys(): \n",
    "            sorted_students[key] = tuple(sorted(self.db[key]))\n",
    "        return sorted_students\n",
    "\n",
    "    def grade(self, check_grade):\n",
    "        if check_grade not in self.db: \n",
    "            return None \n",
    "        return self.db[check_grade] \n",
    "\n",
    "    def __str__(self): \n",
    "        return \"%s\\n%s\" %(self.school_name, self.sort())\n"
   ]
  },
  {
   "cell_type": "code",
   "execution_count": null,
   "metadata": {},
   "outputs": [],
   "source": [
    "class School():\n",
    "    def __init__(self, school_name): #initialize instance of class School with parameter name\n",
    "        self.school_name = school_name #user must put name, no default\n",
    "        self.db = {} #initialize empty dictionary to store students and grades\n",
    "        \n",
    "    def add(self, name, student_grade): #add a student to a grade in a given instance of School\n",
    "        if student_grade in self.db: #check if the key for the grade already exists\n",
    "            self.db[student_grade].append(name) #add student to the dictionary\n",
    "        else: \n",
    "            self.db[student_grade] = [name] #if the key doesn't exist, create it and student starts a new list \n",
    "\n",
    "    def sort(self): #sorts students alphabetically and returns them in tuples (because they are immutable)\n",
    "        sorted_students={} #sets up an empty dictionary to store sorted tuples\n",
    "        for key in self.db.keys(): #loop through each key, automatically ordered\n",
    "            sorted_students[key] = tuple(sorted(self.db[key])) #add dictionary entry with key = grade and entry = tuple of student\n",
    "        return sorted_students\n",
    "\n",
    "    def grade(self, check_grade):\n",
    "        if check_grade not in self.db: return None #if the key doesn't exist, there are no kids with that grade: return None\n",
    "        return self.db[check_grade] #return elements within dictionary (kids with the specific grade)\n",
    "\n",
    "    def __str__(self): #print method will display the school name and sorted student, note the built in\n",
    "        return \"%s\\n%s\" %(self.school_name, self.sort())\n"
   ]
  },
  {
   "cell_type": "code",
   "execution_count": null,
   "metadata": {},
   "outputs": [],
   "source": [
    "# Create an instance of School \n",
    "washu = School(\"Washington University in St. Louis\")"
   ]
  },
  {
   "cell_type": "code",
   "execution_count": null,
   "metadata": {},
   "outputs": [],
   "source": [
    "# Add Students using .add method\n",
    "washu.add(\"Ben\", 2)\n",
    "washu.add(\"Abby\", 2)\n",
    "washu.add(\"Carol\", 4)"
   ]
  },
  {
   "cell_type": "code",
   "execution_count": null,
   "metadata": {},
   "outputs": [],
   "source": [
    "washu.db"
   ]
  },
  {
   "cell_type": "code",
   "execution_count": null,
   "metadata": {},
   "outputs": [],
   "source": [
    "# We can sort the students within grade\n",
    "sorted_students = washu.sort()\n",
    "sorted_students"
   ]
  },
  {
   "cell_type": "code",
   "execution_count": null,
   "metadata": {},
   "outputs": [],
   "source": [
    "washu.db # original order is preserved within the original object"
   ]
  },
  {
   "cell_type": "code",
   "execution_count": null,
   "metadata": {},
   "outputs": [],
   "source": [
    "# Note that our print method already sorts the students\n",
    "print(washu)"
   ]
  },
  {
   "cell_type": "code",
   "execution_count": null,
   "metadata": {},
   "outputs": [],
   "source": [
    "# Search students using their grades\n",
    "washu.grade(4)"
   ]
  },
  {
   "cell_type": "code",
   "execution_count": null,
   "metadata": {},
   "outputs": [],
   "source": [
    "# Can we add a different sort method to sort the students ~within~ the object?\n",
    "\n",
    "# We can use the method below to solve it\n",
    "def sort(self): #sorts students alphabetically and returns them in list\n",
    "    sorted_students={} #sets up empty dictionary to store sorted list\n",
    "    for key in self.db.keys(): #loop through each key, automatically ordered\n",
    "        sorted_students[key] = list(sorted(self.db[key])) #add dictionary entry = grade and entry = list of students\n",
    "    self.db = sorted_students # Update self\n",
    "    return sorted_students   # return not required here\n",
    "sort(washu)"
   ]
  },
  {
   "cell_type": "code",
   "execution_count": null,
   "metadata": {},
   "outputs": [],
   "source": [
    "washu.db # now they're alphabetically ordered"
   ]
  },
  {
   "cell_type": "markdown",
   "metadata": {},
   "source": [
    "#### Inheritance and Polymorphism Another Example\n",
    "\n",
    "Remember:\n",
    "- Inheritance -- child gets all method of the parent class(es)\n",
    "- Polymorphism -- child methods can override parent methods of same name\n"
   ]
  },
  {
   "cell_type": "code",
   "execution_count": null,
   "metadata": {},
   "outputs": [],
   "source": [
    "# \"parent\" or general class\n",
    "class Animal:\n",
    "    \n",
    "    living = \"Yes!\" ## attribute of all Animal objects\n",
    "\n",
    "    def __init__(self, name): # Constructor of the class\n",
    "        self.name = name\n",
    "      \n",
    "    # Abstract method, defined by convention only\n",
    "    def talk(self): \n",
    "        raise NotImplementedError(\"Subclass must implement abstract method\")\n",
    "    # An abstract method is a method that is declared, but contains no implementation.\n",
    "\n",
    "    def furry(self): ## function object of all Animals\n",
    "        return True"
   ]
  },
  {
   "cell_type": "code",
   "execution_count": null,
   "metadata": {},
   "outputs": [],
   "source": [
    "# Let's define some children classes\n",
    "# Cat\n",
    "class Cat(Animal):\n",
    "    # def talk(self):\n",
    "    #     return self.meow() \n",
    "    def meow(self):\n",
    "        return 'Meow!'\n",
    "# leonard = Cat(\"Leo\")\n",
    "# leonard.talk()"
   ]
  },
  {
   "cell_type": "code",
   "execution_count": null,
   "metadata": {},
   "outputs": [],
   "source": [
    "# Now dog and fish! \n",
    "class Dog(Animal):\n",
    "    def talk(self):\n",
    "        return self.bark()\n",
    "    def bark(self):\n",
    "        return 'Woof! Woof!'\n",
    "\n",
    "class Fish(Animal):  \n",
    "    def bubbles(self):\n",
    "        return 'blubblub'\n",
    "    def furry(self):\n",
    "        return False"
   ]
  },
  {
   "cell_type": "code",
   "execution_count": null,
   "metadata": {},
   "outputs": [],
   "source": [
    "# Create a cat\n",
    "leonard = Cat(\"Leo\")\n",
    "# Now, a dog\n",
    "gus = Dog(\"Gus\")\n",
    "# Lastly, a fish\n",
    "nemo = Fish(\"Nemo\")\n",
    "# Create a list with all animals\n",
    "animals = [leonard, gus, nemo]"
   ]
  },
  {
   "cell_type": "code",
   "execution_count": null,
   "metadata": {},
   "outputs": [],
   "source": [
    "# # Why did this happen?  How do we fix it?\n",
    "# for animal in animals:\n",
    "#     print(animal.name + ': ' + animal.talk())"
   ]
  },
  {
   "cell_type": "markdown",
   "metadata": {},
   "source": [
    "We would need to modify class Fish"
   ]
  },
  {
   "cell_type": "code",
   "execution_count": null,
   "metadata": {},
   "outputs": [],
   "source": [
    "## What happened here? \n",
    "for animal in animals:\n",
    "    print(animal.name + ': ' + str(animal.furry()))"
   ]
  },
  {
   "cell_type": "code",
   "execution_count": null,
   "metadata": {},
   "outputs": [],
   "source": [
    "# Copyright of the original version:\n",
    "\n",
    "# Copyright (c) 2014 Matt Dickenson\n",
    "# \n",
    "# Permission is hereby granted, free of charge, to any person obtaining a copy\n",
    "# of this software and associated documentation files (the \"Software\"), to deal\n",
    "# in the Software without restriction, including without limitation the rights\n",
    "# to use, copy, modify, merge, publish, distribute, sublicense, and/or sell\n",
    "# copies of the Software, and to permit persons to whom the Software is\n",
    "# furnished to do so, subject to the following conditions:\n",
    "# \n",
    "# The above copyright notice and this permission notice shall be included in all\n",
    "# copies or substantial portions of the Software.\n",
    "# \n",
    "# THE SOFTWARE IS PROVIDED \"AS IS\", WITHOUT WARRANTY OF ANY KIND, EXPRESS OR\n",
    "# IMPLIED, INCLUDING BUT NOT LIMITED TO THE WARRANTIES OF MERCHANTABILITY,\n",
    "# FITNESS FOR A PARTICULAR PURPOSE AND NONINFRINGEMENT. IN NO EVENT SHALL THE\n",
    "# AUTHORS OR COPYRIGHT HOLDERS BE LIABLE FOR ANY CLAIM, DAMAGES OR OTHER\n",
    "# LIABILITY, WHETHER IN AN ACTION OF CONTRACT, TORT OR OTHERWISE, ARISING FROM,\n",
    "# OUT OF OR IN CONNECTION WITH THE SOFTWARE OR THE USE OR OTHER DEALINGS IN THE\n",
    "# SOFTWARE."
   ]
  },
  {
   "cell_type": "code",
   "execution_count": null,
   "metadata": {},
   "outputs": [],
   "source": []
  }
 ],
 "metadata": {
  "kernelspec": {
   "display_name": "base",
   "language": "python",
   "name": "python3"
  },
  "language_info": {
   "codemirror_mode": {
    "name": "ipython",
    "version": 3
   },
   "file_extension": ".py",
   "mimetype": "text/x-python",
   "name": "python",
   "nbconvert_exporter": "python",
   "pygments_lexer": "ipython3",
   "version": "3.9.13"
  },
  "orig_nbformat": 4
 },
 "nbformat": 4,
 "nbformat_minor": 2
}
