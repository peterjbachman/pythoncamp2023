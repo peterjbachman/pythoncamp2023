{
 "cells": [
  {
   "cell_type": "markdown",
   "metadata": {},
   "source": [
    "Create a class Senator() and a class Bill()\n",
    "\n",
    "Complete the code with your solutions. "
   ]
  },
  {
   "cell_type": "code",
   "execution_count": 1,
   "metadata": {},
   "outputs": [],
   "source": [
    "class Senator():\n",
    "    def __init__(self, name):\n",
    "        self.name = name\n",
    "        self.bills_voted_on = [] ## list of Bill objects\n",
    "\n",
    "    def __str__(self): # Print method  \n",
    "        # print the name of the senator\n",
    "        return 'Senator {}'.format(self.name)\n",
    "\n",
    "    def vote(self, bill, choice):\n",
    "        # choice is a string of 'yes', 'no' or 'abstain'.\n",
    "        # the bill object would be of Bill class, which we will create below \n",
    "        # 1. update the bill object: add the senator's name to the list of yes/no/abstain (see Bill() class)\n",
    "        # 2. update the senator object: add this bill to the bills_voted_on\n",
    "        # 3. print an informative message announcing the vote \n",
    "        if choice not in ['yes', 'no', 'abstain']:\n",
    "            return print('Not a valid option.')\n",
    "        bill.votes[choice].append(self.name) \n",
    "        self.bills_voted_on.append(bill)\n",
    "        return 'Senator ' + self.name + ' voted ' + choice + ' on ' + bill.title + ' bill.'\n",
    "\n",
    "class Bill():\n",
    "    def __init__(self, title):\n",
    "        self.title = title\n",
    "        self.votes = {\"yes\" : [], \"no\" : [], \"abstain\" : []}\n",
    "        self.passed = None\n",
    "\n",
    "    def __str__(self): # Print method  \n",
    "        # print the title of the bill\n",
    "        return self.title + ' Bill'\n",
    "\n",
    "    def result(self):\n",
    "        # 1. Check if the bill is passed using simply majority rule (i.e., more yes than no)\n",
    "        # 2. Update and return the passed variable indicate True/False if the bill passed\n",
    "        if len(self.votes['yes']) > len(self.votes['no']):\n",
    "            self.passed = True\n",
    "        else: \n",
    "            self.passed = False\n",
    "        return self.passed"
   ]
  },
  {
   "cell_type": "code",
   "execution_count": 5,
   "metadata": {},
   "outputs": [
    {
     "name": "stdout",
     "output_type": "stream",
     "text": [
      "Senator Jack\n",
      "Senator Jane\n",
      "Environmental Protection Bill\n",
      "Senator Jane voted yes on Environmental Protection bill.\n",
      "Senator Jack voted no on Environmental Protection bill.\n",
      "False\n",
      "{'yes': ['Jane'], 'no': ['Jack'], 'abstain': []}\n",
      "False\n",
      "False\n"
     ]
    }
   ],
   "source": [
    "## should be able to do these things\n",
    "jane = Senator(\"Jane\")\n",
    "jack = Senator(\"Jack\")\n",
    "print(jack)\n",
    "print(jane)\n",
    "environment = Bill(\"Environmental Protection\")\n",
    "print(environment)\n",
    "print(jane.vote(environment, \"yes\"))\n",
    "print(jack.vote(environment, \"no\"))\n",
    "print(environment.result())\n",
    "print(environment.votes)\n",
    "print(environment.passed)\n",
    "print(jack.bills_voted_on[0].passed)"
   ]
  },
  {
   "cell_type": "markdown",
   "metadata": {},
   "source": [
    "Create another Senator with your name, and make the bill pass. "
   ]
  },
  {
   "cell_type": "code",
   "execution_count": 3,
   "metadata": {},
   "outputs": [
    {
     "data": {
      "text/plain": [
       "'Senator Cecilia voted yes on Environmental Protection bill.'"
      ]
     },
     "execution_count": 3,
     "metadata": {},
     "output_type": "execute_result"
    }
   ],
   "source": [
    "cecilia = Senator(\"Cecilia\")\n",
    "cecilia.vote(environment, \"yes\")"
   ]
  },
  {
   "cell_type": "code",
   "execution_count": 12,
   "metadata": {},
   "outputs": [
    {
     "data": {
      "text/plain": [
       "True"
      ]
     },
     "execution_count": 12,
     "metadata": {},
     "output_type": "execute_result"
    }
   ],
   "source": [
    "environment.result()"
   ]
  },
  {
   "cell_type": "code",
   "execution_count": 13,
   "metadata": {},
   "outputs": [
    {
     "name": "stdout",
     "output_type": "stream",
     "text": [
      "True\n"
     ]
    }
   ],
   "source": [
    "print(environment.passed)"
   ]
  },
  {
   "cell_type": "code",
   "execution_count": 15,
   "metadata": {},
   "outputs": [
    {
     "name": "stdout",
     "output_type": "stream",
     "text": [
      "{'yes': ['Jane', 'Cecilia'], 'no': ['Jack'], 'abstain': []}\n"
     ]
    }
   ],
   "source": [
    "print(environment.votes)"
   ]
  },
  {
   "cell_type": "code",
   "execution_count": null,
   "metadata": {},
   "outputs": [],
   "source": []
  }
 ],
 "metadata": {
  "kernelspec": {
   "display_name": "base",
   "language": "python",
   "name": "python3"
  },
  "language_info": {
   "codemirror_mode": {
    "name": "ipython",
    "version": 3
   },
   "file_extension": ".py",
   "mimetype": "text/x-python",
   "name": "python",
   "nbconvert_exporter": "python",
   "pygments_lexer": "ipython3",
   "version": "3.9.13"
  },
  "orig_nbformat": 4
 },
 "nbformat": 4,
 "nbformat_minor": 2
}
