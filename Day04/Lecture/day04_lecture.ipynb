{
 "cells": [
  {
   "cell_type": "markdown",
   "metadata": {},
   "source": [
    "#### Day 4: Web Scraping + File I/O"
   ]
  },
  {
   "cell_type": "markdown",
   "metadata": {},
   "source": [
    "##### Today's Topics:\n",
    "1. Urllib and Beautiful Soup\n",
    "2. Selenium\n",
    "3. File Input/Output"
   ]
  },
  {
   "cell_type": "markdown",
   "metadata": {},
   "source": [
    "* This is likely the most important day in the course (along with day05 on APIs).  \n",
    "* You will use all the modules here if you want to scrape the internet.\n",
    "\n",
    "***"
   ]
  },
  {
   "cell_type": "markdown",
   "metadata": {},
   "source": [
    "### Part 1: Web Scraping (without APIs)\n",
    "\n",
    "Web scraping is the art of extracting data from websites and delivering it in formats like JSON, CSV, HTML, PDF, etc.\n",
    "\n",
    "Web scraping can be done either by using coding languages like Python, or by using data extraction APIs (Day 5)."
   ]
  },
  {
   "cell_type": "markdown",
   "metadata": {},
   "source": [
    "##### Benefits \n",
    "\n",
    "1. Time-saving\n",
    "2. Data accuracy\n",
    "3. Cost-effective \n",
    "\n",
    "\n",
    "##### Ethics \n",
    "\n",
    "- Use a Public API when available and avoid scraping all together if the data you are looking if available through the API\n",
    "- Only scrape when it is legal! \n",
    "    - NOT all sites can be legally scraped. Please don't get sued. \n",
    "    - Always check terms of service.\n",
    "    - When in doubt, ask or don't do it. \n",
    "- Be polite and don't break websites\n",
    "    - Scrape your data at a reasonable rate and control the number of requests per second. \n",
    "    - You don't want the website owner to think it as a DDoS attack. \n",
    "\n",
    "\n",
    "##### Overview of Web Scraping (without APIs)\n",
    "\n",
    "1. Call the website and open it\n",
    "2. Extract or load all the html code (you can store it locally for later use)\n",
    "3. Retrieve information using the names of the tags, ids, etc. \n",
    "4. Store the data in to files (like csv)"
   ]
  },
  {
   "cell_type": "markdown",
   "metadata": {},
   "source": [
    "##### 1.1 The Skeleton HTML Layout"
   ]
  },
  {
   "cell_type": "code",
   "execution_count": null,
   "metadata": {},
   "outputs": [],
   "source": [
    "# <!DOCTYPE html> <html>\n",
    "# <head>\n",
    "# <title> Page Title </title>\n",
    "# </head>\n",
    "# <body>\n",
    "\n",
    "# <h1>My first heading </h1>\n",
    "# <p>My first paragraph. </p>\n",
    "\n",
    "# </body> \n",
    "# </html>"
   ]
  },
  {
   "cell_type": "markdown",
   "metadata": {},
   "source": [
    "_See https://www.w3schools.com/tags/default.asp for a list wih HTML tags_\n",
    "\n",
    "Now go to https://polisci.wustl.edu/people/88/ \n",
    "\n",
    "Click right, then View Page Source or (more likely) Inspect"
   ]
  },
  {
   "cell_type": "markdown",
   "metadata": {},
   "source": [
    "##### 1.2 Web Crawlers\n",
    "We mainly use two libraries: urllib and BeautifulSoup\n",
    "\n",
    "1. urllib:\n",
    "    - web crawler \n",
    "    - navigates to an url\n",
    "2. BeautifulSoup\n",
    "    - parses a downloaded HTML\n",
    "\n",
    "Useful when:\n",
    "- Info is contained in HTML (not served by JavaScript)\n",
    "- Encoded HTML follows predictable pattern\n",
    "- Example: https://www.presidency.ucsb.edu/documents/app-categories/presidential\n"
   ]
  },
  {
   "cell_type": "markdown",
   "metadata": {},
   "source": [
    "Beautiful Soup documentation: \n",
    "http://www.crummy.com/software/BeautifulSoup/bs4/doc/"
   ]
  },
  {
   "cell_type": "code",
   "execution_count": null,
   "metadata": {},
   "outputs": [],
   "source": [
    "# Run the line below if not installed alreay\n",
    "# !pip3 install beautifulsoup4"
   ]
  },
  {
   "cell_type": "code",
   "execution_count": null,
   "metadata": {},
   "outputs": [],
   "source": [
    "from bs4 import BeautifulSoup\n",
    "import urllib.request"
   ]
  },
  {
   "cell_type": "markdown",
   "metadata": {},
   "source": [
    "Example (WUSTL Political Science Webpage):"
   ]
  },
  {
   "cell_type": "markdown",
   "metadata": {},
   "source": [
    "1. Open a web page"
   ]
  },
  {
   "cell_type": "code",
   "execution_count": null,
   "metadata": {},
   "outputs": [],
   "source": [
    "web_address = 'https://polisci.wustl.edu/people/88/'\n",
    "web_page = urllib.request.urlopen(web_address)\n",
    "web_page #stored on machine"
   ]
  },
  {
   "cell_type": "markdown",
   "metadata": {},
   "source": [
    "2. Parse it"
   ]
  },
  {
   "cell_type": "code",
   "execution_count": null,
   "metadata": {},
   "outputs": [],
   "source": [
    "soup = BeautifulSoup(web_page.read())\n",
    "# print(soup)\n",
    "print(soup.prettify()) # enable us to view how tags are nested in the document"
   ]
  },
  {
   "cell_type": "markdown",
   "metadata": {},
   "source": [
    "3. Find all cases of a certain tag 'a'"
   ]
  },
  {
   "cell_type": "code",
   "execution_count": null,
   "metadata": {},
   "outputs": [],
   "source": [
    "soup.find_all('a') # Returns a list... remember this!\n"
   ]
  },
  {
   "cell_type": "markdown",
   "metadata": {},
   "source": [
    "4. Find all cases of a certain tag 'h3'"
   ]
  },
  {
   "cell_type": "code",
   "execution_count": null,
   "metadata": {},
   "outputs": [],
   "source": [
    "soup.find_all('h3')"
   ]
  },
  {
   "cell_type": "markdown",
   "metadata": {},
   "source": [
    "5. Extract text from the tag"
   ]
  },
  {
   "cell_type": "code",
   "execution_count": null,
   "metadata": {},
   "outputs": [],
   "source": [
    "names = soup.find_all('h3') # list of html entries\n",
    "[i.text for i in names] # grab just the text from each one"
   ]
  },
  {
   "cell_type": "code",
   "execution_count": null,
   "metadata": {},
   "outputs": [],
   "source": [
    "# We can get all elements with the tag 'a.' Then, get the attributes\n",
    "all_a_tags = soup.find_all('a')\n",
    "# all_a_tags\n",
    "all_a_tags[36].attrs  # returns a dictionary with the attributes"
   ]
  },
  {
   "cell_type": "code",
   "execution_count": null,
   "metadata": {},
   "outputs": [],
   "source": [
    "all_a_tags[36]['href']"
   ]
  },
  {
   "cell_type": "code",
   "execution_count": null,
   "metadata": {},
   "outputs": [],
   "source": [
    "all_a_tags[36]['class']"
   ]
  },
  {
   "cell_type": "code",
   "execution_count": null,
   "metadata": {},
   "outputs": [],
   "source": [
    "for i in range(34,40):\n",
    "  print(all_a_tags[i]['href'])"
   ]
  },
  {
   "cell_type": "code",
   "execution_count": null,
   "metadata": {},
   "outputs": [],
   "source": [
    "# Careful for the first and last tags\n",
    "all_a_tags[0].attrs"
   ]
  },
  {
   "cell_type": "code",
   "execution_count": null,
   "metadata": {},
   "outputs": [],
   "source": [
    "# Note: because all_a_tags is a list, we need to index the element.\n",
    "# If we are interested in the first instance of the tag 'a,' we can use\n",
    "soup.find('a')"
   ]
  },
  {
   "cell_type": "code",
   "execution_count": null,
   "metadata": {},
   "outputs": [],
   "source": [
    "soup.find('a').attrs "
   ]
  },
  {
   "cell_type": "markdown",
   "metadata": {},
   "source": [
    "We can use a loop (for or while) to get all the data."
   ]
  },
  {
   "cell_type": "code",
   "execution_count": null,
   "metadata": {},
   "outputs": [],
   "source": [
    "l = {\"class\" : [], \"href\" : []} # create a dictionary\n",
    "for p in range(20,43):\n",
    "    l[\"class\"].append(all_a_tags[p].attrs[\"class\"]) \n",
    "    l[\"href\"].append(all_a_tags[p].attrs[\"href\"]) \n",
    "\n",
    "print(l)"
   ]
  },
  {
   "cell_type": "markdown",
   "metadata": {},
   "source": [
    "We can check all the attrs, using the `.keys()` method"
   ]
  },
  {
   "cell_type": "code",
   "execution_count": null,
   "metadata": {},
   "outputs": [],
   "source": [
    "all_a_tags[36].attrs.keys()"
   ]
  },
  {
   "cell_type": "code",
   "execution_count": null,
   "metadata": {},
   "outputs": [],
   "source": [
    "all_a_tags[36]['href']\n",
    "# all_a_tags[36]['class']\n",
    "# all_a_tags[1]['class']"
   ]
  },
  {
   "cell_type": "code",
   "execution_count": null,
   "metadata": {},
   "outputs": [],
   "source": [
    "# If we are interested only in the attributes 'class' and 'card' \n",
    "# nested within tag 'a', we can specify this in our first call:\n",
    "soup.find_all('a', {'class' : \"card\"}) # returns a list"
   ]
  },
  {
   "cell_type": "markdown",
   "metadata": {},
   "source": [
    "It is very common that you will need to go level by level to access nested tags.\n",
    "\n",
    "Here is an example: "
   ]
  },
  {
   "cell_type": "code",
   "execution_count": null,
   "metadata": {},
   "outputs": [],
   "source": [
    "sections = soup.find_all('div') # get all tags 'div'\n",
    "len(sections) # check the size of the object"
   ]
  },
  {
   "cell_type": "code",
   "execution_count": null,
   "metadata": {},
   "outputs": [],
   "source": [
    "sections[2].a # FIRST 'a' tag within the 'div' tag or equivalently: "
   ]
  },
  {
   "cell_type": "code",
   "execution_count": null,
   "metadata": {},
   "outputs": [],
   "source": [
    "sections[2].find('a') # FIRST 'a' tag within the 'div' tag"
   ]
  },
  {
   "cell_type": "code",
   "execution_count": null,
   "metadata": {},
   "outputs": [],
   "source": [
    "sections[2].find_all('a') ## ALL 'a' tags within the 'div' tag"
   ]
  },
  {
   "cell_type": "code",
   "execution_count": null,
   "metadata": {},
   "outputs": [],
   "source": [
    "sections[2].find_all('a', {'class' : 'first-level'}) ## ALL 'a' tags within the 'div' tag where 'class' is 'first-level'"
   ]
  },
  {
   "cell_type": "markdown",
   "metadata": {},
   "source": [
    "We can create a tree of objects. Here is an example: \n",
    "\n",
    "Let's find Prof. Taylor Carlson's profile on the department website. \n",
    "\n",
    "1. Find all 'a' tags where 'class' is 'card'"
   ]
  },
  {
   "cell_type": "code",
   "execution_count": null,
   "metadata": {},
   "outputs": [],
   "source": [
    "all_people = soup.find_all('a', {'class' : \"card\"})\n",
    "all_people"
   ]
  },
  {
   "cell_type": "markdown",
   "metadata": {},
   "source": [
    "2. Manually examine where Prof. Carlson is located at. "
   ]
  },
  {
   "cell_type": "code",
   "execution_count": null,
   "metadata": {},
   "outputs": [],
   "source": [
    "taylor = all_people[4]\n",
    "taylor"
   ]
  },
  {
   "cell_type": "markdown",
   "metadata": {},
   "source": [
    "3. Find the heading that contains Prof. Carlson's first and last name."
   ]
  },
  {
   "cell_type": "code",
   "execution_count": null,
   "metadata": {},
   "outputs": [],
   "source": [
    "taylor.find_all('h3')\n",
    "# taylor.find('h3').text"
   ]
  },
  {
   "cell_type": "markdown",
   "metadata": {},
   "source": [
    "4. Check the contents contained within this 'a' tag for Prof. Carlson. \n",
    "Notice that this is basically the same output as above, but without the <a></a> tags. So it is returning everything nested within the 'a' tag."
   ]
  },
  {
   "cell_type": "code",
   "execution_count": null,
   "metadata": {},
   "outputs": [],
   "source": [
    "taylor.contents"
   ]
  },
  {
   "cell_type": "code",
   "execution_count": null,
   "metadata": {},
   "outputs": [],
   "source": [
    "taylor.children # This is an iterator. Remember: iterators are objects that we use in loops"
   ]
  },
  {
   "cell_type": "markdown",
   "metadata": {},
   "source": [
    "5. Print all nested elements within 'taylor'"
   ]
  },
  {
   "cell_type": "code",
   "execution_count": null,
   "metadata": {},
   "outputs": [],
   "source": [
    "for i, child in enumerate(taylor.children):\n",
    "    print(\"Child %d: %s\" % (i,child), '\\n') # there is only one child element in this case"
   ]
  },
  {
   "cell_type": "markdown",
   "metadata": {},
   "source": [
    "Let's now look at sibling tags of 'taylor'"
   ]
  },
  {
   "cell_type": "code",
   "execution_count": null,
   "metadata": {},
   "outputs": [],
   "source": [
    "# Siblings (Example):\n",
    "\n",
    "# <html>\n",
    "#   <body>\n",
    "#       <a>\n",
    "#         <b>\n",
    "#          text1\n",
    "#         </b>\n",
    "#         <c>\n",
    "#          text2\n",
    "#         </c>\n",
    "#       </a>\n",
    "#   </body>\n",
    "# </html>\n",
    "\n",
    "\n",
    "# Which two tags are on the same level? "
   ]
  },
  {
   "cell_type": "code",
   "execution_count": null,
   "metadata": {},
   "outputs": [],
   "source": [
    "for sib in taylor.next_siblings:\n",
    "  print(sib)"
   ]
  },
  {
   "cell_type": "code",
   "execution_count": null,
   "metadata": {},
   "outputs": [],
   "source": [
    "# Or the previous instance\n",
    "for sib in taylor.previous_siblings:\n",
    "  print(sib)\n",
    "# What is happening?"
   ]
  },
  {
   "cell_type": "markdown",
   "metadata": {},
   "source": [
    "##### 1.3 Crawler Detection\n",
    "\n",
    "Crawlers are incredibly fast, but also easier to detect and block. \n",
    "\n",
    "You can incorporate some pauses to avoid detection. \n",
    "\n",
    "1. Use random number generator to sleep for a random number of seconds\n",
    "2. After each iteration, sleep for a fixed number of seconds"
   ]
  },
  {
   "cell_type": "code",
   "execution_count": 17,
   "metadata": {},
   "outputs": [
    {
     "name": "stdout",
     "output_type": "stream",
     "text": [
      "Pause Ended\n"
     ]
    }
   ],
   "source": [
    "import random\n",
    "import time\n",
    "\n",
    "# Script will pause for a n seconds\n",
    "time.sleep(random.uniform(1, 5))\n",
    "print('Pause Ended')"
   ]
  },
  {
   "cell_type": "code",
   "execution_count": null,
   "metadata": {},
   "outputs": [],
   "source": [
    "time.sleep(5)\n",
    "print('done')"
   ]
  },
  {
   "cell_type": "markdown",
   "metadata": {},
   "source": [
    "#### 1.4 Remote Driver\n",
    "\n",
    "Selenium is a “remote driver” of your favorite browser. \n",
    "\n",
    "Therefore, you can pretty much simulate behavior of a human “surfing the web”. \n",
    "\n",
    "With the right tricks, the likelihood of tracking and blocking your “bot” decreases.\n",
    "\n",
    "It also offers flexibility in terms of “unknown” items: you can even look by name of buttons in the page. \n",
    "\n",
    "There are some downsides though...\n",
    "  - It is slower\n",
    "  - It is dependent on your internet connection quality"
   ]
  },
  {
   "cell_type": "markdown",
   "metadata": {},
   "source": [
    "Here is an example using Selenium: \n",
    "\n",
    "`pip3 install selenium` run this in terminal or command line if not installed\n",
    "\n",
    "download appropriate web driver from browser, e.g. https://chromedriver.chromium.org/downloads\n"
   ]
  },
  {
   "cell_type": "code",
   "execution_count": 18,
   "metadata": {},
   "outputs": [],
   "source": [
    "from selenium import webdriver\n",
    "# from selenium.webdriver.chrome.options import Options\n",
    "from selenium.webdriver.chrome.service import Service\n",
    "# from selenium.webdriver.common.keys import Keys"
   ]
  },
  {
   "cell_type": "markdown",
   "metadata": {},
   "source": [
    "1. Give the path to your driver."
   ]
  },
  {
   "cell_type": "code",
   "execution_count": null,
   "metadata": {},
   "outputs": [],
   "source": [
    "# Interactive example:\n",
    "driver_path = Service('/Users/ysui/Desktop/PhD/MTE/pythoncamp2023_prep/Day04/Lecture/chromedriver')\n",
    "driver = webdriver.Chrome(service = driver_path)"
   ]
  },
  {
   "cell_type": "markdown",
   "metadata": {},
   "source": [
    "2. Start the web driver"
   ]
  },
  {
   "cell_type": "code",
   "execution_count": null,
   "metadata": {},
   "outputs": [],
   "source": [
    "driver.get('https://www.google.com')"
   ]
  },
  {
   "cell_type": "markdown",
   "metadata": {},
   "source": [
    "3. Find the search element and enter text"
   ]
  },
  {
   "cell_type": "code",
   "execution_count": null,
   "metadata": {},
   "outputs": [],
   "source": [
    "search = driver.find_element(\"name\", \"q\")\n",
    "search.send_keys('WUSTL Political Science')"
   ]
  },
  {
   "cell_type": "markdown",
   "metadata": {},
   "source": [
    "4. press Enter / Return (simulate this action using your driver)"
   ]
  },
  {
   "cell_type": "code",
   "execution_count": null,
   "metadata": {},
   "outputs": [],
   "source": [
    "search.submit()"
   ]
  },
  {
   "cell_type": "markdown",
   "metadata": {},
   "source": [
    "5. Close the browser (make sure to always close your browser after web scraping)"
   ]
  },
  {
   "cell_type": "code",
   "execution_count": null,
   "metadata": {},
   "outputs": [],
   "source": [
    "driver.close()"
   ]
  },
  {
   "cell_type": "markdown",
   "metadata": {},
   "source": [
    "#### Part 2: Combining Approaches\n",
    "\n",
    "Let's combine the approaches and scrape some data from the Iceland Parliament! "
   ]
  },
  {
   "cell_type": "code",
   "execution_count": null,
   "metadata": {},
   "outputs": [],
   "source": [
    "# Define Webpage\n",
    "url = \"https://www.althingi.is/altext/cv/en/\"\n",
    "# Use a crawler to get all pages for MPs\n",
    "web_page = urllib.request.urlopen(url)\n",
    "# Parse the HTML\n",
    "soup = BeautifulSoup(web_page.read())#, \"html.parser\") # html.parser severs as a basis for parsing text files in HTML format\n",
    "# Get all urls\n",
    "mps = soup.find('table').find_all('a', href = True)\n",
    "mps"
   ]
  },
  {
   "cell_type": "code",
   "execution_count": null,
   "metadata": {},
   "outputs": [],
   "source": [
    "# Create objects to store the data:\n",
    "page = []\n",
    "name = []\n",
    "party = []\n",
    "email = []"
   ]
  },
  {
   "cell_type": "code",
   "execution_count": null,
   "metadata": {},
   "outputs": [],
   "source": [
    "# run the function for the first 2 cases\n",
    "for i in range(0, 2):\n",
    "  print(i)\n",
    "  page.append(url + mps[i]['href'])\n",
    "  driver = webdriver.Chrome(service = driver_path)\n",
    "  driver.get(page[i])\n",
    "  html = driver.page_source\n",
    "  driver.close()\n",
    "  soup = BeautifulSoup(html)\n",
    "  name.append(soup.find(class_ = 'article box news').find('h1').text)\n",
    "  soup = soup.find(class_ = 'article box news').find('div', class_ = 'person')\n",
    "  party.append(soup.find(class_ = 'office').find_all('li')[1].text)\n",
    "  email.append(soup.find(class_ = 'contactinfo first notexternal').find('a', href = True)['href'].split(\":\")[1])\n",
    "  # time.sleep(5)"
   ]
  },
  {
   "cell_type": "markdown",
   "metadata": {},
   "source": [
    "##### Scraping Tips\n",
    "- Google Chrome is better to track nodes and page sources\n",
    "- Inspect the source and get to know your document/website!\n",
    "- Selenium—Use the ’Copy Xpath’ command if you’re having troubles (Find it in \"Inspect\" in Google Chrome)\n",
    "- Use time breaks to avoid being blocked and be polite\n",
    "- Check the Terms of Service (whether you obey them or not). Please don't get sued. \n",
    "\n",
    "\n",
    "##### More on Selenium: https://selenium-python.readthedocs.io/locating-elements.html"
   ]
  },
  {
   "cell_type": "markdown",
   "metadata": {},
   "source": [
    "### Part 2: Reading and Writing Files "
   ]
  },
  {
   "cell_type": "markdown",
   "metadata": {},
   "source": [
    "Reading Files\n",
    "1. Import libraries"
   ]
  },
  {
   "cell_type": "code",
   "execution_count": null,
   "metadata": {},
   "outputs": [],
   "source": [
    "# import sys\n",
    "import os"
   ]
  },
  {
   "cell_type": "markdown",
   "metadata": {},
   "source": [
    "2. Set your working directory "
   ]
  },
  {
   "cell_type": "code",
   "execution_count": null,
   "metadata": {},
   "outputs": [],
   "source": [
    "# pwd\n",
    "os.chdir('/Users/ysui/Desktop/PhD/MTE/pythoncamp2023_prep/Day04/Lecture')"
   ]
  },
  {
   "cell_type": "markdown",
   "metadata": {},
   "source": [
    "3. Read lines from the file"
   ]
  },
  {
   "cell_type": "code",
   "execution_count": null,
   "metadata": {},
   "outputs": [],
   "source": [
    "# Read all lines as one string\n",
    "with open('readfile.txt') as f:\n",
    "  the_whole_thing = f.read()\n",
    "  print(the_whole_thing)"
   ]
  },
  {
   "cell_type": "code",
   "execution_count": null,
   "metadata": {},
   "outputs": [],
   "source": [
    "# Read line by line\n",
    "with open('readfile.txt') as f:\n",
    "  lines_list = f.readlines()\n",
    "  for l in lines_list:\n",
    "    print(l)"
   ]
  },
  {
   "cell_type": "code",
   "execution_count": null,
   "metadata": {},
   "outputs": [],
   "source": [
    "# More efficiently, we can loop over the file object (i.e. we don't need the variable lines)\n",
    "with open('readfile.txt') as f:   \n",
    "  for l in f:\n",
    "    print(l)"
   ]
  },
  {
   "cell_type": "code",
   "execution_count": null,
   "metadata": {},
   "outputs": [],
   "source": [
    "# We can also manually open and close files\n",
    "# I never do this\n",
    "f =  open('readfile.txt')\n",
    "print(f.read())\n",
    "f.close()"
   ]
  },
  {
   "cell_type": "markdown",
   "metadata": {},
   "source": [
    "Tips: \n",
    "- Try to minimize the number of times you open and close flies\n",
    "- It is very expensive and consumes limited resources --> if too many, it leads to errors \n",
    "\n",
    "_Source: https://www.geeksforgeeks.org/context-manager-in-python/_\n"
   ]
  },
  {
   "cell_type": "code",
   "execution_count": null,
   "metadata": {},
   "outputs": [],
   "source": [
    "# file_descriptors = [] \n",
    "# for x in range(100000000000): \n",
    "#     file_descriptors.append(open('readfile.txt')) "
   ]
  },
  {
   "cell_type": "markdown",
   "metadata": {},
   "source": [
    "Writing Files\n",
    "1. Writing files is easy, but be careful not to overwrite the content you actually want\n",
    "2. See https://stackabuse.com/file-handling-in-python/ for more options"
   ]
  },
  {
   "cell_type": "code",
   "execution_count": null,
   "metadata": {},
   "outputs": [],
   "source": [
    "# We need to use the option 'w'\n",
    "with open('test_writefile.txt', 'w') as f:\n",
    "  ## wipes the file clean and opens it\n",
    "  f.write(\"Hi guys.\")\n",
    "  f.write(\"Does this go on the second line?\")\n",
    "  f.writelines(['a\\n', 'b\\n', 'c\\n'])"
   ]
  },
  {
   "cell_type": "code",
   "execution_count": null,
   "metadata": {},
   "outputs": [],
   "source": [
    "# We use 'a' to append new information to it\n",
    "with open('test_writefile.txt', 'a') as f:\n",
    "  f.write(\"I got appended!\")"
   ]
  },
  {
   "cell_type": "markdown",
   "metadata": {},
   "source": [
    "Writing csv files\n",
    "1. Import csv"
   ]
  },
  {
   "cell_type": "code",
   "execution_count": null,
   "metadata": {},
   "outputs": [],
   "source": [
    "import csv"
   ]
  },
  {
   "cell_type": "markdown",
   "metadata": {},
   "source": [
    "2. Open a file stream and create a `csv` writer object"
   ]
  },
  {
   "cell_type": "code",
   "execution_count": null,
   "metadata": {},
   "outputs": [],
   "source": [
    "# Open a file stream and create a CSV writer object\n",
    "with open('test_writecsv.csv', 'w') as f:\n",
    "  my_writer = csv.writer(f)\n",
    "  for i in range(1, 100):\n",
    "    my_writer.writerow([i, i-1])"
   ]
  },
  {
   "cell_type": "markdown",
   "metadata": {},
   "source": [
    "3. Now read the `csv` file"
   ]
  },
  {
   "cell_type": "code",
   "execution_count": 12,
   "metadata": {},
   "outputs": [
    {
     "name": "stdout",
     "output_type": "stream",
     "text": [
      "[['1', '0'], ['2', '1'], ['3', '2'], ['4', '3'], ['5', '4'], ['6', '5'], ['7', '6'], ['8', '7'], ['9', '8'], ['10', '9'], ['11', '10'], ['12', '11'], ['13', '12'], ['14', '13'], ['15', '14'], ['16', '15'], ['17', '16'], ['18', '17'], ['19', '18'], ['20', '19'], ['21', '20'], ['22', '21'], ['23', '22'], ['24', '23'], ['25', '24'], ['26', '25'], ['27', '26'], ['28', '27'], ['29', '28'], ['30', '29'], ['31', '30'], ['32', '31'], ['33', '32'], ['34', '33'], ['35', '34'], ['36', '35'], ['37', '36'], ['38', '37'], ['39', '38'], ['40', '39'], ['41', '40'], ['42', '41'], ['43', '42'], ['44', '43'], ['45', '44'], ['46', '45'], ['47', '46'], ['48', '47'], ['49', '48'], ['50', '49'], ['51', '50'], ['52', '51'], ['53', '52'], ['54', '53'], ['55', '54'], ['56', '55'], ['57', '56'], ['58', '57'], ['59', '58'], ['60', '59'], ['61', '60'], ['62', '61'], ['63', '62'], ['64', '63'], ['65', '64'], ['66', '65'], ['67', '66'], ['68', '67'], ['69', '68'], ['70', '69'], ['71', '70'], ['72', '71'], ['73', '72'], ['74', '73'], ['75', '74'], ['76', '75'], ['77', '76'], ['78', '77'], ['79', '78'], ['80', '79'], ['81', '80'], ['82', '81'], ['83', '82'], ['84', '83'], ['85', '84'], ['86', '85'], ['87', '86'], ['88', '87'], ['89', '88'], ['90', '89'], ['91', '90'], ['92', '91'], ['93', '92'], ['94', '93'], ['95', '94'], ['96', '95'], ['97', '96'], ['98', '97'], ['99', '98']]\n"
     ]
    }
   ],
   "source": [
    "# Now read in the csv\n",
    "with open('test_writecsv.csv', 'r') as f:\n",
    "  my_reader = csv.reader(f)\n",
    "  mydat = []\n",
    "  for row in my_reader:\n",
    "    mydat.append(row)\n",
    "print(mydat)"
   ]
  },
  {
   "cell_type": "markdown",
   "metadata": {},
   "source": [
    "3. Add column names"
   ]
  },
  {
   "cell_type": "code",
   "execution_count": 13,
   "metadata": {},
   "outputs": [],
   "source": [
    "with open('test_csvfields.csv', 'w') as f:\n",
    "  my_writer = csv.DictWriter(f, fieldnames = (\"A\", \"B\"))\n",
    "  my_writer.writeheader()\n",
    "  for i in range(1, 100):\n",
    "    my_writer.writerow({\"B\":i, \"A\":i-1})"
   ]
  },
  {
   "cell_type": "markdown",
   "metadata": {},
   "source": [
    "4. Read the new file"
   ]
  },
  {
   "cell_type": "code",
   "execution_count": 15,
   "metadata": {},
   "outputs": [
    {
     "name": "stdout",
     "output_type": "stream",
     "text": [
      "{'A': '0', 'B': '1'}\n",
      "{'A': '1', 'B': '2'}\n",
      "{'A': '2', 'B': '3'}\n",
      "{'A': '3', 'B': '4'}\n",
      "{'A': '4', 'B': '5'}\n",
      "{'A': '5', 'B': '6'}\n",
      "{'A': '6', 'B': '7'}\n",
      "{'A': '7', 'B': '8'}\n",
      "{'A': '8', 'B': '9'}\n",
      "{'A': '9', 'B': '10'}\n",
      "{'A': '10', 'B': '11'}\n",
      "{'A': '11', 'B': '12'}\n",
      "{'A': '12', 'B': '13'}\n",
      "{'A': '13', 'B': '14'}\n",
      "{'A': '14', 'B': '15'}\n",
      "{'A': '15', 'B': '16'}\n",
      "{'A': '16', 'B': '17'}\n",
      "{'A': '17', 'B': '18'}\n",
      "{'A': '18', 'B': '19'}\n",
      "{'A': '19', 'B': '20'}\n",
      "{'A': '20', 'B': '21'}\n",
      "{'A': '21', 'B': '22'}\n",
      "{'A': '22', 'B': '23'}\n",
      "{'A': '23', 'B': '24'}\n",
      "{'A': '24', 'B': '25'}\n",
      "{'A': '25', 'B': '26'}\n",
      "{'A': '26', 'B': '27'}\n",
      "{'A': '27', 'B': '28'}\n",
      "{'A': '28', 'B': '29'}\n",
      "{'A': '29', 'B': '30'}\n",
      "{'A': '30', 'B': '31'}\n",
      "{'A': '31', 'B': '32'}\n",
      "{'A': '32', 'B': '33'}\n",
      "{'A': '33', 'B': '34'}\n",
      "{'A': '34', 'B': '35'}\n",
      "{'A': '35', 'B': '36'}\n",
      "{'A': '36', 'B': '37'}\n",
      "{'A': '37', 'B': '38'}\n",
      "{'A': '38', 'B': '39'}\n",
      "{'A': '39', 'B': '40'}\n",
      "{'A': '40', 'B': '41'}\n",
      "{'A': '41', 'B': '42'}\n",
      "{'A': '42', 'B': '43'}\n",
      "{'A': '43', 'B': '44'}\n",
      "{'A': '44', 'B': '45'}\n",
      "{'A': '45', 'B': '46'}\n",
      "{'A': '46', 'B': '47'}\n",
      "{'A': '47', 'B': '48'}\n",
      "{'A': '48', 'B': '49'}\n",
      "{'A': '49', 'B': '50'}\n",
      "{'A': '50', 'B': '51'}\n",
      "{'A': '51', 'B': '52'}\n",
      "{'A': '52', 'B': '53'}\n",
      "{'A': '53', 'B': '54'}\n",
      "{'A': '54', 'B': '55'}\n",
      "{'A': '55', 'B': '56'}\n",
      "{'A': '56', 'B': '57'}\n",
      "{'A': '57', 'B': '58'}\n",
      "{'A': '58', 'B': '59'}\n",
      "{'A': '59', 'B': '60'}\n",
      "{'A': '60', 'B': '61'}\n",
      "{'A': '61', 'B': '62'}\n",
      "{'A': '62', 'B': '63'}\n",
      "{'A': '63', 'B': '64'}\n",
      "{'A': '64', 'B': '65'}\n",
      "{'A': '65', 'B': '66'}\n",
      "{'A': '66', 'B': '67'}\n",
      "{'A': '67', 'B': '68'}\n",
      "{'A': '68', 'B': '69'}\n",
      "{'A': '69', 'B': '70'}\n",
      "{'A': '70', 'B': '71'}\n",
      "{'A': '71', 'B': '72'}\n",
      "{'A': '72', 'B': '73'}\n",
      "{'A': '73', 'B': '74'}\n",
      "{'A': '74', 'B': '75'}\n",
      "{'A': '75', 'B': '76'}\n",
      "{'A': '76', 'B': '77'}\n",
      "{'A': '77', 'B': '78'}\n",
      "{'A': '78', 'B': '79'}\n",
      "{'A': '79', 'B': '80'}\n",
      "{'A': '80', 'B': '81'}\n",
      "{'A': '81', 'B': '82'}\n",
      "{'A': '82', 'B': '83'}\n",
      "{'A': '83', 'B': '84'}\n",
      "{'A': '84', 'B': '85'}\n",
      "{'A': '85', 'B': '86'}\n",
      "{'A': '86', 'B': '87'}\n",
      "{'A': '87', 'B': '88'}\n",
      "{'A': '88', 'B': '89'}\n",
      "{'A': '89', 'B': '90'}\n",
      "{'A': '90', 'B': '91'}\n",
      "{'A': '91', 'B': '92'}\n",
      "{'A': '92', 'B': '93'}\n",
      "{'A': '93', 'B': '94'}\n",
      "{'A': '94', 'B': '95'}\n",
      "{'A': '95', 'B': '96'}\n",
      "{'A': '96', 'B': '97'}\n",
      "{'A': '97', 'B': '98'}\n",
      "{'A': '98', 'B': '99'}\n"
     ]
    }
   ],
   "source": [
    "with open('test_csvfields.csv', 'r') as f:\n",
    "  my_reader = csv.DictReader(f)\n",
    "  for row in my_reader:\n",
    "    print(row)"
   ]
  },
  {
   "cell_type": "markdown",
   "metadata": {},
   "source": [
    "- Tip 1: We may find useful to save webpages for collecting data. (save to `.html` files)"
   ]
  },
  {
   "cell_type": "code",
   "execution_count": 22,
   "metadata": {},
   "outputs": [],
   "source": [
    "import os"
   ]
  },
  {
   "cell_type": "code",
   "execution_count": 23,
   "metadata": {},
   "outputs": [],
   "source": [
    "def download_page(address, filename, wait = 5):\n",
    "  time.sleep(random.uniform(0,wait))\n",
    "  page = urllib.request.urlopen(address)\n",
    "  page_content = page.read()\n",
    "  if os.path.exists(filename) == False:\n",
    "    with open(filename, 'w') as p_html:\n",
    "      p_html.write(str(page_content)) # needed to cast as string\n",
    "  else:\n",
    "    print(\"Can't overwrite file \" + filename)\n",
    "\n",
    "download_page('https://polisci.wustl.edu/people/88/', \"polisci_ppl.html\")"
   ]
  },
  {
   "cell_type": "markdown",
   "metadata": {},
   "source": [
    "Then, we can parse a page that is already saved on your computer even without access to internet. "
   ]
  },
  {
   "cell_type": "code",
   "execution_count": 26,
   "metadata": {},
   "outputs": [
    {
     "data": {
      "text/plain": [
       "'<html>\\n <body>\\n  <p>\\n   b\\'\\n   <!DOCTYPE html>\\n  </p>\\n  <meta content=\"text/html; charset=utf-8\" http-equiv=\"Content-Type\"/>\\n  \\\\n\\n  <link href=\"https://polisci.wustl.edu/sites/all/themes/olympian/favicon.ico\" rel=\"shortcut icon\" type=\"image/vnd.microsoft.icon\"/>\\n  \\\\n\\n  <meta content=\"Drupal 7 (http://drupal.org)\" name=\"generator\"/>\\n  \\\\n\\n  <link href=\"https://polisci.wustl.edu/people/88\" rel=\"canonical\"/>\\n  \\\\n\\n  <link href=\"https://polisci.wustl.edu/people/88\" rel=\"shortlink\"/>\\n  \\\\n\\n  <meta content=\"Department of Political Science\" property=\"og:site_name\"/>\\n  \\\\n\\n  <meta content=\"article\" property=\"og:type\"/>\\n  \\\\n\\n  <meta content=\"https://polisci.wustl.edu/people/88\" property=\"og:url\"/>\\n  \\\\n\\n  <meta content=\"Faculty\" property=\"og:title\"/>\\n  \\\\n\\n  <meta content=\"Faculty\" itemprop=\"name\"/>\\n  \\\\n\\n  <title>\\n   Faculty | Department of Political Science\\n  </title>\\n  <meta content=\"width=device-width, initial-scale=1\" name=\"viewport\"/>\\n  <meta content=\" Department of Political Science \" name=\"author\"/>\\n  <link href=\"https://polisci.wustl.edu/files/polisci/css/css_rEI_5cK_B9hB4So2yZUtr5weuEV3heuAllCDE6XsIkI.css\" media=\"all\" rel=\"stylesheet\" type=\"text/css\"/>\\n  \\\\n\\n  <link href=\"https://polisci.wustl.edu/files/polisci/css/css_mrHOOo1S8aly8KA7mvYR9v0hLU2SUsaeClnhQuqrXv0.css\" media=\"all\" rel=\"stylesheet\" type=\"text/css\"/>\\n  \\\\n\\n  <link href=\"https://polisci.wustl.edu/files/polisci/css/css_LeKypRS8Bzqgnx398dzBobOCFiqYHUh7PX39viZp8A0.css\" media=\"all\" rel=\"stylesheet\" type=\"text/css\"/>\\n  \\\\n\\n  <link href=\"https://polisci.wustl.edu/files/polisci/css/css_YdFa0DKTgiF0wji5PH6eYXGx4CRwFTi26aKxbOqHzXo.css\" media=\"all\" rel=\"stylesheet\" type=\"text/css\"/>\\n  \\\\n\\n  <!--Analytics-->\\n  <!-- Global Site Tag (gtag.js) - Google Analytics -->\\n  <script async=\"\" src=\"https://www.googletagmanager.com/gtag/js?id=G-BFRZ21PBX1\">\\n  </script>\\n  <script>\\n   window.dataLayer = window.dataLayer || [];function gtag(){dataLayer.push(arguments)};gtag(\\\\\\'js\\\\\\', new Date());gtag(\\\\\\'config\\\\\\', \\\\\\'G-BFRZ21PBX1\\\\\\');\\n  </script>\\n  <script src=\"/sites/all/themes/olympian/js/scrollreveal.min.js\">\\n  </script>\\n  <script>\\n   window.sr = ScrollReveal({scale: 1,distance: \\\\\\'8px\\\\\\',viewFactor: 0.2,duration: 400,});if (sr.isSupported()) {document.documentElement.classList.add(\\\\\\'sr\\\\\\');}\\n  </script>\\n  <style>\\n   @media (min-width: 1030px) {.sr .reveal { visibility: hidden; }}\\n  </style>\\n  <svg style=\"display: none;\">\\n   \\\\n\\n   <symbol id=\"icon-search\" viewbox=\"0 0 100 100\">\\n    \\\\n\\n    <path d=\"M87.3,12.1C72-3.2,47.1-3.2,31.8,12.1c-7.4,7.4-11.5,17.3-11.5,27.8c0,9.1,3.1,17.7,8.7,24.7L1.2,92.4l7,7l27.9-27.9\\\\n\\\\tc6.9,5.2,15.2,7.8,23.5,7.8c10.1,0,20.1-3.8,27.8-11.5C102.6,52.4,102.6,27.5,87.3,12.1z M81,61.4c-11.9,11.9-31.1,11.9-43,0\\\\n\\\\tc-5.7-5.7-8.9-13.4-8.9-21.5s3.2-15.8,8.9-21.5c5.9-5.9,13.7-8.9,21.5-8.9c7.8,0,15.6,3,21.5,8.9C92.9,30.3,92.9,49.6,81,61.4z\">\\n    </path>\\n    \\\\n\\n   </symbol>\\n   \\\\n\\\\n\\n   <symbol id=\"ampersand\" viewbox=\"0 0 531.1 626.6\">\\n    \\\\n\\\\t\\n    <path d=\"M497.7,196.4c-11.6-7.9-24.9-11.6-38.5-10.9c-0.1,0-0.2,0-0.3,0c-27.1-0.1-49.1,21.8-49.2,48.9\\\\n\\\\t\\\\tc-0.1,27.1,21.8,49.1,48.9,49.2c17.1,0,32.2-9.2,41-22.5C497.9,288.7,475,310,447,310H270.1h-0.3c-26.3,0-51.1,10.5-69.8,29.1\\\\n\\\\t\\\\tc-18.7,18.6-29.1,43.6-29.2,70c-0.1,27.2,12,51.1,33.1,65.5c12.8,8.7,27.6,13.2,43.2,13.2c4.2,0,8.5-0.4,12.8-1.1\\\\n\\\\t\\\\tc31.3-2.6,55.9-28.7,55.9-60.7c0.1-33.7-27.2-61.1-60.9-61.2c-22.8-0.1-42.7,12.4-53.2,30.9c2.7-13.3,9.2-25.5,19.1-35.4\\\\n\\\\t\\\\tc13.1-13,30.5-20.2,49-20.2h0.2H342h0c0.2,0-0.1,0,0.1,0l27.7,0.1v84.1c0,93.2-75.3,169-168.5,169c-93.2,0-168.8-75.8-168.8-169\\\\n\\\\t\\\\tc0-93.2,76-169,169.2-169c8.6,0,15.6-7,15.6-15.6s-6.9-15.6-15.5-15.6c-1.6,0-3.1,0.1-4.7,0.1c-0.4,0-0.8-0.1-1.2-0.1\\\\n\\\\t\\\\tc-52.7,0-95.6-42.9-95.6-95.6c0-52.7,42.9-95.6,95.6-95.6s95.6,42.9,95.6,95.6c0,8.6-1.2,17.2-3.5,25.6\\\\n\\\\t\\\\tc-2.3,8.3,2.6,16.9,10.8,19.2c8.3,2.3,16.9-2.6,19.2-10.8c3.1-11.1,4.6-22.5,4.6-33.9C322.6,58.8,265.8,2,195.9,2\\\\n\\\\t\\\\tC126.1,2,69.2,58.8,69.2,128.7c0,46.1,24.7,86.5,61.6,108.6C55.4,266.1,1.7,339.1,1.7,424.4c0,110.4,90.6,200.2,200.9,200.2\\\\n\\\\t\\\\ts200.9-89.8,200.9-200.2v-84l43.3-0.2h0.2c45.3,0,82.3-36.7,82.4-82C529.5,233.4,517.3,209.8,497.7,196.4\">\\n    </path>\\n    \\\\n\\n   </symbol>\\n   \\\\n\\\\n\\n   <symbol id=\"logo-wu\" viewbox=\"0 0 331.5 27.8\">\\n    \\\\n\\n    <g>\\n     \\\\n\\\\t\\n     <path d=\"M240.1,7.9c0.3,0,1.1-1.2,1.1-1.6c0-0.4-0.8-1.6-1.1-1.6c-0.3,0-1.1,1.3-1.1,1.6C239,6.6,239.7,7.9,240.1,7.9\">\\n     </path>\\n     \\\\n\\\\t\\n     <path d=\"M254.3,20.3V15c0-2.4-0.8-6-4.4-6c-2.6,0-3.9,2.5-3.9,2.1V9.3c0-0.3-0.2-0.5-0.3-0.5c-0.6,0-1.1,1-3.2,1.7\\\\n\\\\t\\\\tc-0.1,0-0.5,0-0.5,0.3c0,0.7,2.1-0.9,2.1,1.7v7.9c0,1.5-0.7,1.6-1.3,1.7c0,0-0.1,0-0.1,0c-0.5,0-1.7-0.2-1.7-1.4V9.3\\\\n\\\\t\\\\tc0-0.3-0.2-0.5-0.3-0.5c-0.6,0-1,1.1-2.7,1.7c-0.1,0-0.4,0.1-0.4,0.2c0,0.7,1.5-0.6,1.5,1.7V20c0.1,1.9-1,2.1-1.6,2.1\\\\n\\\\t\\\\tc-0.9,0-0.7,0.1-0.7,0.4c0,0.3,0.5,0.3,1.4,0.3c0.3,0,1-0.1,1.9-0.1c1.1,0,1.9,0.1,2.5,0.1c0.3,0,1.2-0.1,2.6-0.1\\\\n\\\\t\\\\tc1.6,0,2.1,0.1,2.5,0.1c0.4,0,0.9-0.2,0.6-0.4c-0.4-0.4-2.4,0.1-2.4-2.1V13c0-0.5,0.9-2.5,3.2-2.5c2.2,0,3.1,2.4,3.1,4v6\\\\n\\\\t\\\\tc0,2.3-0.8,1.6-1.2,2.1c-0.2,0.3,0.1,0.4,0.5,0.4c0.3,0,0.9-0.1,1.9-0.1c1.3,0,1.9,0.1,2.2,0.1c0.3,0,0.8-0.2,0.5-0.4\\\\n\\\\t\\\\tC255.6,21.9,254.3,22.7,254.3,20.3\">\\n     </path>\\n     \\\\n\\\\t\\n     <path d=\"M50.5,1.9c0.4-0.1,0.6-0.2,0.6-0.2c0-0.3-0.1-0.3-0.4-0.3c-0.7,0-1.1,0.1-1.8,0.1c-0.7,0-1.3-0.1-1.9-0.1\\\\n\\\\t\\\\tc-0.3,0-0.3,0.1-0.3,0.3c0,0.2,0.7,0.1,1.1,0.9c0.2,0.4,0.1,1.4-0.1,2l-5.2,14.2l-2.2-6.3l-0.9-2.3c0,0-0.1,0.1,0.5-1.8l1.2-3.6\\\\n\\\\t\\\\tC41.7,2.9,42.3,2,43,2c1,0,1-0.6,0.2-0.6s-1.2,0.1-1.8,0.1c-0.7,0-1-0.1-1.8-0.1c-0.3,0-0.6,0.1-0.5,0.3c0,0.2,0.4,0.1,0.7,0.3\\\\n\\\\t\\\\tc0.5,0.3,0.8,1.3,0.5,2.4L38.9,9l-1.6-4.3c-0.3-0.8-0.8-2.6,0-2.8c0.8-0.2,0.7-0.5,0.2-0.5c-0.9,0-1.4,0.1-2.2,0.1\\\\n\\\\t\\\\tc-0.9,0-1.6-0.1-2.5-0.1c-0.2,0-0.5,0-0.4,0.4c0.1,0.2,0.5,0.1,0.8,0.3c1.1,0.7,1.3,1.6,1.7,2.6l2.4,6.7c0.4,1.2,0.5,0.8,0.1,1.8\\\\n\\\\t\\\\tl-2.1,5.7L30.1,4.3c-0.4-1.1-0.6-1.9,0.3-2.3c0.4-0.2,0.5-0.2,0.5-0.3c0-0.1,0.1-0.3-0.5-0.3c-0.9,0-1.5,0.1-2.4,0.1\\\\n\\\\t\\\\tc-1,0-1.6-0.1-2.5-0.1c-0.3,0-0.4,0.1-0.4,0.4c0,0.3,0.7,0.1,1.3,0.8c0.4,0.4,1,1.7,1.2,2.2l6.1,17.7c0.1,0.3,0.1,0.8,0.5,0.8\\\\n\\\\t\\\\tc0.3,0,0.3-0.6,0.4-0.8l3.2-8.9l3.2,8.4c0.1,0.3,0.3,1.3,0.6,1.3c0.3,0,0.4-0.4,0.5-0.9L48.4,5C48.9,3.6,49.5,2.1,50.5,1.9\">\\n     </path>\\n     \\\\n\\\\t\\n     <path d=\"M118.1,8.8c-3.4,0-6,3.4-6,7.4c0,2,0.5,3.6,1.5,4.8c-0.3,0.2-0.9,0.7-2.2,0.7c-1.1,0-1.7-0.7-1.8-2.1V11c0,0,3.3,0,3.5,0\\\\n\\\\t\\\\tc0.2,0,0.7-1.5,0.7-1.6c0-0.2,0.1-0.3,0.1-0.5c0-0.3-0.2-0.3-0.4,0c-0.2,0.2-0.3,0.6-1,0.6h-2.9c0-2.5,0-3.6-0.4-3.6\\\\n\\\\t\\\\tc-0.4,0-0.3,0.1-0.7,1.2c-0.5,1.5-1.8,2.3-2.7,2.8c-0.4,0.1-0.8,0.1-1.3,0c-0.8-0.2-1.7-1.1-3.9-1.1c-2.5,0-4.6,2-4.6,4.7\\\\n\\\\t\\\\tc0,1.5,0.6,2.8,1.8,3.6c-0.2,0.1-1.6,1.3-1.4,2.6c0,0,0,1.4,1.1,1.9c-0.3,0.1-0.7,0.4-1,0.7c-0.7-0.3-1.8-0.1-1.8-2V15\\\\n\\\\t\\\\tc0-2.4-0.8-6-4.4-6c-2.6,0-3.9,2.5-3.9,2.1V9.3c0-0.3-0.2-0.5-0.3-0.5c-0.6,0-0.7,1-3,1.6c-0.1,0-0.4,0.1-0.4,0.3\\\\n\\\\t\\\\tc0,0.7,1.8-0.7,1.8,1.7v7.9c0,1.7-1.3,1.7-1.6,1.7c-0.1,0-0.2,0-0.3,0C82,22.1,81,21.8,81,20.8V9.3c0-0.3-0.2-0.5-0.3-0.5\\\\n\\\\t\\\\tc-0.6,0-1,1.1-2.7,1.7c-0.1,0-0.4,0.1-0.4,0.2c0,0.7,1.5-0.6,1.5,1.7V20c0.1,1.8-0.9,2.1-1.5,2.1c-0.7-0.1-1.3-0.4-1.3-1.5v-5.3\\\\n\\\\t\\\\tc0-2.7-1-6.3-4.5-6.3c-1.5,0-2.8,0.8-3.9,2V1.9c0-0.3-0.2-0.5-0.3-0.5c-0.4,0-1.1,1.2-3.1,1.7c-0.1,0-0.6,0.1-0.6,0.3\\\\n\\\\t\\\\tC64,4,66,3,66,5.1v15.6c0,1.6-1.3,1.3-1.6,1.8c0,0.2,0.1,0.3,0.3,0.3c0.4,0,1.6-0.1,2.4-0.1c0.8,0,2.2,0.1,2.7,0.1\\\\n\\\\t\\\\tc0.3,0,0.5-0.1,0.5-0.4C70.1,21.9,68,22.7,68,20v-6.7c0-1.6,1.9-2.9,3.1-2.9c0.9,0,3.2,0.7,3.2,4.7v5.8c0,1.1-1.2,1.3-1.3,1.6\\\\n\\\\t\\\\tc0,0.3,0.2,0.3,0.4,0.3c0.3,0,1.2-0.1,2.2-0.1c0.6,0,1.1,0,1.6,0.1c0.2,0,0.6,0.1,1,0.1c0.3,0,1-0.1,1.9-0.1c0.8,0,1.5,0.1,2.1,0.1\\\\n\\\\t\\\\tc0.1,0,0.2,0,0.3,0c0,0,0.1,0,0.1,0c0,0,0,0,0,0c0.3,0,0.6,0,0.8,0c0.3,0,0.9-0.1,2.3-0.1c1.6,0,2.1,0.1,2.5,0.1\\\\n\\\\t\\\\tc0.4,0,0.9-0.2,0.6-0.4c-0.4-0.4-2.4,0.1-2.4-2.1V13c0-0.5,0.9-2.5,3.2-2.5c2.2,0,3.1,2.4,3.1,4v6c0,2.1-0.8,1.6-1.2,2.1\\\\n\\\\t\\\\tc-0.2,0.3,0.1,0.4,0.5,0.4c0.3,0,0.9-0.1,1.9-0.1c1,0,1.6,0.1,2,0.1c-0.3,0.4-0.5,0.9-0.5,1.4c-0.1,2.6,3,3.5,5.7,3.5\\\\n\\\\t\\\\tc5.3-0.1,6.8-3.7,5.7-5.7c-1.1-2-3.5-1.9-5.9-1.9c-4.3,0-3.5-2.7-1.8-2.6c0.4,0,0.2,0.1,1.6,0.1c2.5,0,4.9-1.7,4.8-4.5\\\\n\\\\t\\\\tc0-0.2,0.1-1.1-0.6-2.2c1.2,0,0.7,0,2.5,0l0,7.9c0,3.6,1.7,4.2,3,4.2c1.8,0,3.1-1.2,3.3-1.7c1.1,1.1,2.5,1.7,4.3,1.7\\\\n\\\\t\\\\tc3.3,0,5.8-3,5.8-7C123.9,10,120.1,8.8,118.1,8.8 M98.7,21.9c0.2,0,0.3,0.1,2.7,0.2c2.5,0.1,3.4,0.8,3.6,1.5\\\\n\\\\t\\\\tc0.3,1.2-0.5,3.6-4.2,3.4c-2.3-0.1-3-1.2-3.1-1.5C96.9,24.2,97.6,21.9,98.7,21.9 M100.8,17.1c-2.1,0-2.9-2.1-2.9-4\\\\n\\\\t\\\\tc0-2,0.6-3.7,2.8-3.7c2.2,0,3,2.2,3,4.2C103.8,15.6,102.9,17.1,100.8,17.1 M118.4,22.1c-3.1,0-4.4-3.9-4.4-7c0-2.7,1.1-5.3,3.7-5.3\\\\n\\\\t\\\\tc3.2,0,4.3,3.4,4.3,6.7C122,20.5,120.6,22.1,118.4,22.1\">\\n     </path>\\n     \\\\n\\\\t\\n     <path d=\"M135.4,20.3V15c0-2.4-0.8-6-4.4-6c-2.6,0-3.9,2.5-3.9,2.1V9.3c0-0.3-0.2-0.5-0.3-0.5c-0.6,0-1.1,1-3.2,1.7\\\\n\\\\t\\\\tc-0.1,0-0.5,0-0.5,0.3c0,0.7,2.1-0.9,2.1,1.7v7.9c0,2.1-1.4,1.6-1.7,2.1c-0.2,0.3,0.3,0.3,0.6,0.3c0.3,0,0.9-0.1,2.3-0.1\\\\n\\\\t\\\\tc1.6,0,2.1,0.1,2.5,0.1c0.4,0,0.9-0.2,0.6-0.4c-0.4-0.4-2.4,0.1-2.4-2.1V13c0-0.5,0.9-2.5,3.2-2.5c2.2,0,3.1,2.4,3.1,4v6\\\\n\\\\t\\\\tc0,2.3-0.8,1.6-1.2,2.1c-0.2,0.3,0.1,0.4,0.5,0.4c0.3,0,0.9-0.1,1.9-0.1c1.3,0,1.9,0.1,2.2,0.1c0.3,0,0.8-0.2,0.5-0.4\\\\n\\\\t\\\\tC136.7,21.9,135.4,22.7,135.4,20.3\">\\n     </path>\\n     \\\\n\\\\t\\n     <path d=\"M79.9,7.9c0.3,0,1.1-1.2,1.1-1.6c0-0.4-0.8-1.6-1.1-1.6c-0.3,0-1.1,1.3-1.1,1.6C78.8,6.6,79.6,7.9,79.9,7.9\">\\n     </path>\\n     \\\\n\\\\t\\n     <path d=\"M62.1,15c-0.5-0.3-1.3-0.7-1.7-0.9c-1.7-0.9-2.3-1.5-2.4-2.4c-0.1-1.5,1.2-2.3,2.3-2.2c2.6,0,3,2.9,3.2,2.9\\\\n\\\\t\\\\tc0.4,0,0.3-0.4,0.3-1.2c0-0.2,0-1.3-0.1-1.6c-0.3-0.5-2.2-0.8-2.6-0.8c-0.1,0-0.5,0-0.6,0c-0.1,0-0.3,0-0.3,0\\\\n\\\\t\\\\tc-1.9,0-3.6,1.2-3.6,3.6c0.1,2.3,2.7,3.6,4.2,4.4c1.1,0.6,2.3,1.2,2.3,2.6c0,1.7-1.3,2.8-2.7,2.7c-3.3-0.1-2.8-4.1-3.4-4.1\\\\n\\\\t\\\\tc-0.4,0-0.3,1-0.3,1.6c0,0.5,0,1,0,1.4c-0.1,0.4-0.2,0.7-0.6,0.7c-1.3,0.1-1-2-1-3v-6.6c-0.1-2-1.6-3.4-3.9-3.4\\\\n\\\\t\\\\tc-3.2,0-5.5,3.9-4.4,5.2c0.3,0.3,1.3-0.8,1.4-0.9c0.1-0.1,0.1-0.1,0.1-0.1c0-1.3,1-3,2.4-3.2c1.6-0.2,2.5,1.1,2.5,2.7v2.2\\\\n\\\\t\\\\tC46.9,16,46,18,46,19.7c0,2.3,1.6,3.3,3.3,3.3c1.5,0,3-0.7,4.1-1.9c0.3,1.1,1,1.7,2.1,1.7c0.4,0,0.4,0.1,1.5-0.4\\\\n\\\\t\\\\tc0.4-0.1,0.4-0.1,0.8,0c0.6,0.2,1.4,0.6,2.7,0.6c2.1,0,4-1.9,4-4.3C64.5,17.2,64.1,16.3,62.1,15 M53.4,19.5c0,1.7-1.7,2.6-2.7,2.6\\\\n\\\\t\\\\tc-1.4,0-2.4-0.9-2.4-2.8c0-2.8,3.4-3.3,5.1-3.8V19.5z\">\\n     </path>\\n     \\\\n\\\\t\\n     <path d=\"M280.5,19.7c-0.3,0-1.1,1.3-1.1,1.7c0,0.3,0.8,1.6,1.1,1.6c0.3,0,1.1-1.3,1.1-1.6S280.9,19.7,280.5,19.7\">\\n     </path>\\n     \\\\n\\\\t\\n     <path d=\"M315.4,20.9V9.7c0-0.6-0.4-0.8-0.5-0.8c-0.4,0-0.6,0.1-0.9,0.2c-0.3,0.1-0.6,0.2-1.3,0.2c-0.1,0-0.8-0.1-0.8,0.3\\\\n\\\\t\\\\tc0,0.4,1.6,0.2,1.6,1.3v8.1c-0.1,1.4-1.3,3-2.7,3c-0.3,0-2.5-0.2-2.4-3.8V9.7c0-0.6-0.4-0.8-0.5-0.8c-0.4,0-0.6,0.1-0.9,0.2\\\\n\\\\t\\\\tc-0.3,0.1-0.6,0.2-1.4,0.2c-0.4,0-0.8-0.1-0.8,0.3c0.1,0.3,1.6,0,1.6,1.3v7.8c0,2.8,1.7,4.5,3.7,4.5c1.3,0,2.6-0.3,3.4-1.9h0.1v1.4\\\\n\\\\t\\\\tc0,0.1,0,0.5,0.2,0.5c0.4,0,0.6-0.3,0.9-0.4c0.3-0.1,0.4-0.3,1.3-0.4c0.4,0,0.9-0.2,0.9-0.5C316.7,21.1,315.4,21.7,315.4,20.9\">\\n     </path>\\n     \\\\n\\\\t\\n     <path d=\"M299.6,8.8c-3.4,0-6,3.4-6,7.4c0,1.8,0.4,3.3,1.2,4.4c-0.8,0.6-2.3,1.1-5.1,1.1c-2.2,0-2-0.8-2-2.6V4.1\\\\n\\\\t\\\\tc0-2.8,2.1-2,2.1-2.5c0-0.3-0.3-0.3-0.6-0.3c-0.4,0-1.1,0.2-2.6,0.2c-1.3,0-2.4-0.1-3-0.1c-0.3,0-0.7,0.1-0.5,0.4\\\\n\\\\t\\\\tc0.3,0.6,2.2,0.1,2.2,1.7v15.6c0,1.5,0.2,2.4-0.5,2.8c-0.8,0.5-1.8,0.5-1.7,0.9c0.1,0.2,0.5,0.2,0.7,0.2c1,0,2.5-0.1,3.6-0.2\\\\n\\\\t\\\\tc2-0.1,4,0.1,6,0.1c1.2,0,1.4-0.2,2.3-1.4c0,0,0,0,0-0.1c1,1,2.4,1.5,4,1.5c3.3,0,5.8-3,5.8-7C305.4,10,301.6,8.8,299.6,8.8\\\\n\\\\t\\\\t M299.8,22.1c-3.1,0-4.4-3.9-4.4-7c0-2.7,1.1-5.3,3.7-5.3c3.2,0,4.3,3.4,4.3,6.7C303.5,20.5,302.1,22.1,299.8,22.1\">\\n     </path>\\n     \\\\n\\\\t\\n     <path d=\"M266.7,11.3c-0.8-0.4-1.9-1.1-2.5-1.4c-2.4-1.4-3.4-2.3-3.5-3.6c-0.1-2.3,2.1-3.6,3.7-3.5c2,0,3.7,1.2,4.4,3.9\\\\n\\\\t\\\\tc0.1,0.3,0.3,0.9,0.6,0.9c0.2,0,0.3-0.2,0.2-0.5l-0.3-4.2c0-0.3-0.1-0.4-0.3-0.4c-0.2,0-0.4,0.3-0.6,0.3c-0.3,0-1.1-1.2-3.9-1.1\\\\n\\\\t\\\\tc-0.2,0-0.4,0-0.4,0c-2.7,0-5.3,1.8-5.2,5.6c0.1,3.5,4,5.5,6.1,6.8c1.6,0.9,3.2,2.4,3.1,4.1c-0.1,2.5-1.7,4.2-3.7,4.1\\\\n\\\\t\\\\tc-4.7-0.1-4.1-6.3-4.9-6.3c-0.6,0-0.5,1.6-0.5,2.4c0,2-0.1,3.6,0.1,3.9c0.1,0.1,0.3,0,0.8,0c0.9,0,2.1,1.1,4.8,1.1\\\\n\\\\t\\\\tc3.1,0,5.6-2.8,5.6-6.5C270.3,14.6,269.7,13.2,266.7,11.3\">\\n     </path>\\n     \\\\n\\\\t\\n     <path d=\"M320.1,7.9c0.3,0,1.1-1.2,1.1-1.6c0-0.4-0.8-1.6-1.1-1.6c-0.3,0-1.1,1.3-1.1,1.6C319,6.6,319.8,7.9,320.1,7.9\">\\n     </path>\\n     \\\\n\\\\t\\n     <path d=\"M322.9,22.2c-0.5,0-1.7-0.2-1.7-1.4V9.3c0-0.3-0.2-0.5-0.3-0.5c-0.6,0-1,1.1-2.7,1.7c-0.1,0-0.4,0.1-0.4,0.2\\\\n\\\\t\\\\tc0,0.7,1.5-0.6,1.5,1.8V20c0.1,1.9-1,2.1-1.6,2.1c-0.9,0-0.7,0.1-0.7,0.4c0,0.3,0.5,0.3,1.4,0.3c0.3,0,1-0.1,1.9-0.1\\\\n\\\\t\\\\tc1.1,0,1.9,0.1,2.5,0.1C323.1,22.9,323.6,22,322.9,22.2\">\\n     </path>\\n     \\\\n\\\\t\\n     <path d=\"M329,15c-0.5-0.3-1.3-0.7-1.7-0.9c-1.7-0.9-2.3-1.5-2.4-2.4c-0.1-1.5,1.2-2.3,2.3-2.1c2.6,0,3,2.9,3.2,2.9\\\\n\\\\t\\\\tc0.4,0,0.3-0.4,0.3-1.2c0-0.2,0-1.3-0.1-1.6c-0.3-0.5-2.2-0.8-2.6-0.8c-0.1,0-0.5,0-0.6,0c-0.1,0-0.3,0-0.3,0\\\\n\\\\t\\\\tc-1.9,0-3.6,1.2-3.6,3.7c0.1,2.3,2.7,3.6,4.2,4.4c1.1,0.6,2.3,1.2,2.3,2.6c0,1.7-1.3,2.8-2.7,2.7c-3.3-0.1-2.8-4.1-3.4-4.1\\\\n\\\\t\\\\tc-0.4,0-0.3,1-0.3,1.6c0,1.3-0.1,2.3,0.1,2.5c0,0.1,0.2,0,0.5,0c0.6,0,1.4,0.7,3.3,0.7c2.1,0,4-1.9,4-4.3\\\\n\\\\t\\\\tC331.5,17.2,331,16.3,329,15\">\\n     </path>\\n     \\\\n\\\\t\\n     <path d=\"M278.7,20.9c-0.3,0.1-0.9,0.8-2.3,0.8c-1.1,0-1.7-0.7-1.8-2.1v-9.1c0,0,3.3,0,3.5,0c0.2,0,0.7-1.5,0.7-1.6\\\\n\\\\t\\\\tc0-0.2,0.1-0.3,0.1-0.5c0-0.3-0.2-0.3-0.4,0c-0.2,0.2-0.3,0.6-1,0.6h-2.9c0-2.5,0-3.1-0.4-3.1c-0.4,0-0.3,0.1-0.7,1.2\\\\n\\\\t\\\\tc-0.6,1.9-2.6,2.7-3.2,3.1c-0.2,0.1-0.1,0.1-0.2,0.2c0,0.2,0.8,0.1,2.4,0.2l0,8.3c0,3.6,1.7,4.2,3,4.2c1.9,0,3.3-1.4,3.4-1.9\\\\n\\\\t\\\\tC278.9,20.9,278.9,20.9,278.7,20.9\">\\n     </path>\\n     \\\\n\\\\t\\n     <path d=\"M194.7,19.8c-0.6,0-1.5,1.7-3.8,1.7c-1.6,0-4.3-1.6-4.3-6.9h7.1c0.6,0,0.9,0,0.9-0.5c0-1.3-1.4-5.1-4.7-5.1\\\\n\\\\t\\\\tc-3.3,0-5.3,3.4-5.3,7.5c0,2.1,1.4,6.6,5.4,6.6c2.4,0,4.7-2.3,4.7-3.1C194.8,19.9,194.8,19.8,194.7,19.8 M189.5,9.6\\\\n\\\\t\\\\tc1.5,0,3,1.6,3,3.4c0,0.5-0.2,0.6-0.5,0.6h-5.3C186.6,11.9,187.8,9.6,189.5,9.6\">\\n     </path>\\n     \\\\n\\\\t\\n     <path d=\"M156.7,2.1c0.1-0.2-0.3-0.2-0.4-0.2c-0.4,0-1.4,0.1-1.9,0.1c-0.9,0-1.7-0.1-2.6-0.1c-0.1,0-0.5,0.1-0.5,0.2\\\\n\\\\t\\\\tc0,0.7,2.2-0.1,2.2,2.7v10.9c0,3.2-1,6.6-5.5,6.6c-3.2,0-4.9-2-4.9-6.4V4c0-2,1.5-1.5,1.6-2c0-0.4-1.4-0.2-1.5-0.2\\\\n\\\\t\\\\tc-0.7,0-1.2,0.1-2,0.1c-0.6,0-1.4-0.1-2-0.1c-0.1,0-0.6,0-0.6,0.2c-0.2,0.6,2,0.3,2,1.9v11.3c0,4.2,1.2,8.3,7.4,8.2\\\\n\\\\t\\\\tc7.4-0.1,7.2-6.8,7.2-8.1V4.7C155.3,2.2,156.5,2.4,156.7,2.1\">\\n     </path>\\n     \\\\n\\\\t\\n     <path d=\"M185.9,9.5c0.2-0.2,0.2-0.5-0.6-0.5c-0.5,0-0.8,0.1-1.3,0.1c-0.6,0-0.7,0-1.3,0c-0.7,0-0.9,0.1-0.9,0.3\\\\n\\\\t\\\\tc0.1,0.6,1.6,0,1.4,1.9c-0.2,1.5-0.7,2.9-1.2,4.2l-1.8,4.8l-2.6-7.9c-0.3-1-0.5-1.5-0.5-1.6c0-1,1.2-0.8,1.5-1.2\\\\n\\\\t\\\\tc0.2-0.3-0.2-0.4-0.6-0.4c-0.3,0-0.7,0.1-1.7,0.1c-0.8,0-1.4,0-1.8,0c-0.9-0.2-0.9,0.3-0.5,0.5c0.3,0.2,0.5,0,0.9,1.4l4,11.4\\\\n\\\\t\\\\tc0.1,0.2,0.2,0.8,0.5,0.8c0.4,0,0.4-0.4,0.9-1.8c0,0,3.9-10.8,4.1-11.2C185.3,9.5,185.7,9.8,185.9,9.5\">\\n     </path>\\n     \\\\n\\\\t\\n     <path d=\"M200.8,9c-1.1,0-1.9,1.3-2.4,2.2h-0.1v-2c0-0.3-0.2-0.5-0.3-0.5c-0.4,0-0.7,0.8-3,1.4c-0.1,0-0.5,0.1-0.5,0.3\\\\n\\\\t\\\\tc0,0.7,1.9-0.2,1.9,2v8.3c0,1.3-1.3,1.2-1.3,1.8c0,0.2,0.1,0.3,0.3,0.3c0.2,0,0.7-0.1,2.4-0.1c1.5,0,2.1,0.1,2.5,0.1\\\\n\\\\t\\\\tc0.3,0,0.4-0.1,0.4-0.3c0-1-2.3,0.5-2.3-2.4V13c0-0.4,0.6-1.9,1.7-1.9c0.9,0,1.1,0.7,1.5,0.7c0.3,0,0.9-0.9,0.9-1.4\\\\n\\\\t\\\\tC202.5,9.8,201.3,9,200.8,9\">\\n     </path>\\n     \\\\n\\\\t\\n     <path d=\"M234.4,9.1c-0.3,0-1,0-1.6,0c-0.8,0-1.2-0.1-1.5-0.1c-0.5,0-1,0-0.9,0.3c0.1,0.4,1.8,0.2,1.8,2.1c0,0.2,0,0.5-0.3,1.8\\\\n\\\\t\\\\tl-2.2,6.8l-3-8.4c0,0-0.1-0.3-0.1-0.8c0-1.4,1.6-1.2,1.7-1.5c0.1-0.2-0.2-0.4-0.6-0.4c-0.4,0-1.1,0-2.1,0c-0.2,0-0.3,0-0.4,0\\\\n\\\\t\\\\tc0,0,0,0,0,0h-1.2c0,0,0,0,0,0h-2.9c0-2.5,0-3.1-0.4-3.1c-0.4,0-0.3,0.1-0.7,1.2c-0.6,1.9-2.6,2.7-3.2,3.1\\\\n\\\\t\\\\tc-0.2,0.1-0.1,0.1-0.2,0.2c0,0.2,0.8,0.1,2.4,0.2l0,8.3c0,3.6,1.7,4.2,3,4.2c1.9,0,3.3-1.4,3.4-1.9c0-0.3,0-0.3-0.2-0.3\\\\n\\\\t\\\\tc-0.3,0.1-0.9,0.8-2.3,0.8c-1.1,0-1.7-0.7-1.8-2.1v-9.1c0,0,2.6,0,3.3,0c0,0.1,0.1,0.1,0.1,0.2l3.1,8.7c0.3,0.7,0.4,0.9,0.7,2.2\\\\n\\\\t\\\\tc0.2,0.8,0.1,1.6,0.1,1.6c-0.3,1.3-1.1,2.1-2.3,4.5c-0.1,0.2,1.8,0,1.9-0.1c0.2,0,0.1-0.1,0.3-0.4l1.4-4.1l3.8-11.7\\\\n\\\\t\\\\tc0.6-2,1.4-1.7,1.6-2C234.9,9.3,234.8,9.1,234.4,9.1\">\\n     </path>\\n     \\\\n\\\\t\\n     <polygon points=\"229.5,22.9 229.4,23.1 229.4,23.2 \\\\t\">\\n     </polygon>\\n     \\\\n\\\\t\\n     <path d=\"M214.2,7.9c0.3,0,1.1-1.2,1.1-1.6c0-0.4-0.8-1.6-1.1-1.6c-0.3,0-1.1,1.3-1.1,1.6C213.1,6.6,213.9,7.9,214.2,7.9\">\\n     </path>\\n     \\\\n\\\\t\\n     <path d=\"M217,22.2c-0.5,0-1.7-0.2-1.7-1.4V9.3c0-0.3-0.2-0.5-0.3-0.5c-0.6,0-1,1.1-2.7,1.7c-0.1,0-0.4,0.1-0.4,0.2\\\\n\\\\t\\\\tc0,0.7,1.5-0.6,1.5,1.8V20c0.1,1.9-1,2.1-1.6,2.1c-0.9,0-0.7,0.1-0.7,0.4c0,0.3,0.5,0.3,1.4,0.3c0.3,0,1-0.1,1.9-0.1\\\\n\\\\t\\\\tc1.1,0,1.9,0.1,2.5,0.1C217.2,22.9,217.7,22,217,22.2\">\\n     </path>\\n     \\\\n\\\\t\\n     <path d=\"M172,7.9c0.3,0,1.1-1.2,1.1-1.6c0-0.4-0.8-1.6-1.1-1.6c-0.3,0-1.1,1.3-1.1,1.6C170.9,6.6,171.6,7.9,172,7.9\">\\n     </path>\\n     \\\\n\\\\t\\n     <path d=\"M174.7,22.2c-0.5,0-1.7-0.2-1.7-1.4V9.3c0-0.3-0.2-0.5-0.3-0.5c-0.6,0-1,1.1-2.7,1.7c-0.1,0-0.4,0.1-0.4,0.2\\\\n\\\\t\\\\tc0,0.7,1.5-0.6,1.5,1.8V20c0.1,1.9-1,2.1-1.6,2.1c-0.1,0-0.1,0-0.2,0c-0.6-0.1-1.1-0.3-1.1-1.9V15c0-2.4-0.8-6-4.4-6\\\\n\\\\t\\\\tc-2.6,0-3.9,2.5-3.9,2.1V9.3c0-0.3-0.2-0.5-0.3-0.5c-0.6,0-1.1,1-3.2,1.7c-0.1,0-0.5,0-0.5,0.3c0,0.7,2.1-0.9,2.1,1.7v7.9\\\\n\\\\t\\\\tc0,2.1-1.4,1.6-1.7,2.1c-0.2,0.3,0.3,0.3,0.6,0.3c0.3,0,0.9-0.1,2.3-0.1c1.6,0,2.1,0.1,2.5,0.1c0.4,0,0.9-0.2,0.6-0.4\\\\n\\\\t\\\\tc-0.4-0.4-2.4,0.1-2.4-2.1V13c0-0.5,0.9-2.5,3.2-2.5c2.2,0,3.1,2.4,3.1,4v6c0,2.3-0.8,1.6-1.2,2.1c-0.2,0.3,0.1,0.4,0.5,0.4\\\\n\\\\t\\\\tc0.3,0,0.9-0.1,1.9-0.1c1.3,0,1.9,0.1,2.2,0.1c0,0,0.1,0,0.1,0c0.1,0,0.2,0,0.4,0c0.3,0,1-0.1,1.9-0.1c1.1,0,1.9,0.1,2.5,0.1\\\\n\\\\t\\\\tC175,22.9,175.4,22,174.7,22.2\">\\n     </path>\\n     \\\\n\\\\t\\n     <path d=\"M208.5,15c-0.5-0.3-1.3-0.7-1.7-0.9c-1.7-0.9-2.3-1.5-2.4-2.4c-0.1-1.5,1.2-2.3,2.3-2.2c2.6,0,3,2.9,3.2,2.9\\\\n\\\\t\\\\tc0.4,0,0.3-0.4,0.3-1.2c0-0.2,0-1.3-0.1-1.6c-0.3-0.5-2.2-0.8-2.6-0.8c-0.1,0-0.5,0-0.6,0c-0.1,0-0.3,0-0.3,0\\\\n\\\\t\\\\tc-1.9,0-3.6,1.2-3.6,3.7c0.1,2.3,2.7,3.6,4.2,4.4c1.1,0.6,2.3,1.2,2.3,2.6c0,1.7-1.3,2.8-2.7,2.7c-3.3-0.1-2.8-4.1-3.4-4.1\\\\n\\\\t\\\\tc-0.4,0-0.3,1-0.3,1.6c0,1.3-0.1,2.4,0.1,2.5c0,0.1,0.2,0,0.5,0c0.6,0,1.4,0.7,3.3,0.7c2.1,0,4-1.9,4-4.3\\\\n\\\\t\\\\tC210.9,17.2,210.5,16.3,208.5,15\">\\n     </path>\\n     \\\\n\\\\t\\n     <path d=\"M10.8,1.3L10.8,1.3L10.8,1.3L10.8,1.3C10.7,1.3,6.2,1.3,0,0v18v0c0,0.3,0,0.5,0,0.5l0,0v0c0,0.8,0.3,1.5,0.8,2.1\\\\n\\\\t\\\\tc0.3,0.4,0.8,0.7,1.4,1.1c0.2,0.1,0.4,0.2,0.6,0.3c0.2,0.1,0.3,0.1,0.5,0.2c0.1,0.1,0.6,0.2,0.7,0.3l6.8,2.6l6.8-2.6\\\\n\\\\t\\\\tc0.1-0.1,0.6-0.2,0.7-0.3h0c0.2-0.1,0.3-0.1,0.5-0.2c0.2-0.1,0.4-0.2,0.6-0.3c0.6-0.4,1.1-0.7,1.4-1.1c0.5-0.6,0.7-1.2,0.8-2.1l0,0\\\\n\\\\t\\\\tv0c0,0,0-0.2,0-0.5v0V0C15.4,1.3,10.9,1.3,10.8,1.3 M20.7,17.6L20.7,17.6c0,0.3,0,0.5,0,0.5v0l0,0c0,0.8-0.3,1.4-0.7,1.9\\\\n\\\\t\\\\tc-0.3,0.3-0.7,0.7-1.3,1c-0.2,0.1-0.3,0.2-0.5,0.3c-0.1,0.1-0.3,0.1-0.4,0.2l0,0c-0.1,0.1-0.5,0.2-0.7,0.3l-6.2,2.4l-6.2-2.4\\\\n\\\\t\\\\tc-0.1,0-0.5-0.2-0.7-0.3l0,0c-0.2-0.1-0.3-0.1-0.4-0.2C3.3,21.2,3.1,21.1,3,21c-0.6-0.3-1-0.7-1.3-1c-0.5-0.5-0.7-1.1-0.7-1.9l0,0\\\\n\\\\t\\\\tv0c0,0,0-0.2,0-0.4v0V1.2c5.7,1.2,9.8,1.1,9.9,1.1h0h0c0.1,0,4.2,0,9.9-1.1V17.6z\">\\n     </path>\\n     \\\\n\\\\t\\n     <path d=\"M10.8,3.3L10.8,3.3L10.8,3.3c-0.1,0-3.8,0-9-1v4.2c5.2,1.1,8.9,1,9,1l0,0h0c0.1,0,3.8,0,9-1V2.3\\\\n\\\\t\\\\tC14.6,3.3,10.9,3.3,10.8,3.3 M6,6.6L5,5.8L3.9,6.6l0.4-1.3L3.2,4.5l1.3,0L5,3.2l0.4,1.3l1.3,0L5.6,5.3L6,6.6z M16.2,4.5l0.4-1.3\\\\n\\\\t\\\\tl0.4,1.3l1.3,0l-1.1,0.8l0.4,1.3l-1.1-0.8l-1.1,0.8L16,5.3l-1.1-0.8L16.2,4.5z M12.6,5l-1.1,0.8l0.4,1.3l-1.1-0.8L9.7,7.1l0.4-1.3\\\\n\\\\t\\\\tL9,5l1.3,0l0.4-1.3L11.2,5L12.6,5z\">\\n     </path>\\n     \\\\n\\\\t\\n     <path d=\"M10.8,16.9L10.8,16.9C10.8,16.9,10.8,16.9,10.8,16.9c-0.1,0-3.8,0-9-1v1.5c0,0.2,0,0.4,0,0.4l0,0v0c0,0.7,0.2,1.3,0.7,1.7\\\\n\\\\t\\\\tc0.3,0.3,0.7,0.6,1.2,0.9c0.1,0.1,0.3,0.2,0.5,0.2c0.1,0.1,0.3,0.1,0.4,0.2v0c0.1,0,0.5,0.2,0.6,0.3l5.7,2.2l5.7-2.2\\\\n\\\\t\\\\tc0.1,0,0.5-0.2,0.6-0.3l0,0c0.1-0.1,0.3-0.1,0.4-0.2c0.2-0.1,0.3-0.2,0.5-0.2c0.5-0.3,0.9-0.6,1.2-0.9c0.4-0.5,0.6-1,0.7-1.7l0,0v0\\\\n\\\\t\\\\tc0,0,0-0.2,0-0.4v0v-1.5C14.6,16.9,10.9,16.9,10.8,16.9 M4.6,19.8l-0.2,0.2L4,19.8v-0.3h0.6V19.8z M4.6,19.2H4.2v-0.5l-0.3-0.3\\\\n\\\\t\\\\tl-0.4,0.3l-0.3-0.3V18h0.9l0.4,0.4V19.2z M5,20.6l-0.3-0.4l0.2-0.3v-0.5h0.3v0.5l0.2,0.3L5,20.6z M5.3,18L5.3,18l-0.2,0.5v0.8H4.8\\\\n\\\\t\\\\tv-0.8L4.6,18v-0.9L5,16.7l0.3,0.3V18z M5.9,19.8l-0.4,0.3l-0.2-0.2v-0.4h0.6V19.8z M6.6,18.4l-0.3,0.3L6,18.4l-0.3,0.3v0.5H5.4\\\\n\\\\t\\\\tv-0.8L5.7,18h0.9V18.4z M10.2,21.6l-0.3,0.3l-0.5-0.4v-0.4h0.8V21.6z M10.2,20.7H9.8v-0.7l-0.4-0.5l-0.6,0.4l-0.4-0.4V19h1.3\\\\n\\\\t\\\\tl0.6,0.6V20.7z M10.8,22.8l-0.5-0.6l0.2-0.4v-0.7H11v0.7l0.2,0.4L10.8,22.8z M16.2,19.8L16,20.1l-0.4-0.3v-0.3h0.6V19.8z M17,18.4\\\\n\\\\t\\\\tl0.4-0.4h0.9v0.4l-0.3,0.3l-0.4-0.3l-0.3,0.3v0.5H17V18.4z M17,19.5h0.6v0.3l-0.4,0.3L17,19.8V19.5z M16.3,18L16.3,18v-0.9l0.3-0.3\\\\n\\\\t\\\\tl0.3,0.3V18l-0.2,0.5v0.8h-0.3v-0.8L16.3,18z M16.5,19.9v-0.5h0.3v0.5l0.2,0.3l-0.3,0.4l-0.3-0.4L16.5,19.9z M15,18h0.9l0.4,0.4\\\\n\\\\t\\\\tv0.8h-0.3v-0.5l-0.3-0.3l-0.4,0.3L15,18.4V18z M11.4,19.6l0.6-0.6h1.3v0.6l-0.4,0.4l-0.6-0.4l-0.4,0.5v0.7h-0.5V19.6z M11.4,21.1\\\\n\\\\t\\\\th0.8v0.4l-0.5,0.4l-0.3-0.3V21.1z M11.3,18.9L11.3,18.9L11,19.6v1.1h-0.5v-1.1l-0.2-0.7v-1.3l0.5-0.5l0.5,0.5V18.9z\">\\n     </path>\\n     \\\\n\\\\t\\n     <polygon points=\"11.2,14.6 10.8,15 10.4,14.6 10.1,14.4 6.5,14.4 6.5,9 5.7,9.6 5.7,15.1 10,15.1 10.4,15.4 10.8,15.8 11.2,15.4 \\\\n\\\\t\\\\t11.6,15.1 15.9,15.1 15.9,9.6 15.1,9 15.1,14.4 11.5,14.4 \\\\t\">\\n     </polygon>\\n     \\\\n\\\\t\\n     <polygon points=\"10.4,8.7 10.2,8.5 7.3,8.5 7.3,13.6 10.2,13.6 10.4,13.8 10.8,14.1 11.2,13.8 11.4,13.6 14.3,13.6 14.3,8.5 \\\\n\\\\t\\\\t11.4,8.5 11.2,8.7 10.8,9.1 \\\\t\">\\n     </polygon>\\n     \\\\n\\\\t\\n     <path d=\"M16.6,13.5c1-0.1,2-0.3,3.2-0.6v-1.4v-2c-1.1,0.2-2.2,0.4-3.2,0.6V13.5z\">\\n     </path>\\n     \\\\n\\\\t\\n     <path d=\"M5,10.1c-1-0.1-2-0.3-3.2-0.6v2V13C2.9,13.2,4,13.4,5,13.5V10.1z\">\\n     </path>\\n     \\\\n\\n    </g>\\n    \\\\n\\n   </symbol>\\n   \\\\n\\\\n\\n   <symbol id=\"arrow-next\" viewbox=\"0 0 25 41\">\\n    \\\\n\\n    <path d=\"M1.7,40.9c-0.4,0-0.8-0.2-1.1-0.5C0,39.7,0,38.8,0.7,38.2l20-17.7L0.7,2.8C0,2.3,0,1.3,0.5,0.7C1.1,0,2.1,0,2.7,0.5L24,19.4\\\\n\\\\tc0.3,0.3,0.5,0.7,0.5,1.1c0,0.4-0.2,0.9-0.5,1.1L2.7,40.5C2.4,40.8,2,40.9,1.7,40.9z\">\\n    </path>\\n    \\\\n\\n   </symbol>\\n   \\\\n\\\\n\\n   <symbol id=\"arrow-prev\" viewbox=\"0 0 25 41\">\\n    \\\\n\\n    <path d=\"M23.4,40.9c0.4,0,0.8-0.2,1.1-0.5c0.6-0.6,0.5-1.6-0.1-2.2l-20-17.7l20-17.7c0.6-0.6,0.7-1.5,0.1-2.2C24,0,23,0,22.4,0.5\\\\n\\\\tL1,19.4c-0.3,0.3-0.5,0.7-0.5,1.1c0,0.4,0.2,0.9,0.5,1.1l21.3,18.8C22.6,40.8,23,40.9,23.4,40.9z\">\\n    </path>\\n    \\\\n\\n   </symbol>\\n   \\\\n\\\\n\\n   <symbol id=\"twitter\" viewbox=\"0 0 16.5 17\">\\n    \\\\n\\n    <path d=\"M14.6,5.3c0,0.1,0,0.3,0,0.4c0,4.3-3.3,9.2-9.2,9.2c-1.8,0-3.5-0.5-5-1.5c0.3,0,0.5,0,0.8,0c1.5,0,2.9-0.5,4-1.4\\\\n\\\\tc-1.4,0-2.6-1-3-2.2c0.2,0,0.4,0.1,0.6,0.1c0.3,0,0.6,0,0.9-0.1C2.2,9.5,1,8.2,1,6.6c0,0,0,0,0,0C1.5,6.8,2,7,2.5,7\\\\n\\\\tC1.6,6.4,1.1,5.4,1.1,4.3c0-0.6,0.2-1.2,0.4-1.6c1.6,2,4,3.3,6.7,3.4C8.1,5.8,8.1,5.6,8.1,5.3c0-1.8,1.4-3.2,3.2-3.2\\\\n\\\\tc0.9,0,1.8,0.4,2.4,1c0.7-0.1,1.4-0.4,2.1-0.8c-0.2,0.8-0.8,1.4-1.4,1.8C15,4,15.6,3.9,16.2,3.6C15.8,4.2,15.2,4.8,14.6,5.3z\">\\n    </path>\\n    \\\\n\\n   </symbol>\\n   \\\\n\\\\n\\n   <symbol id=\"facebook\" viewbox=\"0 0 16.5 17\">\\n    \\\\n\\n    <path d=\"M12.4,2.9h-1.6c-1.2,0-1.5,0.6-1.5,1.4v1.9h2.9l-0.4,3H9.3v7.6H6.3V9.2H3.7v-3h2.6V4.1c0-2.5,1.6-3.9,3.8-3.9\\\\n\\\\tc1.1,0,2,0.1,2.3,0.1V2.9z\">\\n    </path>\\n    \\\\n\\n   </symbol>\\n   \\\\n\\\\n\\n   <symbol id=\"instagram\" viewbox=\"0 0 16.5 17\">\\n    \\\\n\\\\t\\n    <path d=\"M8.2,1.9c2.2,0,2.4,0,3.3,0c0.8,0,1.2,0.2,1.5,0.3c0.4,0.1,0.6,0.3,0.9,0.6c0.3,0.3,0.5,0.6,0.6,0.9\\\\n\\\\t\\\\tc0.1,0.3,0.2,0.7,0.3,1.5c0,0.9,0,1.1,0,3.3s0,2.4,0,3.3c0,0.8-0.2,1.2-0.3,1.5c-0.1,0.4-0.3,0.6-0.6,0.9c-0.3,0.3-0.6,0.5-0.9,0.6\\\\n\\\\t\\\\tc-0.3,0.1-0.7,0.2-1.5,0.3c-0.9,0-1.1,0-3.3,0s-2.4,0-3.3,0c-0.8,0-1.2-0.2-1.5-0.3c-0.4-0.1-0.6-0.3-0.9-0.6\\\\n\\\\t\\\\tc-0.3-0.3-0.5-0.6-0.6-0.9c-0.1-0.3-0.2-0.7-0.3-1.5c0-0.9,0-1.1,0-3.3s0-2.4,0-3.3c0-0.8,0.2-1.2,0.3-1.5c0.1-0.4,0.3-0.6,0.6-0.9\\\\n\\\\t\\\\tc0.3-0.3,0.6-0.5,0.9-0.6C3.8,2.1,4.2,2,5,1.9C5.8,1.9,6.1,1.9,8.2,1.9 M8.2,0.4c-2.2,0-2.5,0-3.3,0c-0.9,0-1.4,0.2-2,0.4\\\\n\\\\t\\\\tC2.4,1,2,1.3,1.5,1.8C1.1,2.2,0.8,2.7,0.6,3.2c-0.2,0.5-0.3,1.1-0.4,2c0,0.9,0,1.1,0,3.3c0,2.2,0,2.5,0,3.3c0,0.9,0.2,1.4,0.4,2\\\\n\\\\t\\\\tc0.2,0.5,0.5,1,0.9,1.4C2,15.7,2.4,16,3,16.2c0.5,0.2,1.1,0.3,2,0.4c0.9,0,1.1,0,3.3,0s2.5,0,3.3,0c0.9,0,1.4-0.2,2-0.4\\\\n\\\\t\\\\tc0.5-0.2,1-0.5,1.4-0.9c0.4-0.4,0.7-0.9,0.9-1.4c0.2-0.5,0.3-1.1,0.4-2c0-0.9,0-1.1,0-3.3s0-2.5,0-3.3c0-0.9-0.2-1.4-0.4-2\\\\n\\\\t\\\\tc-0.2-0.5-0.5-1-0.9-1.4c-0.4-0.4-0.9-0.7-1.4-0.9c-0.5-0.2-1.1-0.3-2-0.4C10.7,0.4,10.4,0.4,8.2,0.4L8.2,0.4z\">\\n    </path>\\n    \\\\n\\\\t\\n    <path d=\"M8.2,4.3C6,4.3,4.1,6.2,4.1,8.5s1.9,4.2,4.2,4.2s4.2-1.9,4.2-4.2S10.5,4.3,8.2,4.3z M8.2,11.2c-1.5,0-2.7-1.2-2.7-2.7\\\\n\\\\t\\\\ts1.2-2.7,2.7-2.7s2.7,1.2,2.7,2.7S9.7,11.2,8.2,11.2z\">\\n    </path>\\n    \\\\n\\\\t\\n    <circle cx=\"12.6\" cy=\"4.2\" r=\"1\">\\n    </circle>\\n    \\\\n\\n   </symbol>\\n   \\\\n\\\\n\\n   <symbol id=\"linkedin\" viewbox=\"0 0 16.5 17\">\\n    \\\\n\\n    <path d=\"M2.4,4.6L2.4,4.6c-1.1,0-1.8-0.8-1.8-1.7c0-1,0.7-1.7,1.9-1.7c1.1,0,1.8,0.7,1.8,1.7C4.3,3.8,3.5,4.6,2.4,4.6z M4,15.9H0.7\\\\n\\\\tV5.9H4V15.9z M16,15.9h-3.3v-5.3c0-1.3-0.5-2.2-1.7-2.2c-0.9,0-1.5,0.6-1.7,1.2C9.2,9.7,9.2,10,9.2,10.3v5.6H5.9c0-9,0-9.9,0-9.9\\\\n\\\\th3.3v1.4h0c0.4-0.7,1.2-1.7,3-1.7c2.2,0,3.8,1.4,3.8,4.5V15.9z\">\\n    </path>\\n    \\\\n\\n   </symbol>\\n   \\\\n\\\\n\\n   <symbol id=\"flickr\" viewbox=\"0 0 16.5 17\">\\n    \\\\n\\n    <path d=\"M4.4,5.6c-1.6,0-2.9,1.3-2.9,2.9s1.3,2.9,2.9,2.9s2.9-1.3,2.9-2.9S6,5.6,4.4,5.6z M12.1,5.6c-1.6,0-2.9,1.3-2.9,2.9\\\\n\\\\ts1.3,2.9,2.9,2.9S15,10.1,15,8.5S13.7,5.6,12.1,5.6z\">\\n    </path>\\n    \\\\n\\n   </symbol>\\n   \\\\n\\\\n\\n   <symbol id=\"youtube\" viewbox=\"0 0 40 28.2\">\\n    \\\\n\\\\t\\n    <path d=\"M39.4,6.2c0,0-0.4-2.7-1.6-3.9c-1.5-1.6-3.2-1.6-4-1.7C28.3,0.2,20,0.2,20,0.2h0c0,0-8.3,0-13.8,0.4\\\\n\\\\t\\\\t\\\\tc-0.8,0.1-2.5,0.1-4,1.7C1,3.5,0.6,6.2,0.6,6.2s-0.4,3.2-0.4,6.4v3c0,3.2,0.4,6.4,0.4,6.4s0.4,2.7,1.6,3.9\\\\n\\\\t\\\\t\\\\tc1.5,1.6,3.5,1.5,4.4,1.7C9.7,27.9,20,28,20,28s8.3,0,13.8-0.4c0.8-0.1,2.5-0.1,4-1.7c1.2-1.2,1.6-3.9,1.6-3.9s0.4-3.2,0.4-6.4v-3\\\\n\\\\t\\\\t\\\\tC39.8,9.4,39.4,6.2,39.4,6.2z M15.9,19.2l0-11.1l10.7,5.6L15.9,19.2z\">\\n    </path>\\n    \\\\n\\n   </symbol>\\n   \\\\n\\\\n\\n   <symbol id=\"link-arrow\" viewbox=\"0 0 40.4 23.8\">\\n    \\\\n\\n    <path d=\"M39.7,10.6l-9.9-9.9c-0.7-0.7-1.7-0.7-2.4,0c-0.7,0.7-0.7,1.7,0,2.4l7,7H1.9c-0.9,0-1.7,0.8-1.7,1.7c0,0.9,0.8,1.7,1.7,1.7\\\\n\\\\th32.5l-7,7c-0.7,0.7-0.7,1.7,0,2.4c0.3,0.3,0.8,0.5,1.2,0.5c0.4,0,0.9-0.2,1.2-0.5l9.9-9.9C40.4,12.4,40.4,11.3,39.7,10.6z\">\\n    </path>\\n    \\\\n\\n   </symbol>\\n   \\\\n\\\\n\\n   <symbol id=\"video\" viewbox=\"0 0 82.9 82.7\">\\n    \\\\n\\\\t\\n    <path d=\"M56.2,43.8L34.8,56.2c-2,1.1-3.6,0.2-3.6-2.1l-0.1-25c0-2.3,1.6-3.2,3.5-2l21.6,12.6C58.2,40.8,58.2,42.6,56.2,43.8z\\\\n\\\\t\\\\t M62,77C42.3,88.4,17.1,81.6,5.8,61.9C-5.6,42.2,1.2,17,20.9,5.7C40.6-5.7,65.8,1.1,77.1,20.8C88.4,40.4,81.7,65.6,62,77z\\\\n\\\\t\\\\t M69.9,24.8C60.8,9,40.7,3.6,24.9,12.7c-15.8,9.1-21.2,29.2-12.1,45s29.2,21.2,45,12.1S79,40.6,69.9,24.8z\">\\n    </path>\\n    \\\\n\\n   </symbol>\\n   \\\\n\\\\n\\n   <symbol id=\"time\" viewbox=\"0 0 28.5 28.4\">\\n    \\\\n\\n    <path d=\"M14.3,28.3c-3.6,0-7.2-1.4-10-4.1c-5.5-5.5-5.5-14.5,0-20c5.5-5.5,14.5-5.5,20,0c5.5,5.5,5.5,14.5,0,20\\\\n\\\\tC21.5,26.9,17.9,28.3,14.3,28.3z M14.3,3.5c-2.7,0-5.5,1-7.5,3.1c-4.2,4.2-4.2,10.9,0,15.1s10.9,4.2,15.1,0c4.2-4.2,4.2-10.9,0-15.1\\\\n\\\\tC19.7,4.6,17,3.5,14.3,3.5z\">\\n    </path>\\n    \\\\n\\n    <path d=\"M15.7,16.2H9.5c-0.6,0-1-0.4-1-1s0.4-1,1-1h4.2V8.5c0-0.6,0.4-1,1-1s1,0.4,1,1V16.2z\">\\n    </path>\\n    \\\\n\\n   </symbol>\\n   \\\\n\\\\n\\n   <symbol id=\"location\" viewbox=\"0 0 32 48\">\\n    \\\\n\\\\t\\n    <path d=\"M30.6,21.7L19.5,45.3c-0.6,1.3-2,2.2-3.5,2.2s-2.9-0.8-3.5-2.2L1.3,21.7c-0.8-1.7-1-3.6-1-5.5c0-8.7,7-15.7,15.7-15.7\\\\n\\\\t\\\\ts15.7,7,15.7,15.7C31.6,18.1,31.4,20,30.6,21.7z M16,8.4c-4.3,0-7.8,3.5-7.8,7.8S11.7,24,16,24s7.8-3.5,7.8-7.8S20.3,8.4,16,8.4z\">\\n    </path>\\n    \\\\n\\n   </symbol>\\n   \\\\n\\\\n\\n   <symbol id=\"calendar\" viewbox=\"0 0 25 25\">\\n    \\\\n\\\\t\\n    <path d=\"M24,23.1c0,1-0.8,1.8-1.8,1.8H2.8c-1,0-1.8-0.8-1.8-1.8V5.4c0-1,0.8-1.8,1.8-1.8h1.8V2.4c0-1.2,1-2.2,2.2-2.2h0.9\\\\n\\\\t\\\\tc1.2,0,2.2,1,2.2,2.2v1.3h5.3V2.4c0-1.2,1-2.2,2.2-2.2h0.9c1.2,0,2.2,1,2.2,2.2v1.3h1.8c1,0,1.8,0.8,1.8,1.8V23.1z M6.8,12.9V9h-4\\\\n\\\\t\\\\tv4H6.8z M6.8,18.2v-4.4h-4v4.4H6.8z M6.8,23.1v-4h-4v4H6.8z M8.1,2.4c0-0.2-0.2-0.4-0.4-0.4H6.8c-0.2,0-0.4,0.2-0.4,0.4v4\\\\n\\\\t\\\\tc0,0.2,0.2,0.4,0.4,0.4h0.9c0.2,0,0.4-0.2,0.4-0.4V2.4z M12.1,12.9V9H7.6v4H12.1z M12.1,18.2v-4.4H7.6v4.4H12.1z M12.1,23.1v-4H7.6\\\\n\\\\t\\\\tv4H12.1z M17.4,12.9V9h-4.4v4H17.4z M17.4,18.2v-4.4h-4.4v4.4H17.4z M17.4,23.1v-4h-4.4v4H17.4z M18.7,2.4c0-0.2-0.2-0.4-0.4-0.4\\\\n\\\\t\\\\th-0.9c-0.2,0-0.4,0.2-0.4,0.4v4c0,0.2,0.2,0.4,0.4,0.4h0.9c0.2,0,0.4-0.2,0.4-0.4V2.4z M22.2,12.9V9h-4v4H22.2z M22.2,18.2v-4.4h-4\\\\n\\\\t\\\\tv4.4H22.2z M22.2,23.1v-4h-4v4H22.2z\">\\n    </path>\\n    \\\\n\\n   </symbol>\\n   \\\\n\\\\n\\n   <symbol id=\"academic-calendar\" viewbox=\"0 0 56.6 56.6\">\\n    \\\\n\\n    <path d=\"M53.9,0.8H2.7c-1.1,0-1.9,0.9-1.9,1.9v51.1c0,1.1,0.9,1.9,1.9,1.9h51.1c1.1,0,1.9-0.9,1.9-1.9V2.7\\\\n\\\\tC55.8,1.6,54.9,0.8,53.9,0.8z M45.4,10.1c0,1.5-1.2,2.7-2.7,2.7c-1.5,0-2.7-1.2-2.7-2.7s1.2-2.7,2.7-2.7\\\\n\\\\tC44.2,7.4,45.4,8.6,45.4,10.1z M16.5,10.1c0,1.5-1.2,2.7-2.7,2.7s-2.7-1.2-2.7-2.7s1.2-2.7,2.7-2.7S16.5,8.6,16.5,10.1z M40.5,49\\\\n\\\\tv-8.5H49L40.5,49z M38.6,36.6c-1.1,0-1.9,0.9-1.9,1.9v13.3h-32V17.9h47.3v18.8H38.6z\">\\n    </path>\\n    \\\\n\\n    <rect fill=\"none\" height=\"56.6\" width=\"56.6\" y=\"0\">\\n    </rect>\\n    \\\\n\\n   </symbol>\\n   \\\\n\\\\n\\n   <symbol id=\"person-contact\" viewbox=\"0 0 6000 6000\">\\n    \\\\n\\\\t\\\\t\\n    <path d=\"M956 5643 c-12 -313 -27 -617 -47 -943 -10 -179 -22 -406 -25 -505 l-7 -180 41 -46 c49 -55 79 -72 447 -242 675 -312 821 -381 837 -396 9 -9 41 -80 73 -159 57 -145 90 -266 77 -287 -4 -7 -38 -39 -77 -72 -270 -231 -442 -534 -507 -892 -29 -162 -29 -419 0 -581 94 -521 431 -944 876 -1099 120 -42 236 -61 376 -61 333 0 621 127 865 381 201 210 335 481 391 794 12 71 18 151 18 275 0 194 -15 303 -65 475 -39 132 -152 358 -232 465 -76 100 -221 242 -301 295 -70 47 -70 55 -15 225 45 138 64 175 113 217 56 50 664 349 867 428 148 57 346 164 405 218 l54 49 0 97 c0 53 -5 182 -10 286 -18 335 -41 903 -46 1145 -3 129 -7 245 -10 258 l-4 22 -2044 0 -2044 0 -6 -167z\">\\n    </path>\\n    \\\\n\\\\n\\n   </symbol>\\n   \\\\n\\\\n\\\\n\\n   <symbol id=\"link-out\" viewbox=\"0 0 25 25\">\\n    \\\\n\\n    <path d=\"M22.5,0.2H2.6c-1.3,0-2.3,1.1-2.3,2.3v19.9c0,1.3,1.1,2.3,2.3,2.3h19.9c1.3,0,2.3-1.1,2.3-2.3V2.5\\\\n\\\\tC24.8,1.2,23.8,0.2,22.5,0.2z M20,16.3c0,0.8-0.6,1.4-1.4,1.4s-1.4-0.6-1.4-1.4V9.9l-8.9,8.9c-0.3,0.3-0.6,0.4-1,0.4\\\\n\\\\tc-0.4,0-0.7-0.1-1-0.4c-0.5-0.5-0.5-1.4,0-2l8.9-8.9H8.8C8,7.9,7.3,7.3,7.3,6.5S8,5.1,8.8,5.1l10,0c0.1,0,0.2,0,0.4,0.1\\\\n\\\\tc0.3,0.1,0.6,0.4,0.8,0.8C19.9,6.1,20,6.3,20,6.5V16.3z\">\\n    </path>\\n    \\\\n\\n   </symbol>\\n   \\\\n\\\\n\\n   <symbol id=\"circle-arrow\" viewbox=\"0 0 88 88\">\\n    \\\\n\\\\t\\n    <path d=\"M44,0.5C20,0.5,0.5,20,0.5,44S20,87.5,44,87.5C68,87.5,87.5,68,87.5,44S68,0.5,44,0.5 M69.3,47.5L52.2,64.6\\\\n\\\\t\\\\tc-1,1-2.3,1.5-3.5,1.5c-1.3,0-2.6-0.5-3.5-1.5c-2-2-2-5.1,0-7.1l8.6-8.6H22.2c-2.8,0-5-2.2-5-5c0-2.8,2.2-5,5-5h31.5l-8.6-8.6\\\\n\\\\t\\\\tc-2-2-2-5.1,0-7.1c2-2,5.1-2,7.1,0l17.1,17.1c0.9,0.9,1.5,2.2,1.5,3.5C70.8,45.3,70.2,46.6,69.3,47.5\">\\n    </path>\\n    \\\\n\\n   </symbol>\\n   \\\\n\\\\n\\n   <symbol id=\"download\" viewbox=\"0 0 25 25\">\\n    \\\\n\\n    <g>\\n     \\\\n\\\\t\\n     <path d=\"M15.4,12.5l-1.3,1.1V8c0-0.9-0.7-1.6-1.6-1.6c-0.9,0-1.6,0.7-1.6,1.6v5.6l-1.3-1.1C9,11.9,8,12,7.4,12.7\\\\n\\\\t\\\\tc-0.6,0.7-0.5,1.6,0.2,2.2l3.9,3.3c0.3,0.2,0.7,0.4,1,0.4s0.7-0.1,1-0.4l3.9-3.3c0.7-0.6,0.7-1.5,0.2-2.2C17,12,16,11.9,15.4,12.5z\\\\n\\\\t\\\\t\">\\n     </path>\\n     \\\\n\\\\t\\n     <path d=\"M12.5,0.2C5.7,0.2,0.2,5.7,0.2,12.5s5.5,12.3,12.3,12.3c6.8,0,12.3-5.5,12.3-12.3S19.3,0.2,12.5,0.2z M12.5,21.7\\\\n\\\\t\\\\tc-5.1,0-9.2-4.1-9.2-9.2c0-5.1,4.1-9.2,9.2-9.2c5.1,0,9.2,4.1,9.2,9.2C21.7,17.6,17.6,21.7,12.5,21.7z\">\\n     </path>\\n     \\\\n\\n    </g>\\n    \\\\n\\n   </symbol>\\n   \\\\n\\\\n\\n   <symbol id=\"close\" viewbox=\"0 0 25 25\">\\n    \\\\n\\n    <path d=\"M13.9,12.6L24.3,2.2c0.4-0.4,0.4-1,0-1.4s-1-0.4-1.4,0L12.5,11.2L2.1,0.8c-0.4-0.4-1-0.4-1.4,0s-0.4,1,0,1.4l10.4,10.4\\\\n\\\\tL0.7,23c-0.4,0.4-0.4,1,0,1.4c0.2,0.2,0.5,0.3,0.7,0.3s0.5-0.1,0.7-0.3L12.5,14l10.4,10.4c0.2,0.2,0.5,0.3,0.7,0.3s0.5-0.1,0.7-0.3\\\\n\\\\tc0.4-0.4,0.4-1,0-1.4L13.9,12.6z\">\\n    </path>\\n    \\\\n\\n   </symbol>\\n   \\\\n\\\\n\\n   <symbol id=\"check\" viewbox=\"0 0 15.1 16.3\">\\n    \\\\n\\n    <path d=\"M3.8,16.2c-0.3,0-0.5-0.1-0.7-0.4l-2.8-4.1c-0.3-0.4-0.2-0.9,0.2-1.1c0.4-0.3,0.9-0.2,1.1,0.2l2.2,3.1\\\\n\\\\tl9.6-13.4c0.3-0.4,0.8-0.5,1.1-0.2c0.4,0.3,0.5,0.8,0.2,1.1L4.5,15.8C4.3,16,4.1,16.2,3.8,16.2z\" fill=\"#A31E22\">\\n    </path>\\n    \\\\n\\n   </symbol>\\n   \\\\n\\\\n\\n   <symbol id=\"nav-arrow\" viewbox=\"0 0 25 25\">\\n    \\\\n\\n    <path d=\"M12.5,24.7c6.7,0,12.2-5.5,12.2-12.2S19.2,0.3,12.5,0.3S0.3,5.8,0.3,12.5S5.8,24.7,12.5,24.7z M9.4,8.8\\\\n\\\\tc-0.6-0.6-0.6-1.6,0-2.3c0.3-0.3,0.7-0.5,1.1-0.5s0.8,0.2,1.1,0.5l4.8,4.8c0.3,0.3,0.5,0.7,0.5,1.1s-0.2,0.8-0.5,1.1l-4.8,4.8\\\\n\\\\tc-0.6,0.6-1.6,0.6-2.3,0c-0.6-0.6-0.6-1.6,0-2.3l3.7-3.7L9.4,8.8z\">\\n    </path>\\n    \\\\n\\n   </symbol>\\n   \\\\n\\\\n\\n   <symbol id=\"chevron\">\\n    \\\\n\\\\t\\n    <path d=\"M14.8,16.2L0.4,1.9c-0.4-0.4-0.4-1,0-1.4s1-0.4,1.4,0l12.9,13l13-13c0.4-0.4,1-0.4,1.4,0s0.4,1,0,1.4L14.8,16.2z\">\\n    </path>\\n    \\\\n\\n   </symbol>\\n   \\\\n\\\\n\\n   <symbol id=\"podcast\" viewbox=\"0 0 50 50\">\\n    \\\\n\\\\t\\n    <g>\\n     \\\\n\\\\t\\\\t\\n     <path d=\"M3,49.4c-1.4,0-2.4-1.1-2.4-2.4V17.5c0-1.4,1.1-2.4,2.4-2.4s2.4,1.1,2.4,2.4V47C5.4,48.3,4.3,49.4,3,49.4z\">\\n     </path>\\n     \\\\n\\\\t\\\\t\\n     <path d=\"M14,49.4c-1.4,0-2.4-1.1-2.4-2.4V26.7c0-1.4,1.1-2.4,2.4-2.4s2.4,1.1,2.4,2.4V47C16.4,48.3,15.3,49.4,14,49.4z\">\\n     </path>\\n     \\\\n\\\\t\\\\t\\n     <path d=\"M25,49.4c-1.4,0-2.4-1.1-2.4-2.4V2.8c0-1.4,1.1-2.4,2.4-2.4s2.4,1.1,2.4,2.4V47C27.4,48.3,26.4,49.4,25,49.4z\">\\n     </path>\\n     \\\\n\\\\t\\\\t\\n     <path d=\"M36,49.4c-1.4,0-2.4-1.1-2.4-2.4V12c0-1.4,1.1-2.4,2.4-2.4c1.4,0,2.4,1.1,2.4,2.4V47C38.5,48.3,37.4,49.4,36,49.4z\">\\n     </path>\\n     \\\\n\\\\t\\\\t\\n     <path d=\"M47,49.4c-1.4,0-2.4-1.1-2.4-2.4V28.6c0-1.4,1.1-2.4,2.4-2.4s2.4,1.1,2.4,2.4V47C49.5,48.3,48.4,49.4,47,49.4z\">\\n     </path>\\n     \\\\n\\\\t\\n    </g>\\n    \\\\n\\n   </symbol>\\n   \\\\n\\\\n\\n   <symbol id=\"share\" viewbox=\"0 0 69.1 85\">\\n    \\\\n\\\\t\\n    <path d=\"M56.3,25.3c6.8,0,12.3-5.5,12.3-12.3c0-6.8-5.5-12.3-12.3-12.3S44,6.1,44,12.9c0,1.5,0.3,3,0.8,4.3L21.9,34.1\\\\n\\\\t\\\\tc-2.3-2.5-5.5-4-9.1-4C6,30.1,0.5,35.6,0.5,42.4c0,6.8,5.5,12.3,12.3,12.3c3.5,0,6.8-1.6,9.1-4l22.8,17c-0.5,1.4-0.8,2.8-0.8,4.3\\\\n\\\\t\\\\tc0,6.8,5.5,12.3,12.3,12.3c6.8,0,12.3-5.5,12.3-12.3S63,59.7,56.2,59.7c-3.5,0-6.7,1.5-8.9,3.8l-22.9-17c0.5-1.3,0.7-2.7,0.7-4\\\\n\\\\t\\\\tc0-1.5-0.3-2.8-0.7-4l22.9-16.9C49.6,23.8,52.7,25.3,56.3,25.3\">\\n    </path>\\n    \\\\n\\n   </symbol>\\n   \\\\n\\\\n\\n   <symbol id=\"icon-grid\" viewbox=\"0 0 20 20\">\\n    \\\\n\\\\t\\n    <rect height=\"7.9\" width=\"7.9\" x=\"0.1\" y=\"0.1\">\\n    </rect>\\n    \\\\n\\\\t\\n    <rect height=\"7.9\" width=\"7.9\" x=\"12\" y=\"0.1\">\\n    </rect>\\n    \\\\n\\\\t\\n    <rect height=\"7.9\" width=\"7.9\" x=\"0.1\" y=\"12\">\\n    </rect>\\n    \\\\n\\\\t\\n    <rect height=\"7.9\" width=\"7.9\" x=\"12\" y=\"12\">\\n    </rect>\\n    \\\\n\\n   </symbol>\\n   \\\\n\\\\n\\n   <symbol id=\"icon-list\" viewbox=\"0 0 23 20\">\\n    \\\\n\\\\t\\n    <rect height=\"3.6\" width=\"15.9\" x=\"7\" y=\"0.1\">\\n    </rect>\\n    \\\\n\\\\t\\n    <rect height=\"3.6\" width=\"15.9\" x=\"7\" y=\"8.2\">\\n    </rect>\\n    \\\\n\\\\t\\n    <rect height=\"3.6\" width=\"15.9\" x=\"7\" y=\"16.3\">\\n    </rect>\\n    \\\\n\\\\t\\n    <rect height=\"3.6\" width=\"3.7\" x=\"0.1\" y=\"0.1\">\\n    </rect>\\n    \\\\n\\\\t\\n    <rect height=\"3.6\" width=\"3.7\" x=\"0.1\" y=\"8.2\">\\n    </rect>\\n    \\\\n\\\\t\\n    <rect height=\"3.6\" width=\"3.7\" x=\"0.1\" y=\"16.3\">\\n    </rect>\\n    \\\\n\\n   </symbol>\\n   \\\\n\\\\n\\n   <symbol id=\"eye\" viewbox=\"0 0 41 22\">\\n    \\\\n\\\\t\\n    <path d=\"M40.6,10.3c-0.3-0.4-7.4-9.9-20.1-9.9C7.8,0.3,0.7,9.9,0.4,10.3c-0.3,0.4-0.3,1,0,1.5c0.3,0.4,7.4,9.9,20.1,9.9\\\\n\\\\t\\\\tc12.7,0,19.8-9.5,20.1-9.9C40.9,11.3,40.9,10.7,40.6,10.3z M20.5,18.9c-4.4,0-7.9-3.6-7.9-7.9c0-4.4,3.6-7.9,7.9-7.9\\\\n\\\\t\\\\tc4.4,0,7.9,3.6,7.9,7.9C28.4,15.4,24.9,18.9,20.5,18.9z M3.1,11c1.3-1.4,4.5-4.7,9.4-6.6C11,6.2,10.1,8.5,10.1,11\\\\n\\\\t\\\\tc0,2.5,0.9,4.8,2.4,6.6C7.6,15.7,4.3,12.4,3.1,11z M28.6,17.6c1.5-1.8,2.4-4.1,2.4-6.6c0-2.5-0.9-4.8-2.4-6.6\\\\n\\\\t\\\\tc4.9,1.9,8.1,5.2,9.4,6.6C36.7,12.4,33.4,15.7,28.6,17.6z\">\\n    </path>\\n    \\\\n\\\\t\\n    <path d=\"M23.7,9.5c-1.2,0-2.1-0.9-2.1-2.1c0-0.6,0.3-1.2,0.7-1.6c-0.6-0.2-1.2-0.3-1.8-0.3C17.5,5.5,15,8,15,11\\\\n\\\\t\\\\tc0,3,2.5,5.5,5.5,5.5c3,0,5.5-2.5,5.5-5.5c0-0.9-0.2-1.7-0.6-2.4C25,9.1,24.4,9.5,23.7,9.5z\">\\n    </path>\\n    \\\\n\\n   </symbol>\\n   \\\\n\\\\n\\n   <symbol id=\"asterisk\" viewbox=\"0 0 12 12\">\\n    \\\\n\\\\t\\n    <path d=\"M10.9,8.3l-0.5,0.8c-0.2,0.4-0.8,0.6-1.2,0.3L7.4,8.4v2.2c0,0.5-0.4,0.9-0.9,0.9H5.5c-0.5,0-0.9-0.4-0.9-0.9V8.4L2.8,9.4\\\\n\\\\t\\\\tc-0.4,0.2-1,0.1-1.2-0.3L1.1,8.3C0.8,7.9,1,7.3,1.4,7.1L3.3,6L1.4,4.9C1,4.7,0.8,4.1,1.1,3.7l0.5-0.8c0.2-0.4,0.8-0.6,1.2-0.3\\\\n\\\\t\\\\tl1.9,1.1V1.5C4.6,1,5,0.6,5.5,0.6h0.9C7,0.6,7.4,1,7.4,1.5v2.2l1.9-1.1c0.4-0.2,1-0.1,1.2,0.3l0.5,0.8c0.2,0.4,0.1,1-0.3,1.2L8.7,6\\\\n\\\\t\\\\tl1.9,1.1C11,7.3,11.2,7.9,10.9,8.3z\">\\n    </path>\\n    \\\\n\\n   </symbol>\\n   \\\\n\\\\n\\n   <symbol id=\"plus\" viewbox=\"0 0 17 17\">\\n    \\\\n\\\\t\\n    <path d=\"M2.6,2.6c-3.3,3.3-3.3,8.5,0,11.8s8.5,3.3,11.8,0c3.3-3.3,3.3-8.5,0-11.8C11.2-0.7,5.9-0.7,2.6,2.6z M13.2,13.2\\\\n\\\\t\\\\t\\\\tc-2.6,2.6-6.8,2.6-9.4,0c-2.6-2.6-2.6-6.8,0-9.4c2.6-2.6,6.8-2.6,9.4,0C15.8,6.4,15.8,10.6,13.2,13.2z\">\\n    </path>\\n    \\\\n\\\\t\\n    <path d=\"M8.5,11.7c-0.3,0-0.5-0.2-0.5-0.5V5.7c0-0.3,0.2-0.5,0.5-0.5C8.8,5.2,9,5.5,9,5.7v5.5C9,11.5,8.8,11.7,8.5,11.7z\">\\n    </path>\\n    \\\\n\\\\t\\n    <path d=\"M11.3,9H5.8C5.5,9,5.3,8.8,5.3,8.5C5.3,8.2,5.5,8,5.8,8h5.5c0.3,0,0.5,0.2,0.5,0.5C11.8,8.8,11.5,9,11.3,9z\">\\n    </path>\\n    \\\\n\\n   </symbol>\\n   \\\\n\\\\n\\n   <symbol id=\"print\" viewbox=\"0 0 40 40\">\\n    \\\\n\\\\t\\n    <path d=\"M34.7,6.5h-3.3v-5c0-0.4-0.3-0.7-0.7-0.7H9.2c-0.4,0-0.7,0.3-0.7,0.7v5H5.3c-2.8,0-5,2.3-5,5v16.3c0,0.4,0.3,0.7,0.7,0.7\\\\n\\\\t\\\\th7.6v9.9c0,0.4,0.3,0.7,0.7,0.7h21.5c0.4,0,0.7-0.3,0.7-0.7v-9.9h7.6c0.4,0,0.7-0.3,0.7-0.7V11.6C39.8,8.8,37.5,6.5,34.7,6.5z\\\\n\\\\t\\\\t M10,2.2h20v4.3H10V2.2z M8.5,19.2H7.3v-0.7h1.2V19.2z M30,37.8H10V18.6h20V37.8z M32.7,18.6v0.7h-1.2v-0.7H32.7z M38.3,27.2h-6.8\\\\n\\\\t\\\\tv-6.5h1.9c0.4,0,0.7-0.3,0.7-0.7v-2.1c0-0.4-0.3-0.7-0.7-0.7h-2.7H9.2H6.6c-0.4,0-0.7,0.3-0.7,0.7V20c0,0.4,0.3,0.7,0.7,0.7h1.9\\\\n\\\\t\\\\tv6.5H1.7V11.6c0-2,1.6-3.6,3.6-3.6h29.5c2,0,3.6,1.6,3.6,3.6V27.2z\">\\n    </path>\\n    \\\\n\\\\t\\n    <circle cx=\"34.1\" cy=\"12.1\" r=\"1.3\">\\n    </circle>\\n    \\\\n\\\\t\\n    <path d=\"M27.2,21.2H12.8c-0.4,0-0.7,0.3-0.7,0.7s0.3,0.7,0.7,0.7h14.3c0.4,0,0.7-0.3,0.7-0.7S27.6,21.2,27.2,21.2z\">\\n    </path>\\n    \\\\n\\\\t\\n    <path d=\"M12.8,25.8h5c0.4,0,0.7-0.3,0.7-0.7s-0.3-0.7-0.7-0.7h-5c-0.4,0-0.7,0.3-0.7,0.7S12.4,25.8,12.8,25.8z\">\\n    </path>\\n    \\\\n\\\\t\\n    <path d=\"M26.8,27.5h-14c-0.4,0-0.7,0.3-0.7,0.7s0.3,0.7,0.7,0.7h14c0.4,0,0.7-0.3,0.7-0.7S27.2,27.5,26.8,27.5z\">\\n    </path>\\n    \\\\n\\\\t\\n    <path d=\"M25,30.7H12.8c-0.4,0-0.7,0.3-0.7,0.7s0.3,0.7,0.7,0.7H25c0.4,0,0.7-0.3,0.7-0.7S25.5,30.7,25,30.7z\">\\n    </path>\\n    \\\\n\\\\t\\n    <path d=\"M15.6,33.9h-2.8c-0.4,0-0.7,0.3-0.7,0.7s0.3,0.7,0.7,0.7h2.8c0.4,0,0.7-0.3,0.7-0.7S16,33.9,15.6,33.9z\">\\n    </path>\\n    \\\\n\\\\t\\n    <path d=\"M23.8,12.2h-7.6c-0.4,0-0.7,0.3-0.7,0.7s0.3,0.7,0.7,0.7h7.6c0.4,0,0.7-0.3,0.7-0.7S24.2,12.2,23.8,12.2z\">\\n    </path>\\n    \\\\n\\n   </symbol>\\n   \\\\n\\\\n\\n   <symbol id=\"urgent-alert\" viewbox=\"0 0 40 40\">\\n    \\\\n\\\\t\\n    <path d=\"M20.4,37.2c-0.5-0.5-1-1.1-1.5-1.7c-0.5,0.4-1.1,0.6-1.7,0.6c-1.6,0-3-1.6-3.1-3h3.4c-0.3-0.9-0.6-1.8-0.8-2.8H3.3v-2.4\\\\n\\\\t\\\\tl3.4-3.5c0-3.3,0-6.2,0-6.8c0-5.1,3.4-9.4,8.2-10.4c0-0.5,0-0.9,0-1c0-1.2,1-2.3,2.2-2.3s2.2,1.1,2.2,2.3c0,0.1,0,0.5,0,1\\\\n\\\\t\\\\tc4.4,0.9,7.6,4.5,8.1,9c0.5,0,1-0.1,1.6-0.1c0.4,0,0.9,0,1.3,0c-0.5-5-3.7-9.3-8.3-11.1c-0.5-2.3-2.5-4-4.9-4c-2.4,0-4.4,1.7-4.9,4\\\\n\\\\t\\\\tc-5,2-8.4,6.8-8.4,12.5v5.7l-3,3.1c-0.2,0.3-0.4,0.6-0.4,1v4.3c0,0.8,0.6,1.4,1.4,1.4h9.4c0,3.1,2.7,5.8,5.9,5.8\\\\n\\\\t\\\\tc1.3,0,2.6-0.5,3.6-1.3C20.7,37.5,20.5,37.4,20.4,37.2z\">\\n    </path>\\n    \\\\n\\\\t\\n    <path d=\"M29.3,38.9c-2.8,0-5.4-1.1-7.4-3.1c-4.1-4.1-4.1-10.7,0-14.7c2-2,4.6-3.1,7.4-3.1s5.4,1.1,7.4,3.1c4.1,4.1,4.1,10.7,0,14.7\\\\n\\\\t\\\\tC34.7,37.9,32.1,38.9,29.3,38.9z M29.3,20.9c-2,0-3.9,0.8-5.3,2.2c-3,3-3,7.8,0,10.7c1.4,1.4,3.3,2.2,5.3,2.2s3.9-0.8,5.3-2.2\\\\n\\\\t\\\\tc3-3,3-7.8,0-10.7C33.2,21.7,31.3,20.9,29.3,20.9z\">\\n    </path>\\n    \\\\n\\\\t\\n    <g>\\n     \\\\n\\\\t\\\\t\\n     <path d=\"M30.2,29.5h-1.8c-0.3,0-0.5-0.2-0.5-0.5v-5c0-0.3,0.2-0.5,0.5-0.5h1.8c0.3,0,0.5,0.2,0.5,0.5v5\\\\n\\\\t\\\\t\\\\tC30.7,29.3,30.5,29.5,30.2,29.5z\">\\n     </path>\\n     \\\\n\\\\t\\\\t\\n     <path d=\"M30.2,33.5h-1.8c-0.3,0-0.5-0.2-0.5-0.5v-1.5c0-0.3,0.2-0.5,0.5-0.5h1.8c0.3,0,0.5,0.2,0.5,0.5V33\\\\n\\\\t\\\\t\\\\tC30.7,33.3,30.5,33.5,30.2,33.5z\">\\n     </path>\\n     \\\\n\\\\t\\n    </g>\\n    \\\\n\\n   </symbol>\\n   \\\\n\\\\n\\n   <symbol id=\"logo-art-sci\" viewbox=\"0 0 408.2 64\">\\n    \\\\n\\n    <g>\\n     \\\\n\\\\t\\\\t\\n     <g>\\n      \\\\n\\\\t\\\\t\\\\t\\n      <g>\\n       \\\\n\\\\t\\\\t\\\\t\\\\t\\n       <line x1=\"37.3\" x2=\"407.4\" y1=\"40.2\" y2=\"40.2\">\\n       </line>\\n       \\\\n\\\\t\\\\t\\\\t\\\\t\\n       <rect height=\"0.9\" width=\"370.1\" x=\"37.3\" y=\"39.8\">\\n       </rect>\\n       \\\\n\\\\t\\\\t\\\\t\\n      </g>\\n      \\\\n\\\\t\\\\t\\\\t\\n      <g>\\n       \\\\n\\\\t\\\\t\\\\t\\\\t\\n       <path d=\"M295.3,10.6c0.4,0,1.3-1.5,1.3-2c0-0.5-0.9-2-1.3-2c-0.4,0-1.3,1.6-1.3,2S294.9,10.6,295.3,10.6z\">\\n       </path>\\n       \\\\n\\\\t\\\\t\\\\t\\\\t\\n       <path d=\"M312.8,25.9v-6.4c0-3-1-7.3-5.3-7.3c-3.2,0-4.8,3-4.8,2.6v-2.2c0-0.4-0.2-0.6-0.4-0.6\\\\n\\\\t\\\\t\\\\t\\\\t\\\\tc-0.8,0-1.3,1.3-3.9,2.1c-0.2,0-0.6,0-0.7,0.3c0,0.8,2.6-1.1,2.5,2.1V26c0,1.8-0.9,2-1.5,2.1c0,0-0.1,0-0.1,0\\\\n\\\\t\\\\t\\\\t\\\\t\\\\tc-0.7,0-2.1-0.3-2.1-1.7v-14c0-0.4-0.2-0.6-0.4-0.6c-0.8,0-1.2,1.4-3.3,2.1c-0.2,0-0.5,0.1-0.5,0.3c0,0.8,1.9-0.8,1.8,2.1v9.2\\\\n\\\\t\\\\t\\\\t\\\\t\\\\tc0.1,2.4-1.2,2.6-1.9,2.6c-1.1,0-0.8,0.1-0.8,0.5c0,0.4,0.7,0.4,1.7,0.4c0.4,0,1.3-0.1,2.3-0.1c1.3,0,2.4,0.2,3.1,0.2\\\\n\\\\t\\\\t\\\\t\\\\t\\\\tc0.4,0,1.5-0.2,3.2-0.2c1.9,0,2.6,0.2,3.1,0.2c0.5,0,1.1-0.2,0.7-0.5c-0.5-0.5-2.9,0.1-2.9-2.6v-9c0-0.6,1.1-3,3.9-3\\\\n\\\\t\\\\t\\\\t\\\\t\\\\tc2.7,0,3.8,2.9,3.8,4.9V26c0,2.9-1,2-1.4,2.5c-0.2,0.3,0.2,0.5,0.6,0.5c0.4,0,1.1-0.2,2.4-0.2c1.6,0,2.3,0.1,2.7,0.1\\\\n\\\\t\\\\t\\\\t\\\\t\\\\tc0.3,0,0.9-0.3,0.6-0.5C314.4,27.8,312.8,28.8,312.8,25.9z\">\\n       </path>\\n       \\\\n\\\\t\\\\t\\\\t\\\\t\\n       <path d=\"M62.8,3.3c0.5-0.1,0.7-0.2,0.7-0.2c0-0.3-0.1-0.4-0.5-0.4c-0.8,0-1.3,0.1-2.1,0.1\\\\n\\\\t\\\\t\\\\t\\\\t\\\\tc-0.9,0-1.6-0.1-2.3-0.1c-0.4,0-0.4,0.1-0.4,0.4c0,0.3,0.8,0.1,1.3,1.1c0.3,0.5,0.2,1.7-0.1,2.4l-6.3,17.4l-2.7-7.7l-1.1-2.8\\\\n\\\\t\\\\t\\\\t\\\\t\\\\tc0,0-0.2,0.1,0.6-2.3l1.5-4.5c0.7-2.2,1.5-3.3,2.4-3.4c1.2,0,1.2-0.7,0.3-0.7c-0.9,0-1.4,0.1-2.2,0.1c-0.8,0-1.3-0.1-2.1-0.1\\\\n\\\\t\\\\t\\\\t\\\\t\\\\tc-0.3,0-0.7,0.1-0.7,0.4c0,0.3,0.5,0.2,0.9,0.4c0.6,0.3,1,1.6,0.6,2.9L48.6,12l-2-5.2c-0.4-1-0.9-3.2,0-3.4\\\\n\\\\t\\\\t\\\\t\\\\t\\\\tc0.9-0.2,0.8-0.7,0.2-0.7c-1.1,0-1.7,0.1-2.7,0.1c-1.2,0-2-0.1-3.1-0.1c-0.2,0-0.7,0-0.5,0.5c0.1,0.3,0.6,0.2,1,0.4\\\\n\\\\t\\\\t\\\\t\\\\t\\\\tc1.3,0.9,1.6,2,2,3.2l2.9,8.2c0.5,1.5,0.6,0.9,0.1,2.2l-2.5,7L37.8,6.2C37.3,4.9,37,4,38.1,3.5c0.5-0.2,0.6-0.3,0.7-0.4\\\\n\\\\t\\\\t\\\\t\\\\t\\\\tc0.1-0.1,0.1-0.4-0.6-0.4c-1.1,0-1.8,0.1-2.9,0.1c-1.2,0-2-0.1-3.1-0.1c-0.4,0-0.4,0.2-0.4,0.4c0,0.4,0.9,0.1,1.7,1\\\\n\\\\t\\\\t\\\\t\\\\t\\\\tc0.4,0.5,1.3,2.1,1.5,2.7l7.5,21.7c0.1,0.3,0.2,1,0.6,1c0.3,0,0.4-0.7,0.5-1l4-10.9l3.9,10.3c0.2,0.4,0.4,1.5,0.8,1.5\\\\n\\\\t\\\\t\\\\t\\\\t\\\\tc0.3,0,0.5-0.5,0.6-1.1l7.5-21.4C60.9,5.4,61.6,3.5,62.8,3.3z\">\\n       </path>\\n       \\\\n\\\\t\\\\t\\\\t\\\\t\\n       <path d=\"M145.7,11.8c-4.1,0-7.3,4.2-7.3,9c0,2.5,0.7,4.4,1.8,5.9c-0.4,0.3-1.2,0.9-2.7,0.9\\\\n\\\\t\\\\t\\\\t\\\\t\\\\tc-1.4,0-2.1-0.8-2.2-2.5V14.5c0,0,4.1,0,4.3,0c0.3,0,0.8-1.8,0.8-1.9c0-0.2,0.1-0.4,0.2-0.6c0.1-0.3-0.2-0.4-0.5,0\\\\n\\\\t\\\\t\\\\t\\\\t\\\\tc-0.2,0.2-0.4,0.7-1.3,0.7h-3.6c0-3.1,0-4.4-0.4-4.4c-0.5,0-0.4,0.1-0.8,1.5c-0.6,1.8-2.3,2.8-3.3,3.4c-0.5,0.1-1,0.1-1.6,0\\\\n\\\\t\\\\t\\\\t\\\\t\\\\tc-0.9-0.2-2-1.3-4.8-1.3c-3,0-5.6,2.5-5.6,5.8c0,1.8,0.8,3.5,2.2,4.4c-0.3,0.2-1.9,1.6-1.7,3.2c0,0,0,1.7,1.3,2.3\\\\n\\\\t\\\\t\\\\t\\\\t\\\\tc-0.4,0.2-0.8,0.4-1.2,0.8c-0.9-0.3-2.2-0.1-2.2-2.4v-6.4c0-3-1-7.3-5.3-7.3c-3.2,0-4.8,3-4.8,2.5v-2.2c0-0.4-0.2-0.6-0.4-0.6\\\\n\\\\t\\\\t\\\\t\\\\t\\\\tc-0.8,0-0.9,1.3-3.7,2c-0.2,0-0.5,0.1-0.6,0.4c0,0.8,2.2-0.9,2.2,2.1V26c0,2.1-1.7,2.1-1.9,2.1c-0.1,0-0.2,0-0.4,0\\\\n\\\\t\\\\t\\\\t\\\\t\\\\tc-0.7-0.1-1.9-0.4-1.9-1.7v-14c0-0.4-0.2-0.6-0.4-0.6c-0.8,0-1.2,1.4-3.3,2.1c-0.2,0-0.5,0.1-0.5,0.3c0,0.8,1.9-0.8,1.8,2.1v9.2\\\\n\\\\t\\\\t\\\\t\\\\t\\\\tc0.1,2.3-1.1,2.6-1.8,2.6c-0.9-0.1-1.5-0.5-1.5-1.8v-6.5c0-3.4-1.3-7.7-5.5-7.7c-1.9,0-3.5,1-4.7,2.4V3.3c0-0.4-0.2-0.6-0.4-0.6\\\\n\\\\t\\\\t\\\\t\\\\t\\\\tc-0.5,0-1.4,1.5-3.7,2.1c-0.2,0-0.8,0.1-0.8,0.3c0,0.8,2.5-0.4,2.5,2.1v19.1c0,1.9-1.6,1.7-1.9,2.3C79.8,28.9,80,29,80.2,29\\\\n\\\\t\\\\t\\\\t\\\\t\\\\tc0.5,0,2-0.2,3-0.2c1,0,2.7,0.2,3.3,0.2c0.4,0,0.6-0.1,0.6-0.5c-0.3-0.7-2.9,0.4-2.9-3v-8.2c0-2,2.4-3.5,3.8-3.5\\\\n\\\\t\\\\t\\\\t\\\\t\\\\tc1.1,0,4,0.9,4,5.7v7.1c0,1.4-1.5,1.6-1.6,2c0,0.3,0.2,0.4,0.5,0.4c0.4,0,1.4-0.2,2.7-0.2c0.7,0,1.4,0,1.9,0.1\\\\n\\\\t\\\\t\\\\t\\\\t\\\\tc0.3,0.1,0.7,0.1,1.2,0.1c0.4,0,1.3-0.1,2.3-0.1c1,0,1.9,0.1,2.5,0.1c0.1,0,0.3,0,0.4,0c0,0,0.1,0,0.1,0c0,0,0,0,0,0\\\\n\\\\t\\\\t\\\\t\\\\t\\\\tc0.4,0,0.8,0,0.9,0c0.4,0,1.1-0.2,2.8-0.2c1.9,0,2.6,0.2,3.1,0.2c0.5,0,1.1-0.2,0.7-0.5c-0.5-0.5-2.9,0.1-2.9-2.6v-9\\\\n\\\\t\\\\t\\\\t\\\\t\\\\tc0-0.6,1.1-3,3.9-3c2.7,0,3.8,2.9,3.8,4.9V26c0,2.5-1,2-1.4,2.5c-0.2,0.3,0.2,0.5,0.6,0.5c0.4,0,1.1-0.2,2.4-0.2\\\\n\\\\t\\\\t\\\\t\\\\t\\\\tc1.2,0,1.9,0.1,2.4,0.1c-0.4,0.5-0.6,1.1-0.6,1.8c-0.2,3.2,3.7,4.3,7,4.3c6.5-0.1,8.3-4.6,7-7c-1.4-2.5-4.4-2.4-7.2-2.4\\\\n\\\\t\\\\t\\\\t\\\\t\\\\tc-5.3,0-4.3-3.3-2.1-3.2c0.5,0,0.3,0.2,2,0.2c3.1,0,6-2.1,5.9-5.5c0-0.3,0.1-1.3-0.7-2.7c1.4,0,0.9,0,3.1,0l0,9.7\\\\n\\\\t\\\\t\\\\t\\\\t\\\\tc0,4.4,2.1,5.1,3.6,5.1c2.2,0,3.8-1.5,4.1-2.1c1.3,1.4,3.1,2.1,5.2,2.1c4,0,7.1-3.7,7.1-8.6C152.8,13.3,148.2,11.8,145.7,11.8z\\\\n\\\\t\\\\t\\\\t\\\\t\\\\t M121.9,27.8c0.3,0,0.3,0.1,3.3,0.2c3.1,0.1,4.2,1,4.4,1.8c0.3,1.4-0.7,4.5-5.1,4.2c-2.8-0.2-3.6-1.5-3.8-1.8\\\\n\\\\t\\\\t\\\\t\\\\t\\\\tC119.7,30.7,120.5,27.9,121.9,27.8z M124.5,22c-2.6,0-3.5-2.5-3.5-4.9c0-2.5,0.7-4.5,3.4-4.5c2.7,0,3.7,2.7,3.7,5.1\\\\n\\\\t\\\\t\\\\t\\\\t\\\\tC128.1,20.1,127,22,124.5,22z M146,28.1c-3.8,0-5.3-4.8-5.3-8.6c0-3.4,1.3-6.5,4.5-6.5c3.9,0,5.3,4.2,5.3,8.2\\\\n\\\\t\\\\t\\\\t\\\\t\\\\tC150.5,26.1,148.8,28.1,146,28.1z\">\\n       </path>\\n       \\\\n\\\\t\\\\t\\\\t\\\\t\\n       <path d=\"M166.9,25.9v-6.4c0-3-1-7.3-5.3-7.3c-3.2,0-4.8,3-4.8,2.6v-2.2c0-0.4-0.2-0.6-0.4-0.6\\\\n\\\\t\\\\t\\\\t\\\\t\\\\tc-0.8,0-1.3,1.3-3.9,2.1c-0.2,0-0.6,0-0.7,0.3c0,0.8,2.6-1.1,2.5,2.1V26c0,2.5-1.7,1.9-2.1,2.6c-0.2,0.3,0.3,0.4,0.7,0.4\\\\n\\\\t\\\\t\\\\t\\\\t\\\\tc0.4,0,1-0.2,2.8-0.2c1.9,0,2.6,0.2,3.1,0.2c0.5,0,1.1-0.2,0.7-0.5c-0.5-0.5-2.9,0.1-2.9-2.6v-9c0-0.6,1.1-3,3.9-3\\\\n\\\\t\\\\t\\\\t\\\\t\\\\tc2.7,0,3.8,2.9,3.8,4.9V26c0,2.9-1,2-1.4,2.5c-0.2,0.3,0.2,0.5,0.6,0.5c0.4,0,1.1-0.2,2.4-0.2c1.6,0,2.3,0.1,2.7,0.1\\\\n\\\\t\\\\t\\\\t\\\\t\\\\tc0.3,0,0.9-0.3,0.6-0.5C168.5,27.8,166.9,28.8,166.9,25.9z\">\\n       </path>\\n       \\\\n\\\\t\\\\t\\\\t\\\\t\\n       <path d=\"M98.9,10.6c0.4,0,1.3-1.5,1.3-2c0-0.5-0.9-2-1.3-2c-0.4,0-1.3,1.6-1.3,2S98.5,10.6,98.9,10.6z\">\\n       </path>\\n       \\\\n\\\\t\\\\t\\\\t\\\\t\\n       <path d=\"M77,19.4c-0.6-0.3-1.6-0.9-2.1-1.1c-2.1-1.1-2.9-1.9-2.9-2.9c-0.1-1.8,1.5-2.8,2.8-2.6\\\\n\\\\t\\\\t\\\\t\\\\t\\\\tc3.2-0.1,3.6,3.5,4,3.5c0.5,0,0.4-0.5,0.4-1.5c0-0.3,0-1.6-0.2-1.9c-0.4-0.6-2.7-0.9-3.2-0.9c-0.1,0-0.7,0-0.8,0\\\\n\\\\t\\\\t\\\\t\\\\t\\\\tc-0.2,0-0.4,0-0.4,0c-2.3,0-4.4,1.4-4.4,4.5c0.1,2.8,3.3,4.4,5.1,5.4c1.3,0.7,2.9,1.5,2.8,3.2c0,2-1.6,3.4-3.3,3.3\\\\n\\\\t\\\\t\\\\t\\\\t\\\\tc-4-0.1-3.4-5.1-4.2-5.1c-0.5,0-0.4,1.3-0.4,1.9c0,0.6,0,1.2,0,1.7c-0.1,0.5-0.3,0.9-0.7,0.9c-1.6,0.1-1.2-2.4-1.2-3.7V16\\\\n\\\\t\\\\t\\\\t\\\\t\\\\tc-0.1-2.5-2-4.1-4.8-4.1c-3.9,0-6.7,4.8-5.4,6.3c0.3,0.4,1.6-1,1.7-1.1C60,17,60,16.9,60,16.9c0-1.6,1.2-3.7,3-3.9\\\\n\\\\t\\\\t\\\\t\\\\t\\\\tc2-0.2,3,1.3,3,3.4V19c-7.7,1.5-8.8,4.1-8.8,6.2c0,2.8,2,4,4.1,4c1.8,0,3.6-0.9,5-2.3c0.4,1.3,1.3,2.1,2.6,2\\\\n\\\\t\\\\t\\\\t\\\\t\\\\tc0.4,0,0.5,0.1,1.9-0.5c0.5-0.1,0.4-0.1,1,0c0.7,0.2,1.7,0.7,3.4,0.7c2.6,0,4.9-2.3,4.9-5.3C80,22.1,79.5,21,77,19.4z\\\\n\\\\t\\\\t\\\\t\\\\t\\\\t M66.3,24.9c0,2.1-2.1,3.2-3.3,3.2c-1.7,0-3-1.1-3-3.4c0-3.5,4.2-4.1,6.3-4.6V24.9z\">\\n       </path>\\n       \\\\n\\\\t\\\\t\\\\t\\\\t\\n       <path d=\"M345,25.2c-0.4,0-1.4,1.6-1.4,2.1c0,0.4,1,2,1.4,2c0.4,0,1.4-1.6,1.4-2C346.3,26.7,345.4,25.2,345,25.2z\\\\n\\\\t\\\\t\\\\t\\\\t\\\\t\">\\n       </path>\\n       \\\\n\\\\t\\\\t\\\\t\\\\t\\n       <path d=\"M387.7,26.6V12.8c0-0.8-0.4-1-0.6-1c-0.5,0-0.8,0.1-1.1,0.2c-0.3,0.1-0.7,0.3-1.6,0.3\\\\n\\\\t\\\\t\\\\t\\\\t\\\\tc-0.2,0-1-0.1-1,0.3c0.1,0.5,2,0.2,2,1.6v9.9c-0.2,1.7-1.6,3.6-3.4,3.6c-0.4,0-3-0.3-3-4.6V12.8c0-0.8-0.4-1-0.6-1\\\\n\\\\t\\\\t\\\\t\\\\t\\\\tc-0.5,0-0.8,0.1-1.1,0.2c-0.3,0.1-0.8,0.3-1.7,0.2c-0.5,0-1-0.1-0.9,0.4c0.1,0.4,2,0,2,1.6v9.5c0,3.5,2,5.5,4.5,5.5\\\\n\\\\t\\\\t\\\\t\\\\t\\\\tc1.6,0,3.2-0.4,4.1-2.3h0.1v1.7c0,0.2,0,0.6,0.3,0.6c0.5,0,0.7-0.4,1.1-0.5c0.4-0.1,0.5-0.4,1.6-0.5c0.5,0,1-0.3,1-0.6\\\\n\\\\t\\\\t\\\\t\\\\t\\\\tC389.3,26.9,387.7,27.6,387.7,26.6z\">\\n       </path>\\n       \\\\n\\\\t\\\\t\\\\t\\\\t\\n       <path d=\"M368.3,11.8c-4.1,0-7.3,4.2-7.3,9c0,2.2,0.5,4,1.4,5.4c-1,0.7-2.8,1.4-6.3,1.4c-2.7,0-2.4-0.9-2.4-3.2\\\\n\\\\t\\\\t\\\\t\\\\t\\\\tV6.1c0-3.4,2.5-2.4,2.6-3c0-0.4-0.4-0.3-0.8-0.3c-0.5,0-1.4,0.2-3.2,0.2c-1.6,0-3-0.1-3.6-0.1c-0.4,0-0.8,0.1-0.7,0.4\\\\n\\\\t\\\\t\\\\t\\\\t\\\\tc0.3,0.7,2.7,0.1,2.7,2.1v19.1c0,1.8,0.3,3-0.6,3.5c-1,0.6-2.2,0.7-2.1,1.1c0.1,0.3,0.6,0.3,0.9,0.3c1.3,0,3.1-0.2,4.4-0.2\\\\n\\\\t\\\\t\\\\t\\\\t\\\\tc2.4-0.1,4.9,0.2,7.3,0.2c1.4,0,1.8-0.3,2.8-1.7c0,0,0,0,0-0.1c1.3,1.2,3,1.8,4.9,1.8c4,0,7.1-3.7,7.1-8.6\\\\n\\\\t\\\\t\\\\t\\\\t\\\\tC375.4,13.3,370.8,11.8,368.3,11.8z M368.6,28.1c-3.8,0-5.3-4.8-5.3-8.6c0-3.4,1.3-6.5,4.5-6.5c3.9,0,5.3,4.2,5.3,8.2\\\\n\\\\t\\\\t\\\\t\\\\t\\\\tC373.1,26.1,371.4,28.1,368.6,28.1z\">\\n       </path>\\n       \\\\n\\\\t\\\\t\\\\t\\\\t\\n       <path d=\"M328,14.8c-0.9-0.5-2.3-1.3-3-1.7c-3-1.7-4.2-2.9-4.3-4.5c-0.1-2.8,2.6-4.5,4.5-4.2\\\\n\\\\t\\\\t\\\\t\\\\t\\\\tc2.5,0,4.5,1.5,5.4,4.7c0.1,0.3,0.4,1.1,0.7,1.1c0.3,0,0.3-0.3,0.3-0.6l-0.4-5.1c0-0.4-0.2-0.5-0.3-0.5c-0.3,0-0.5,0.4-0.7,0.4\\\\n\\\\t\\\\t\\\\t\\\\t\\\\tc-0.4,0-1.4-1.4-4.8-1.4c-0.2,0-0.5,0-0.5,0c-3.3-0.1-6.5,2.2-6.4,6.8c0.1,4.3,4.9,6.7,7.5,8.3c1.9,1.1,3.9,3,3.8,5\\\\n\\\\t\\\\t\\\\t\\\\t\\\\tc-0.1,3.1-2.1,5.2-4.5,5c-5.8-0.1-5-7.8-6.1-7.8c-0.7,0-0.6,1.9-0.6,2.9c0,2.4-0.1,4.4,0.2,4.8c0.1,0.1,0.4,0.1,0.9,0.1\\\\n\\\\t\\\\t\\\\t\\\\t\\\\tc1.1,0,2.5,1.3,5.9,1.3c3.7,0.1,6.8-3.4,6.8-7.9C332.4,18.9,331.7,17.2,328,14.8z\">\\n       </path>\\n       \\\\n\\\\t\\\\t\\\\t\\\\t\\n       <path d=\"M393.5,10.6c0.4,0,1.3-1.5,1.3-2c0-0.5-0.9-2-1.3-2c-0.4,0-1.3,1.6-1.3,2S393.1,10.6,393.5,10.6z\">\\n       </path>\\n       \\\\n\\\\t\\\\t\\\\t\\\\t\\n       <path d=\"M396.8,28.2c-0.7,0-2.1-0.3-2.1-1.7v-14c0-0.4-0.2-0.6-0.4-0.6c-0.8,0-1.2,1.4-3.3,2.1\\\\n\\\\t\\\\t\\\\t\\\\t\\\\tc-0.2,0-0.5,0.1-0.5,0.3c0,0.8,1.9-0.8,1.8,2.1v9.2c0.1,2.4-1.2,2.6-1.9,2.6c-1.1,0-0.8,0.1-0.8,0.5c0,0.4,0.7,0.4,1.7,0.4\\\\n\\\\t\\\\t\\\\t\\\\t\\\\tc0.4,0,1.3-0.1,2.3-0.1c1.3,0,2.4,0.2,3,0.2C397.2,29,397.7,28,396.8,28.2z\">\\n       </path>\\n       \\\\n\\\\t\\\\t\\\\t\\\\t\\n       <path d=\"M404.4,19.4c-0.6-0.3-1.6-0.9-2.1-1.1c-2.1-1.1-2.9-1.9-2.9-2.9c-0.1-1.8,1.5-2.8,2.8-2.6\\\\n\\\\t\\\\t\\\\t\\\\t\\\\tc3.2-0.1,3.6,3.5,4,3.5c0.5,0,0.4-0.5,0.4-1.5c0-0.3,0-1.6-0.2-1.9c-0.4-0.6-2.7-0.9-3.2-0.9c-0.1,0-0.7,0-0.8,0\\\\n\\\\t\\\\t\\\\t\\\\t\\\\tc-0.2,0-0.4,0-0.4,0c-2.3,0-4.4,1.4-4.4,4.5c0.1,2.8,3.3,4.4,5.1,5.4c1.3,0.7,2.9,1.5,2.8,3.2c0,2-1.6,3.4-3.3,3.3\\\\n\\\\t\\\\t\\\\t\\\\t\\\\tc-4-0.1-3.4-5.1-4.2-5.1c-0.5,0-0.4,1.3-0.4,1.9c0,1.6-0.1,2.9,0.1,3.1c0.1,0.1,0.3,0,0.6,0c0.8,0,1.7,0.9,4,0.9\\\\n\\\\t\\\\t\\\\t\\\\t\\\\tc2.6,0,4.9-2.3,4.9-5.3C407.4,22.1,406.9,21,404.4,19.4z\">\\n       </path>\\n       \\\\n\\\\t\\\\t\\\\t\\\\t\\n       <path d=\"M342.7,26.6c-0.3,0.2-1.1,1-2.9,1c-1.4,0-2.1-0.8-2.2-2.5V13.9c0,0,4.1,0,4.3,0c0.3,0,0.8-1.8,0.8-1.9\\\\n\\\\t\\\\t\\\\t\\\\t\\\\tc0-0.2,0.1-0.4,0.2-0.6c0.1-0.3-0.2-0.4-0.5,0c-0.2,0.2-0.4,0.7-1.3,0.7h-3.6c0-3,0-3.8-0.4-3.8c-0.5,0-0.4,0.1-0.8,1.5\\\\n\\\\t\\\\t\\\\t\\\\t\\\\tc-0.7,2.3-3.2,3.3-4,3.8c-0.2,0.1-0.2,0.1-0.2,0.2c0,0.3,0.9,0.2,2.9,0.2l0,10.2c0,4.4,2.1,5.1,3.6,5.1c2.4,0,4.1-1.7,4.2-2.3\\\\n\\\\t\\\\t\\\\t\\\\t\\\\tC342.9,26.6,342.9,26.6,342.7,26.6z\">\\n       </path>\\n       \\\\n\\\\t\\\\t\\\\t\\\\t\\n       <path d=\"M239.7,25.2c-0.7,0-1.8,2.1-4.6,2.1c-2,0-5.3-1.9-5.3-8.4h8.7c0.8,0,1.1,0,1.1-0.7\\\\n\\\\t\\\\t\\\\t\\\\t\\\\tc0-1.6-1.8-6.3-5.8-6.3c-4.1,0-6.4,4.2-6.4,9.3c0,2.6,1.7,8.1,6.6,8.1c3,0,5.8-2.8,5.8-3.7C239.8,25.4,239.8,25.2,239.7,25.2z\\\\n\\\\t\\\\t\\\\t\\\\t\\\\t M233.2,12.8c1.8,0,3.6,2,3.6,4.2c0,0.6-0.2,0.8-0.7,0.8h-6.5C229.8,15.6,231.2,12.8,233.2,12.8z\">\\n       </path>\\n       \\\\n\\\\t\\\\t\\\\t\\\\t\\n       <path d=\"M193.1,3.5c0.1-0.2-0.3-0.3-0.5-0.3c-0.5,0-1.7,0.1-2.3,0.1c-1.1,0-2.1-0.1-3.2-0.1\\\\n\\\\t\\\\t\\\\t\\\\t\\\\tc-0.1,0-0.6,0.1-0.6,0.2c0,0.8,2.7-0.1,2.7,3.3v13.4c0,4-1.2,8.1-6.7,8.1c-3.9,0-6-2.4-6-7.8V5.9c0-2.4,1.9-1.9,1.9-2.4\\\\n\\\\t\\\\t\\\\t\\\\t\\\\tc0-0.5-1.7-0.2-1.8-0.2c-0.9,0-1.5,0.1-2.5,0.1c-0.8,0-1.7-0.1-2.5-0.1c-0.1,0-0.7,0-0.8,0.2c-0.3,0.7,2.4,0.3,2.4,2.3v13.8\\\\n\\\\t\\\\t\\\\t\\\\t\\\\tc0,5.2,1.5,10.2,9.1,10.1c9-0.2,8.9-8.3,8.9-9.9V6.8C191.3,3.7,192.8,4,193.1,3.5z\">\\n       </path>\\n       \\\\n\\\\t\\\\t\\\\t\\\\t\\n       <path d=\"M228.8,12.7c0.2-0.3,0.3-0.7-0.7-0.6c-0.6,0-1,0.1-1.5,0.1c-0.7,0-0.9,0-1.5-0.1c-0.9,0-1.1,0.1-1,0.3\\\\n\\\\t\\\\t\\\\t\\\\t\\\\tc0.1,0.8,2,0,1.7,2.3c-0.2,1.9-0.8,3.5-1.4,5.2l-2.2,5.8l-3.2-9.7c-0.4-1.2-0.6-1.9-0.6-2c0-1.2,1.5-0.9,1.8-1.5\\\\n\\\\t\\\\t\\\\t\\\\t\\\\tc0.2-0.3-0.2-0.5-0.7-0.5c-0.4,0-0.8,0.1-2.1,0.2c-1,0-1.7,0-2.2-0.1c-1.1-0.2-1,0.4-0.6,0.6c0.4,0.2,0.6,0,1.2,1.7l5,14\\\\n\\\\t\\\\t\\\\t\\\\t\\\\tc0.1,0.3,0.2,1,0.7,1c0.5,0,0.5-0.5,1.1-2.2c0,0,4.7-13.3,5.1-13.7C228.1,12.6,228.6,13,228.8,12.7z\">\\n       </path>\\n       \\\\n\\\\t\\\\t\\\\t\\\\t\\n       <path d=\"M247.1,12.1c-1.3,0-2.3,1.6-3,2.7h-0.1v-2.4c0-0.4-0.2-0.6-0.4-0.6c-0.5,0-0.9,1-3.6,1.7\\\\n\\\\t\\\\t\\\\t\\\\t\\\\tc-0.2,0-0.6,0.1-0.6,0.4c0,0.8,2.3-0.2,2.3,2.4v10.2c0,1.6-1.6,1.4-1.6,2.2c0,0.2,0.1,0.3,0.4,0.3c0.2,0,0.8-0.2,2.9-0.2\\\\n\\\\t\\\\t\\\\t\\\\t\\\\tc1.8,0,2.6,0.2,3,0.2c0.3,0,0.5-0.1,0.5-0.4c0-1.2-2.8,0.6-2.8-3v-8.7c0-0.5,0.8-2.3,2.1-2.3c1.1,0,1.3,0.9,1.9,0.9\\\\n\\\\t\\\\t\\\\t\\\\t\\\\tc0.4,0,1.1-1.2,1.1-1.7C249.2,13.1,247.8,12.1,247.1,12.1z\">\\n       </path>\\n       \\\\n\\\\t\\\\t\\\\t\\\\t\\n       <path d=\"M288.4,12.2c-0.3,0-1.2,0.1-2,0.1c-1,0-1.4-0.1-1.8-0.1c-0.6,0-1.2,0-1.1,0.4c0.1,0.5,2.2,0.3,2.2,2.6\\\\n\\\\t\\\\t\\\\t\\\\t\\\\tc0,0.3,0,0.7-0.4,2.2l-2.6,8.4l-3.7-10.3c0,0-0.2-0.3-0.2-1c0-1.7,2-1.5,2-1.8c0.1-0.2-0.3-0.5-0.8-0.5c-0.5,0-1.4,0-2.6,0\\\\n\\\\t\\\\t\\\\t\\\\t\\\\tc-0.2,0-0.4,0-0.5,0c0,0,0,0,0,0h-1.5c0,0,0,0-0.1,0h-3.6c0-3.1,0-3.8-0.4-3.8c-0.5,0-0.4,0.1-0.8,1.5c-0.7,2.3-3.2,3.3-4,3.8\\\\n\\\\t\\\\t\\\\t\\\\t\\\\tc-0.2,0.1-0.2,0.1-0.2,0.2c0,0.3,1,0.2,2.9,0.2l0,10.2c0,4.4,2.1,5.1,3.6,5.1c2.4,0,4.1-1.7,4.2-2.3c0-0.3,0-0.4-0.2-0.3\\\\n\\\\t\\\\t\\\\t\\\\t\\\\tc-0.3,0.2-1.1,1-2.9,1c-1.4,0-2.1-0.8-2.2-2.5V13.9c0,0,3.2,0,4.1,0c0,0.1,0.1,0.2,0.1,0.2l3.8,10.7c0.3,0.9,0.5,1.2,0.9,2.7\\\\n\\\\t\\\\t\\\\t\\\\t\\\\tc0.2,1,0.2,1.9,0.2,1.9c-0.4,1.6-1.4,2.5-2.9,5.5c-0.1,0.3,2.2,0,2.3-0.1c0.2-0.1,0.2-0.1,0.4-0.5l1.7-5l4.7-14.4\\\\n\\\\t\\\\t\\\\t\\\\t\\\\tc0.7-2.5,1.8-2.1,1.9-2.4C288.9,12.4,288.8,12.2,288.4,12.2z\">\\n       </path>\\n       \\\\n\\\\t\\\\t\\\\t\\\\t\\n       <polygon points=\"282.3,29.1 282.2,29.4 282.2,29.4 \\\\t\\\\t\\\\t\\\\t\">\\n       </polygon>\\n       \\\\n\\\\t\\\\t\\\\t\\\\t\\n       <path d=\"M263.6,10.6c0.4,0,1.3-1.5,1.3-2c0-0.5-0.9-2-1.3-2c-0.4,0-1.3,1.6-1.3,2S263.2,10.6,263.6,10.6z\">\\n       </path>\\n       \\\\n\\\\t\\\\t\\\\t\\\\t\\n       <path d=\"M267,28.2c-0.7,0-2.1-0.3-2.1-1.7v-14c0-0.4-0.2-0.6-0.4-0.6c-0.8,0-1.2,1.4-3.3,2.1\\\\n\\\\t\\\\t\\\\t\\\\t\\\\tc-0.2,0-0.5,0.1-0.5,0.3c0,0.8,1.9-0.8,1.8,2.1v9.2c0.1,2.4-1.2,2.6-1.9,2.6c-1.1,0-0.8,0.1-0.8,0.5c0,0.4,0.7,0.4,1.7,0.4\\\\n\\\\t\\\\t\\\\t\\\\t\\\\tc0.4,0,1.3-0.1,2.3-0.1c1.3,0,2.4,0.2,3,0.2C267.3,29,267.8,28,267,28.2z\">\\n       </path>\\n       \\\\n\\\\t\\\\t\\\\t\\\\t\\n       <path d=\"M211.8,10.6c0.4,0,1.3-1.5,1.3-2c0-0.5-0.9-2-1.3-2c-0.4,0-1.3,1.6-1.3,2S211.4,10.6,211.8,10.6z\">\\n       </path>\\n       \\\\n\\\\t\\\\t\\\\t\\\\t\\n       <path d=\"M215.1,28.2c-0.7,0-2.1-0.3-2.1-1.7v-14c0-0.4-0.2-0.6-0.4-0.6c-0.8,0-1.2,1.4-3.3,2.1\\\\n\\\\t\\\\t\\\\t\\\\t\\\\tc-0.2,0-0.5,0.1-0.5,0.3c0,0.8,1.9-0.8,1.8,2.1v9.2c0.1,2.4-1.2,2.6-1.9,2.6c-0.1,0-0.2,0-0.2,0c-0.7-0.1-1.3-0.4-1.3-2.3v-6.4\\\\n\\\\t\\\\t\\\\t\\\\t\\\\tc0-3-1-7.3-5.3-7.3c-3.2,0-4.8,3-4.8,2.6v-2.2c0-0.4-0.2-0.6-0.4-0.6c-0.8,0-1.3,1.3-3.9,2.1c-0.2,0-0.6,0-0.7,0.3\\\\n\\\\t\\\\t\\\\t\\\\t\\\\tc0,0.8,2.6-1.1,2.5,2.1V26c0,2.5-1.7,1.9-2.1,2.6c-0.2,0.3,0.3,0.4,0.7,0.4c0.4,0,1.1-0.2,2.8-0.2c1.9,0,2.6,0.2,3.1,0.2\\\\n\\\\t\\\\t\\\\t\\\\t\\\\tc0.5,0,1.1-0.2,0.7-0.5c-0.5-0.5-2.9,0.1-2.9-2.6v-9c0-0.6,1.1-3,3.9-3c2.7,0,3.8,2.9,3.8,4.9V26c0,2.9-1,2-1.4,2.5\\\\n\\\\t\\\\t\\\\t\\\\t\\\\tc-0.2,0.3,0.2,0.5,0.6,0.5c0.4,0,1.1-0.2,2.4-0.2c1.6,0,2.3,0.1,2.7,0.1c0,0,0.1,0,0.2,0c0.1,0,0.3,0,0.4,0\\\\n\\\\t\\\\t\\\\t\\\\t\\\\tc0.4,0,1.3-0.1,2.3-0.1c1.3,0,2.4,0.2,3.1,0.2C215.4,29,216,28,215.1,28.2z\">\\n       </path>\\n       \\\\n\\\\t\\\\t\\\\t\\\\t\\n       <path d=\"M256.6,19.4c-0.6-0.3-1.6-0.9-2.1-1.1c-2.1-1.1-2.9-1.9-2.9-2.9c-0.1-1.8,1.5-2.8,2.8-2.6\\\\n\\\\t\\\\t\\\\t\\\\t\\\\tc3.2-0.1,3.6,3.5,4,3.5c0.5,0,0.4-0.5,0.4-1.5c0-0.3,0-1.6-0.2-1.9c-0.4-0.6-2.7-0.9-3.2-0.9c-0.1,0-0.7,0-0.8,0\\\\n\\\\t\\\\t\\\\t\\\\t\\\\tc-0.2,0-0.4,0-0.4,0c-2.3,0-4.4,1.4-4.4,4.5c0.1,2.8,3.3,4.4,5.1,5.4c1.3,0.7,2.9,1.5,2.8,3.2c0,2-1.6,3.4-3.3,3.3\\\\n\\\\t\\\\t\\\\t\\\\t\\\\tc-4-0.1-3.4-5.1-4.2-5.1c-0.5,0-0.4,1.3-0.4,1.9c0,1.6-0.1,2.9,0.1,3.1c0.1,0.1,0.3,0,0.6,0c0.8,0,1.7,0.9,4,0.9\\\\n\\\\t\\\\t\\\\t\\\\t\\\\tc2.6,0,4.9-2.3,4.9-5.3C259.6,22.1,259,21,256.6,19.4z\">\\n       </path>\\n       \\\\n\\\\t\\\\t\\\\t\\n      </g>\\n      \\\\n\\\\t\\\\t\\n     </g>\\n     \\\\n\\\\t\\\\t\\n     <g>\\n      \\\\n\\\\t\\\\t\\\\t\\n      <path d=\"M14.1,2.5L14.1,2.5L14.1,2.5L14.1,2.5L14.1,2.5C14,2.5,8.5,2.6,0.8,1V23v0c0,0.3,0,0.6,0,0.6l0,0l0,0\\\\n\\\\t\\\\t\\\\t\\\\tc0,1,0.4,1.8,1,2.5c0.4,0.4,1,0.9,1.7,1.3c0.2,0.1,0.4,0.2,0.7,0.4c0.2,0.1,0.4,0.2,0.6,0.3v0l0,0c0.2,0.1,0.7,0.3,0.9,0.4\\\\n\\\\t\\\\t\\\\t\\\\tl8.4,3.2v0l0,0l0,0v0l8.4-3.2c0.2-0.1,0.7-0.3,0.9-0.4l0,0v0c0.2-0.1,0.4-0.2,0.6-0.3c0.3-0.1,0.5-0.2,0.7-0.4\\\\n\\\\t\\\\t\\\\t\\\\tc0.8-0.4,1.3-0.9,1.7-1.3c0.6-0.7,0.9-1.5,1-2.5l0,0l0,0c0,0,0-0.3,0-0.6v0V1C19.7,2.6,14.2,2.5,14.1,2.5z M26.2,22.6L26.2,22.6\\\\n\\\\t\\\\t\\\\t\\\\tc0,0.4,0,0.6,0,0.6l0,0l0,0c0,0.9-0.3,1.7-0.9,2.3c-0.4,0.4-0.9,0.8-1.6,1.2c-0.2,0.1-0.4,0.2-0.6,0.3c-0.2,0.1-0.4,0.2-0.5,0.2\\\\n\\\\t\\\\t\\\\t\\\\tv0l0,0c-0.2,0.1-0.6,0.3-0.8,0.3l-7.6,2.9v0l0,0l0,0v0l-7.6-2.9c-0.2-0.1-0.7-0.3-0.8-0.3l0,0v0c-0.2-0.1-0.4-0.2-0.5-0.2\\\\n\\\\t\\\\t\\\\t\\\\tc-0.2-0.1-0.4-0.2-0.6-0.3c-0.7-0.4-1.2-0.8-1.6-1.2C2.3,24.9,2,24.2,2,23.2l0,0l0,0c0,0,0-0.2,0-0.5v0V2.4\\\\n\\\\t\\\\t\\\\t\\\\tc7,1.5,12,1.4,12.1,1.4v0l0,0l0,0v0c0.1,0,5.1,0,12.1-1.4V22.6z\">\\n      </path>\\n      \\\\n\\\\t\\\\t\\\\t\\n      <path d=\"M14.1,5L14.1,5L14.1,5L14.1,5L14.1,5C14,5,9.4,5.1,3,3.7v5.2c6.4,1.3,11,1.3,11.1,1.3v0l0,0l0,0v0\\\\n\\\\t\\\\t\\\\t\\\\tc0.1,0,4.7,0,11.1-1.3V3.7C18.7,5.1,14.2,5,14.1,5z M8.2,9.1L6.9,8.1L5.6,9.1l0.5-1.6l-1.3-1l1.6,0L6.9,5l0.5,1.6l1.6,0l-1.3,1\\\\n\\\\t\\\\t\\\\t\\\\tL8.2,9.1z M20.7,6.5L21.2,5l0.5,1.6l1.6,0l-1.3,1l0.5,1.6l-1.3-0.9l-1.3,0.9l0.5-1.6l-1.3-1L20.7,6.5z M16.2,7.1l-1.3,1l0.5,1.6\\\\n\\\\t\\\\t\\\\t\\\\tl-1.3-0.9l-1.3,0.9l0.5-1.6l-1.3-1l1.6,0l0.5-1.6l0.5,1.6L16.2,7.1z\">\\n      </path>\\n      \\\\n\\\\t\\\\t\\\\t\\n      <path d=\"M14.1,21.7L14.1,21.7L14.1,21.7L14.1,21.7L14.1,21.7c-0.1,0-4.7,0-11.1-1.3v1.8c0,0.3,0,0.5,0,0.5l0,0\\\\n\\\\t\\\\t\\\\t\\\\tl0,0c0,0.9,0.3,1.5,0.8,2.1c0.3,0.4,0.8,0.7,1.5,1.1c0.2,0.1,0.4,0.2,0.6,0.3c0.2,0.1,0.3,0.1,0.5,0.2v0l0,0\\\\n\\\\t\\\\t\\\\t\\\\tc0.1,0.1,0.6,0.3,0.7,0.3l7,2.6v0l0,0l0,0v0l7-2.6c0.1-0.1,0.6-0.3,0.7-0.3l0,0v0c0.2-0.1,0.3-0.1,0.5-0.2\\\\n\\\\t\\\\t\\\\t\\\\tc0.2-0.1,0.4-0.2,0.6-0.3c0.7-0.4,1.1-0.7,1.5-1.1c0.5-0.6,0.8-1.3,0.8-2.1l0,0l0,0c0,0,0-0.2,0-0.5v0v-1.8\\\\n\\\\t\\\\t\\\\t\\\\tC18.7,21.7,14.2,21.7,14.1,21.7z M6.4,25.3l-0.3,0.3l-0.5-0.4v-0.4h0.7V25.3z M6.4,24.6H6V24l-0.4-0.4l0,0l-0.5,0.3l-0.3-0.3\\\\n\\\\t\\\\t\\\\t\\\\tv-0.5h1.1l0.5,0.5V24.6z M6.9,26.3l-0.4-0.5l0.2-0.4v-0.6h0.4v0.6l0.2,0.4L6.9,26.3z M7.3,23L7.3,23l-0.2,0.6v1H6.7v-1L6.5,23h0\\\\n\\\\t\\\\t\\\\t\\\\tv0l0,0v-1.1h0l0.4-0.4l0.4,0.4V23z M8.1,25.2l-0.5,0.4l-0.3-0.3v-0.4h0.7V25.2z M9,23.6l-0.3,0.3l-0.5-0.3l0,0L7.8,24v0.6H7.4v-1\\\\n\\\\t\\\\t\\\\t\\\\tl0.5-0.5H9V23.6z M13.4,27.5L13,27.9l-0.6-0.5v-0.5h1V27.5z M13.4,26.4h-0.6v-0.8L12.3,25l0,0l-0.7,0.4L11.2,25v-0.7h1.5l0.7,0.8\\\\n\\\\t\\\\t\\\\t\\\\tV26.4z M14.1,28.9l-0.6-0.7l0.3-0.5v-0.8h0.6v0.8l0.3,0.5L14.1,28.9z M20.8,25.3l-0.3,0.3L20,25.2v-0.4h0.7V25.3z M21.7,23.6\\\\n\\\\t\\\\t\\\\t\\\\tl0.5-0.5h1.1v0.5L23,23.9l-0.5-0.3l0,0L22.1,24v0.6h-0.4V23.6z M21.7,24.8h0.7v0.4L22,25.6l-0.3-0.3V24.8z M20.8,23L20.8,23v-1.1\\\\n\\\\t\\\\t\\\\t\\\\tl0,0l0.4-0.4l0.4,0.4V23h0l-0.2,0.6v1h-0.4v-1L20.8,23L20.8,23L20.8,23z M21.1,25.4v-0.6h0.4v0.6l0.2,0.4l-0.4,0.5l-0.4-0.5\\\\n\\\\t\\\\t\\\\t\\\\tL21.1,25.4z M19.2,23.1h1.1l0.5,0.5v1h-0.4V24L20,23.6l0,0l-0.5,0.3l-0.3-0.3V23.1z M14.8,25l0.7-0.8H17V25l-0.4,0.4L15.9,25l0,0\\\\n\\\\t\\\\t\\\\t\\\\tl-0.5,0.6v0.8h-0.6V25z M14.8,26.8h1v0.5l-0.6,0.5l-0.4-0.4V26.8z M14.7,24.2L14.7,24.2L14.4,25v1.4h-0.6V25l-0.3-0.8h0v0l0,0\\\\n\\\\t\\\\t\\\\t\\\\tl0,0v-1.6l0,0l0.6-0.6l0.6,0.6V24.2z\">\\n      </path>\\n      \\\\n\\\\t\\\\t\\\\t\\n      <polygon points=\"14.6,18.9 14.1,19.3 13.5,18.9 13.2,18.6 8.8,18.6 8.8,12 7.9,12.7 7.9,19.5 13.1,19.5 \\\\n\\\\t\\\\t\\\\t\\\\t13.5,19.9 14.1,20.4 14.6,19.9 15.1,19.5 20.3,19.5 20.3,12.7 19.4,12 19.4,18.6 14.9,18.6 \\\\t\\\\t\\\\t\">\\n      </polygon>\\n      \\\\n\\\\t\\\\t\\\\t\\n      <polygon points=\"13.5,11.6 13.4,11.5 9.7,11.5 9.7,17.7 13.4,17.7 13.6,17.9 14.1,18.3 14.5,17.9 14.8,17.7 \\\\n\\\\t\\\\t\\\\t\\\\t18.4,17.7 18.4,11.5 14.8,11.5 14.6,11.6 14.1,12.1 \\\\t\\\\t\\\\t\">\\n      </polygon>\\n      \\\\n\\\\t\\\\t\\\\t\\n      <path d=\"M21.2,17.6c1.2-0.2,2.5-0.4,3.9-0.7v-1.7v-2.5c-1.4,0.3-2.7,0.5-3.9,0.7V17.6z\">\\n      </path>\\n      \\\\n\\\\t\\\\t\\\\t\\n      <path d=\"M6.9,13.4C5.7,13.2,4.4,13,3,12.7v2.5v1.7c1.4,0.3,2.7,0.5,3.9,0.7V13.4z\">\\n      </path>\\n      \\\\n\\\\t\\\\t\\n     </g>\\n     \\\\n\\\\t\\n    </g>\\n    \\\\n\\\\t\\n    <g>\\n     \\\\n\\\\t\\\\t\\n     <path clip-rule=\"evenodd\" d=\"M91.3,52.7c0,0,2.1-1.2,2-3.4c-0.1-2.1-1.2-2.8-2-2.8\\\\n\\\\t\\\\t\\\\tc-0.8,0-1.8,0.6-1.9,2.5C89.2,51.2,91.3,52.7,91.3,52.7L91.3,52.7z M94.4,58.7c-0.8-1.1-1.6-2.1-2.6-3.1c-0.7-0.8-1.4-1.4-1.4-1.4\\\\n\\\\t\\\\t\\\\ts-0.8,0.6-1.3,1.1c-0.5,0.5-1.2,1.7-1,3.4c0.3,2.4,1.9,3,3.4,2.8c1.5-0.2,3-2.7,3-2.7L94.4,58.7L94.4,58.7z M99.3,62.9h-2.2\\\\n\\\\t\\\\t\\\\tl-0.2-0.3l-0.5-0.8c-0.2-0.4-0.7-1.1-1.5-2.3c-1.6,2.3-2.7,3.4-4.5,3.4c-3,0-3.9-2.4-3.9-4.5c0-1.3,0.5-2.4,1.3-3.3\\\\n\\\\t\\\\t\\\\tc0.5-0.6,1.1-1.1,2-1.6c-1.1-1-1.9-2-1.9-3.5c0-2.7,1.7-4.5,3.5-4.5c1.7,0,3.2,1.5,3.2,3.8c0,1.1-0.4,1.7-1,2.4\\\\n\\\\t\\\\t\\\\tc-0.3,0.4-1,1.1-1.6,1.6c-0.1,0.1,1.5,1.7,1.6,1.9l1.8,2.1c0,0,2-3.9,1.6-4.5c-0.3-0.5-1.7-0.6-1.7-0.6l0-0.7h5l0,0.7\\\\n\\\\t\\\\t\\\\tc-0.4,0-1.2,0.1-1.8,0.8c-0.3,0.3-2.6,4.8-2.6,4.8s1.7,2.4,1.8,2.6c0,0,0.3,0.4,0.4,0.6l0.1,0.2C98.9,62,98.9,62.1,99.3,62.9\\\\n\\\\t\\\\t\\\\tL99.3,62.9z\" fill-rule=\"evenodd\">\\n     </path>\\n     \\\\n\\\\t\\\\t\\n     <path clip-rule=\"evenodd\" d=\"M55.3,51.8c0-0.8,0-0.8,1.1-0.8c1.2,0,2.3,0.8,2.3,2.6\\\\n\\\\t\\\\t\\\\tc0,0.9-0.2,1.9-0.8,2.4c-0.5,0.4-1,0.4-1.5,0.4h-1V51.8L55.3,51.8z M55.3,57.2H56c0.6,0,0.8,0.1,1.1,0.7c0.4,0.8,1,2.1,1.6,3\\\\n\\\\t\\\\t\\\\tc0.6,1,1.4,1.7,3.3,1.7h0.3l0.1-0.6c-0.5-0.2-0.9-0.5-1.2-0.8c-0.4-0.4-0.8-1-1.3-2c-0.5-0.8-1.2-2.1-1.5-2.7\\\\n\\\\t\\\\t\\\\tc1.3-0.6,2.2-1.5,2.2-3.2c0-1.2-0.5-2.1-1.1-2.5c-0.7-0.5-1.5-0.6-2.6-0.6H52v0.6c1.4,0.1,1.5,0.2,1.5,2.3v6.4\\\\n\\\\t\\\\t\\\\tc0,2-0.1,2.1-1.6,2.3v0.6h4.9v-0.6c-1.4-0.1-1.6-0.3-1.6-2.3V57.2L55.3,57.2z\" fill-rule=\"evenodd\">\\n     </path>\\n     \\\\n\\\\t\\\\t\\n     <path d=\"M66.3,59.6c0,2-0.1,2.1-1.7,2.3v0.6h5.2v-0.6c-1.6-0.1-1.8-0.3-1.8-2.3v-8.5h1c1,0,1.5,0.2,1.8,0.5\\\\n\\\\t\\\\t\\\\tc0.2,0.3,0.4,0.8,0.6,1.9l0.6-0.1c-0.1-1.2-0.2-2.9-0.2-3.7h-0.3c-0.2,0.4-0.3,0.5-0.8,0.5h-7c-0.4,0-0.6-0.1-0.9-0.5h-0.3\\\\n\\\\t\\\\t\\\\tc0,1-0.1,2.3-0.2,3.7H63c0.2-1,0.4-1.5,0.6-1.8c0.2-0.3,0.7-0.6,2-0.6h0.7V59.6L66.3,59.6z\">\\n     </path>\\n     \\\\n\\\\t\\\\t\\n     <path d=\"M72.8,58.6c0.2,1.2,0.4,2.8,0.5,3.2c0.4,0.3,1.4,1,2.9,1c2.2,0,3.8-1.6,3.8-3.9c0-2.3-1.6-3.2-3.2-3.9\\\\n\\\\t\\\\t\\\\tc-1-0.5-2.1-1-2.1-2.4c0-1,0.6-2,1.8-2c1.3,0,2.1,1.2,2.4,2.8l0.6-0.1c-0.2-1.3-0.2-2.3-0.4-3.1c-0.4-0.1-1.2-0.5-2.2-0.5\\\\n\\\\t\\\\t\\\\tc-2.2,0-3.6,1.5-3.6,3.7c0,2.1,1.8,3,2.9,3.6c1,0.5,2.2,1.1,2.2,2.7c0,1.3-0.8,2.2-2,2.2c-1.5,0-2.7-1.9-3-3.4L72.8,58.6\\\\n\\\\t\\\\t\\\\tL72.8,58.6z\">\\n     </path>\\n     \\\\n\\\\t\\\\t\\n     <path clip-rule=\"evenodd\" d=\"M44.1,48.7l2,5.9l-3.9,0L44.1,48.7L44.1,48.7z M43,49.8l-3.2,9.3\\\\n\\\\t\\\\t\\\\tc-0.8,2.5-1,2.6-2.4,2.8v0.6h4.8v-0.6l-0.8-0.1c-1-0.1-1.2-0.4-0.8-2c0.3-1.2,1.1-3.3,1.3-4.1l4.5,0c0.6,2,1.3,4.1,1.4,4.8\\\\n\\\\t\\\\t\\\\tc0.2,0.9,0.1,1.2-0.7,1.3l-0.7,0.1v0.6h5.5v-0.6c-1.4-0.1-1.7-0.3-2.4-2.6C48.6,56.4,45,45.5,45,45.5l-0.5,0.2L43,49.8L43,49.8z\" fill-rule=\"evenodd\">\\n     </path>\\n     \\\\n\\\\t\\\\t\\n     <path d=\"M105.2,58.1c0.2,1.4,0.4,3.2,0.6,3.9c0.3,0.1,0.6,0.3,1.2,0.5c0.5,0.2,1.2,0.4,2,0.4\\\\n\\\\t\\\\t\\\\tc2.7,0,4.7-2.3,4.7-5.3c0-3.2-2.2-4.4-3.6-5.1c-1.6-0.9-2.7-1.5-2.7-3.4c0-1.5,0.7-2.8,2.2-2.8c1.9,0,2.6,1.7,2.9,3.3l0.5-0.1\\\\n\\\\t\\\\t\\\\tc-0.2-1.5-0.3-2.6-0.4-3.5c-0.2-0.1-0.5-0.2-0.8-0.3c-0.4-0.2-1.2-0.3-1.7-0.3c-2.8,0-4.3,2.2-4.3,4.7c0,3.1,2.9,4.4,3.6,4.8\\\\n\\\\t\\\\t\\\\tc1.3,0.8,2.7,1.6,2.7,3.8c0,2-1.2,3.3-2.8,3.3c-2.2,0-3.1-2.8-3.4-4L105.2,58.1L105.2,58.1z\">\\n     </path>\\n     \\\\n\\\\t\\\\t\\n     <path d=\"M124.4,53.5c-0.1-1.2-0.2-2.2-0.3-3.3c-0.6-0.2-1.7-0.5-3.2-0.5c-3.4,0-6.1,2.7-6.1,6.6\\\\n\\\\t\\\\t\\\\tc0,3.1,1.9,6.3,5.9,6.3c1.2,0,2.7-0.4,3.2-0.5c0.2-0.7,0.6-2.4,0.8-3.4l-0.6-0.1c-0.8,2.1-1.7,3.2-3.4,3.2c-2.4,0-4-2.4-4-5.9\\\\n\\\\t\\\\t\\\\tc0-3.1,1.4-5.4,3.8-5.4c1.6,0,2.7,0.7,3.2,3L124.4,53.5L124.4,53.5z\">\\n     </path>\\n     \\\\n\\\\t\\\\t\\n     <path d=\"M129.4,53c0-2,0.1-2.1,1.6-2.3v-0.6h-4.9v0.6c1.4,0.1,1.6,0.2,1.6,2.3v6.4c0,2-0.1,2.1-1.6,2.3v0.6h4.9\\\\n\\\\t\\\\t\\\\tv-0.6c-1.4-0.1-1.6-0.3-1.6-2.3V53L129.4,53z\">\\n     </path>\\n     \\\\n\\\\t\\\\t\\n     <path d=\"M134,59.4c0,2-0.1,2.2-1.7,2.3v0.6h8.5c0.1-0.5,0.5-2.5,0.6-3.2l-0.6-0.1c-0.2,0.9-0.5,1.5-0.8,1.9\\\\n\\\\t\\\\t\\\\tc-0.4,0.4-1.1,0.6-2,0.6c-1,0-1.5,0-1.8-0.2c-0.3-0.2-0.4-0.8-0.4-1.9v-3h1.8c1.4,0,1.5,0.1,1.6,1.6h0.6v-4h-0.6\\\\n\\\\t\\\\t\\\\tc-0.2,1.4-0.2,1.5-1.6,1.5h-1.8v-3.9c0-0.7,0-0.7,0.7-0.7h1.3c1.1,0,1.6,0.3,1.8,0.6c0.2,0.3,0.4,0.8,0.6,1.8l0.6-0.1\\\\n\\\\t\\\\t\\\\tc-0.1-1.3-0.2-2.6-0.2-3.1h-8v0.6c1.4,0.1,1.5,0.2,1.5,2.3V59.4L134,59.4z\">\\n     </path>\\n     \\\\n\\\\t\\\\t\\n     <path d=\"M152.5,55.3c0-2,0.1-2.9,0.1-3.6c0.1-0.7,0.6-1,1.5-1v-0.6h-4.3v0.6c1.1,0.1,1.6,0.4,1.7,1\\\\n\\\\t\\\\t\\\\tc0.1,0.6,0.1,1.6,0.1,3.6v3.8h0l-6.7-9h-2.8v0.6c1.5,0.1,1.9,0.6,1.9,2.8v3.7c0,2-0.1,2.9-0.1,3.5c-0.1,0.7-0.6,1-1.5,1v0.6h4.3\\\\n\\\\t\\\\t\\\\tv-0.6c-1.1-0.1-1.6-0.4-1.7-1c-0.1-0.6-0.1-1.5-0.1-3.5v-4h0l6.9,9.4h0.7V55.3L152.5,55.3z\">\\n     </path>\\n     \\\\n\\\\t\\\\t\\n     <path d=\"M164.1,53.5c-0.1-1.2-0.2-2.2-0.3-3.3c-0.6-0.2-1.7-0.5-3.2-0.5c-3.4,0-6.1,2.7-6.1,6.6\\\\n\\\\t\\\\t\\\\tc0,3.1,1.9,6.3,5.9,6.3c1.2,0,2.7-0.4,3.2-0.5c0.2-0.7,0.6-2.4,0.8-3.4l-0.6-0.1c-0.8,2.1-1.7,3.2-3.4,3.2c-2.4,0-4-2.4-4-5.9\\\\n\\\\t\\\\t\\\\tc0-3.1,1.4-5.4,3.8-5.4c1.6,0,2.7,0.7,3.2,3L164.1,53.5L164.1,53.5z\">\\n     </path>\\n     \\\\n\\\\t\\\\t\\n     <path d=\"M166.9,59.4c0,2-0.1,2.2-1.7,2.3v0.6h8.5c0.1-0.5,0.5-2.5,0.6-3.2l-0.6-0.1c-0.2,0.9-0.5,1.5-0.8,1.9\\\\n\\\\t\\\\t\\\\tc-0.4,0.4-1.1,0.6-2,0.6c-1,0-1.5,0-1.8-0.2c-0.3-0.2-0.4-0.8-0.4-1.9v-3h1.8c1.4,0,1.5,0.1,1.6,1.6h0.6v-4h-0.6\\\\n\\\\t\\\\t\\\\tc-0.2,1.4-0.2,1.5-1.6,1.5h-1.8v-3.9c0-0.7,0-0.7,0.7-0.7h1.3c1.1,0,1.6,0.3,1.8,0.6c0.2,0.3,0.4,0.8,0.6,1.8l0.6-0.1\\\\n\\\\t\\\\t\\\\tc-0.1-1.3-0.2-2.6-0.2-3.1h-8v0.6c1.4,0.1,1.5,0.2,1.5,2.3V59.4L166.9,59.4z\">\\n     </path>\\n     \\\\n\\\\t\\\\t\\n     <path d=\"M175.4,58.6c0.2,1.2,0.4,2.8,0.5,3.2c0.4,0.3,1.4,1,2.9,1c2.2,0,3.8-1.6,3.8-3.9c0-2.3-1.6-3.2-3.2-3.9\\\\n\\\\t\\\\t\\\\tc-1-0.5-2.1-1-2.1-2.4c0-1,0.6-2,1.8-2c1.3,0,2.1,1.2,2.4,2.8l0.6-0.1c-0.2-1.3-0.2-2.3-0.4-3.1c-0.4-0.1-1.2-0.5-2.2-0.5\\\\n\\\\t\\\\t\\\\tc-2.2,0-3.6,1.5-3.6,3.7c0,2.1,1.8,3,2.9,3.6c1,0.5,2.2,1.1,2.2,2.7c0,1.3-0.8,2.2-2,2.2c-1.5,0-2.7-1.9-3-3.4L175.4,58.6\\\\n\\\\t\\\\t\\\\tL175.4,58.6z\">\\n     </path>\\n     \\\\n\\\\t\\n    </g>\\n    \\\\n\\n   </symbol>\\n   \\\\n\\\\n\\n  </svg>\\n  <a class=\"skip-link screen-reader-text\" href=\"#content\">\\n   Skip to content\\n  </a>\\n  <div id=\"viewport\">\\n   <header class=\"flex\" id=\"header\" role=\"banner\">\\n    <a class=\"logo\" href=\"https://artsci.wustl.edu\">\\n     <picture>\\n      <source media=\"(min-width: 767px)\" srcset=\"/sites/all/themes/olympian/images/logo-art-sci-vert-color.svg\">\\n       <img alt=\"Washington University in St. Louis\" src=\"/sites/all/themes/olympian/images/logo-art-sci-color.svg\"/>\\n      </source>\\n     </picture>\\n    </a>\\n    <div class=\"department\">\\n     <a href=\"/\">\\n      Department of Political Science\\n     </a>\\n    </div>\\n    <button aria-controls=\"main-nav\" aria-label=\"Menu\" id=\"main-nav-toggle\" type=\"button\">\\n     <span class=\"open\">\\n      Menu\\n     </span>\\n     <span class=\"close\">\\n      <svg class=\"icon\">\\n       <use xlink:href=\"#close\">\\n       </use>\\n      </svg>\\n      <span>\\n       Close\\n      </span>\\n     </span>\\n    </button>\\n    <nav class=\"flex togglee\" id=\"main-nav\">\\n     <div class=\"inner flex\">\\n      <div class=\"column\">\\n       <div class=\"search\">\\n        <form accept-charset=\"UTF-8\" action=\"/search\" id=\"views-exposed-form-multi-index-search-page\" method=\"get\">\\n         <div>\\n          \\\\n\\n          <div class=\"form-item form-type-textfield form-item-search-api-views-fulltext\">\\n           \\\\n\\n           <input class=\"form-text\" id=\"site-search\" maxlength=\"128\" name=\"search_api_views_fulltext\" placeholder=\"What are you looking for?\" size=\"30\" type=\"text\" value=\"\"/>\\n           \\\\n\\n          </div>\\n          \\\\n\\n          <button name=\"search\" type=\"submit\" value=\"Search\">\\n           <svg class=\"icon\">\\n            <use xlink:href=\"#icon-search\">\\n            </use>\\n           </svg>\\n           Search\\n          </button>\\n         </div>\\n        </form>\\n       </div>\\n       <nav aria-label=\"Main menu\" id=\"primary-nav\" role=\"navigation\">\\n        <ul class=\"menu quicklinks\">\\n         <li>\\n          <a class=\"first-level\" href=\"/undergraduate\">\\n           Undergraduate Program\\n          </a>\\n         </li>\\n         <li class=\"toggle-wrap\">\\n          <a class=\"first-level\" href=\"/graduate-program\">\\n           Graduate Program\\n          </a>\\n          <span class=\"js-toggle-menu icon-arrow\">\\n           <svg class=\"icon toggle\">\\n            <use xlink:href=\"#nav-arrow\">\\n            </use>\\n           </svg>\\n          </span>\\n          <div class=\"sub-nav togglee\">\\n           <ul class=\"second-level-wrap quicklinks\">\\n            <li>\\n             <a class=\"second-level\" href=\"/MA-Statistics\">\\n              Master\\\\xe2\\\\x80\\\\x99s Degree in Statistics for Political Science Ph.D. Students\\n             </a>\\n            </li>\\n           </ul>\\n          </div>\\n         </li>\\n         <li>\\n          <a class=\"first-level\" href=\"/research\">\\n           Research\\n          </a>\\n         </li>\\n         <li>\\n          <a class=\"first-level\" href=\"/people\">\\n           Our People\\n          </a>\\n         </li>\\n         <li>\\n          <a class=\"first-level\" href=\"/resources\">\\n           Resources\\n          </a>\\n         </li>\\n        </ul>\\n       </nav>\\n      </div>\\n      <div class=\"column\">\\n       <div class=\"callout\">\\n        <p>\\n         Let your curiosity lead the way:\\n        </p>\\n        <p>\\n         <a class=\"button solid red external\" href=\"https://artsci.wustl.edu/apply\" target=\"_blank\">\\n          Apply Today\\n          <svg class=\"icon\">\\n           <use xlink:href=\"#link-out\">\\n           </use>\\n          </svg>\\n         </a>\\n        </p>\\n       </div>\\n       <nav id=\"secondary-nav\" role=\"navigation\">\\n        <ul class=\"menu\">\\n         <li>\\n          <a href=\"/\" title=\"\">\\n           Home\\n          </a>\\n         </li>\\n         <li>\\n          <a href=\"/course_listing\">\\n           Courses\\n          </a>\\n         </li>\\n         <li>\\n          <a href=\"/events\" title=\"\">\\n           Upcoming Events\\n          </a>\\n         </li>\\n         <li>\\n          <a href=\"/news\" title=\"\">\\n           Recent News\\n          </a>\\n         </li>\\n         <li>\\n          <a href=\"/ask\" title=\"\">\\n           Contact Us\\n          </a>\\n         </li>\\n        </ul>\\n       </nav>\\n       <ul class=\"other-schools\">\\n        <li>\\n         <a href=\"https://artsci.wustl.edu\" target=\"_blank\">\\n          <svg class=\"icon\">\\n           <use xlink:href=\"#link-out\">\\n           </use>\\n          </svg>\\n          Arts &amp; Sciences\\n         </a>\\n        </li>\\n        <li>\\n         <a href=\"https://gradstudies.artsci.wustl.edu\" target=\"_blank\">\\n          <svg class=\"icon\">\\n           <use xlink:href=\"#link-out\">\\n           </use>\\n          </svg>\\n          Graduate Studies in A&amp;S\\n         </a>\\n        </li>\\n       </ul>\\n      </div>\\n     </div>\\n     <div class=\"ampersand\">\\n      <svg>\\n       <use xlink:href=\"#ampersand\">\\n       </use>\\n      </svg>\\n     </div>\\n    </nav>\\n   </header>\\n   <div class=\"masquerade\">\\n   </div>\\n   <main id=\"content\" role=\"main\">\\n    <section aria-label=\"introduction header with image\" class=\"dark\" id=\"photo-header\">\\n     <div class=\"image\" style=\"background-image: url(https://polisci.wustl.edu/files/polisci/styles/background_image/public/170309_jjn_trump_symposium_004.jpg?itok=cauhvtVz);\">\\n      <picture>\\n       <source media=\"(min-width: 600px)\" srcset=\"https://polisci.wustl.edu/files/polisci/styles/background_image/public/170309_jjn_trump_symposium_004.jpg?itok=cauhvtVz\">\\n        <img alt=\"\" src=\"https://polisci.wustl.edu/files/polisci/styles/spotlight_mobile/public/170309_jjn_trump_symposium_004.jpg?itok=RmI9Q4_z\"/>\\n       </source>\\n      </picture>\\n     </div>\\n     <div class=\"container\">\\n      <h1>\\n       Our People\\n      </h1>\\n      <p>\\n      </p>\\n     </div>\\n    </section>\\n    <section aria-label=\"faculty search\" class=\"our-people search with-filter\" id=\"filter\">\\n     <div class=\"container\">\\n      <h2>\\n       Search for People:\\n      </h2>\\n      <div class=\"search-form\">\\n       <label class=\"no-text\" for=\"edit-keys\">\\n        Search our faculty and staff\\n       </label>\\n       <form accept-charset=\"UTF-8\" action=\"/people/search\" id=\"views-exposed-form-faculty-search\" method=\"get\">\\n        <div>\\n         \\\\n\\n         <div class=\"form-item form-type-textfield form-item-keys\">\\n          \\\\n\\n          <input class=\"form-text\" id=\"edit-keys\" maxlength=\"128\" name=\"keys\" onkeyup=\"myFunction()\" placeholder=\"Who are you looking for?\" size=\"30\" type=\"text\" value=\"\"/>\\n          \\\\n\\n         </div>\\n         \\\\n\\n         <button name=\"search\" type=\"submit\" value=\"Search\">\\n          <svg class=\"icon\">\\n           <use xlink:href=\"#icon-search\">\\n           </use>\\n          </svg>\\n          Search\\n         </button>\\n        </div>\\n       </form>\\n      </div>\\n      <div class=\"filter-options filter-options-full filter-options-columned flex\">\\n       \\\\n\\n       <form action=\"/people\" aria-labelledby=\"people_filter_label\" class=\"options-list\">\\n        \\\\n\\n        <div class=\"filter-list-column\">\\n         \\\\n\\n         <h3>\\n          Select a Person Type\\n         </h3>\\n         \\\\n\\n         <ul class=\"list\">\\n          \\\\n\\n          <li>\\n           <input id=\"All\" name=\"cat\" type=\"radio\" value=\"all\"/>\\n           <label for=\"All\">\\n            All\\n           </label>\\n          </li>\\n          <li>\\n           <input checked=\"\" id=\"Departmental Leadership\" name=\"cat\" type=\"radio\" value=\"39\"/>\\n           <label for=\"Departmental Leadership\">\\n            Departmental Leadership\\n           </label>\\n          </li>\\n          <li>\\n           <input checked=\"\" id=\"Current Faculty\" name=\"cat\" type=\"radio\" value=\"88\"/>\\n           <label for=\"Current Faculty\">\\n            Current Faculty\\n           </label>\\n          </li>\\n          <li>\\n           <input id=\"New Colleagues\" name=\"cat\" type=\"radio\" value=\"476\"/>\\n           <label for=\"New Colleagues\">\\n            New Colleagues\\n           </label>\\n          </li>\\n          <li>\\n           <input id=\"Affiliated Faculty\" name=\"cat\" type=\"radio\" value=\"91\"/>\\n           <label for=\"Affiliated Faculty\">\\n            Affiliated Faculty\\n           </label>\\n          </li>\\n          <li>\\n           <input id=\"Emeriti\" name=\"cat\" type=\"radio\" value=\"94\"/>\\n           <label for=\"Emeriti\">\\n            Emeriti\\n           </label>\\n          </li>\\n          <li>\\n           <input id=\"Postdocs and Visiting Faculty\" name=\"cat\" type=\"radio\" value=\"428\"/>\\n           <label for=\"Postdocs and Visiting Faculty\">\\n            Postdocs and Visiting Faculty\\n           </label>\\n          </li>\\n          <li>\\n           <input id=\"Staff\" name=\"cat\" type=\"radio\" value=\"42\"/>\\n           <label for=\"Staff\">\\n            Staff\\n           </label>\\n          </li>\\n          <li>\\n           <input id=\"Graduate Students\" name=\"cat\" type=\"radio\" value=\"100\"/>\\n           <label for=\"Graduate Students\">\\n            Graduate Students\\n           </label>\\n          </li>\\n          <li>\\n           <input id=\"1st Year Grad Students\" name=\"cat\" type=\"radio\" value=\"435\"/>\\n           <label for=\"1st Year Grad Students\">\\n            1st Year Grad Students\\n           </label>\\n          </li>\\n          <li>\\n           <input id=\"2nd Year Grad Students\" name=\"cat\" type=\"radio\" value=\"438\"/>\\n           <label for=\"2nd Year Grad Students\">\\n            2nd Year Grad Students\\n           </label>\\n          </li>\\n          <li>\\n           <input id=\"3rd Year Grad Students\" name=\"cat\" type=\"radio\" value=\"441\"/>\\n           <label for=\"3rd Year Grad Students\">\\n            3rd Year Grad Students\\n           </label>\\n          </li>\\n          <li>\\n           <input id=\"4th Year Grad Students\" name=\"cat\" type=\"radio\" value=\"444\"/>\\n           <label for=\"4th Year Grad Students\">\\n            4th Year Grad Students\\n           </label>\\n          </li>\\n          <li>\\n           <input id=\"5th Year Grad Students\" name=\"cat\" type=\"radio\" value=\"447\"/>\\n           <label for=\"5th Year Grad Students\">\\n            5th Year Grad Students\\n           </label>\\n          </li>\\n          <li>\\n           <input id=\"6th Year Grad Students\" name=\"cat\" type=\"radio\" value=\"450\"/>\\n           <label for=\"6th Year Grad Students\">\\n            6th Year Grad Students\\n           </label>\\n          </li>\\n          <li>\\n           <input id=\"ABD Status\" name=\"cat\" type=\"radio\" value=\"453\"/>\\n           <label for=\"ABD Status\">\\n            ABD Status\\n           </label>\\n          </li>\\n          <li>\\n           <input id=\"Job Market\" name=\"cat\" type=\"radio\" value=\"430\"/>\\n           <label for=\"Job Market\">\\n            Job Market\\n           </label>\\n          </li>\\n         </ul>\\n         \\\\n\\n        </div>\\n        \\\\n\\n        <div class=\"filter-list-column\">\\n         \\\\n\\n         <h3>\\n          Areas of Interest\\n         </h3>\\n         \\\\n\\n         <ul class=\"list\">\\n          <li>\\n           <input id=\"American\" name=\"cat_or\" type=\"checkbox\" value=\"455\"/>\\n           <label for=\"American\">\\n            American\\n           </label>\\n          </li>\\n          <li>\\n           <input id=\"Comparative\" name=\"cat_or\" type=\"checkbox\" value=\"458\"/>\\n           <label for=\"Comparative\">\\n            Comparative\\n           </label>\\n          </li>\\n          <li>\\n           <input id=\"Formal Theory\" name=\"cat_or\" type=\"checkbox\" value=\"461\"/>\\n           <label for=\"Formal Theory\">\\n            Formal Theory\\n           </label>\\n          </li>\\n          <li>\\n           <input id=\"International Conflict\" name=\"cat_or\" type=\"checkbox\" value=\"464\"/>\\n           <label for=\"International Conflict\">\\n            International Conflict\\n           </label>\\n          </li>\\n          <li>\\n           <input id=\"International Political Economy\" name=\"cat_or\" type=\"checkbox\" value=\"467\"/>\\n           <label for=\"International Political Economy\">\\n            International Political Economy\\n           </label>\\n          </li>\\n          <li>\\n           <input id=\"Methodology\" name=\"cat_or\" type=\"checkbox\" value=\"470\"/>\\n           <label for=\"Methodology\">\\n            Methodology\\n           </label>\\n          </li>\\n          <li>\\n           <input id=\"Political Theory\" name=\"cat_or\" type=\"checkbox\" value=\"473\"/>\\n           <label for=\"Political Theory\">\\n            Political Theory\\n           </label>\\n          </li>\\n         </ul>\\n         \\\\n\\n        </div>\\n        \\\\n\\n       </form>\\n       \\\\n\\n      </div>\\n     </div>\\n    </section>\\n    <section class=\"filtered\">\\n     <div class=\"container category-view toggle-wrap\">\\n      <div class=\"pre-filter\">\\n       <ul class=\"filtered-view\">\\n        <li>\\n         <a class=\"view-alpha js-toggle-alpha\" href=\"/people/88#filter\" onclick=\"return false;\">\\n          Filter Alphabetically\\n         </a>\\n        </li>\\n        <li>\\n         <a class=\"view active\" data-url=\"/people\" href=\"/people/88\" id=\"grid-view\">\\n          Grid View\\n          <svg class=\"icon\">\\n           <use xlink:href=\"#icon-grid\">\\n           </use>\\n          </svg>\\n         </a>\\n        </li>\\n        <li>\\n         <a class=\"view\" data-url=\"/people/list\" href=\"/people/list/88\" id=\"list-view\">\\n          List View\\n          <svg class=\"icon\">\\n           <use xlink:href=\"#icon-list\">\\n           </use>\\n          </svg>\\n         </a>\\n        </li>\\n       </ul>\\n       <div class=\"category-term-clear\">\\n        \\\\n\\n        <input class=\"button\" name=\"cancel\" type=\"button\" value=\"Clear Filter\"/>\\n        \\\\n\\n       </div>\\n      </div>\\n      <div class=\"filtered-alpha togglee\">\\n       <div class=\"view-content\">\\n        <ul class=\"letters\">\\n         <li>\\n          <input class=\"letter\" data-url=\"/people\" href=\"/people/88/all/a\" letter=\"a\" name=\"letter\" type=\"button\" value=\"A\"/>\\n         </li>\\n         <li>\\n          <input class=\"letter\" data-url=\"/people\" href=\"/people/88/all/b\" letter=\"b\" name=\"letter\" type=\"button\" value=\"B\"/>\\n         </li>\\n         <li>\\n          <input class=\"letter\" data-url=\"/people\" href=\"/people/88/all/c\" letter=\"c\" name=\"letter\" type=\"button\" value=\"C\"/>\\n         </li>\\n         <li>\\n          <input class=\"letter\" data-url=\"/people\" href=\"/people/88/all/d\" letter=\"d\" name=\"letter\" type=\"button\" value=\"D\"/>\\n         </li>\\n         <li>\\n          <input class=\"letter\" data-url=\"/people\" href=\"/people/88/all/e\" letter=\"e\" name=\"letter\" type=\"button\" value=\"E\"/>\\n         </li>\\n         <li>\\n          <input class=\"letter\" data-url=\"/people\" href=\"/people/88/all/f\" letter=\"f\" name=\"letter\" type=\"button\" value=\"F\"/>\\n         </li>\\n         <li>\\n          <input class=\"letter\" data-url=\"/people\" href=\"/people/88/all/g\" letter=\"g\" name=\"letter\" type=\"button\" value=\"G\"/>\\n         </li>\\n         <li>\\n          <input class=\"letter\" data-url=\"/people\" href=\"/people/88/all/h\" letter=\"h\" name=\"letter\" type=\"button\" value=\"H\"/>\\n         </li>\\n         <li>\\n          <input class=\"letter\" data-url=\"/people\" href=\"/people/88/all/i\" letter=\"i\" name=\"letter\" type=\"button\" value=\"I\"/>\\n         </li>\\n         <li>\\n          <input class=\"letter\" data-url=\"/people\" href=\"/people/88/all/j\" letter=\"j\" name=\"letter\" type=\"button\" value=\"J\"/>\\n         </li>\\n         <li>\\n          <input class=\"letter\" data-url=\"/people\" href=\"/people/88/all/k\" letter=\"k\" name=\"letter\" type=\"button\" value=\"K\"/>\\n         </li>\\n         <li>\\n          <input class=\"letter\" data-url=\"/people\" href=\"/people/88/all/l\" letter=\"l\" name=\"letter\" type=\"button\" value=\"L\"/>\\n         </li>\\n         <li>\\n          <input class=\"letter\" data-url=\"/people\" href=\"/people/88/all/m\" letter=\"m\" name=\"letter\" type=\"button\" value=\"M\"/>\\n         </li>\\n         <li>\\n          <input class=\"letter\" data-url=\"/people\" href=\"/people/88/all/n\" letter=\"n\" name=\"letter\" type=\"button\" value=\"N\"/>\\n         </li>\\n         <li>\\n          <input class=\"letter\" data-url=\"/people\" href=\"/people/88/all/o\" letter=\"o\" name=\"letter\" type=\"button\" value=\"O\"/>\\n         </li>\\n         <li>\\n          <input class=\"letter\" data-url=\"/people\" href=\"/people/88/all/p\" letter=\"p\" name=\"letter\" type=\"button\" value=\"P\"/>\\n         </li>\\n         <li>\\n          <input class=\"letter\" data-url=\"/people\" href=\"/people/88/all/q\" letter=\"q\" name=\"letter\" type=\"button\" value=\"Q\"/>\\n         </li>\\n         <li>\\n          <input class=\"letter\" data-url=\"/people\" href=\"/people/88/all/r\" letter=\"r\" name=\"letter\" type=\"button\" value=\"R\"/>\\n         </li>\\n         <li>\\n          <input class=\"letter\" data-url=\"/people\" href=\"/people/88/all/s\" letter=\"s\" name=\"letter\" type=\"button\" value=\"S\"/>\\n         </li>\\n         <li>\\n          <input class=\"letter\" data-url=\"/people\" href=\"/people/88/all/t\" letter=\"t\" name=\"letter\" type=\"button\" value=\"T\"/>\\n         </li>\\n         <li>\\n          <input class=\"letter\" data-url=\"/people\" href=\"/people/88/all/u\" letter=\"u\" name=\"letter\" type=\"button\" value=\"U\"/>\\n         </li>\\n         <li>\\n          <input class=\"letter\" data-url=\"/people\" href=\"/people/88/all/v\" letter=\"v\" name=\"letter\" type=\"button\" value=\"V\"/>\\n         </li>\\n         <li>\\n          <input class=\"letter\" data-url=\"/people\" href=\"/people/88/all/w\" letter=\"w\" name=\"letter\" type=\"button\" value=\"W\"/>\\n         </li>\\n         <li>\\n          <input class=\"letter\" data-url=\"/people\" href=\"/people/88/all/x\" letter=\"x\" name=\"letter\" type=\"button\" value=\"X\"/>\\n         </li>\\n         <li>\\n          <input class=\"letter\" data-url=\"/people\" href=\"/people/88/all/y\" letter=\"y\" name=\"letter\" type=\"button\" value=\"Y\"/>\\n         </li>\\n         <li>\\n          <input class=\"letter\" data-url=\"/people\" href=\"/people/88/all/z\" letter=\"z\" name=\"letter\" type=\"button\" value=\"Z\"/>\\n         </li>\\n        </ul>\\n       </div>\\n      </div>\\n     </div>\\n     <div class=\"container filtered-cards faculty-cards flex js-load-container\">\\n      <a class=\"card\" href=\"/people/deniz-aksoy\">\\n       <article class=\"faculty-post\">\\n        <div class=\"image\">\\n         <img alt=\"Headshot of Deniz Aksoy\" src=\"https://polisci.wustl.edu/files/polisci/styles/testimonial_desktop/public/People/Polisci_Aksoy_D_P1013892.jpg?itok=AvCgVb4x\"/>\\n         <h3>\\n          <div>\\n           <span>\\n            Deniz\\n           </span>\\n          </div>\\n          <div>\\n           <span>\\n            Aksoy\\n           </span>\\n          </div>\\n         </h3>\\n        </div>\\n        <div class=\"dept\">\\n         Associate Professor of Political Science\\n        </div>\\n       </article>\\n      </a>\\n      <a class=\"card\" href=\"/people/zoe-ang\">\\n       <article class=\"faculty-post\">\\n        <div class=\"image\">\\n         <img alt=\"Headshot of Zoe Ang\" src=\"https://polisci.wustl.edu/files/polisci/styles/testimonial_desktop/public/Polisci-Ang_Z_P1014211_0.jpg?itok=mVr8swa4\"/>\\n         <h3>\\n          <div>\\n           <span>\\n            Zoe\\n           </span>\\n          </div>\\n          <div>\\n           <span>\\n            Ang\\n           </span>\\n          </div>\\n         </h3>\\n        </div>\\n        <div class=\"dept\">\\n         Lecturer\\n         <div class=\"addtitles\">\\n          Undergraduate Academic Coordinator\\n         </div>\\n        </div>\\n       </article>\\n      </a>\\n      <a class=\"card\" href=\"/people/zachary-bowersox\">\\n       <article class=\"faculty-post\">\\n        <div class=\"image\">\\n         <img alt=\"Headshot of Zachary Bowersox\" src=\"https://polisci.wustl.edu/files/polisci/styles/testimonial_desktop/public/Polisci_Bowersox_Z_P1002669.jpg?itok=tyFByNet\"/>\\n         <h3>\\n          <div>\\n           <span>\\n            Zachary\\n           </span>\\n          </div>\\n          <div>\\n           <span>\\n            Bowersox\\n           </span>\\n          </div>\\n         </h3>\\n        </div>\\n        <div class=\"dept\">\\n         Lecturer in Political Science\\n        </div>\\n       </article>\\n      </a>\\n      <a class=\"card\" href=\"/people/daniel-butler\">\\n       <article class=\"faculty-post\">\\n        <div class=\"image\">\\n         <img alt=\"Headshot of Daniel  Butler\" src=\"https://polisci.wustl.edu/files/polisci/styles/testimonial_desktop/public/dmbutler19.jpg?itok=jCyJREOF\"/>\\n         <h3>\\n          <div>\\n           <span>\\n            Daniel\\n           </span>\\n          </div>\\n          <div>\\n           <span>\\n            Butler\\n           </span>\\n          </div>\\n         </h3>\\n        </div>\\n        <div class=\"dept\">\\n         Professor of Political Science\\n        </div>\\n       </article>\\n      </a>\\n      <a class=\"card\" href=\"/people/taylor-carlson\">\\n       <article class=\"faculty-post\">\\n        <div class=\"image\">\\n         <img alt=\"Headshot of Taylor Carlson\" src=\"https://polisci.wustl.edu/files/polisci/styles/testimonial_desktop/public/PoliSci_Carlson_T_P1322772.jpg?itok=sZD5AZpt\"/>\\n         <h3>\\n          <div>\\n           <span>\\n            Taylor\\n           </span>\\n          </div>\\n          <div>\\n           <span>\\n            Carlson\\n           </span>\\n          </div>\\n         </h3>\\n        </div>\\n        <div class=\"dept\">\\n         Associate Professor of Political Science\\n         <div class=\"addtitles\">\\n          Weidenbaum Center Director of Survey Research\\n         </div>\\n        </div>\\n       </article>\\n      </a>\\n      <a class=\"card\" href=\"/people/david-carter\">\\n       <article class=\"faculty-post\">\\n        <div class=\"image\">\\n         <img alt=\"Headshot of David Carter\" src=\"https://polisci.wustl.edu/files/polisci/styles/testimonial_desktop/public/People/Polisci_Carter_D_P1044474.jpg?itok=s0k5djSC\"/>\\n         <h3>\\n          <div>\\n           <span>\\n            David\\n           </span>\\n          </div>\\n          <div>\\n           <span>\\n            Carter\\n           </span>\\n          </div>\\n         </h3>\\n        </div>\\n        <div class=\"dept\">\\n         Professor of Political Science\\n        </div>\\n       </article>\\n      </a>\\n      <a class=\"card\" href=\"/people/dino-p-christenson\">\\n       <article class=\"faculty-post\">\\n        <div class=\"image\">\\n         <img alt=\"Headshot of Dino P. Christenson\" src=\"https://polisci.wustl.edu/files/polisci/styles/testimonial_desktop/public/thumbnail_18-1858-DINO-024.jpg?itok=1cpFo7Pk\"/>\\n         <h3>\\n          <div>\\n           <span>\\n            Dino P.\\n           </span>\\n          </div>\\n          <div>\\n           <span>\\n            Christenson\\n           </span>\\n          </div>\\n         </h3>\\n        </div>\\n        <div class=\"dept\">\\n         Professor of Political Science\\n         <div class=\"addtitles\">\\n          Director of the Environmental Policy Major\\n         </div>\\n        </div>\\n       </article>\\n      </a>\\n      <a class=\"card\" href=\"/people/brian-f-crisp\">\\n       <article class=\"faculty-post\">\\n        <div class=\"image\">\\n         <img alt=\"Headshot of Brian F. Crisp\" src=\"https://polisci.wustl.edu/files/polisci/styles/testimonial_desktop/public/People/PoliticalScience_Crisp_B-1277761.jpg?itok=IRltJ2oo\"/>\\n         <h3>\\n          <div>\\n           <span>\\n            Brian F.\\n           </span>\\n          </div>\\n          <div>\\n           <span>\\n            Crisp\\n           </span>\\n          </div>\\n         </h3>\\n        </div>\\n        <div class=\"dept\">\\n         Professor of Political Science\\n        </div>\\n       </article>\\n      </a>\\n      <a class=\"card\" href=\"/people/ted-enamorado\">\\n       <article class=\"faculty-post\">\\n        <div class=\"image\">\\n         <img alt=\"Headshot of Ted Enamorado\" src=\"https://polisci.wustl.edu/files/polisci/styles/testimonial_desktop/public/Polisci_Enamorado_T_P1014176.jpg?itok=7f_dnrFf\"/>\\n         <h3>\\n          <div>\\n           <span>\\n            Ted\\n           </span>\\n          </div>\\n          <div>\\n           <span>\\n            Enamorado\\n           </span>\\n          </div>\\n         </h3>\\n        </div>\\n        <div class=\"dept\">\\n         Assistant Professor of Political Science\\n        </div>\\n       </article>\\n      </a>\\n      <a class=\"card\" href=\"/people/justin-fox\">\\n       <article class=\"faculty-post\">\\n        <div class=\"image\">\\n         <img alt=\"Headshot of Justin Fox\" src=\"https://polisci.wustl.edu/files/polisci/styles/testimonial_desktop/public/People/Polisci_Fox_J_IMG_0968.jpg?itok=2Jsf8ntZ\"/>\\n         <h3>\\n          <div>\\n           <span>\\n            Justin\\n           </span>\\n          </div>\\n          <div>\\n           <span>\\n            Fox\\n           </span>\\n          </div>\\n         </h3>\\n        </div>\\n        <div class=\"dept\">\\n         Associate Professor of Political Science\\n        </div>\\n       </article>\\n      </a>\\n      <a class=\"card\" href=\"/people/matthew-gabel\">\\n       <article class=\"faculty-post\">\\n        <div class=\"image\">\\n         <img alt=\"Headshot of Matthew Gabel\" src=\"https://polisci.wustl.edu/files/polisci/styles/testimonial_desktop/public/People/Polisci_Gabel_M_IMG_0944.jpg?itok=As1876fj\"/>\\n         <h3>\\n          <div>\\n           <span>\\n            Matthew\\n           </span>\\n          </div>\\n          <div>\\n           <span>\\n            Gabel\\n           </span>\\n          </div>\\n         </h3>\\n        </div>\\n        <div class=\"dept\">\\n         Professor of Political Science\\n         <div class=\"addtitles\">\\n          Charles F. and Joanne Knight Alzheimer\\'s Disease Research Center Faculty\\n         </div>\\n        </div>\\n       </article>\\n      </a>\\n      <a class=\"card\" href=\"/people/amy-gais-0\">\\n       <article class=\"faculty-post\">\\n        <div class=\"image\">\\n         <img alt=\"Headshot of Amy Gais\" src=\"https://iph.wustl.edu/files/iph/styles/testimonial_desktop/public/IPH_Gais_Headshot.jpg?itok=RN-kmS7A\"/>\\n         <h3>\\n          <div>\\n           <span>\\n            Amy\\n           </span>\\n          </div>\\n          <div>\\n           <span>\\n            Gais\\n           </span>\\n          </div>\\n         </h3>\\n        </div>\\n        <div class=\"dept\">\\n         Lecturer in Political Science and IPH\\n        </div>\\n       </article>\\n      </a>\\n      <a class=\"card\" href=\"/people/james-l-gibson\">\\n       <article class=\"faculty-post\">\\n        <div class=\"image\">\\n         <img alt=\"Headshot of James L. Gibson\" src=\"https://polisci.wustl.edu/files/polisci/styles/testimonial_desktop/public/People/Polisci_Gibson_J_IMG_0927.jpg?itok=tmu3TkL6\"/>\\n         <h3>\\n          <div>\\n           <span>\\n            James L.\\n           </span>\\n          </div>\\n          <div>\\n           <span>\\n            Gibson\\n           </span>\\n          </div>\\n         </h3>\\n        </div>\\n        <div class=\"dept\">\\n         Sidney W. Souers Professor of Government\\n        </div>\\n       </article>\\n      </a>\\n      <a class=\"card\" href=\"/people/matthew-hayes\">\\n       <article class=\"faculty-post\">\\n        <div class=\"image\">\\n         <img alt=\"Headshot of Matthew  Hayes\" src=\"https://polisci.wustl.edu/files/polisci/styles/testimonial_desktop/public/People/Polisci_Hayes_M-1054713.jpg?itok=5cVWmefT\"/>\\n         <h3>\\n          <div>\\n           <span>\\n            Matthew\\n           </span>\\n          </div>\\n          <div>\\n           <span>\\n            Hayes\\n           </span>\\n          </div>\\n         </h3>\\n        </div>\\n        <div class=\"dept\">\\n         Associate Professor of Political Science\\n        </div>\\n       </article>\\n      </a>\\n      <a class=\"card\" href=\"/people/clarissa-rile-hayward\">\\n       <article class=\"faculty-post\">\\n        <div class=\"image\">\\n         <img alt=\"Headshot of Clarissa Rile Hayward\" src=\"https://polisci.wustl.edu/files/polisci/styles/testimonial_desktop/public/People/hayward%20headshot%202020_0.png?itok=k6ktkJtF\"/>\\n         <h3>\\n          <div>\\n           <span>\\n            Clarissa Rile\\n           </span>\\n          </div>\\n          <div>\\n           <span>\\n            Hayward\\n           </span>\\n          </div>\\n         </h3>\\n        </div>\\n        <div class=\"dept\">\\n         Associate Chair of Political Science\\n         <div class=\"addtitles\">\\n          Professor of Political Science, Philosophy (By Courtesy), and Urban Studies (Affiliate)\\n         </div>\\n        </div>\\n       </article>\\n      </a>\\n      <a class=\"card\" href=\"/people/frank-lovett\">\\n       <article class=\"faculty-post\">\\n        <div class=\"image\">\\n         <img alt=\"Headshot of Frank Lovett\" src=\"https://polisci.wustl.edu/files/polisci/styles/testimonial_desktop/public/Polisci_Lovett_F_P1344020.jpg?itok=J7uHFATQ\"/>\\n         <h3>\\n          <div>\\n           <span>\\n            Frank\\n           </span>\\n          </div>\\n          <div>\\n           <span>\\n            Lovett\\n           </span>\\n          </div>\\n         </h3>\\n        </div>\\n        <div class=\"dept\">\\n         Professor of Political Science\\n         <div class=\"addtitles\">\\n          Professor of Philosophy, by courtesy \\\\r\\\\nDirector of Undergraduate Studies in Political Science\\\\r\\\\nDirector of Legal Studies\\n         </div>\\n        </div>\\n       </article>\\n      </a>\\n      <a class=\"card\" href=\"/people/christopher-lucas\">\\n       <article class=\"faculty-post\">\\n        <div class=\"image\">\\n         <img alt=\"Headshot of Christopher Lucas\" src=\"https://polisci.wustl.edu/files/polisci/styles/testimonial_desktop/public/clucas_headshot.png?itok=xKabRqpS\"/>\\n         <h3>\\n          <div>\\n           <span>\\n            Christopher\\n           </span>\\n          </div>\\n          <div>\\n           <span>\\n            Lucas\\n           </span>\\n          </div>\\n         </h3>\\n        </div>\\n        <div class=\"dept\">\\n         Assistant Professor of Political Science\\n        </div>\\n       </article>\\n      </a>\\n      <a class=\"card\" href=\"/people/andrew-martin\">\\n       <article class=\"faculty-post\">\\n        <div class=\"image\">\\n         <img alt=\"Headshot of Andrew Martin\" src=\"https://polisci.wustl.edu/files/polisci/styles/testimonial_desktop/public/People/180713_jwb_andrew_martin_001-1-rdqqu6.jpg?itok=JpVsZTGe\"/>\\n         <h3>\\n          <div>\\n           <span>\\n            Andrew\\n           </span>\\n          </div>\\n          <div>\\n           <span>\\n            Martin\\n           </span>\\n          </div>\\n         </h3>\\n        </div>\\n        <div class=\"dept\">\\n         Chancellor\\n         <div class=\"addtitles\">\\n          Professor of Political Science and Law\\n         </div>\\n        </div>\\n       </article>\\n      </a>\\n      <a class=\"card\" href=\"/people/jacob-montgomery\">\\n       <article class=\"faculty-post\">\\n        <div class=\"image\">\\n         <img alt=\"Headshot of Jacob Montgomery\" src=\"https://polisci.wustl.edu/files/polisci/styles/testimonial_desktop/public/thumbnail_Polisci_Montgomery_J_-1040383_0.jpg?itok=shisoYuq\"/>\\n         <h3>\\n          <div>\\n           <span>\\n            Jacob\\n           </span>\\n          </div>\\n          <div>\\n           <span>\\n            Montgomery\\n           </span>\\n          </div>\\n         </h3>\\n        </div>\\n        <div class=\"dept\">\\n         Professor of Political Science\\n         <div class=\"addtitles\">\\n          Chair of the Political Science Track for Division of Computational and Data Sciences\\\\r\\\\nDirector of TRIADS\\n         </div>\\n        </div>\\n       </article>\\n      </a>\\n      <a class=\"card\" href=\"/people/lucia-motolinia\">\\n       <article class=\"faculty-post\">\\n        <div class=\"image\">\\n         <img alt=\"Headshot of Lucia Motolinia\" src=\"https://polisci.wustl.edu/files/polisci/styles/testimonial_desktop/public/People/Polisci_Motolinia_L-1054700.jpg?itok=beQSRdaT\"/>\\n         <h3>\\n          <div>\\n           <span>\\n            Lucia\\n           </span>\\n          </div>\\n          <div>\\n           <span>\\n            Motolinia\\n           </span>\\n          </div>\\n         </h3>\\n        </div>\\n        <div class=\"dept\">\\n         Assistant Professor of Political Science\\n        </div>\\n       </article>\\n      </a>\\n      <a class=\"card\" href=\"/people/diana-z-obrien\">\\n       <article class=\"faculty-post\">\\n        <div class=\"image\">\\n         <img alt=\"Headshot of Diana Z. O\\'Brien\" src=\"https://polisci.wustl.edu/files/polisci/styles/testimonial_desktop/public/DianaObrien_600x600_0.png?itok=rK_-4XxW\"/>\\n         <h3>\\n          <div>\\n           <span>\\n            Diana Z.\\n           </span>\\n          </div>\\n          <div>\\n           <span>\\n            O\\'Brien\\n           </span>\\n          </div>\\n         </h3>\\n        </div>\\n        <div class=\"dept\">\\n         Bela Kornitzer Distinguished Professor, Professor of Political Science\\n        </div>\\n       </article>\\n      </a>\\n      <a class=\"card\" href=\"/people/michael-olson\">\\n       <article class=\"faculty-post\">\\n        <div class=\"image\">\\n         <img alt=\"Headshot of Michael Olson\" src=\"https://polisci.wustl.edu/files/polisci/styles/testimonial_desktop/public/People/Olson_0.jpg?itok=pANMN_GS\"/>\\n         <h3>\\n          <div>\\n           <span>\\n            Michael\\n           </span>\\n          </div>\\n          <div>\\n           <span>\\n            Olson\\n           </span>\\n          </div>\\n         </h3>\\n        </div>\\n        <div class=\"dept\">\\n         Assistant Professor of Political Science\\n        </div>\\n       </article>\\n      </a>\\n      <a class=\"card\" href=\"/people/sunita-parikh\">\\n       <article class=\"faculty-post\">\\n        <div class=\"image\">\\n         <img alt=\"Headshot of Sunita Parikh\" src=\"https://polisci.wustl.edu/files/polisci/styles/testimonial_desktop/public/Polisci_Parikh_S_P1013939.jpg?itok=2PVnHzpK\"/>\\n         <h3>\\n          <div>\\n           <span>\\n            Sunita\\n           </span>\\n          </div>\\n          <div>\\n           <span>\\n            Parikh\\n           </span>\\n          </div>\\n         </h3>\\n        </div>\\n        <div class=\"dept\">\\n         Associate Professor of Political Science\\n        </div>\\n       </article>\\n      </a>\\n      <a class=\"card\" href=\"/people/xiaoyan-christy-qiu\">\\n       <article class=\"faculty-post\">\\n        <div class=\"image\">\\n         <img alt=\"Headshot of Xiaoyan (Christy) Qiu\" src=\"https://polisci.wustl.edu/files/polisci/styles/testimonial_desktop/public/People/Christy%20Qiu.png?itok=rWzB8-Ka\"/>\\n         <h3>\\n          <div>\\n           <span>\\n            Xiaoyan (Christy)\\n           </span>\\n          </div>\\n          <div>\\n           <span>\\n            Qiu\\n           </span>\\n          </div>\\n         </h3>\\n        </div>\\n        <div class=\"dept\">\\n         Assistant Professor of Political Science\\n        </div>\\n       </article>\\n      </a>\\n      <div class=\"load-more flex\">\\n       <a class=\"js-load-more\" href=\"/people/88?page=1\" title=\"Load more\">\\n        Load more\\n       </a>\\n      </div>\\n     </div>\\n    </section>\\n   </main>\\n   <footer id=\"footer\" role=\"contentinfo\">\\n    <div class=\"footer-top flex\">\\n     <div class=\"footer-nav flex\">\\n      <div class=\"column half\">\\n       <h3>\\n        Quick Links\\n       </h3>\\n       <ul class=\"menu quicklinks\">\\n        <li>\\n         <a href=\"/resources\" title=\"\">\\n          Resources\\n         </a>\\n        </li>\\n        <li>\\n         <a href=\"/events\" title=\"\">\\n          Events\\n         </a>\\n        </li>\\n        <li>\\n         <a href=\"/people\" title=\"\">\\n          Our People\\n         </a>\\n        </li>\\n        <li>\\n         <a href=\"/ask\">\\n          Contact Us\\n         </a>\\n        </li>\\n       </ul>\\n      </div>\\n      <div class=\"column half\">\\n       <h3>\\n        Additional information\\n       </h3>\\n       <ul class=\"additional-links\">\\n        <li>\\n         <a href=\"https://artsci.wustl.edu\" target=\"_blank\">\\n          <svg class=\"icon\">\\n           <use xlink:href=\"#link-out\">\\n           </use>\\n          </svg>\\n          Arts &amp; Sciences\\n         </a>\\n        </li>\\n        <li>\\n         <a href=\"https://gradstudies.artsci.wustl.edu\" target=\"_blank\">\\n          <svg class=\"icon\">\\n           <use xlink:href=\"#link-out\">\\n           </use>\\n          </svg>\\n          Graduate Studies in A&amp;S\\n         </a>\\n        </li>\\n       </ul>\\n       <p class=\"copyright\">\\n        <em>\\n         Copyright 2023 by:\\n        </em>\\n        Arts &amp; Sciences at Washington\\n        <br/>\\n        University in St. Louis\\n       </p>\\n      </div>\\n     </div>\\n     <div class=\"column callout flex center\">\\n      <div class=\"inner\">\\n       <h3>\\n        Follow Us\\n       </h3>\\n       \\\\n\\\\n\\n       <ul class=\"social-links solid\">\\n        \\\\n\\\\t\\n        <li>\\n         <a href=\"http://instagram.com/wustlartsci\" target=\"_blank\">\\n          Instagram\\n          <svg>\\n           <use xlink:href=\"#instagram\" xmlns:xlink=\"http://www.w3.org/1999/xlink\">\\n           </use>\\n          </svg>\\n         </a>\\n        </li>\\n        \\\\n\\\\t\\n        <li>\\n         <a href=\"https://www.facebook.com/WUSTLArtSci\" target=\"_blank\">\\n          Facebook\\n          <svg>\\n           <use xlink:href=\"#facebook\" xmlns:xlink=\"http://www.w3.org/1999/xlink\">\\n           </use>\\n          </svg>\\n         </a>\\n        </li>\\n        \\\\n\\\\t\\n        <li>\\n         <a href=\"https://www.linkedin.com/groups/6550591/\" target=\"_blank\">\\n          Linkedin\\n          <svg>\\n           <use xlink:href=\"#linkedin\" xmlns:xlink=\"http://www.w3.org/1999/xlink\">\\n           </use>\\n          </svg>\\n         </a>\\n        </li>\\n        \\\\n\\\\t\\n        <li>\\n         <a href=\"https://twitter.com/WUSTLPoliSci\" target=\"_blank\">\\n          Twitter\\n          <svg>\\n           <use xlink:href=\"#twitter\" xmlns:xlink=\"http://www.w3.org/1999/xlink\">\\n           </use>\\n          </svg>\\n         </a>\\n        </li>\\n        \\\\n\\\\t\\n        <li>\\n         <a href=\"http://www.youtube.com/user/httsocial\" target=\"_blank\">\\n          YouTube\\n          <svg>\\n           <use xlink:href=\"#youtube\" xmlns:xlink=\"http://www.w3.org/1999/xlink\">\\n           </use>\\n          </svg>\\n         </a>\\n        </li>\\n        \\\\n\\\\t\\n        <li>\\n         <a href=\"https://www.flickr.com/photos/wustlpa/\" target=\"_blank\">\\n          Flickr\\n          <svg>\\n           <use xlink:href=\"#flickr\" xmlns:xlink=\"http://www.w3.org/1999/xlink\">\\n           </use>\\n          </svg>\\n         </a>\\n        </li>\\n        \\\\n\\n       </ul>\\n       \\\\n\\\\n\\n       <p>\\n        <em>\\n         Contact Us:\\n        </em>\\n       </p>\\n       \\\\n\\\\n\\n       <p>\\n        Department of Political Science\\n        <br/>\\n        \\\\n\\\\t\\n        <a href=\"mailto:polisci@wustl.edu\">\\n         polisci@wustl.edu\\n        </a>\\n       </p>\\n       \\\\n\\n      </div>\\n     </div>\\n    </div>\\n    <div class=\"footer-bottom flex\">\\n     <div class=\"column wustl flex\">\\n      <div class=\"inner\">\\n       <a class=\"no-text\" href=\"https://wustl.edu/\">\\n        Visit the main Washington University in St. Louis website\\n        <svg class=\"logo\">\\n         <use xlink:href=\"#logo-wu\">\\n         </use>\\n        </svg>\\n       </a>\\n       <address>\\n        1 Brookings Drive / St. Louis, MO 63130 / wustl.edu\\n       </address>\\n      </div>\\n     </div>\\n    </div>\\n   </footer>\\n  </div>\\n  <script src=\"https://ajax.googleapis.com/ajax/libs/jquery/3.1.1/jquery.min.js\">\\n  </script>\\n  <script src=\"/sites/all/themes/olympian/js/jquery.plugin.min.js\">\\n  </script>\\n  <script src=\"https://polisci.wustl.edu/misc/jquery.js?v=1.4.4\" type=\"text/javascript\">\\n  </script>\\n  \\\\n\\n  <script src=\"https://polisci.wustl.edu/misc/jquery-extend-3.4.0.js?v=1.4.4\" type=\"text/javascript\">\\n  </script>\\n  \\\\n\\n  <script src=\"https://polisci.wustl.edu/misc/jquery-html-prefilter-3.5.0-backport.js?v=1.4.4\" type=\"text/javascript\">\\n  </script>\\n  \\\\n\\n  <script src=\"https://polisci.wustl.edu/misc/jquery.once.js?v=1.2\" type=\"text/javascript\">\\n  </script>\\n  \\\\n\\n  <script src=\"https://polisci.wustl.edu/misc/drupal.js?rzg73c\" type=\"text/javascript\">\\n  </script>\\n  \\\\n\\n  <script src=\"https://polisci.wustl.edu/sites/all/modules/contrib/pms/js/prevent_multiple_submit.js?rzg73c\" type=\"text/javascript\">\\n  </script>\\n  \\\\n\\n  <script src=\"https://polisci.wustl.edu/sites/all/modules/contrib/google_analytics/googleanalytics.js?rzg73c\" type=\"text/javascript\">\\n  </script>\\n  \\\\n\\n  <script src=\"https://www.googletagmanager.com/gtag/js?id=G-BFRZ21PBX1\" type=\"text/javascript\">\\n  </script>\\n  \\\\n\\n  <script type=\"text/javascript\">\\n   \\\\n<!--//--><![CDATA[//><!--\\\\nwindow.dataLayer = window.dataLayer || [];function gtag(){dataLayer.push(arguments)};gtag(\"js\", new Date());gtag(\"config\", \"G-BFRZ21PBX1\", {\"groups\":\"default\",\"anonymize_ip\":true});\\\\n//--><!]]>\\\\n\\n  </script>\\n  \\\\n\\n  <script src=\"https://polisci.wustl.edu/sites/all/themes/olympian/js/jquery-3.1.1.min.js?rzg73c\" type=\"text/javascript\">\\n  </script>\\n  \\\\n\\n  <script src=\"https://polisci.wustl.edu/sites/all/themes/olympian/js/sc-player.js?rzg73c\" type=\"text/javascript\">\\n  </script>\\n  \\\\n\\n  <script src=\"https://polisci.wustl.edu/sites/all/themes/olympian/js/scrollreveal.min.js?rzg73c\" type=\"text/javascript\">\\n  </script>\\n  \\\\n\\n  <script src=\"https://polisci.wustl.edu/sites/all/themes/olympian/js/site.js?rzg73c\" type=\"text/javascript\">\\n  </script>\\n  \\\\n\\n  <script src=\"https://polisci.wustl.edu/sites/all/themes/olympian/js/soundcloud.player.api.js?rzg73c\" type=\"text/javascript\">\\n  </script>\\n  \\\\n\\n  <script src=\"https://polisci.wustl.edu/sites/all/themes/olympian/js/site-load-more.js?rzg73c\" type=\"text/javascript\">\\n  </script>\\n  \\\\n\\n  <script src=\"https://polisci.wustl.edu/sites/all/themes/olympian/js/jquery.datepick.min.js?rzg73c\" type=\"text/javascript\">\\n  </script>\\n  \\\\n\\n  <script src=\"https://polisci.wustl.edu/sites/all/themes/olympian/js/jquery.inview.min.js?rzg73c\" type=\"text/javascript\">\\n  </script>\\n  \\\\n\\n  <script src=\"https://polisci.wustl.edu/sites/all/themes/olympian/js/jquery-ui.min.js?rzg73c\" type=\"text/javascript\">\\n  </script>\\n  \\\\n\\n  <script src=\"https://polisci.wustl.edu/sites/all/themes/olympian/js/courses.js?rzg73c\" type=\"text/javascript\">\\n  </script>\\n  \\\\n\\n  <script type=\"text/javascript\">\\n   \\\\n<!--//--><![CDATA[//><!--\\\\njQuery.extend(Drupal.settings, {\"basePath\":\"\\\\\\\\/\",\"pathPrefix\":\"\",\"setHasJsCookie\":0,\"ajaxPageState\":{\"theme\":\"olympian\",\"theme_token\":\"hUcsoD511fqDexwa7mX-tXbEa2sXPOvuzP6bgcE4Hrk\",\"js\":{\"misc\\\\\\\\/jquery.js\":1,\"misc\\\\\\\\/jquery-extend-3.4.0.js\":1,\"misc\\\\\\\\/jquery-html-prefilter-3.5.0-backport.js\":1,\"misc\\\\\\\\/jquery.once.js\":1,\"misc\\\\\\\\/drupal.js\":1,\"sites\\\\\\\\/all\\\\\\\\/modules\\\\\\\\/contrib\\\\\\\\/pms\\\\\\\\/js\\\\\\\\/prevent_multiple_submit.js\":1,\"sites\\\\\\\\/all\\\\\\\\/modules\\\\\\\\/contrib\\\\\\\\/google_analytics\\\\\\\\/googleanalytics.js\":1,\"https:\\\\\\\\/\\\\\\\\/www.googletagmanager.com\\\\\\\\/gtag\\\\\\\\/js?id=G-BFRZ21PBX1\":1,\"0\":1,\"sites\\\\\\\\/all\\\\\\\\/themes\\\\\\\\/olympian\\\\\\\\/js\\\\\\\\/jquery-3.1.1.min.js\":1,\"sites\\\\\\\\/all\\\\\\\\/themes\\\\\\\\/olympian\\\\\\\\/js\\\\\\\\/sc-player.js\":1,\"sites\\\\\\\\/all\\\\\\\\/themes\\\\\\\\/olympian\\\\\\\\/js\\\\\\\\/scrollreveal.min.js\":1,\"sites\\\\\\\\/all\\\\\\\\/themes\\\\\\\\/olympian\\\\\\\\/js\\\\\\\\/site.js\":1,\"sites\\\\\\\\/all\\\\\\\\/themes\\\\\\\\/olympian\\\\\\\\/js\\\\\\\\/soundcloud.player.api.js\":1,\"sites\\\\\\\\/all\\\\\\\\/themes\\\\\\\\/olympian\\\\\\\\/js\\\\\\\\/site-load-more.js\":1,\"sites\\\\\\\\/all\\\\\\\\/themes\\\\\\\\/olympian\\\\\\\\/js\\\\\\\\/jquery.datepick.min.js\":1,\"sites\\\\\\\\/all\\\\\\\\/themes\\\\\\\\/olympian\\\\\\\\/js\\\\\\\\/jquery.inview.min.js\":1,\"sites\\\\\\\\/all\\\\\\\\/themes\\\\\\\\/olympian\\\\\\\\/js\\\\\\\\/jquery-ui.min.js\":1,\"sites\\\\\\\\/all\\\\\\\\/themes\\\\\\\\/olympian\\\\\\\\/js\\\\\\\\/courses.js\":1},\"css\":{\"modules\\\\\\\\/system\\\\\\\\/system.base.css\":1,\"modules\\\\\\\\/system\\\\\\\\/system.messages.css\":1,\"modules\\\\\\\\/aggregator\\\\\\\\/aggregator.css\":1,\"sites\\\\\\\\/all\\\\\\\\/modules\\\\\\\\/contrib\\\\\\\\/date\\\\\\\\/date_api\\\\\\\\/date.css\":1,\"sites\\\\\\\\/all\\\\\\\\/modules\\\\\\\\/contrib\\\\\\\\/date\\\\\\\\/date_popup\\\\\\\\/themes\\\\\\\\/datepicker.1.7.css\":1,\"sites\\\\\\\\/all\\\\\\\\/modules\\\\\\\\/contrib\\\\\\\\/date\\\\\\\\/date_repeat_field\\\\\\\\/date_repeat_field.css\":1,\"modules\\\\\\\\/field\\\\\\\\/theme\\\\\\\\/field.css\":1,\"modules\\\\\\\\/node\\\\\\\\/node.css\":1,\"modules\\\\\\\\/search\\\\\\\\/search.css\":1,\"sites\\\\\\\\/all\\\\\\\\/modules\\\\\\\\/contrib\\\\\\\\/shared_content\\\\\\\\/shared_content.css\":1,\"modules\\\\\\\\/user\\\\\\\\/user.css\":1,\"sites\\\\\\\\/all\\\\\\\\/modules\\\\\\\\/contrib\\\\\\\\/video_filter\\\\\\\\/video_filter.css\":1,\"sites\\\\\\\\/all\\\\\\\\/modules\\\\\\\\/custom\\\\\\\\/wucrsl \\\\\\\\/css\\\\\\\\/wucrsl.css\":1,\"sites\\\\\\\\/all\\\\\\\\/modules\\\\\\\\/contrib\\\\\\\\/views\\\\\\\\/css\\\\\\\\/views.css\":1,\"sites\\\\\\\\/all\\\\\\\\/modules\\\\\\\\/contrib\\\\\\\\/ckeditor_image2\\\\\\\\/ckeditor_image2.responsive.css\":1,\"sites\\\\\\\\/all\\\\\\\\/modules\\\\\\\\/contrib\\\\\\\\/ctools\\\\\\\\/css\\\\\\\\/ctools.css\":1,\"sites\\\\\\\\/all\\\\\\\\/modules\\\\\\\\/contrib\\\\\\\\/shib_auth\\\\\\\\/shib_auth.css\":1,\"sites\\\\\\\\/all\\\\\\\\/modules\\\\\\\\/contrib\\\\\\\\/content_type_extras\\\\\\\\/css\\\\\\\\/content_type_extras.css\":1,\"sites\\\\\\\\/all\\\\\\\\/themes\\\\\\\\/olympian\\\\\\\\/css\\\\\\\\/site.css\":1,\"sites\\\\\\\\/all\\\\\\\\/themes\\\\\\\\/olympian\\\\\\\\/css\\\\\\\\/people-filter.css\":1,\"sites\\\\\\\\/all\\\\\\\\/themes\\\\\\\\/olympian\\\\\\\\/css\\\\\\\\/people-list.css\":1,\"sites\\\\\\\\/all\\\\\\\\/themes\\\\\\\\/olympian\\\\\\\\/css\\\\\\\\/events-only.css\":1,\"sites\\\\\\\\/all\\\\\\\\/themes\\\\\\\\/olympian\\\\\\\\/css\\\\\\\\/ampersand.css\":1,\"sites\\\\\\\\/all\\\\\\\\/themes\\\\\\\\/olympian\\\\\\\\/css\\\\\\\\/courses.css\":1,\"sites\\\\\\\\/all\\\\\\\\/themes\\\\\\\\/olympian\\\\\\\\/fonts\\\\\\\\/AthenaRuby\\\\\\\\/stylesheet.css\":1}},\"better_exposed_filters\":{\"views\":{\"faculty\":{\"displays\":{\"grid\":{\"filters\":[]}}}}},\"urlIsAjaxTrusted\":{\"\\\\\\\\/people\\\\\\\\/search\":true,\"\\\\\\\\/search\":true},\"selective_tweets\":{\"tweets\":{\"theme\":\"light\",\"initial_load_url\":\"https:\\\\\\\\/\\\\\\\\/polisci.wustl.edu\\\\\\\\/selective-tweets\\\\\\\\/feed\\\\\\\\/load\\\\\\\\/tweets\\\\\\\\/no-context\\\\\\\\/0\"},\"tweets_for_publication_pages\":{\"theme\":\"light\",\"initial_load_url\":\"https:\\\\\\\\/\\\\\\\\/polisci.wustl.edu\\\\\\\\/selective-tweets\\\\\\\\/feed\\\\\\\\/load\\\\\\\\/tweets_for_publication_pages\\\\\\\\/no-context\\\\\\\\/0\"}},\"googleanalytics\":{\"account\":[\"G-BFRZ21PBX1\"],\"trackOutbound\":1,\"trackMailto\":1,\"trackDownload\":1,\"trackDownloadExtensions\":\"7z|aac|arc|arj|asf|asx|avi|bin|csv|doc(x|m)?|dot(x|m)?|exe|flv|gif|gz|gzip|hqx|jar|jpe?g|js|mp(2|3|4|e?g)|mov(ie)?|msi|msp|pdf|phps|png|ppt(x|m)?|pot(x|m)?|pps(x|m)?|ppam|sld(x|m)?|thmx|qtm?|ra(m|r)?|sea|sit|tar|tgz|torrent|txt|wav|wma|wmv|wpd|xls(x|m|b)?|xlt(x|m)|xlam|xml|z|zip\"}});\\\\n//--><!]]>\\\\n\\n  </script>\\n  \\\\n\\n  <script type=\"text/javascript\">\\n   \\\\n/*<![CDATA[*/\\\\n(function() {\\\\nvar sz = document.createElement(\\\\\\'script\\\\\\'); sz.type = \\\\\\'text/javascript\\\\\\'; sz.async = true;\\\\nsz.src = \\\\\\'//siteimproveanalytics.com/js/siteanalyze_17097.js\\\\\\';\\\\nvar s = document.getElementsByTagName(\\\\\\'script\\\\\\')[0]; s.parentNode.insertBefore(sz, s);\\\\n})();\\\\n/*]]>*/\\\\n\\n  </script>\\n  <script async=\"\" defer=\"\" id=\"hs-script-loader\" src=\"js.hs-scripts.com/23166546.js\" type=\"text/javascript\">\\n  </script>\\n  \\'\\n </body>\\n</html>'"
      ]
     },
     "execution_count": 26,
     "metadata": {},
     "output_type": "execute_result"
    }
   ],
   "source": [
    "with open('polisci_ppl.html') as f:\n",
    "  myfile = f.read()\n",
    "  soup = BeautifulSoup(myfile)\n",
    "soup.prettify()"
   ]
  },
  {
   "cell_type": "markdown",
   "metadata": {},
   "source": [
    "- Tip 2: You may also write directly from a website to a `csv` file. This is good practice as it ensures a break 10 hours into the process does not erase all of your data. \n",
    "- Tip 3: Use Exception Handling techniques that we covered in Day03"
   ]
  },
  {
   "cell_type": "code",
   "execution_count": 27,
   "metadata": {},
   "outputs": [],
   "source": [
    "with open('iceland_test.csv', 'w') as f: # set up with the writer\n",
    "  w = csv.DictWriter(f, fieldnames = (\"name\", \"party\", \"phone\")) # define column names\n",
    "  w.writeheader() # write the header\n",
    "  web_address='https://www.althingi.is/altext/cv/en/' # the web address\n",
    "  web_page = urllib.request.urlopen(web_address) # open the web page\n",
    "  soup = BeautifulSoup(web_page.read()) # soup the web page\n",
    "  all_members = soup.find_all('tr') # find the list of names and parties\n",
    "  for i in range(1,3): # for members 1 and 2 (member 0 is just the table heading)\n",
    "    # you should also add try/except language to ensure a weird item doesn't break your whole scraper\n",
    "    try:\n",
    "      member = {} ## empty dictionary to fill in\n",
    "      member_i = all_members[i].find_all('td') # subset lower to each individual item\n",
    "      member[\"name\"] = member_i[0].text # member's name\n",
    "      member['party'] =  member_i[1].text # member's party\n",
    "      inner_page_url = web_address + member_i[0].a['href'] # get the extension to their personal page\n",
    "      inner_page = urllib.request.urlopen(inner_page_url) # open the personal page\n",
    "      inner_soup = BeautifulSoup(inner_page.read()) # soup the personal page\n",
    "      member['phone'] = inner_soup.find('a', {'class' : 'tel'}).text # get phone number\n",
    "    except:\n",
    "      member['name'] = 'NA'\n",
    "      member['party'] = 'NA'\n",
    "      member['phone'] = 'NA'\n",
    "    w.writerow(member) # write the row for this specific member\n",
    "    time.sleep(random.uniform(1, 5)) # be polite, sleep!"
   ]
  },
  {
   "cell_type": "code",
   "execution_count": null,
   "metadata": {},
   "outputs": [],
   "source": [
    "# Copyright of the original version:\n",
    "\n",
    "# Copyright (c) 2014 Matt Dickenson\n",
    "# \n",
    "# Permission is hereby granted, free of charge, to any person obtaining a copy\n",
    "# of this software and associated documentation files (the \"Software\"), to deal\n",
    "# in the Software without restriction, including without limitation the rights\n",
    "# to use, copy, modify, merge, publish, distribute, sublicense, and/or sell\n",
    "# copies of the Software, and to permit persons to whom the Software is\n",
    "# furnished to do so, subject to the following conditions:\n",
    "# \n",
    "# The above copyright notice and this permission notice shall be included in all\n",
    "# copies or substantial portions of the Software.\n",
    "# \n",
    "# THE SOFTWARE IS PROVIDED \"AS IS\", WITHOUT WARRANTY OF ANY KIND, EXPRESS OR\n",
    "# IMPLIED, INCLUDING BUT NOT LIMITED TO THE WARRANTIES OF MERCHANTABILITY,\n",
    "# FITNESS FOR A PARTICULAR PURPOSE AND NONINFRINGEMENT. IN NO EVENT SHALL THE\n",
    "# AUTHORS OR COPYRIGHT HOLDERS BE LIABLE FOR ANY CLAIM, DAMAGES OR OTHER\n",
    "# LIABILITY, WHETHER IN AN ACTION OF CONTRACT, TORT OR OTHERWISE, ARISING FROM,\n",
    "# OUT OF OR IN CONNECTION WITH THE SOFTWARE OR THE USE OR OTHER DEALINGS IN THE\n",
    "# SOFTWARE."
   ]
  }
 ],
 "metadata": {
  "kernelspec": {
   "display_name": "base",
   "language": "python",
   "name": "python3"
  },
  "language_info": {
   "codemirror_mode": {
    "name": "ipython",
    "version": 3
   },
   "file_extension": ".py",
   "mimetype": "text/x-python",
   "name": "python",
   "nbconvert_exporter": "python",
   "pygments_lexer": "ipython3",
   "version": "3.9.13"
  },
  "orig_nbformat": 4
 },
 "nbformat": 4,
 "nbformat_minor": 2
}
