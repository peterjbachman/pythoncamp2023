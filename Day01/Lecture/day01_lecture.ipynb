{
 "cells": [
  {
   "cell_type": "markdown",
   "metadata": {},
   "source": [
    "#### Day 1: Git and Data Structures\n",
    "\n",
    "##### Part 1: Git and Github \n",
    "\n",
    "- Git is a version control system that allows developers or programmers to track changes in their code. \n",
    "- GitHub is a web-based hosting service for git repositories. \n",
    "\n",
    "<br>\n",
    "\n",
    "For this course, you will need to use GitHub to get the course materials and submit your homework assignments to be graded. \n",
    "\n",
    "\n",
    "1. Install GitHub\n",
    "    - Go to www.github.com\n",
    "    - Create an account if you do not already have one. \n",
    "    - Follow these instructions (https://github.com/git-guides/install-git) to install git on any OS. \n",
    "        - For MAC users, follow the \"Install Git from Homebrew\" section is the easiest. \n",
    "\n",
    "<br>\n",
    "\n",
    "2. Open up your Terminal / Commandline. Make sure you know where it is, since we will use it very often!\n",
    "\n",
    "3. Go to our class repository on GitHub (i.e., click the link here):\n",
    "    https://github.com/CeciliaYSui/pythoncamp2023 \n",
    "\n",
    "4. `fork` the class repository:\n",
    "    - Click on the `fork` in the top right corner. This will launch an animation, after which, you should end up on your own forked repository. \n",
    "    - This url should read like https://github.com/YOURUSERNAME/pythoncamp2023 \n",
    "\n",
    "<br>    \n",
    "\n",
    "5. `clone` your repository: \n",
    "    - Click the green `code` button and click the clipboard icon next to the url. \n",
    "    - Open terminal and use `cd` to go to the folder where you want to clone the repository. (Might be the easiest to have it on your Desktop? Just make sure you know where it is and you can find it.)\n",
    "    - Type `git clone LINK_YOU_JUST_COPIED_FROM_THE_WEBSITE` and then hit enter.\n",
    "\n",
    "#### 👏  Great job! You now have your own repository for the course!\n",
    "\n",
    "<br>\n",
    "\n",
    "Now you need to let GitHub know that _my_ repository is the origin repository so you can pull down changes later (where I will share all the course materials).\n",
    "\n",
    "1. `cd` to the folder you just created. In terminal, type `git remote -v` and you will likely see: \n",
    "    - origin https://github.com/YOUR_USERNAME/YOUR_FORK.git (fetch)\n",
    "    - origin https://github.com/YOUR_USERNAME/YOUR_FORK.git (push)\n",
    "\n",
    "<br>\n",
    "\n",
    "2. In terminal, type `git remote add upstream LINK_YOU_COPIED_FROM_MY_REPOSITORY`\n",
    "    - This tells GitHub that my repository is the origin\n",
    "\n",
    "<br>\n",
    "\n",
    "3. If you did this correctly, when you type `git remote -v`, you should see something like:\n",
    "    - origin https://github.com/YOUR_USERNAME/YOUR_FORK.git (fetch)\n",
    "    - origin https://github.com/YOUR_USERNAME/YOUR_FORK.git (push)\n",
    "    - upstream https://github.com/ORIGINAL_OWNER/ORIGINAL_REPOSITORY.git (fetch) \n",
    "    - upstream https://github.com/ORIGINAL_OWNER/ORIGINAL_REPOSITORY.git (push)\n",
    "\n",
    "\n",
    "Once you have this folder on your computer, you can work on files within it or save new files to it. \n",
    "\n",
    "However, any changes you make locally will not sync to GitHub until you **push** them.\n",
    "\n",
    "\n",
    "<br>\n",
    "\n",
    "#### To Pull changes to GitHub: \n",
    "Pulling will add changes from the origin (i.e. my repository, when I share new materials) to your repository. It will NOT overwrite anything you have added on your end. So don't worry!\n",
    "1. In Terminal, navigate to the local repository on your computer. \n",
    "2. Type `git fetch upstream`\n",
    "3. Type `git checkout main`\n",
    "4. Type `git merge upstream/main`\n",
    "\n",
    "I will now add day01's lecture on to my repository. Then try to pull the changes. \n",
    "\n",
    "If you have everything correctly, you should now have access to day01's lecture .ipynb file locally. \n",
    "\n",
    "\n",
    "#### To Push changes to GitHub: \n",
    "1. Use `cd` to navigate to the folder on your computer. \n",
    "2. `git status` allows you to check your uncommitted changes. \n",
    "3. `git add --all` or `git add *` adds all of your changes to be committed.\n",
    "4. `git add FILENAME` adds just one file \n",
    "5. `git commit -m \"YOUR SHORT MESSAGE\"` commits the changes. Please put infromative message here.\n",
    "6. `git push` pushes your changes to GitHub remotely where everyone could see it (of course, if it is public).\n",
    "\n",
    "<br>\n",
    "\n",
    "***"
   ]
  },
  {
   "cell_type": "markdown",
   "metadata": {},
   "source": [
    "##### Part 2: Syntax, Loops, and Functions\n",
    "\n",
    "Types of Objects: \n",
    "1. Variable: A simple object, for example, `a = 1`\n",
    "2. List: [], A list is a collection of objects which is ordered and mutable \n",
    "3. Tuple: (), A tuple is a collection of objects which is ordered and immutable\n",
    "4. Dictionary: {}, A dictionary is a collection which is unordered, changeable and indexed objects"
   ]
  },
  {
   "cell_type": "markdown",
   "metadata": {},
   "source": [
    "Operators: \n",
    "- Addition\t\t\t\t\tx `+` y\n",
    "- Subtraction\t\t\t\tx `-` y\t\n",
    "- Multiplication\t\t\tx `*` y\t\n",
    "- Division\t\t\t\t\tx `/` y\t\n",
    "- Modulus\t\t\t\t\tx `%` y\t\n",
    "- Exponentiation  \t\t\tx `**` y\t\n",
    "- Floor division\t\t\tx `//` y\n",
    "- Equal\t\t\t\t\t\tx `==` y\t\n",
    "- Not equal\t\t\t\t\tx `!=` y\t\n",
    "- Greater than\t\t\t\tx `>` y\t\n",
    "- Less than\t\t\t\t\tx `<` y\t\n",
    "- Greater than or equal to\tx `>=` y\t\n",
    "- Less than or equal to\t\tx `<=` y\n",
    "\n",
    "- `and`, Returns True if both statements are true\n",
    "- `or`, Returns True if one of the statements is true\n",
    "- `not`, Reverse the result, returns False if the result is true\n",
    "- `is`, Returns True if both variables are the same object\n",
    "- `in`, Returns True if a sequence with the specified value is present in the object\n",
    "\n",
    "<br>\n",
    "\n",
    "Tips: \n",
    "- Be careful! Python is case-sensitive!\n",
    "- See https://www.w3schools.com/python/python_operators.asp for a complete list."
   ]
  },
  {
   "cell_type": "markdown",
   "metadata": {},
   "source": [
    "#### 2.1 Data Type: Strings"
   ]
  },
  {
   "cell_type": "code",
   "execution_count": 3,
   "metadata": {},
   "outputs": [],
   "source": [
    "# Single Quotes\n",
    "name = 'Cecilia'"
   ]
  },
  {
   "cell_type": "code",
   "execution_count": 4,
   "metadata": {},
   "outputs": [],
   "source": [
    "# Double Quotes \n",
    "# Can only use double quotes for strings that contain single quote characters \n",
    "age = \"24\""
   ]
  },
  {
   "cell_type": "code",
   "execution_count": 7,
   "metadata": {},
   "outputs": [],
   "source": [
    "# Combining strings, using .format{}\n",
    "intro =  \"Hi, my name is {}. I'm {} years old.\".format(name, age)"
   ]
  },
  {
   "cell_type": "code",
   "execution_count": 13,
   "metadata": {},
   "outputs": [],
   "source": [
    "# Combining strings, using +\n",
    "intro = \"Hi, I'm \" + name + \", I'm \" + age"
   ]
  },
  {
   "cell_type": "code",
   "execution_count": 17,
   "metadata": {},
   "outputs": [
    {
     "name": "stdout",
     "output_type": "stream",
     "text": [
      "Hello!,\n",
      "I'm Cecilia. \n",
      "What's up?\n"
     ]
    }
   ],
   "source": [
    "# Triple Quotes, it produces a string that spans multiple lines\n",
    "new_intro = \"\"\"Hello!,\n",
    "I'm Cecilia. \n",
    "What's up?\"\"\"\n",
    "print(new_intro)\n",
    "# new_intro"
   ]
  },
  {
   "cell_type": "code",
   "execution_count": 18,
   "metadata": {},
   "outputs": [
    {
     "data": {
      "text/plain": [
       "\"Hi, I'm Cecilia, I'm 24\""
      ]
     },
     "execution_count": 18,
     "metadata": {},
     "output_type": "execute_result"
    }
   ],
   "source": [
    "# Characters in a string are indexable\n",
    "intro"
   ]
  },
  {
   "cell_type": "code",
   "execution_count": 19,
   "metadata": {},
   "outputs": [
    {
     "data": {
      "text/plain": [
       "'H'"
      ]
     },
     "execution_count": 19,
     "metadata": {},
     "output_type": "execute_result"
    }
   ],
   "source": [
    "intro[0] # Indexing starts at 0! not 1! \n",
    "# intro[3]"
   ]
  },
  {
   "cell_type": "code",
   "execution_count": null,
   "metadata": {},
   "outputs": [],
   "source": [
    "# Strings are immutable, we cannot replace a character in a string\n",
    "# intro[0] = \"a\""
   ]
  },
  {
   "cell_type": "code",
   "execution_count": 20,
   "metadata": {},
   "outputs": [
    {
     "data": {
      "text/plain": [
       "\"Hi, I'm Cecilia, I'm 24. I'm from China.\""
      ]
     },
     "execution_count": 20,
     "metadata": {},
     "output_type": "execute_result"
    }
   ],
   "source": [
    "# But, we can use a string to modify itself\n",
    "intro = intro + \". I'm from China.\"\n",
    "intro"
   ]
  },
  {
   "cell_type": "code",
   "execution_count": 21,
   "metadata": {},
   "outputs": [
    {
     "data": {
      "text/plain": [
       "'Cecilia Sui'"
      ]
     },
     "execution_count": 21,
     "metadata": {},
     "output_type": "execute_result"
    }
   ],
   "source": [
    "# We can also use +=\n",
    "name += ' Sui' # same as name = name + ' Sui'\n",
    "name"
   ]
  },
  {
   "cell_type": "code",
   "execution_count": 22,
   "metadata": {},
   "outputs": [
    {
     "data": {
      "text/plain": [
       "['Cecilia', 'Sui']"
      ]
     },
     "execution_count": 22,
     "metadata": {},
     "output_type": "execute_result"
    }
   ],
   "source": [
    "# Though strings are immutable, we can split them\n",
    "name.split() # Using ' ' as the default separator"
   ]
  },
  {
   "cell_type": "code",
   "execution_count": 23,
   "metadata": {},
   "outputs": [
    {
     "data": {
      "text/plain": [
       "['Cec', 'l', 'a Su', '']"
      ]
     },
     "execution_count": 23,
     "metadata": {},
     "output_type": "execute_result"
    }
   ],
   "source": [
    "# We can use any separator\n",
    "name.split(sep = 'i')\n",
    "# new_intro.split('\\n') ## Using line break as separator"
   ]
  },
  {
   "cell_type": "code",
   "execution_count": 27,
   "metadata": {},
   "outputs": [
    {
     "data": {
      "text/plain": [
       "'y'"
      ]
     },
     "execution_count": 27,
     "metadata": {},
     "output_type": "execute_result"
    }
   ],
   "source": [
    "# We can index using negative numbers \n",
    "wustl = 'WashingtonUniversity'\n",
    "wustl[-1] \n",
    "\n",
    "# Check how the characters are positioned...\n",
    "#  0   1   2   3   4   5   6   7   8   9  10 11 12 13 14 15 16 17 18 19\n",
    "#  W   a   s   h   i   n   g   t   o   n   U  n  i  v  e  r  s  i  t  y\n",
    "#-20 -19 -18 -17 -16 -15 -14 -13 -12 -11 -10 -9 -8 -7 -6 -5 -4 -3 -2 -1\n",
    "# Notice that W is 0, but y is -1"
   ]
  },
  {
   "cell_type": "code",
   "execution_count": 28,
   "metadata": {},
   "outputs": [
    {
     "data": {
      "text/plain": [
       "'shingtonUniversity'"
      ]
     },
     "execution_count": 28,
     "metadata": {},
     "output_type": "execute_result"
    }
   ],
   "source": [
    "# We can recover multiple characters from a string:\n",
    "wustl[2:] ## index 2 through end"
   ]
  },
  {
   "cell_type": "code",
   "execution_count": 29,
   "metadata": {},
   "outputs": [
    {
     "data": {
      "text/plain": [
       "'ty'"
      ]
     },
     "execution_count": 29,
     "metadata": {},
     "output_type": "execute_result"
    }
   ],
   "source": [
    "wustl[-2:] ## index -2 through end"
   ]
  },
  {
   "cell_type": "code",
   "execution_count": 31,
   "metadata": {},
   "outputs": [
    {
     "data": {
      "text/plain": [
       "'Wa'"
      ]
     },
     "execution_count": 31,
     "metadata": {},
     "output_type": "execute_result"
    }
   ],
   "source": [
    "wustl[:2] ## up to index 2, NOT inclusive at the index"
   ]
  },
  {
   "cell_type": "code",
   "execution_count": 32,
   "metadata": {},
   "outputs": [
    {
     "data": {
      "text/plain": [
       "'WashingtonUniversi'"
      ]
     },
     "execution_count": 32,
     "metadata": {},
     "output_type": "execute_result"
    }
   ],
   "source": [
    "wustl[:-2] # up to index -2"
   ]
  },
  {
   "cell_type": "code",
   "execution_count": 34,
   "metadata": {},
   "outputs": [
    {
     "data": {
      "text/plain": [
       "'ashingt'"
      ]
     },
     "execution_count": 34,
     "metadata": {},
     "output_type": "execute_result"
    }
   ],
   "source": [
    "wustl[1:8] # sequence, from index 1 to 7, \n",
    "# remember: Python indexes are n through i exclusive; we drop the 'W' (index 0) and do not include 'o' (index 8)"
   ]
  },
  {
   "cell_type": "code",
   "execution_count": 35,
   "metadata": {},
   "outputs": [
    {
     "data": {
      "text/plain": [
       "'WsigoUiest'"
      ]
     },
     "execution_count": 35,
     "metadata": {},
     "output_type": "execute_result"
    }
   ],
   "source": [
    "wustl[::2] ## sequence, every other"
   ]
  },
  {
   "cell_type": "code",
   "execution_count": 38,
   "metadata": {},
   "outputs": [
    {
     "data": {
      "text/plain": [
       "'ytisrevinUnotgnihsaW'"
      ]
     },
     "execution_count": 38,
     "metadata": {},
     "output_type": "execute_result"
    }
   ],
   "source": [
    "wustl[::-1] ## sequence, reverse the string"
   ]
  },
  {
   "cell_type": "code",
   "execution_count": 39,
   "metadata": {},
   "outputs": [
    {
     "data": {
      "text/plain": [
       "['W',\n",
       " 'a',\n",
       " 's',\n",
       " 'h',\n",
       " 'i',\n",
       " 'n',\n",
       " 'g',\n",
       " 't',\n",
       " 'o',\n",
       " 'n',\n",
       " 'U',\n",
       " 'n',\n",
       " 'i',\n",
       " 'v',\n",
       " 'e',\n",
       " 'r',\n",
       " 's',\n",
       " 'i',\n",
       " 't',\n",
       " 'y']"
      ]
     },
     "execution_count": 39,
     "metadata": {},
     "output_type": "execute_result"
    }
   ],
   "source": [
    "# We can use a loop to split a string into characters\n",
    "[letter for letter in wustl] # the output is a list, more on this below"
   ]
  },
  {
   "cell_type": "code",
   "execution_count": 46,
   "metadata": {},
   "outputs": [
    {
     "data": {
      "text/plain": [
       "'W-a-s-h-i-n-g-t-o-n-U-n-i-v-e-r-s-i-t-y'"
      ]
     },
     "execution_count": 46,
     "metadata": {},
     "output_type": "execute_result"
    }
   ],
   "source": [
    "# We can join strings in a list using join\n",
    "wustl_chr = [letter for letter in wustl] \n",
    "# wustl_chr\n",
    "'-'.join(wustl_chr) # the output is a string"
   ]
  },
  {
   "cell_type": "markdown",
   "metadata": {},
   "source": [
    "#### 2.2 Data Type: Integers"
   ]
  },
  {
   "cell_type": "code",
   "execution_count": 47,
   "metadata": {},
   "outputs": [
    {
     "data": {
      "text/plain": [
       "1.5"
      ]
     },
     "execution_count": 47,
     "metadata": {},
     "output_type": "execute_result"
    }
   ],
   "source": [
    "# We can use all mathematical operators with them\n",
    "# Integers are not rounded down in Python 3\n",
    "3/2 # result is a float not integer \n",
    "# type(3/2)"
   ]
  },
  {
   "cell_type": "code",
   "execution_count": 48,
   "metadata": {},
   "outputs": [
    {
     "data": {
      "text/plain": [
       "1"
      ]
     },
     "execution_count": 48,
     "metadata": {},
     "output_type": "execute_result"
    }
   ],
   "source": [
    "whole = 5//3\n",
    "whole"
   ]
  },
  {
   "cell_type": "code",
   "execution_count": 49,
   "metadata": {},
   "outputs": [
    {
     "data": {
      "text/plain": [
       "2"
      ]
     },
     "execution_count": 49,
     "metadata": {},
     "output_type": "execute_result"
    }
   ],
   "source": [
    "remainder = 5 % 3\n",
    "remainder"
   ]
  },
  {
   "cell_type": "code",
   "execution_count": 53,
   "metadata": {},
   "outputs": [
    {
     "name": "stdout",
     "output_type": "stream",
     "text": [
      "This will print both a string: a name Cecilia Sui and a number: 1\n",
      "This will print both a string: a name Cecilia Sui and a number: 1\n"
     ]
    }
   ],
   "source": [
    "# these two formats are similar, however, format is more flexible in many instances \n",
    "print('This will print both a string: a name {} and a number: {}'.format(name, whole))\n",
    "print('This will print both a string: a name %s and a number: %d' % (name, whole))\n",
    "# print('This will cause an error: %d, %d' % (name, whole))"
   ]
  },
  {
   "cell_type": "code",
   "execution_count": 55,
   "metadata": {},
   "outputs": [],
   "source": [
    "# As with strings, the assignment is flexible\n",
    "five = 5"
   ]
  },
  {
   "cell_type": "code",
   "execution_count": 56,
   "metadata": {},
   "outputs": [],
   "source": [
    "five += 1"
   ]
  },
  {
   "cell_type": "code",
   "execution_count": 58,
   "metadata": {},
   "outputs": [],
   "source": [
    "five /= 3"
   ]
  },
  {
   "cell_type": "code",
   "execution_count": 60,
   "metadata": {},
   "outputs": [],
   "source": [
    "five -= 1"
   ]
  },
  {
   "cell_type": "code",
   "execution_count": 61,
   "metadata": {},
   "outputs": [],
   "source": [
    "five *= 2"
   ]
  },
  {
   "cell_type": "code",
   "execution_count": 62,
   "metadata": {},
   "outputs": [
    {
     "data": {
      "text/plain": [
       "2.0"
      ]
     },
     "execution_count": 62,
     "metadata": {},
     "output_type": "execute_result"
    }
   ],
   "source": [
    "five"
   ]
  },
  {
   "cell_type": "code",
   "execution_count": 63,
   "metadata": {},
   "outputs": [
    {
     "data": {
      "text/plain": [
       "float"
      ]
     },
     "execution_count": 63,
     "metadata": {},
     "output_type": "execute_result"
    }
   ],
   "source": [
    "type(five)"
   ]
  },
  {
   "cell_type": "markdown",
   "metadata": {},
   "source": [
    "#### 2.3 Data Type: Float "
   ]
  },
  {
   "cell_type": "code",
   "execution_count": 67,
   "metadata": {},
   "outputs": [
    {
     "data": {
      "text/plain": [
       "float"
      ]
     },
     "execution_count": 67,
     "metadata": {},
     "output_type": "execute_result"
    }
   ],
   "source": [
    "# Real numbers\n",
    "# Add decimal to integer\n",
    "# type(12) # integer\n",
    "type(12.0) # float"
   ]
  },
  {
   "cell_type": "code",
   "execution_count": 69,
   "metadata": {},
   "outputs": [
    {
     "data": {
      "text/plain": [
       "True"
      ]
     },
     "execution_count": 69,
     "metadata": {},
     "output_type": "execute_result"
    }
   ],
   "source": [
    "# In Python 3, these are equal. \n",
    "12/5 == 12.0/5"
   ]
  },
  {
   "cell_type": "code",
   "execution_count": 68,
   "metadata": {},
   "outputs": [
    {
     "data": {
      "text/plain": [
       "True"
      ]
     },
     "execution_count": 68,
     "metadata": {},
     "output_type": "execute_result"
    }
   ],
   "source": [
    "12 == 12.0\n",
    "# type(12) is type(12.0)"
   ]
  },
  {
   "cell_type": "markdown",
   "metadata": {},
   "source": [
    "#### 2.4 Data Type: List"
   ]
  },
  {
   "cell_type": "code",
   "execution_count": null,
   "metadata": {},
   "outputs": [],
   "source": [
    "# A list is a collection of objects which is ordered and mutable \n",
    "# Lists can be changed\n",
    "# Lists can include multiple object types\n",
    "# Lists will probably be your go-to storage in Python\n",
    "# Similar to vectors in R, but more flexible"
   ]
  },
  {
   "cell_type": "code",
   "execution_count": 71,
   "metadata": {},
   "outputs": [
    {
     "data": {
      "text/plain": [
       "list"
      ]
     },
     "execution_count": 71,
     "metadata": {},
     "output_type": "execute_result"
    }
   ],
   "source": [
    "wustl_chr \n",
    "# type(wustl_chr)"
   ]
  },
  {
   "cell_type": "code",
   "execution_count": 72,
   "metadata": {},
   "outputs": [
    {
     "data": {
      "text/plain": [
       "['W',\n",
       " 'a',\n",
       " 's',\n",
       " 'h',\n",
       " 'i',\n",
       " 'n',\n",
       " 'g',\n",
       " 't',\n",
       " 'o',\n",
       " 'n',\n",
       " 'U',\n",
       " 'n',\n",
       " 'i',\n",
       " 'v',\n",
       " 'e',\n",
       " 'r',\n",
       " 's',\n",
       " 'i',\n",
       " 't',\n",
       " 'y',\n",
       " 'P']"
      ]
     },
     "execution_count": 72,
     "metadata": {},
     "output_type": "execute_result"
    }
   ],
   "source": [
    "# We can add a new element to a list using the method append()\n",
    "wustl_chr.append('P')\n",
    "wustl_chr"
   ]
  },
  {
   "cell_type": "code",
   "execution_count": 73,
   "metadata": {},
   "outputs": [
    {
     "data": {
      "text/plain": [
       "['W',\n",
       " 'a',\n",
       " 's',\n",
       " 'h',\n",
       " 'i',\n",
       " 'n',\n",
       " 'g',\n",
       " 't',\n",
       " 'o',\n",
       " 'n',\n",
       " 'U',\n",
       " 'n',\n",
       " 'i',\n",
       " 'v',\n",
       " 'e',\n",
       " 'r',\n",
       " 's',\n",
       " 'i',\n",
       " 't',\n",
       " 'y',\n",
       " 'P',\n",
       " 1,\n",
       " ['1']]"
      ]
     },
     "execution_count": 73,
     "metadata": {},
     "output_type": "execute_result"
    }
   ],
   "source": [
    "# Lists can include multiple types of objects\n",
    "wustl_chr.append(1)\n",
    "wustl_chr.append(['1'])\n",
    "wustl_chr"
   ]
  },
  {
   "cell_type": "code",
   "execution_count": 76,
   "metadata": {},
   "outputs": [
    {
     "data": {
      "text/plain": [
       "['W', 'a']"
      ]
     },
     "execution_count": 76,
     "metadata": {},
     "output_type": "execute_result"
    }
   ],
   "source": [
    "# We can index lists\n",
    "# wustl_chr[0]\n",
    "# wustl_chr[-1][0]\n",
    "wustl_chr[:2]"
   ]
  },
  {
   "cell_type": "code",
   "execution_count": 77,
   "metadata": {},
   "outputs": [
    {
     "data": {
      "text/plain": [
       "['X',\n",
       " 'a',\n",
       " 's',\n",
       " 'h',\n",
       " 'i',\n",
       " 'n',\n",
       " 'g',\n",
       " 't',\n",
       " 'o',\n",
       " 'n',\n",
       " 'U',\n",
       " 'n',\n",
       " 'i',\n",
       " 'v',\n",
       " 'e',\n",
       " 'r',\n",
       " 's',\n",
       " 'i',\n",
       " 't',\n",
       " 'y',\n",
       " 'P',\n",
       " 1,\n",
       " ['1']]"
      ]
     },
     "execution_count": 77,
     "metadata": {},
     "output_type": "execute_result"
    }
   ],
   "source": [
    "# We can also replace objects in a list\n",
    "wustl_chr[0] = 'X'\n",
    "wustl_chr"
   ]
  },
  {
   "cell_type": "code",
   "execution_count": 78,
   "metadata": {},
   "outputs": [
    {
     "data": {
      "text/plain": [
       "23"
      ]
     },
     "execution_count": 78,
     "metadata": {},
     "output_type": "execute_result"
    }
   ],
   "source": [
    "# We can use len() to get the length of a list\n",
    "len(wustl_chr)"
   ]
  },
  {
   "cell_type": "code",
   "execution_count": 79,
   "metadata": {},
   "outputs": [
    {
     "name": "stdout",
     "output_type": "stream",
     "text": [
      "['1']\n"
     ]
    }
   ],
   "source": [
    "# But, be careful because indexing starts at 0\n",
    "# print(wustl_chr[len(wustl_chr)]) # IndexError\n",
    "print(wustl_chr[len(wustl_chr) - 1]) # Return the object at the last index"
   ]
  },
  {
   "cell_type": "code",
   "execution_count": 81,
   "metadata": {},
   "outputs": [
    {
     "data": {
      "text/plain": [
       "['X',\n",
       " 'a',\n",
       " 's',\n",
       " 'h',\n",
       " 'i',\n",
       " '!',\n",
       " '!',\n",
       " 'n',\n",
       " 'g',\n",
       " 't',\n",
       " 'o',\n",
       " 'n',\n",
       " 'U',\n",
       " 'n',\n",
       " 'i',\n",
       " 'v',\n",
       " 'e',\n",
       " 'r',\n",
       " 's',\n",
       " 'i',\n",
       " 't',\n",
       " 'y',\n",
       " 'P',\n",
       " 1,\n",
       " ['1']]"
      ]
     },
     "execution_count": 81,
     "metadata": {},
     "output_type": "execute_result"
    }
   ],
   "source": [
    "# We can insert into any position using the method inset()\n",
    "wustl_chr.insert(5, \"!\")\n",
    "wustl_chr"
   ]
  },
  {
   "cell_type": "code",
   "execution_count": 82,
   "metadata": {},
   "outputs": [
    {
     "data": {
      "text/plain": [
       "['X',\n",
       " 's',\n",
       " 'h',\n",
       " 'i',\n",
       " '!',\n",
       " '!',\n",
       " 'n',\n",
       " 'g',\n",
       " 't',\n",
       " 'o',\n",
       " 'n',\n",
       " 'U',\n",
       " 'n',\n",
       " 'i',\n",
       " 'v',\n",
       " 'e',\n",
       " 'r',\n",
       " 's',\n",
       " 'i',\n",
       " 't',\n",
       " 'y',\n",
       " 'P',\n",
       " 1,\n",
       " ['1']]"
      ]
     },
     "execution_count": 82,
     "metadata": {},
     "output_type": "execute_result"
    }
   ],
   "source": [
    "# We can also remove from any position\n",
    "wustl_chr.pop(1)\n",
    "wustl_chr"
   ]
  },
  {
   "cell_type": "code",
   "execution_count": 83,
   "metadata": {},
   "outputs": [
    {
     "data": {
      "text/plain": [
       "['X',\n",
       " 's',\n",
       " 'h',\n",
       " 'i',\n",
       " '!',\n",
       " '!',\n",
       " 'n',\n",
       " 'g',\n",
       " 't',\n",
       " 'o',\n",
       " 'n',\n",
       " 'U',\n",
       " 'n',\n",
       " 'i',\n",
       " 'v',\n",
       " 'e',\n",
       " 'r',\n",
       " 's',\n",
       " 'i',\n",
       " 't',\n",
       " 'y',\n",
       " 'P',\n",
       " 1]"
      ]
     },
     "execution_count": 83,
     "metadata": {},
     "output_type": "execute_result"
    }
   ],
   "source": [
    "# We can remove the object at the last index using \n",
    "wustl_chr.pop()\n",
    "wustl_chr"
   ]
  },
  {
   "cell_type": "code",
   "execution_count": 84,
   "metadata": {},
   "outputs": [
    {
     "data": {
      "text/plain": [
       "['X',\n",
       " 's',\n",
       " 'h',\n",
       " 'i',\n",
       " '!',\n",
       " '!',\n",
       " 'g',\n",
       " 't',\n",
       " 'o',\n",
       " 'n',\n",
       " 'U',\n",
       " 'n',\n",
       " 'i',\n",
       " 'v',\n",
       " 'e',\n",
       " 'r',\n",
       " 's',\n",
       " 'i',\n",
       " 't',\n",
       " 'y',\n",
       " 'P',\n",
       " 1]"
      ]
     },
     "execution_count": 84,
     "metadata": {},
     "output_type": "execute_result"
    }
   ],
   "source": [
    "# We can also remove using a value with the method remove()\n",
    "# but notice, this removes the first instance\n",
    "wustl_chr.remove('n')\n",
    "wustl_chr "
   ]
  },
  {
   "cell_type": "code",
   "execution_count": 85,
   "metadata": {},
   "outputs": [
    {
     "data": {
      "text/plain": [
       "['X',\n",
       " 's',\n",
       " 'h',\n",
       " '!',\n",
       " '!',\n",
       " 'g',\n",
       " 't',\n",
       " 'o',\n",
       " 'n',\n",
       " 'U',\n",
       " 'n',\n",
       " 'v',\n",
       " 'e',\n",
       " 'r',\n",
       " 's',\n",
       " 't',\n",
       " 'y',\n",
       " 'P',\n",
       " 1]"
      ]
     },
     "execution_count": 85,
     "metadata": {},
     "output_type": "execute_result"
    }
   ],
   "source": [
    "# We can remove all instances from a list using list syntax\n",
    "# More on this later\n",
    "wustl_chr = [i for i in wustl_chr if i != 'i']\n",
    "wustl_chr"
   ]
  },
  {
   "cell_type": "code",
   "execution_count": 86,
   "metadata": {},
   "outputs": [
    {
     "data": {
      "text/plain": [
       "['__add__',\n",
       " '__class__',\n",
       " '__class_getitem__',\n",
       " '__contains__',\n",
       " '__delattr__',\n",
       " '__delitem__',\n",
       " '__dir__',\n",
       " '__doc__',\n",
       " '__eq__',\n",
       " '__format__',\n",
       " '__ge__',\n",
       " '__getattribute__',\n",
       " '__getitem__',\n",
       " '__gt__',\n",
       " '__hash__',\n",
       " '__iadd__',\n",
       " '__imul__',\n",
       " '__init__',\n",
       " '__init_subclass__',\n",
       " '__iter__',\n",
       " '__le__',\n",
       " '__len__',\n",
       " '__lt__',\n",
       " '__mul__',\n",
       " '__ne__',\n",
       " '__new__',\n",
       " '__reduce__',\n",
       " '__reduce_ex__',\n",
       " '__repr__',\n",
       " '__reversed__',\n",
       " '__rmul__',\n",
       " '__setattr__',\n",
       " '__setitem__',\n",
       " '__sizeof__',\n",
       " '__str__',\n",
       " '__subclasshook__',\n",
       " 'append',\n",
       " 'clear',\n",
       " 'copy',\n",
       " 'count',\n",
       " 'extend',\n",
       " 'index',\n",
       " 'insert',\n",
       " 'pop',\n",
       " 'remove',\n",
       " 'reverse',\n",
       " 'sort']"
      ]
     },
     "execution_count": 86,
     "metadata": {},
     "output_type": "execute_result"
    }
   ],
   "source": [
    "# We can check all the methods and attributes in a list using\n",
    "dir(wustl_chr)"
   ]
  },
  {
   "cell_type": "markdown",
   "metadata": {},
   "source": [
    "#### 2.5 Data Type: Tuples"
   ]
  },
  {
   "cell_type": "code",
   "execution_count": 93,
   "metadata": {},
   "outputs": [
    {
     "data": {
      "text/plain": [
       "[7, 'a', '6']"
      ]
     },
     "execution_count": 93,
     "metadata": {},
     "output_type": "execute_result"
    }
   ],
   "source": [
    "l = [7, 'a', '6']\n",
    "type(l)\n",
    "l"
   ]
  },
  {
   "cell_type": "code",
   "execution_count": 94,
   "metadata": {},
   "outputs": [
    {
     "data": {
      "text/plain": [
       "(7, 'a', '6')"
      ]
     },
     "execution_count": 94,
     "metadata": {},
     "output_type": "execute_result"
    }
   ],
   "source": [
    "l2 = (7, 'a', '6')\n",
    "type(l2)\n",
    "l2"
   ]
  },
  {
   "cell_type": "code",
   "execution_count": 95,
   "metadata": {},
   "outputs": [],
   "source": [
    "# Tuple: (), A tuple is a collection of objects which is ordered and immutable \n",
    "# Not very common, but useful occasionally and will appear from time to time\n",
    "\n",
    "# We use () to create a tuple\n",
    "tup = (1, 'a', 'a', 11, 6, 5, 'Apple', ['python', 'R'])"
   ]
  },
  {
   "cell_type": "code",
   "execution_count": null,
   "metadata": {},
   "outputs": [],
   "source": [
    "tup[1]\n",
    "# tup[1] = 'b'"
   ]
  },
  {
   "cell_type": "code",
   "execution_count": null,
   "metadata": {},
   "outputs": [],
   "source": [
    "# Let's check the methods available for tuples\n",
    "dir(tup)"
   ]
  },
  {
   "cell_type": "markdown",
   "metadata": {},
   "source": [
    "#### 2.6 Data Type: Dictionary"
   ]
  },
  {
   "cell_type": "code",
   "execution_count": null,
   "metadata": {},
   "outputs": [],
   "source": [
    "# A dictionary is a collection which is unordered, changeable and indexed \n",
    "\n",
    "# We use {} to create a dictionary\n",
    "myInfo = {\"name\" : \"Cecilia\", \"age\" : 24, \"research\" : [\"Methods\", \"American\"]}\n",
    "myInfo"
   ]
  },
  {
   "cell_type": "code",
   "execution_count": null,
   "metadata": {},
   "outputs": [],
   "source": [
    "# myInfo.keys() # return the dictionary's key\n",
    "myInfo.values() # return the dictionary's value"
   ]
  },
  {
   "cell_type": "code",
   "execution_count": null,
   "metadata": {},
   "outputs": [],
   "source": [
    "# myInfo[0] # We cannot use index\n",
    "\n",
    "# We can call entries by key\n",
    "myInfo[\"name\"]"
   ]
  },
  {
   "cell_type": "code",
   "execution_count": null,
   "metadata": {},
   "outputs": [],
   "source": [
    "# We can add new elements to a dictionary\n",
    "myInfo[\"last_name\"] = \"Sui\"\n",
    "myInfo"
   ]
  },
  {
   "cell_type": "code",
   "execution_count": null,
   "metadata": {},
   "outputs": [],
   "source": [
    "# We can modify elements\n",
    "myInfo[\"name\"] = 'Yuan'\n",
    "myInfo[\"research\"] = 'Methods'\n",
    "myInfo"
   ]
  },
  {
   "cell_type": "markdown",
   "metadata": {},
   "source": [
    "#### 2.7 Data Type: Booleans & Conditionals"
   ]
  },
  {
   "cell_type": "code",
   "execution_count": null,
   "metadata": {},
   "outputs": [],
   "source": [
    "# Perform an operation (or several) if condition is met (or not)\n",
    "x = 1\n",
    "\n",
    "if x == 1:\n",
    "\tprint('x is one')\n",
    "elif x == 2:\n",
    "\tprint('x is two')\n",
    "else:\n",
    "\tprint('x is neither one nor two')\n",
    "\t"
   ]
  },
  {
   "cell_type": "code",
   "execution_count": null,
   "metadata": {},
   "outputs": [],
   "source": [
    "# # Multiple lines of code:\n",
    "# # - Indentation matters!\n",
    "# # - Even an empty line with spaces can cause errors, \n",
    "# #   Python is very picky about this\n",
    "# if x == 1:\n",
    "# \tprint('x is one')\n",
    "# elif x == 2:\n",
    "# \tprint('x is two')\n",
    "# else:\n",
    "# print('x is neither one nor two') # IndentationError"
   ]
  },
  {
   "cell_type": "code",
   "execution_count": null,
   "metadata": {},
   "outputs": [],
   "source": [
    "# Can be conditions or boolean (True or False)\n",
    "True == (1 == 1.0) \n",
    "# TRUE == (1 == 1.0)  # Be careful, case sensitive. TRUE does not work"
   ]
  },
  {
   "cell_type": "code",
   "execution_count": null,
   "metadata": {},
   "outputs": [],
   "source": [
    "True == 1\n",
    "# False == 0"
   ]
  },
  {
   "cell_type": "markdown",
   "metadata": {},
   "source": [
    "#### 2.8 Data Type: Loops"
   ]
  },
  {
   "cell_type": "code",
   "execution_count": null,
   "metadata": {},
   "outputs": [],
   "source": [
    "# Two types of loops: for and while\n",
    "# for loop: loops over iterable objects\n",
    "# while loop: runs until condition is met \n",
    "\n",
    "# A string is an iterable object\n",
    "for i in wustl:\n",
    "\tprint(i)"
   ]
  },
  {
   "cell_type": "code",
   "execution_count": null,
   "metadata": {},
   "outputs": [],
   "source": [
    "# We can iterate over a dictionary items in Python 3\n",
    "for i in myInfo: # .items(): # .keys(): # .values(): \n",
    "\tprint(i) # Tuples!"
   ]
  },
  {
   "cell_type": "code",
   "execution_count": null,
   "metadata": {},
   "outputs": [],
   "source": [
    "# We can unpack the elements of a dictionary\n",
    "for k, v in myInfo.items():\n",
    "\tprint(k, '->', v) # What does this do? "
   ]
  },
  {
   "cell_type": "code",
   "execution_count": null,
   "metadata": {},
   "outputs": [],
   "source": [
    "# Sometimes is useful to write a short version of the for loop\n",
    "sum([.05**i for i in range(1,10)]) # What is happening here?"
   ]
  },
  {
   "cell_type": "code",
   "execution_count": null,
   "metadata": {},
   "outputs": [],
   "source": [
    "mynum = [] # instantiate an empty list\n",
    "for i in range(1,10):\n",
    "\tmynum.append(.05**i)\n",
    "# mynum\n",
    "sum(mynum) # Sum the values in the list"
   ]
  },
  {
   "cell_type": "code",
   "execution_count": null,
   "metadata": {},
   "outputs": [],
   "source": [
    "sum(mynum) == sum([.05**i for i in range(1,10)])"
   ]
  },
  {
   "cell_type": "code",
   "execution_count": null,
   "metadata": {},
   "outputs": [],
   "source": [
    "# While loop: loops while condition is true\n",
    "while len(wustl_chr) > 1:\n",
    "\twustl_chr.pop()\n",
    "# What happened to wustl_chr?\n",
    "wustl_chr "
   ]
  },
  {
   "cell_type": "code",
   "execution_count": 340,
   "metadata": {},
   "outputs": [],
   "source": [
    "# # Be careful with while loops, they can go forever\n",
    "# # in ipython or terminal, stop with 'control + c'\n",
    "# while True:\n",
    "# \tprint(i)"
   ]
  },
  {
   "cell_type": "code",
   "execution_count": 342,
   "metadata": {},
   "outputs": [
    {
     "name": "stdout",
     "output_type": "stream",
     "text": [
      "1\n",
      "2\n",
      "3\n",
      "4\n"
     ]
    }
   ],
   "source": [
    "# Useful statements when using loops:\n",
    "# break: stop the loop and go to the previous level\n",
    "for i in range(1, 10):\n",
    "\tif i == 5:\n",
    "\t\tbreak\n",
    "\tprint(i)"
   ]
  },
  {
   "cell_type": "code",
   "execution_count": 343,
   "metadata": {},
   "outputs": [
    {
     "name": "stdout",
     "output_type": "stream",
     "text": [
      "a\n",
      "1\n",
      "2\n",
      "3\n",
      "4\n",
      "b\n",
      "1\n",
      "2\n",
      "3\n",
      "4\n",
      "c\n",
      "1\n",
      "2\n",
      "3\n",
      "4\n"
     ]
    }
   ],
   "source": [
    "for j in ['a', 'b', 'c']:\n",
    "\tprint(j)\n",
    "\tfor i in range(1, 10):\n",
    "\t\tif i == 5:\n",
    "\t\t\tbreak\n",
    "\t\tprint(i)"
   ]
  },
  {
   "cell_type": "code",
   "execution_count": 98,
   "metadata": {},
   "outputs": [
    {
     "name": "stdout",
     "output_type": "stream",
     "text": [
      "I have 5\n"
     ]
    }
   ],
   "source": [
    "# pass: continue the evaluation to the next level\n",
    "for i in range(1,10):\n",
    "\tif i == 5:\n",
    "\t\tprint(\"I have 5\")\n",
    "\telse:\n",
    "\t\tpass"
   ]
  },
  {
   "cell_type": "code",
   "execution_count": 99,
   "metadata": {},
   "outputs": [
    {
     "name": "stdout",
     "output_type": "stream",
     "text": [
      "1\n",
      "2\n",
      "3\n",
      "4\n",
      "6\n",
      "7\n",
      "8\n",
      "9\n"
     ]
    }
   ],
   "source": [
    "# continue: skip the evaluation and return to the same level\n",
    "for i in range(1, 10):\n",
    "\tif i == 5:\n",
    "\t\tcontinue\n",
    "\tprint(i)"
   ]
  },
  {
   "cell_type": "markdown",
   "metadata": {},
   "source": [
    "#### 2.9 Functions "
   ]
  },
  {
   "cell_type": "code",
   "execution_count": 362,
   "metadata": {},
   "outputs": [],
   "source": [
    "# Use them to write cleaner code \n",
    "# keep them simple\n",
    "# We can return any type of object\n",
    "# Don't forget to add return for output\n",
    "\n",
    "# def function_name(parameters){\n",
    "#       DO SOMETHING HERE\n",
    "#       return values\n",
    "# }\n",
    "\n",
    "# Input, output\n",
    "def add_squares(x = 2, y = 2):\n",
    "\treturn x**2 + y**2\n",
    "\n",
    "# Method operates the data in the class, while a function is used to return or pass data. \n",
    "# A function can be directly called by its name, but a method cannot. --> OOP"
   ]
  },
  {
   "cell_type": "code",
   "execution_count": 365,
   "metadata": {},
   "outputs": [
    {
     "data": {
      "text/plain": [
       "8"
      ]
     },
     "execution_count": 365,
     "metadata": {},
     "output_type": "execute_result"
    }
   ],
   "source": [
    "add_squares()"
   ]
  },
  {
   "cell_type": "code",
   "execution_count": 366,
   "metadata": {},
   "outputs": [],
   "source": [
    "def add_squares_2(x, y):\n",
    "\tx += 1\n",
    "\treturn x**2 + y**2"
   ]
  },
  {
   "cell_type": "code",
   "execution_count": 370,
   "metadata": {},
   "outputs": [
    {
     "data": {
      "text/plain": [
       "8"
      ]
     },
     "execution_count": 370,
     "metadata": {},
     "output_type": "execute_result"
    }
   ],
   "source": [
    "# add_squares_2()\n",
    "add_squares_2(1, 2) "
   ]
  },
  {
   "cell_type": "code",
   "execution_count": 360,
   "metadata": {},
   "outputs": [],
   "source": [
    "# Copyright of the original version:\n",
    "\n",
    "# Copyright (c) 2014 Matt Dickenson\n",
    "# \n",
    "# Permission is hereby granted, free of charge, to any person obtaining a copy\n",
    "# of this software and associated documentation files (the \"Software\"), to deal\n",
    "# in the Software without restriction, including without limitation the rights\n",
    "# to use, copy, modify, merge, publish, distribute, sublicense, and/or sell\n",
    "# copies of the Software, and to permit persons to whom the Software is\n",
    "# furnished to do so, subject to the following conditions:\n",
    "# \n",
    "# The above copyright notice and this permission notice shall be included in all\n",
    "# copies or substantial portions of the Software.\n",
    "# \n",
    "# THE SOFTWARE IS PROVIDED \"AS IS\", WITHOUT WARRANTY OF ANY KIND, EXPRESS OR\n",
    "# IMPLIED, INCLUDING BUT NOT LIMITED TO THE WARRANTIES OF MERCHANTABILITY,\n",
    "# FITNESS FOR A PARTICULAR PURPOSE AND NONINFRINGEMENT. IN NO EVENT SHALL THE\n",
    "# AUTHORS OR COPYRIGHT HOLDERS BE LIABLE FOR ANY CLAIM, DAMAGES OR OTHER\n",
    "# LIABILITY, WHETHER IN AN ACTION OF CONTRACT, TORT OR OTHERWISE, ARISING FROM,\n",
    "# OUT OF OR IN CONNECTION WITH THE SOFTWARE OR THE USE OR OTHER DEALINGS IN THE\n",
    "# SOFTWARE."
   ]
  },
  {
   "cell_type": "markdown",
   "metadata": {},
   "source": []
  }
 ],
 "metadata": {
  "kernelspec": {
   "display_name": "base",
   "language": "python",
   "name": "python3"
  },
  "language_info": {
   "codemirror_mode": {
    "name": "ipython",
    "version": 3
   },
   "file_extension": ".py",
   "mimetype": "text/x-python",
   "name": "python",
   "nbconvert_exporter": "python",
   "pygments_lexer": "ipython3",
   "version": "3.9.13"
  },
  "orig_nbformat": 4
 },
 "nbformat": 4,
 "nbformat_minor": 2
}
