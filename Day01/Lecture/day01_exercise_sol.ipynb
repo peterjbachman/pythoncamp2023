{
 "cells": [
  {
   "cell_type": "markdown",
   "metadata": {},
   "source": [
    "#### Day 1: Data Structures\n",
    "\n",
    "Instructions: \n",
    "\n",
    "1. Write a `for` loop, `white` loop, or a `function` (or all three!) to create a list of the first 10 numbers of the fibonacci sequence.\n",
    "    - Fibonacci sequence\n",
    "    - X_[i] = X_[i-1] + X_[i-2], where X_1 = 1, X_2 = 1\n",
    "    - 1,1,2,3,5,8,...\n",
    "2. Can you now do it for the first 30 numbers? \n",
    "3. Complete the functions with using your solutions \n"
   ]
  },
  {
   "cell_type": "code",
   "execution_count": 2,
   "metadata": {},
   "outputs": [
    {
     "name": "stdout",
     "output_type": "stream",
     "text": [
      "[1, 1, 2, 3, 5, 8, 13, 21, 34, 55]\n"
     ]
    }
   ],
   "source": [
    "# Write a for loop, while loop, or function (or all three!) to create a\n",
    "# list of the first 10 numbers of the fibonacci sequence\n",
    "\n",
    "# Solution 1: \n",
    "fibby = []\n",
    "for i in range(0, 10):\n",
    "    if len(fibby) < 2:\n",
    "        fibby.append(1) \n",
    "    else:\n",
    "        fibby.append(fibby[i-1] + fibby[i-2])\n",
    "        \n",
    "print(fibby)"
   ]
  },
  {
   "cell_type": "code",
   "execution_count": 5,
   "metadata": {},
   "outputs": [
    {
     "data": {
      "text/plain": [
       "[1, 1, 2, 3, 5, 8, 13, 21, 34, 55]"
      ]
     },
     "execution_count": 5,
     "metadata": {},
     "output_type": "execute_result"
    }
   ],
   "source": [
    "# Solution 2: \n",
    "def fibonacci(n):\n",
    "\tfin = []\n",
    "\tfor i in range(0, n):\n",
    "\t\tif i == 0 or i == 1 :\n",
    "\t\t\tfin.append(1)\n",
    "\t\telse:\n",
    "\t\t\t# fin.append(fin[len(fin) - 1] + fin[len(fin) - 2])\n",
    "\t\t\tfin.append(fin[-1] + fin[-2])\n",
    "\treturn fin\t\n",
    "fibonacci(10)"
   ]
  },
  {
   "cell_type": "code",
   "execution_count": 6,
   "metadata": {},
   "outputs": [
    {
     "data": {
      "text/plain": [
       "False"
      ]
     },
     "execution_count": 6,
     "metadata": {},
     "output_type": "execute_result"
    }
   ],
   "source": [
    "# return true if there is no e in 'word', else false\n",
    "def has_no_e(word):\n",
    "    if 'e' not in word: \n",
    "        return True\n",
    "    else: \n",
    "        return False\n",
    "has_no_e('Cecilia')"
   ]
  },
  {
   "cell_type": "code",
   "execution_count": 8,
   "metadata": {},
   "outputs": [
    {
     "data": {
      "text/plain": [
       "True"
      ]
     },
     "execution_count": 8,
     "metadata": {},
     "output_type": "execute_result"
    }
   ],
   "source": [
    "# return true if there is e in 'word', else false\n",
    "def has_e(word):\n",
    "    return not has_no_e(word)\n",
    "\n",
    "has_e('Cecilia')"
   ]
  },
  {
   "cell_type": "code",
   "execution_count": 2,
   "metadata": {},
   "outputs": [
    {
     "data": {
      "text/plain": [
       "True"
      ]
     },
     "execution_count": 2,
     "metadata": {},
     "output_type": "execute_result"
    }
   ],
   "source": [
    "# return true if word1 contains only letters from word2, else false\n",
    "def uses_only(word1, word2):\n",
    "    letters1 = [i for i in word1]\n",
    "    letters2 = [i for i in word2]\n",
    "    if all([i in letters2 for i in letters1]):\n",
    "        return True\n",
    "    else: \n",
    "        return False\n",
    "uses_only('Cecilia', 'Cecilia Sui')"
   ]
  },
  {
   "cell_type": "code",
   "execution_count": 4,
   "metadata": {},
   "outputs": [
    {
     "data": {
      "text/plain": [
       "True"
      ]
     },
     "execution_count": 4,
     "metadata": {},
     "output_type": "execute_result"
    }
   ],
   "source": [
    "def uses_all(word1, word2):\n",
    "    letters1 = [i for i in word1]\n",
    "    letters2 = [i for i in word2]\n",
    "    for i in letters2: \n",
    "        if i not in letters1:\n",
    "            return False\n",
    "    return True\n",
    "uses_all(\"CeciliaSui\", 'Cecilia')"
   ]
  },
  {
   "cell_type": "code",
   "execution_count": 19,
   "metadata": {},
   "outputs": [
    {
     "data": {
      "text/plain": [
       "True"
      ]
     },
     "execution_count": 19,
     "metadata": {},
     "output_type": "execute_result"
    }
   ],
   "source": [
    "# return true if word1 uses all the letters in word2, else false\n",
    "def uses_all(word1, word2):\n",
    "    letters1 = [i for i in word1]\n",
    "    letters2 = [i for i in word2]\n",
    "    if all([i in letters1 for i in letters2]): \n",
    "        return True\n",
    "    else: \n",
    "        return False\n",
    "\n",
    "uses_all('CeciliaSui', 'Cecilia')"
   ]
  },
  {
   "cell_type": "code",
   "execution_count": 22,
   "metadata": {},
   "outputs": [
    {
     "data": {
      "text/plain": [
       "False"
      ]
     },
     "execution_count": 22,
     "metadata": {},
     "output_type": "execute_result"
    }
   ],
   "source": [
    "# return true or false \n",
    "# Is the word in alphabetical order? return True if yes, False if not. \n",
    "# Hint: check the methods for lists\n",
    "def is_abecedarian(word):\n",
    "    letters = [i for i in word]\n",
    "    return sorted(letters) == letters\n",
    "\n",
    "is_abecedarian('Cecilia')\n",
    "# is_abecedarian('abcefg')"
   ]
  },
  {
   "cell_type": "code",
   "execution_count": null,
   "metadata": {},
   "outputs": [],
   "source": []
  }
 ],
 "metadata": {
  "kernelspec": {
   "display_name": "base",
   "language": "python",
   "name": "python3"
  },
  "language_info": {
   "codemirror_mode": {
    "name": "ipython",
    "version": 3
   },
   "file_extension": ".py",
   "mimetype": "text/x-python",
   "name": "python",
   "nbconvert_exporter": "python",
   "pygments_lexer": "ipython3",
   "version": "3.9.13"
  },
  "orig_nbformat": 4
 },
 "nbformat": 4,
 "nbformat_minor": 2
}
