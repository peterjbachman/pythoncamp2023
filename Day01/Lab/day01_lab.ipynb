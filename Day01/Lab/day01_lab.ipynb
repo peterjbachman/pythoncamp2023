{
 "cells": [
  {
   "cell_type": "markdown",
   "metadata": {},
   "source": [
    "#### Day 1: Data Structures\n",
    "\n",
    "Instructions: \n",
    "\n",
    "1. Complete the following functions with your code\n",
    "    - You can find information on how to convert numbers to a different base here: https://www.tutorialspoint.com/computer_logical_organization/number_system_conversion.htm\n",
    "    - You can find information on how to convert numbers to roman numerals here: https://www.romannumerals.org/converter"
   ]
  },
  {
   "cell_type": "code",
   "execution_count": null,
   "metadata": {},
   "outputs": [],
   "source": [
    "# 1. Convert positive integer to base 2\n",
    "def binarify(num): \n",
    "    if num <= 0: \n",
    "        return '0'\n",
    "    digits = []\n",
    "    # YOUR CODE HERE\n",
    "    return ''.join(digits)"
   ]
  },
  {
   "cell_type": "code",
   "execution_count": null,
   "metadata": {},
   "outputs": [],
   "source": [
    "# 2. Convert positive integer to a string in any base\n",
    "def int_to_base(num, base):\n",
    "    if num <= 0:  \n",
    "        return '0' \n",
    "    digits = []\n",
    "    # YOUR CODE HERE\n",
    "    return ''.join(digits)"
   ]
  },
  {
   "cell_type": "code",
   "execution_count": 2,
   "metadata": {},
   "outputs": [],
   "source": [
    "# 3. Take a string-formatted number and its base and return the base-10 integer\n",
    "def base_to_int(string, base):\n",
    "    if string == \"0\" or base <= 0 : \n",
    "        return 0 \n",
    "    result = 0 \n",
    "    # YOUR CODE HERE\n",
    "    return result "
   ]
  },
  {
   "cell_type": "code",
   "execution_count": null,
   "metadata": {},
   "outputs": [],
   "source": [
    "# 4. Add two numbers of different bases and return the sum\n",
    "def flexibase_add(str1, str2, base1, base2):\n",
    "    # YOUR CODE HERE\n",
    "    return result \n"
   ]
  },
  {
   "cell_type": "code",
   "execution_count": null,
   "metadata": {},
   "outputs": [],
   "source": [
    "# 5. Multiply two numbers of different bases and return the product\n",
    "def flexibase_multiply(str1, str2, base1, base2):\n",
    "    # YOUR CODE HERE\n",
    "    return result "
   ]
  },
  {
   "cell_type": "code",
   "execution_count": null,
   "metadata": {},
   "outputs": [],
   "source": [
    "# 6. Given an integer, return the Roman numeral version\n",
    "# Hint: Please ues a dictionary in your solution. \n",
    "def romanify(num):\n",
    "    # YOUR CODE HERE\n",
    "    return result"
   ]
  },
  {
   "cell_type": "code",
   "execution_count": 1,
   "metadata": {},
   "outputs": [],
   "source": [
    "# Copyright (c) 2014 Matt Dickenson\n",
    "# \n",
    "# Permission is hereby granted, free of charge, to any person obtaining a copy\n",
    "# of this software and associated documentation files (the \"Software\"), to deal\n",
    "# in the Software without restriction, including without limitation the rights\n",
    "# to use, copy, modify, merge, publish, distribute, sublicense, and/or sell\n",
    "# copies of the Software, and to permit persons to whom the Software is\n",
    "# furnished to do so, subject to the following conditions:\n",
    "# \n",
    "# The above copyright notice and this permission notice shall be included in all\n",
    "# copies or substantial portions of the Software.\n",
    "# \n",
    "# THE SOFTWARE IS PROVIDED \"AS IS\", WITHOUT WARRANTY OF ANY KIND, EXPRESS OR\n",
    "# IMPLIED, INCLUDING BUT NOT LIMITED TO THE WARRANTIES OF MERCHANTABILITY,\n",
    "# FITNESS FOR A PARTICULAR PURPOSE AND NONINFRINGEMENT. IN NO EVENT SHALL THE\n",
    "# AUTHORS OR COPYRIGHT HOLDERS BE LIABLE FOR ANY CLAIM, DAMAGES OR OTHER\n",
    "# LIABILITY, WHETHER IN AN ACTION OF CONTRACT, TORT OR OTHERWISE, ARISING FROM,\n",
    "# OUT OF OR IN CONNECTION WITH THE SOFTWARE OR THE USE OR OTHER DEALINGS IN THE\n",
    "# SOFTWARE."
   ]
  },
  {
   "cell_type": "code",
   "execution_count": null,
   "metadata": {},
   "outputs": [],
   "source": []
  }
 ],
 "metadata": {
  "kernelspec": {
   "display_name": "base",
   "language": "python",
   "name": "python3"
  },
  "language_info": {
   "codemirror_mode": {
    "name": "ipython",
    "version": 3
   },
   "file_extension": ".py",
   "mimetype": "text/x-python",
   "name": "python",
   "nbconvert_exporter": "python",
   "pygments_lexer": "ipython3",
   "version": "3.9.13"
  },
  "orig_nbformat": 4
 },
 "nbformat": 4,
 "nbformat_minor": 2
}
