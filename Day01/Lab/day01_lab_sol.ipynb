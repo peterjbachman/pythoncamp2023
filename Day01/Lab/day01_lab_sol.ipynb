{
 "cells": [
  {
   "cell_type": "markdown",
   "metadata": {},
   "source": [
    "You can find information on how to convert numbers to a different base here:\n",
    "https://www.tutorialspoint.com/computer_logical_organization/number_system_conversion.htm\n",
    "\n",
    "You can find information on how to convert numbers to roman numerals here:\n",
    "https://www.romannumerals.org/converter"
   ]
  },
  {
   "cell_type": "code",
   "execution_count": 13,
   "metadata": {},
   "outputs": [
    {
     "data": {
      "text/plain": [
       "'11101'"
      ]
     },
     "execution_count": 13,
     "metadata": {},
     "output_type": "execute_result"
    }
   ],
   "source": [
    "# 1. Convert positive integer to base 2\n",
    "def binarify(num): \n",
    "    if num<=0: return '0'\n",
    "    digits = []\n",
    "    while num > 0:\n",
    "        digits.append(num%2)\n",
    "        num = num // 2\n",
    "    digits = [str(i) for i in digits[::-1]]\n",
    "    return ''.join(digits)\n",
    "\n",
    "binarify(29)#  == bin(29)[2:]"
   ]
  },
  {
   "cell_type": "code",
   "execution_count": 14,
   "metadata": {},
   "outputs": [
    {
     "data": {
      "text/plain": [
       "'11101'"
      ]
     },
     "execution_count": 14,
     "metadata": {},
     "output_type": "execute_result"
    }
   ],
   "source": [
    "# 2. Convert positive integer to a string in any base\n",
    "def int_to_base(num, base):\n",
    "    if num<=0: return '0'\n",
    "    digits = []\n",
    "    while num != 0:\n",
    "        digits.append(num % base)\n",
    "        num = num // base\n",
    "    digits = [str(i) for i in digits[::-1]]\n",
    "    return ''.join(digits)\n",
    "\n",
    "int_to_base(29, 2)"
   ]
  },
  {
   "cell_type": "code",
   "execution_count": 17,
   "metadata": {},
   "outputs": [
    {
     "name": "stdout",
     "output_type": "stream",
     "text": [
      "[1, 1, 1, 0, 1]\n"
     ]
    },
    {
     "data": {
      "text/plain": [
       "29"
      ]
     },
     "execution_count": 17,
     "metadata": {},
     "output_type": "execute_result"
    }
   ],
   "source": [
    "# 3. Take a string-formatted number and its base and return the base-10 integer\n",
    "def base_to_int(string, base):\n",
    "    if string==\"0\" or base <= 0 : return 0 \n",
    "    result = 0 \n",
    "    string = [int(i) for i in string]\n",
    "    n = len(string)\n",
    "    print(string)\n",
    "    for i in range(0, n):\n",
    "        result += string[i] * base ** (n - i - 1)\n",
    "    return result \n",
    "\n",
    "base_to_int(\"11101\", 2)"
   ]
  },
  {
   "cell_type": "code",
   "execution_count": 18,
   "metadata": {},
   "outputs": [
    {
     "name": "stdout",
     "output_type": "stream",
     "text": [
      "[1, 1, 1, 0, 1]\n",
      "[1, 1, 1, 0, 1]\n"
     ]
    },
    {
     "data": {
      "text/plain": [
       "58"
      ]
     },
     "execution_count": 18,
     "metadata": {},
     "output_type": "execute_result"
    }
   ],
   "source": [
    "# 4. Add two numbers of different bases and return the sum\n",
    "def flexibase_add(str1, str2, base1, base2):\n",
    "    num_one = base_to_int(str1, base1)\n",
    "    num_two = base_to_int(str2, base2)\n",
    "    result = num_one + num_two\n",
    "    return result \n",
    "\n",
    "flexibase_add(\"11101\", \"11101\", 2, 2)"
   ]
  },
  {
   "cell_type": "code",
   "execution_count": 19,
   "metadata": {},
   "outputs": [
    {
     "name": "stdout",
     "output_type": "stream",
     "text": [
      "[1, 1, 1, 0, 1]\n",
      "[1, 1, 1, 0, 1]\n"
     ]
    },
    {
     "data": {
      "text/plain": [
       "841"
      ]
     },
     "execution_count": 19,
     "metadata": {},
     "output_type": "execute_result"
    }
   ],
   "source": [
    "# 5. Multiply two numbers of different bases and return the product\n",
    "def flexibase_multiply(str1, str2, base1, base2):\n",
    "    num_one = base_to_int(str1, base1)\n",
    "    num_two = base_to_int(str2, base2)\n",
    "    result = num_one * num_two\n",
    "    return result \n",
    "\n",
    "flexibase_multiply(\"11101\", \"11101\", 2, 2)"
   ]
  },
  {
   "cell_type": "code",
   "execution_count": 28,
   "metadata": {},
   "outputs": [
    {
     "data": {
      "text/plain": [
       "'CLV'"
      ]
     },
     "execution_count": 28,
     "metadata": {},
     "output_type": "execute_result"
    }
   ],
   "source": [
    "# 6. Given an integer, return the Roman numeral version\n",
    "# Hint: Please ues a dictionary in your solution. \n",
    "def romanify(num):\n",
    "  we_r_romans = {1 : 'I', 4: 'IV', 5: 'V', 9: 'IX', 10: 'X',\n",
    "                 40: 'XL', 50: 'L', 90: 'XC', 100: 'C',\n",
    "                 400: 'CD', 500: 'D', 900: 'CM', 1000: 'M'}\n",
    "  rom_num = []\n",
    "  #make i into an integer before operating\n",
    "  for i in list(we_r_romans.keys())[::-1]:\n",
    "    while num >= i:\n",
    "        rom_num.append(i)\n",
    "        num = num - i\n",
    "  result = [we_r_romans[i] for i in rom_num]\n",
    "  return ''.join(result)\n",
    "\n",
    "romanify(155)"
   ]
  },
  {
   "cell_type": "code",
   "execution_count": 1,
   "metadata": {},
   "outputs": [],
   "source": [
    "# Copyright (c) 2014 Matt Dickenson\n",
    "# \n",
    "# Permission is hereby granted, free of charge, to any person obtaining a copy\n",
    "# of this software and associated documentation files (the \"Software\"), to deal\n",
    "# in the Software without restriction, including without limitation the rights\n",
    "# to use, copy, modify, merge, publish, distribute, sublicense, and/or sell\n",
    "# copies of the Software, and to permit persons to whom the Software is\n",
    "# furnished to do so, subject to the following conditions:\n",
    "# \n",
    "# The above copyright notice and this permission notice shall be included in all\n",
    "# copies or substantial portions of the Software.\n",
    "# \n",
    "# THE SOFTWARE IS PROVIDED \"AS IS\", WITHOUT WARRANTY OF ANY KIND, EXPRESS OR\n",
    "# IMPLIED, INCLUDING BUT NOT LIMITED TO THE WARRANTIES OF MERCHANTABILITY,\n",
    "# FITNESS FOR A PARTICULAR PURPOSE AND NONINFRINGEMENT. IN NO EVENT SHALL THE\n",
    "# AUTHORS OR COPYRIGHT HOLDERS BE LIABLE FOR ANY CLAIM, DAMAGES OR OTHER\n",
    "# LIABILITY, WHETHER IN AN ACTION OF CONTRACT, TORT OR OTHERWISE, ARISING FROM,\n",
    "# OUT OF OR IN CONNECTION WITH THE SOFTWARE OR THE USE OR OTHER DEALINGS IN THE\n",
    "# SOFTWARE."
   ]
  },
  {
   "cell_type": "code",
   "execution_count": null,
   "metadata": {},
   "outputs": [],
   "source": []
  }
 ],
 "metadata": {
  "kernelspec": {
   "display_name": "base",
   "language": "python",
   "name": "python3"
  },
  "language_info": {
   "codemirror_mode": {
    "name": "ipython",
    "version": 3
   },
   "file_extension": ".py",
   "mimetype": "text/x-python",
   "name": "python",
   "nbconvert_exporter": "python",
   "pygments_lexer": "ipython3",
   "version": "3.9.13"
  },
  "orig_nbformat": 4
 },
 "nbformat": 4,
 "nbformat_minor": 2
}
