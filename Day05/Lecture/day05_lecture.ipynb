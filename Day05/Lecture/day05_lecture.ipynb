{
 "cells": [
  {
   "cell_type": "markdown",
   "metadata": {},
   "source": [
    "#### Day 5: APIs\n",
    "\n",
    "API stands for: \n",
    "- Application (a piece of software, a computer program, or a server) \n",
    "- Programming (what you’re doing with python)\n",
    "- Interface (how you’re communicating)\n",
    "\n",
    "\n",
    "How It Works:\n",
    "- Every Internet page is stored on a remote server\n",
    "- When you go to a website, a request goes out to their remote server\n",
    "- Your browser (the client) receives the response\n",
    "- When surfing the web, the API is the part of the remote server that receives requests and sends responses\n",
    "- Informative explanation: https://towardsdatascience.com/what-is-an-api-and-how-does-it-work-1dccd7a8219e\n",
    "\n",
    "How Developers Use It: \n",
    "- The app’s functionality requires photography (think SnapChat)\n",
    "- iPhone devs already made camera software & efficient translations of inputs to outputs\n",
    "- Devs can use that software instead of writing it from scratch! (gains from trade)\n",
    "- Use the iPhone camera API to embed photography functions in your app\n",
    "- When Apple upgrades the camera software, your app benefits from the improvements\n",
    "- Another non-technical explanation: https://www.howtogeek.com/343877/what-is-an-api/\n",
    "\n",
    "**How We (social scientists) Use It:**\n",
    "- Tools: \n",
    "\t1. Google Cloud Speech API\n",
    "\t2. Microsoft Azure Emotion API\n",
    "\n",
    "- Data: \n",
    "\t1. Census\n",
    "\t2. GoogleMaps\n",
    "\t3. Twitter/Meta/Reddit/etc. \n",
    "\t4. FEC\n",
    "\t5. Legislative data (e.g., UK and Brazil Parliaments)\n",
    "\n",
    "All APIs are different, and each has its own learning curve. \n",
    "- Some require account keys to keep these private\n",
    "- Most have request limits\n",
    "- Some are not free\n",
    "\n",
    "For this course, we are only using python wrappers for APIs, but R also offers API wrappers. \n",
    "\n",
    "If you prefer to use R, look for these prior to writing your code.\n",
    "\n",
    "***\n"
   ]
  },
  {
   "cell_type": "markdown",
   "metadata": {},
   "source": [
    "##### Part 1: Spotify API\n",
    "\n",
    "`Spotipy` is a lightweight python library for the Spotify Web API. \n",
    "\n",
    "With `Spotipy`, you get full access to all of the music data provided by the Spotify platform. \n",
    "\n",
    "Here is the documentation: https://spotipy.readthedocs.io/en/2.22.1/"
   ]
  },
  {
   "cell_type": "markdown",
   "metadata": {},
   "source": [
    "1. Installation"
   ]
  },
  {
   "cell_type": "code",
   "execution_count": null,
   "metadata": {},
   "outputs": [],
   "source": [
    "# !pip3 install spotipy --upgrade"
   ]
  },
  {
   "cell_type": "markdown",
   "metadata": {},
   "source": [
    "2. Get your credentials\n",
    "    - Go to: https://developer.spotify.com/dashboard\n",
    "    - Log in (or create a Spotify account if you don't already have one)\n",
    "    - Create an app (You don't need the Redirect URL, but just put down some random website)\n",
    "    - Request an access token: get your client ID and client secret"
   ]
  },
  {
   "cell_type": "code",
   "execution_count": null,
   "metadata": {},
   "outputs": [],
   "source": [
    "# It is best practice to store these in a separate file, but for demonstration we will just use this\n",
    "client_id = 'YOUR_CLIENT_ID'\n",
    "client_secret = 'YOUR_CLIENT_SECRET'"
   ]
  },
  {
   "cell_type": "markdown",
   "metadata": {},
   "source": [
    "3. Import libraries"
   ]
  },
  {
   "cell_type": "code",
   "execution_count": null,
   "metadata": {},
   "outputs": [],
   "source": [
    "import spotipy\n",
    "from spotipy.oauth2 import SpotifyClientCredentials"
   ]
  },
  {
   "cell_type": "markdown",
   "metadata": {},
   "source": [
    "4. Use your credentials"
   ]
  },
  {
   "cell_type": "code",
   "execution_count": null,
   "metadata": {},
   "outputs": [],
   "source": [
    "spotify = spotipy.Spotify(client_credentials_manager=SpotifyClientCredentials(client_id=client_id,\n",
    "                                                                              client_secret=client_secret))"
   ]
  },
  {
   "cell_type": "markdown",
   "metadata": {},
   "source": [
    "##### An example usecase: Let's search for Taylor Swift and find all her albums\n",
    "\n",
    "1. Find her identifier"
   ]
  },
  {
   "cell_type": "code",
   "execution_count": null,
   "metadata": {},
   "outputs": [],
   "source": [
    "# from artist's uri on spotify: https://open.spotify.com/artist/06HL4z0CvFAxyc27GXpf02\n",
    "taylor_uri = '06HL4z0CvFAxyc27GXpf02'"
   ]
  },
  {
   "cell_type": "markdown",
   "metadata": {},
   "source": [
    "2. Use the method `.artist_albums()` to find her albums"
   ]
  },
  {
   "cell_type": "code",
   "execution_count": null,
   "metadata": {},
   "outputs": [],
   "source": [
    "results = spotify.artist_albums(taylor_uri, album_type='album')"
   ]
  },
  {
   "cell_type": "markdown",
   "metadata": {},
   "source": [
    "Let's check the output we got from `results`"
   ]
  },
  {
   "cell_type": "code",
   "execution_count": null,
   "metadata": {},
   "outputs": [],
   "source": [
    "print(results)"
   ]
  },
  {
   "cell_type": "markdown",
   "metadata": {},
   "source": [
    "What is the data type?"
   ]
  },
  {
   "cell_type": "code",
   "execution_count": null,
   "metadata": {},
   "outputs": [],
   "source": [
    "type(results)"
   ]
  },
  {
   "cell_type": "markdown",
   "metadata": {},
   "source": [
    "What are the keys of this dictionary? "
   ]
  },
  {
   "cell_type": "code",
   "execution_count": null,
   "metadata": {},
   "outputs": [],
   "source": [
    "results.keys()"
   ]
  },
  {
   "cell_type": "markdown",
   "metadata": {},
   "source": [
    "Which of these stores the name of the album?"
   ]
  },
  {
   "cell_type": "code",
   "execution_count": null,
   "metadata": {},
   "outputs": [],
   "source": [
    "albums = results['items']\n",
    "albums"
   ]
  },
  {
   "cell_type": "markdown",
   "metadata": {},
   "source": [
    "What is the data type?"
   ]
  },
  {
   "cell_type": "code",
   "execution_count": null,
   "metadata": {},
   "outputs": [],
   "source": [
    "type(albums)"
   ]
  },
  {
   "cell_type": "markdown",
   "metadata": {},
   "source": [
    "Let's look at the first element"
   ]
  },
  {
   "cell_type": "code",
   "execution_count": null,
   "metadata": {},
   "outputs": [],
   "source": [
    "albums[0]# ['name']"
   ]
  },
  {
   "cell_type": "markdown",
   "metadata": {},
   "source": [
    "Now, let's make sure it gets all of the albums by iterating through all pages."
   ]
  },
  {
   "cell_type": "code",
   "execution_count": null,
   "metadata": {},
   "outputs": [],
   "source": [
    "while results['next']:\n",
    "    results = spotify.next(results)\n",
    "    albums.extend(results['items'])"
   ]
  },
  {
   "cell_type": "markdown",
   "metadata": {},
   "source": [
    "Let's check the results!"
   ]
  },
  {
   "cell_type": "code",
   "execution_count": null,
   "metadata": {},
   "outputs": [],
   "source": [
    "for album in albums:\n",
    "    print(album['name'])"
   ]
  },
  {
   "cell_type": "markdown",
   "metadata": {},
   "source": [
    "Now it's your turn! Play around with the Spotify API! \n",
    "\n",
    "#### Short in-class activity\n",
    "\n",
    "1. Get the name and release data of all the albums for your favorite artist on Spotify! \n",
    "2. What is the oldest album of this artist? \n",
    "\n",
    "***"
   ]
  },
  {
   "cell_type": "markdown",
   "metadata": {},
   "source": [
    "##### Part 2: Google Maps API\n",
    "\n",
    "1. This uses the Google Developer Console. \n",
    "    - Navigate to: https://console.developers.google.com/apis/credentials?project=_\n",
    "    - Log in to your Google account\n",
    "    - Create a new project\n",
    "    - Creat your credentials using the API key option\n",
    "    - Get your API Key\n",
    "    - Modify the api key in `start_google.py`\n",
    "    - Save file changes\n",
    "    - Go to library (in your developer console API and Services) and enable `Geocoding API` and `Distance Matrix API`\n",
    "    "
   ]
  },
  {
   "cell_type": "markdown",
   "metadata": {},
   "source": [
    "2. Installation"
   ]
  },
  {
   "cell_type": "code",
   "execution_count": null,
   "metadata": {},
   "outputs": [],
   "source": [
    "# !pip install googlemaps"
   ]
  },
  {
   "cell_type": "markdown",
   "metadata": {},
   "source": [
    "3. Import your credentials from start_google.py"
   ]
  },
  {
   "cell_type": "code",
   "execution_count": 33,
   "metadata": {},
   "outputs": [],
   "source": [
    "import importlib\n",
    "imported_items = importlib.import_module('start_google')"
   ]
  },
  {
   "cell_type": "markdown",
   "metadata": {},
   "source": [
    "Let's play around with it"
   ]
  },
  {
   "cell_type": "code",
   "execution_count": 35,
   "metadata": {},
   "outputs": [],
   "source": [
    "# Copy client to an object named gmaps\n",
    "gmaps = imported_items.client\n",
    "# gmaps"
   ]
  },
  {
   "cell_type": "code",
   "execution_count": 36,
   "metadata": {},
   "outputs": [
    {
     "data": {
      "text/plain": [
       "[{'address_components': [{'long_name': '1600',\n",
       "    'short_name': '1600',\n",
       "    'types': ['street_number']},\n",
       "   {'long_name': 'Pennsylvania Avenue Northwest',\n",
       "    'short_name': 'Pennsylvania Avenue NW',\n",
       "    'types': ['route']},\n",
       "   {'long_name': 'Northwest Washington',\n",
       "    'short_name': 'Northwest Washington',\n",
       "    'types': ['neighborhood', 'political']},\n",
       "   {'long_name': 'Washington',\n",
       "    'short_name': 'Washington',\n",
       "    'types': ['locality', 'political']},\n",
       "   {'long_name': 'District of Columbia',\n",
       "    'short_name': 'DC',\n",
       "    'types': ['administrative_area_level_1', 'political']},\n",
       "   {'long_name': 'United States',\n",
       "    'short_name': 'US',\n",
       "    'types': ['country', 'political']},\n",
       "   {'long_name': '20500', 'short_name': '20500', 'types': ['postal_code']}],\n",
       "  'formatted_address': '1600 Pennsylvania Avenue NW, Washington, DC 20500, USA',\n",
       "  'geometry': {'location': {'lat': 38.8976763, 'lng': -77.0365298},\n",
       "   'location_type': 'ROOFTOP',\n",
       "   'viewport': {'northeast': {'lat': 38.9003021302915,\n",
       "     'lng': -77.0352025197085},\n",
       "    'southwest': {'lat': 38.8976041697085, 'lng': -77.03790048029151}}},\n",
       "  'partial_match': True,\n",
       "  'place_id': 'ChIJ37HL3ry3t4kRv3YLbdhpWXE',\n",
       "  'plus_code': {'compound_code': 'VXX7+39 Washington, DC',\n",
       "   'global_code': '87C4VXX7+39'},\n",
       "  'types': ['establishment', 'point_of_interest', 'tourist_attraction']}]"
      ]
     },
     "execution_count": 36,
     "metadata": {},
     "output_type": "execute_result"
    }
   ],
   "source": [
    "# Locate the white house\n",
    "whitehouse = 'The White House'\n",
    "location = gmaps.geocode(whitehouse)\n",
    "location # location is a list of dictionaries"
   ]
  },
  {
   "cell_type": "code",
   "execution_count": 37,
   "metadata": {},
   "outputs": [
    {
     "data": {
      "text/plain": [
       "dict_keys(['address_components', 'formatted_address', 'geometry', 'partial_match', 'place_id', 'plus_code', 'types'])"
      ]
     },
     "execution_count": 37,
     "metadata": {},
     "output_type": "execute_result"
    }
   ],
   "source": [
    "# Get keys\n",
    "location[0].keys()"
   ]
  },
  {
   "cell_type": "code",
   "execution_count": 38,
   "metadata": {},
   "outputs": [
    {
     "data": {
      "text/plain": [
       "dict_keys(['location', 'location_type', 'viewport'])"
      ]
     },
     "execution_count": 38,
     "metadata": {},
     "output_type": "execute_result"
    }
   ],
   "source": [
    "# Get geometry\n",
    "location[0]['geometry'].keys()"
   ]
  },
  {
   "cell_type": "code",
   "execution_count": 41,
   "metadata": {},
   "outputs": [
    {
     "data": {
      "text/plain": [
       "{'lat': 38.8976763, 'lng': -77.0365298}"
      ]
     },
     "execution_count": 41,
     "metadata": {},
     "output_type": "execute_result"
    }
   ],
   "source": [
    "# Get location\n",
    "location[0]['geometry']['location']"
   ]
  },
  {
   "cell_type": "code",
   "execution_count": 42,
   "metadata": {},
   "outputs": [],
   "source": [
    "# Store latlong\n",
    "latlong = location[0]['geometry']['location']"
   ]
  },
  {
   "cell_type": "code",
   "execution_count": 44,
   "metadata": {},
   "outputs": [
    {
     "data": {
      "text/plain": [
       "[{'address_components': [{'long_name': '1600',\n",
       "    'short_name': '1600',\n",
       "    'types': ['street_number']},\n",
       "   {'long_name': 'Pennsylvania Avenue Northwest',\n",
       "    'short_name': 'Pennsylvania Avenue NW',\n",
       "    'types': ['route']},\n",
       "   {'long_name': 'Northwest Washington',\n",
       "    'short_name': 'Northwest Washington',\n",
       "    'types': ['neighborhood', 'political']},\n",
       "   {'long_name': 'Washington',\n",
       "    'short_name': 'Washington',\n",
       "    'types': ['locality', 'political']},\n",
       "   {'long_name': 'District of Columbia',\n",
       "    'short_name': 'DC',\n",
       "    'types': ['administrative_area_level_1', 'political']},\n",
       "   {'long_name': 'United States',\n",
       "    'short_name': 'US',\n",
       "    'types': ['country', 'political']},\n",
       "   {'long_name': '20500', 'short_name': '20500', 'types': ['postal_code']}],\n",
       "  'formatted_address': '1600 Pennsylvania Avenue NW, Washington, DC 20500, USA',\n",
       "  'geometry': {'location': {'lat': 38.8976763, 'lng': -77.0365298},\n",
       "   'location_type': 'ROOFTOP',\n",
       "   'viewport': {'northeast': {'lat': 38.8990252802915,\n",
       "     'lng': -77.0351808197085},\n",
       "    'southwest': {'lat': 38.8963273197085, 'lng': -77.0378787802915}}},\n",
       "  'place_id': 'ChIJ37HL3ry3t4kRv3YLbdhpWXE',\n",
       "  'plus_code': {'compound_code': 'VXX7+39 Washington, DC, USA',\n",
       "   'global_code': '87C4VXX7+39'},\n",
       "  'types': ['establishment', 'point_of_interest', 'tourist_attraction']},\n",
       " {'address_components': [{'long_name': '16000',\n",
       "    'short_name': '16000',\n",
       "    'types': ['street_number']},\n",
       "   {'long_name': 'Pennsylvania Avenue Northwest',\n",
       "    'short_name': 'Pennsylvania Avenue NW',\n",
       "    'types': ['route']},\n",
       "   {'long_name': 'Northwest Washington',\n",
       "    'short_name': 'Northwest Washington',\n",
       "    'types': ['neighborhood', 'political']},\n",
       "   {'long_name': 'Washington',\n",
       "    'short_name': 'Washington',\n",
       "    'types': ['locality', 'political']},\n",
       "   {'long_name': 'District of Columbia',\n",
       "    'short_name': 'DC',\n",
       "    'types': ['administrative_area_level_1', 'political']},\n",
       "   {'long_name': 'United States',\n",
       "    'short_name': 'US',\n",
       "    'types': ['country', 'political']},\n",
       "   {'long_name': '20500', 'short_name': '20500', 'types': ['postal_code']}],\n",
       "  'formatted_address': '16000 Pennsylvania Avenue NW, Washington, DC 20500, USA',\n",
       "  'geometry': {'location': {'lat': 38.8977462, 'lng': -77.0365328},\n",
       "   'location_type': 'ROOFTOP',\n",
       "   'viewport': {'northeast': {'lat': 38.8990951802915,\n",
       "     'lng': -77.0351838197085},\n",
       "    'southwest': {'lat': 38.8963972197085, 'lng': -77.03788178029151}}},\n",
       "  'place_id': 'ChIJv_BaqSq3t4kR1ZOAN67jtKE',\n",
       "  'plus_code': {'compound_code': 'VXX7+39 Washington, DC, USA',\n",
       "   'global_code': '87C4VXX7+39'},\n",
       "  'types': ['street_address']},\n",
       " {'address_components': [{'long_name': 'VXX7+39',\n",
       "    'short_name': 'VXX7+39',\n",
       "    'types': ['plus_code']},\n",
       "   {'long_name': 'Washington',\n",
       "    'short_name': 'Washington',\n",
       "    'types': ['locality', 'political']},\n",
       "   {'long_name': 'District of Columbia',\n",
       "    'short_name': 'District of Columbia',\n",
       "    'types': ['administrative_area_level_2', 'political']},\n",
       "   {'long_name': 'District of Columbia',\n",
       "    'short_name': 'DC',\n",
       "    'types': ['administrative_area_level_1', 'political']},\n",
       "   {'long_name': 'United States',\n",
       "    'short_name': 'US',\n",
       "    'types': ['country', 'political']}],\n",
       "  'formatted_address': 'VXX7+39 Washington, DC, USA',\n",
       "  'geometry': {'bounds': {'northeast': {'lat': 38.89774999999999,\n",
       "     'lng': -77.03649999999999},\n",
       "    'southwest': {'lat': 38.897625, 'lng': -77.036625}},\n",
       "   'location': {'lat': 38.8976763, 'lng': -77.0365298},\n",
       "   'location_type': 'GEOMETRIC_CENTER',\n",
       "   'viewport': {'northeast': {'lat': 38.89903648029149,\n",
       "     'lng': -77.03521351970849},\n",
       "    'southwest': {'lat': 38.89633851970849, 'lng': -77.0379114802915}}},\n",
       "  'place_id': 'GhIJeHKXDudyQ0ARFRUWgVZCU8A',\n",
       "  'plus_code': {'compound_code': 'VXX7+39 Washington, DC, USA',\n",
       "   'global_code': '87C4VXX7+39'},\n",
       "  'types': ['plus_code']},\n",
       " {'address_components': [{'long_name': 'Pickle Street',\n",
       "    'short_name': 'Pickle Street',\n",
       "    'types': ['route']},\n",
       "   {'long_name': 'Northwest Washington',\n",
       "    'short_name': 'Northwest Washington',\n",
       "    'types': ['neighborhood', 'political']},\n",
       "   {'long_name': 'Washington',\n",
       "    'short_name': 'Washington',\n",
       "    'types': ['locality', 'political']},\n",
       "   {'long_name': 'District of Columbia',\n",
       "    'short_name': 'DC',\n",
       "    'types': ['administrative_area_level_1', 'political']},\n",
       "   {'long_name': 'United States',\n",
       "    'short_name': 'US',\n",
       "    'types': ['country', 'political']},\n",
       "   {'long_name': '20500', 'short_name': '20500', 'types': ['postal_code']}],\n",
       "  'formatted_address': 'Pickle Street, Washington, DC 20500, USA',\n",
       "  'geometry': {'bounds': {'northeast': {'lat': 38.8979698, 'lng': -77.0362682},\n",
       "    'southwest': {'lat': 38.8979451, 'lng': -77.03658530000001}},\n",
       "   'location': {'lat': 38.89795, 'lng': -77.0364258},\n",
       "   'location_type': 'GEOMETRIC_CENTER',\n",
       "   'viewport': {'northeast': {'lat': 38.8993064302915,\n",
       "     'lng': -77.03507776970851},\n",
       "    'southwest': {'lat': 38.8966084697085, 'lng': -77.03777573029153}}},\n",
       "  'place_id': 'ChIJgbXI4ry3t4kRxEmOU2Dkmjg',\n",
       "  'types': ['route']},\n",
       " {'address_components': [{'long_name': '20500',\n",
       "    'short_name': '20500',\n",
       "    'types': ['postal_code']},\n",
       "   {'long_name': 'Northwest Washington',\n",
       "    'short_name': 'Northwest Washington',\n",
       "    'types': ['neighborhood', 'political']},\n",
       "   {'long_name': 'Washington',\n",
       "    'short_name': 'Washington',\n",
       "    'types': ['locality', 'political']},\n",
       "   {'long_name': 'District of Columbia',\n",
       "    'short_name': 'DC',\n",
       "    'types': ['administrative_area_level_1', 'political']},\n",
       "   {'long_name': 'United States',\n",
       "    'short_name': 'US',\n",
       "    'types': ['country', 'political']}],\n",
       "  'formatted_address': 'Washington, DC 20500, USA',\n",
       "  'geometry': {'bounds': {'northeast': {'lat': 38.8980424,\n",
       "     'lng': -77.03527249999999},\n",
       "    'southwest': {'lat': 38.8970971, 'lng': -77.0378229}},\n",
       "   'location': {'lat': 38.8975003, 'lng': -77.0364766},\n",
       "   'location_type': 'APPROXIMATE',\n",
       "   'viewport': {'northeast': {'lat': 38.8989187302915,\n",
       "     'lng': -77.03519871970848},\n",
       "    'southwest': {'lat': 38.8962207697085, 'lng': -77.0378966802915}}},\n",
       "  'place_id': 'ChIJM98wTKK3t4kRCRVem9SdMqs',\n",
       "  'types': ['postal_code']},\n",
       " {'address_components': [{'long_name': 'Northwest Washington',\n",
       "    'short_name': 'Northwest Washington',\n",
       "    'types': ['neighborhood', 'political']},\n",
       "   {'long_name': 'Washington',\n",
       "    'short_name': 'Washington',\n",
       "    'types': ['locality', 'political']},\n",
       "   {'long_name': '7',\n",
       "    'short_name': '7',\n",
       "    'types': ['administrative_area_level_3', 'political']},\n",
       "   {'long_name': 'District of Columbia',\n",
       "    'short_name': 'DC',\n",
       "    'types': ['administrative_area_level_1', 'political']},\n",
       "   {'long_name': 'United States',\n",
       "    'short_name': 'US',\n",
       "    'types': ['country', 'political']}],\n",
       "  'formatted_address': 'Northwest Washington, Washington, DC, USA',\n",
       "  'geometry': {'bounds': {'northeast': {'lat': 38.9955566, 'lng': -77.0060597},\n",
       "    'southwest': {'lat': 38.8891955, 'lng': -77.1197502}},\n",
       "   'location': {'lat': 38.9380912, 'lng': -77.04493269999999},\n",
       "   'location_type': 'APPROXIMATE',\n",
       "   'viewport': {'northeast': {'lat': 38.9955566, 'lng': -77.0060597},\n",
       "    'southwest': {'lat': 38.8891955, 'lng': -77.1197502}}},\n",
       "  'place_id': 'ChIJi7U4CaS3t4kR0m_KoPJ00Bw',\n",
       "  'types': ['neighborhood', 'political']},\n",
       " {'address_components': [{'long_name': 'Washington',\n",
       "    'short_name': 'Washington',\n",
       "    'types': ['locality', 'political']},\n",
       "   {'long_name': 'District of Columbia',\n",
       "    'short_name': 'District of Columbia',\n",
       "    'types': ['administrative_area_level_2', 'political']},\n",
       "   {'long_name': 'District of Columbia',\n",
       "    'short_name': 'DC',\n",
       "    'types': ['administrative_area_level_1', 'political']},\n",
       "   {'long_name': 'United States',\n",
       "    'short_name': 'US',\n",
       "    'types': ['country', 'political']}],\n",
       "  'formatted_address': 'Washington, DC, USA',\n",
       "  'geometry': {'bounds': {'northeast': {'lat': 38.9958641, 'lng': -76.909393},\n",
       "    'southwest': {'lat': 38.7916449, 'lng': -77.119759}},\n",
       "   'location': {'lat': 38.9071923, 'lng': -77.0368707},\n",
       "   'location_type': 'APPROXIMATE',\n",
       "   'viewport': {'northeast': {'lat': 38.9958641, 'lng': -76.909393},\n",
       "    'southwest': {'lat': 38.7916449, 'lng': -77.119759}}},\n",
       "  'place_id': 'ChIJW-T2Wt7Gt4kRKl2I1CJFUsI',\n",
       "  'types': ['locality', 'political']},\n",
       " {'address_components': [{'long_name': 'District of Columbia',\n",
       "    'short_name': 'DC',\n",
       "    'types': ['administrative_area_level_1', 'political']},\n",
       "   {'long_name': 'Washington',\n",
       "    'short_name': 'Washington',\n",
       "    'types': ['locality', 'political']},\n",
       "   {'long_name': 'United States',\n",
       "    'short_name': 'US',\n",
       "    'types': ['country', 'political']}],\n",
       "  'formatted_address': 'Washington, DC, USA',\n",
       "  'geometry': {'bounds': {'northeast': {'lat': 38.995845, 'lng': -76.909393},\n",
       "    'southwest': {'lat': 38.791645, 'lng': -77.119759}},\n",
       "   'location': {'lat': 38.9059849, 'lng': -77.03341790000002},\n",
       "   'location_type': 'APPROXIMATE',\n",
       "   'viewport': {'northeast': {'lat': 38.995845, 'lng': -76.909393},\n",
       "    'southwest': {'lat': 38.791645, 'lng': -77.119759}}},\n",
       "  'place_id': 'ChIJW-T2Wt7Gt4kRmKFUAsCO4tY',\n",
       "  'types': ['administrative_area_level_1', 'political']},\n",
       " {'address_components': [{'long_name': 'United States',\n",
       "    'short_name': 'US',\n",
       "    'types': ['country', 'political']}],\n",
       "  'formatted_address': 'United States',\n",
       "  'geometry': {'bounds': {'northeast': {'lat': 74.071038, 'lng': -66.885417},\n",
       "    'southwest': {'lat': 18.7763, 'lng': 166.9999999}},\n",
       "   'location': {'lat': 37.09024, 'lng': -95.712891},\n",
       "   'location_type': 'APPROXIMATE',\n",
       "   'viewport': {'northeast': {'lat': 74.071038, 'lng': -66.885417},\n",
       "    'southwest': {'lat': 18.7763, 'lng': 166.9999999}}},\n",
       "  'place_id': 'ChIJCzYy5IS16lQRQrfeQ5K5Oxw',\n",
       "  'types': ['country', 'political']}]"
      ]
     },
     "execution_count": 44,
     "metadata": {},
     "output_type": "execute_result"
    }
   ],
   "source": [
    "# Get the destination using latlong\n",
    "destination = gmaps.reverse_geocode(latlong)\n",
    "destination"
   ]
  },
  {
   "cell_type": "code",
   "execution_count": 45,
   "metadata": {},
   "outputs": [
    {
     "name": "stdout",
     "output_type": "stream",
     "text": [
      "Pennsylvania Avenue Northwest\n"
     ]
    }
   ],
   "source": [
    "# sometimes you have to dig...\n",
    "print(destination[0][\"address_components\"][1]['long_name'])"
   ]
  },
  {
   "cell_type": "code",
   "execution_count": 46,
   "metadata": {},
   "outputs": [
    {
     "data": {
      "text/plain": [
       "{'lat': 36.0021437, 'lng': -78.93851490000002}"
      ]
     },
     "execution_count": 46,
     "metadata": {},
     "output_type": "execute_result"
    }
   ],
   "source": [
    "# Find Duke University\n",
    "duke = gmaps.geocode('326 Perkins Library, Durham, NC 27708')\n",
    "duke_loc = duke[0]['geometry']['location']\n",
    "duke_loc"
   ]
  },
  {
   "cell_type": "code",
   "execution_count": 47,
   "metadata": {},
   "outputs": [
    {
     "data": {
      "text/plain": [
       "{'lat': 38.6482446, 'lng': -90.30494159999999}"
      ]
     },
     "execution_count": 47,
     "metadata": {},
     "output_type": "execute_result"
    }
   ],
   "source": [
    "# Find WUSTL\n",
    "washu = gmaps.geocode('1 Brookings Dr, St. Louis, MO 63130')\n",
    "washu_loc = washu[0]['geometry']['location']\n",
    "washu_loc"
   ]
  },
  {
   "cell_type": "code",
   "execution_count": 48,
   "metadata": {},
   "outputs": [
    {
     "name": "stdout",
     "output_type": "stream",
     "text": [
      "1,331 km\n"
     ]
    }
   ],
   "source": [
    "# Find the distance (in km) between Duke and WUSTL\n",
    "distance = gmaps.distance_matrix(duke_loc, washu_loc)\n",
    "print(distance['rows'][0]['elements'][0]['distance']['text'])"
   ]
  },
  {
   "cell_type": "code",
   "execution_count": null,
   "metadata": {},
   "outputs": [],
   "source": [
    "# Plotting in Google Maps\n",
    "# More information on https://github.com/vgm64/gmplot\n",
    "# !pip install gmplot"
   ]
  },
  {
   "cell_type": "code",
   "execution_count": 51,
   "metadata": {},
   "outputs": [],
   "source": [
    "from gmplot import gmplot\n",
    "google_key = imported_items.api_key\n",
    "\n",
    "# Get St. Louis\n",
    "STL = gmaps.geocode('St. Louis')\n",
    "STL[0]['geometry']['location']\n",
    "latlongSTL = STL[0]['geometry']['location']"
   ]
  },
  {
   "cell_type": "code",
   "execution_count": 54,
   "metadata": {},
   "outputs": [
    {
     "data": {
      "text/plain": [
       "{'lat': 38.6270025, 'lng': -90.19940419999999}"
      ]
     },
     "execution_count": 54,
     "metadata": {},
     "output_type": "execute_result"
    }
   ],
   "source": [
    "latlongSTL"
   ]
  },
  {
   "cell_type": "code",
   "execution_count": 52,
   "metadata": {},
   "outputs": [],
   "source": [
    "# Create plot area\n",
    "plot1 = gmplot.GoogleMapPlotter(lat = latlongSTL['lat'], \n",
    "\t\t\t\t\t\t\t\tlng = latlongSTL['lng'], \n",
    "\t\t\t\t\t\t\t\tzoom = 13, \n",
    "\t\t\t\t\t\t\t\tapikey = google_key)"
   ]
  },
  {
   "cell_type": "code",
   "execution_count": 53,
   "metadata": {},
   "outputs": [],
   "source": [
    "# Create an object with places in STL\n",
    "stl_places = [\"Forest Park, St. Louis\",\n",
    "\t\t\t\"Missouri Botanical Garden, St. Louis\",\n",
    "\t\t\t\"Anheuser Busch, St. Louis\",\n",
    "\t\t\t\"Arch, St. Louis\"]"
   ]
  },
  {
   "cell_type": "code",
   "execution_count": 55,
   "metadata": {},
   "outputs": [],
   "source": [
    "# Create a function to find latlong for stl_places\n",
    "def grab_latlng(place):\n",
    "\tx = gmaps.geocode(place)\n",
    "\treturn (x[0][\"geometry\"][\"location\"][\"lat\"], x[0][\"geometry\"][\"location\"][\"lng\"])"
   ]
  },
  {
   "cell_type": "code",
   "execution_count": 56,
   "metadata": {},
   "outputs": [
    {
     "data": {
      "text/plain": [
       "[(38.6371173, -90.28476619999999),\n",
       " (38.6127672, -90.25937979999999),\n",
       " (38.6270025, -90.19940419999999),\n",
       " (38.6251269, -90.1867504)]"
      ]
     },
     "execution_count": 56,
     "metadata": {},
     "output_type": "execute_result"
    }
   ],
   "source": [
    "# Run the function\n",
    "l = [grab_latlng(i) for i in stl_places]\n",
    "l"
   ]
  },
  {
   "cell_type": "code",
   "execution_count": 58,
   "metadata": {},
   "outputs": [
    {
     "data": {
      "text/plain": [
       "(-90.28476619999999, -90.25937979999999, -90.19940419999999, -90.1867504)"
      ]
     },
     "execution_count": 58,
     "metadata": {},
     "output_type": "execute_result"
    }
   ],
   "source": [
    "# Use zip to assign lat and long to different objects\n",
    "# zip(* ) means that the object l will be unpacked, \n",
    "# making each of its elements a separate argument\n",
    "attraction_lats, attraction_lons = zip(*l)\n",
    "# attraction_lats\n",
    "attraction_lons"
   ]
  },
  {
   "cell_type": "code",
   "execution_count": 59,
   "metadata": {},
   "outputs": [],
   "source": [
    "# Add points to our plot\n",
    "plot1.scatter(lats = attraction_lats, \n",
    "\t\t\t  lngs = attraction_lons,\n",
    "\t\t\t  color = 'black',\n",
    "\t\t\t  size = 40,\n",
    "\t\t\t  marker = True)"
   ]
  },
  {
   "cell_type": "code",
   "execution_count": 60,
   "metadata": {},
   "outputs": [],
   "source": [
    "# Draw the plot\n",
    "plot1.draw('/Users/ysui/Desktop/PhD/MTE/pythoncamp2023_prep/Day05/Lecture/my_map.html')"
   ]
  },
  {
   "cell_type": "markdown",
   "metadata": {},
   "source": [
    "Now it's your turn! Let's all create a map of St. Louis!\n",
    "***"
   ]
  },
  {
   "cell_type": "markdown",
   "metadata": {},
   "source": [
    "Tip: Here is a list of all public APIs: \n",
    "https://github.com/public-api-lists/public-api-lists\n",
    "\n",
    "Start thinking about what you want to do for your poster project! \n",
    "\n",
    "You could use any of the APIs that we cover in the course, or any APIs that you find interesting to get your data! "
   ]
  },
  {
   "cell_type": "code",
   "execution_count": null,
   "metadata": {},
   "outputs": [],
   "source": []
  }
 ],
 "metadata": {
  "kernelspec": {
   "display_name": "base",
   "language": "python",
   "name": "python3"
  },
  "language_info": {
   "codemirror_mode": {
    "name": "ipython",
    "version": 3
   },
   "file_extension": ".py",
   "mimetype": "text/x-python",
   "name": "python",
   "nbconvert_exporter": "python",
   "pygments_lexer": "ipython3",
   "version": "3.9.13"
  },
  "orig_nbformat": 4
 },
 "nbformat": 4,
 "nbformat_minor": 2
}
