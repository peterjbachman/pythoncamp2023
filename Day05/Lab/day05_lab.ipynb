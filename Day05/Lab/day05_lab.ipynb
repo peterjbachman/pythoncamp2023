{
 "cells": [
  {
   "cell_type": "markdown",
   "metadata": {},
   "source": [
    "#### Day 5: APIs\n",
    "\n",
    "Instructions: \n",
    "\n",
    "Write your own Python script to answer the following questions: \n",
    "1. Which of these embassies is closest to the White House in meters? What is the address? \n",
    "2. If I wanted to hold a morning meeting there, which cafe would you suggest (best rating and closest)?\n",
    "3. If I wanted to hold an upscale evening meeting there, which fancy bar would you suggest? \n",
    "\n",
    "Hint: \n",
    "- You will need to enable the `Google Places API`.\n",
    "- You may find this page useful to learn about different findinging nearby places https://www.geeksforgeeks.org/python-fetch-nearest-hospital-locations-using-googlemaps-api/"
   ]
  },
  {
   "cell_type": "code",
   "execution_count": 3,
   "metadata": {},
   "outputs": [],
   "source": [
    "import importlib\n",
    "import os\n",
    "import googlemaps\n",
    "\n",
    "# os.chdir('you/key/dir')\n",
    "imported_items = importlib.import_module('start_google')\n",
    "gmaps = imported_items.client\n",
    "\n",
    "whitehouse = '1600 Pennsylvania Avenue, Washington, DC'\n",
    "\n",
    "embassies = [[38.917228,-77.0522365], \n",
    "\t[38.9076502, -77.0370427], \n",
    "\t[38.916944, -77.048739] ]\n"
   ]
  },
  {
   "cell_type": "code",
   "execution_count": null,
   "metadata": {},
   "outputs": [],
   "source": []
  }
 ],
 "metadata": {
  "kernelspec": {
   "display_name": "base",
   "language": "python",
   "name": "python3"
  },
  "language_info": {
   "codemirror_mode": {
    "name": "ipython",
    "version": 3
   },
   "file_extension": ".py",
   "mimetype": "text/x-python",
   "name": "python",
   "nbconvert_exporter": "python",
   "pygments_lexer": "ipython3",
   "version": "3.9.13"
  },
  "orig_nbformat": 4
 },
 "nbformat": 4,
 "nbformat_minor": 2
}
