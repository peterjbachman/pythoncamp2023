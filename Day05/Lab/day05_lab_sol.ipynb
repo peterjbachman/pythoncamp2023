{
 "cells": [
  {
   "cell_type": "markdown",
   "metadata": {},
   "source": [
    "#### Day 5: APIs\n",
    "\n",
    "Instructions: \n",
    "\n",
    "Write your own Python script to answer the following questions: \n",
    "1. Which of these embassies is closest to the White House in meters? What is the address? \n",
    "2. If I wanted to hold a morning meeting there, which cafe would you suggest (best rating and closest)?\n",
    "3. If I wanted to hold an upscale evening meeting there, which fancy bar would you suggest? \n",
    "\n",
    "Hint: \n",
    "- You will need to enable the `Google Places API`.\n",
    "- You may find this page useful to learn about different findinging nearby places https://www.geeksforgeeks.org/python-fetch-nearest-hospital-locations-using-googlemaps-api/"
   ]
  },
  {
   "cell_type": "code",
   "execution_count": 1,
   "metadata": {},
   "outputs": [
    {
     "data": {
      "text/plain": [
       "'/Users/ysui/Desktop/PhD/MTE/pythoncamp2023_prep/Day05/Lab'"
      ]
     },
     "execution_count": 1,
     "metadata": {},
     "output_type": "execute_result"
    }
   ],
   "source": [
    "pwd"
   ]
  },
  {
   "cell_type": "code",
   "execution_count": 2,
   "metadata": {},
   "outputs": [],
   "source": [
    "import importlib\n",
    "import os\n",
    "import googlemaps\n",
    "\n",
    "os.chdir('/Users/ysui/Desktop/PhD/MTE/pythoncamp2023_prep/Day05/Lab')\n",
    "imported_items = importlib.import_module('start_google')\n",
    "gmaps = imported_items.client\n",
    "\n",
    "whitehouse = '1600 Pennsylvania Avenue, Washington, DC'\n",
    "\n",
    "embassies = [[38.917228,-77.0522365], \n",
    "\t[38.9076502, -77.0370427], \n",
    "\t[38.916944, -77.048739] ]\n"
   ]
  },
  {
   "cell_type": "markdown",
   "metadata": {},
   "source": [
    "1. Which of these embassies is closest to the White House in meters? "
   ]
  },
  {
   "cell_type": "code",
   "execution_count": 5,
   "metadata": {},
   "outputs": [
    {
     "data": {
      "text/plain": [
       "[38.9076502, -77.0370427]"
      ]
     },
     "execution_count": 5,
     "metadata": {},
     "output_type": "execute_result"
    }
   ],
   "source": [
    "wh = gmaps.geocode(whitehouse)\n",
    "\n",
    "def dist_finder(dest, origin = wh):\n",
    "\torig_lat_long = origin[0]['geometry']['location']\n",
    "\tdist = gmaps.distance_matrix(orig_lat_long, dest)\n",
    "\tkms=[]\n",
    "\tfor i in range(3):\n",
    "\t\tkms.append(float(dist['rows'][0]['elements'][i]['distance']['text'].split(' ')[0]))\n",
    "\treturn dest[kms.index(min(kms))]\n",
    "\n",
    "# find closest embassy\n",
    "closest = dist_finder(dest = embassies)\n",
    "\n",
    "closest"
   ]
  },
  {
   "cell_type": "markdown",
   "metadata": {},
   "source": [
    "What is the address? "
   ]
  },
  {
   "cell_type": "code",
   "execution_count": 8,
   "metadata": {},
   "outputs": [
    {
     "data": {
      "text/plain": [
       "'1601 Massachusetts Ave NW, Washington, DC 20036, USA'"
      ]
     },
     "execution_count": 8,
     "metadata": {},
     "output_type": "execute_result"
    }
   ],
   "source": [
    "# address of closest\n",
    "closest_address = gmaps.reverse_geocode(closest)[0]['formatted_address']\n",
    "closest_address"
   ]
  },
  {
   "cell_type": "markdown",
   "metadata": {},
   "source": [
    "2. If I wanted to hold a morning meeting there, which cafes would you suggest for breakfast (best rating and closest)?"
   ]
  },
  {
   "cell_type": "code",
   "execution_count": 9,
   "metadata": {},
   "outputs": [
    {
     "name": "stdout",
     "output_type": "stream",
     "text": [
      "Closest breakfast place is Galley Cafe at 1625 Massachusetts Ave NW, Washington\n",
      "Best breakfast place is Earlybird Cafe at 1400 16th St NW b110, Washington\n"
     ]
    }
   ],
   "source": [
    "bfast = gmaps.places_nearby(closest, type = 'cafe', rank_by = \"distance\", keyword = 'breakfast')['results']\n",
    "\n",
    "print('Closest breakfast place is {} at {}'.format(bfast[0]['name'], bfast[0]['vicinity'])) # closest\n",
    "\n",
    "# highest rated\n",
    "rating = []\n",
    "for i in range(len(bfast)):\n",
    "\ttry:\n",
    "\t\trating.append(bfast[i]['rating'])\n",
    "\texcept:\n",
    "\t\trating.append(0)\n",
    "best_bfast = bfast[rating.index(max(rating))]\n",
    "\n",
    "print('Best breakfast place is {} at {}'.format(best_bfast['name'], best_bfast['vicinity'])) # highest rated\n"
   ]
  },
  {
   "cell_type": "markdown",
   "metadata": {},
   "source": [
    "3. If I wanted to hold an upscale evening meeting there, which fancy bar would you suggest? "
   ]
  },
  {
   "cell_type": "code",
   "execution_count": 10,
   "metadata": {},
   "outputs": [
    {
     "name": "stdout",
     "output_type": "stream",
     "text": [
      "Fanciest bar is Public Bar Live at 1214 18th St NW, Washington, DC 20036, United States\n"
     ]
    }
   ],
   "source": [
    "bars = gmaps.places('bars near ' + '1617 Massachusetts Ave NW, Washington, DC 20036, USA')\n",
    "dollar = []\n",
    "for i in range(0, len(bars)):\n",
    "\ttry:\n",
    "\t    dollar.append(bars['results'][i]['price_level'])\n",
    "\texcept:\n",
    "\t    dollar.append(0)\n",
    "fancy_bar = bars['results'][dollar.index(max(dollar))]\n",
    "\n",
    "print('Fanciest bar is {} at {}'.format(fancy_bar['name'], fancy_bar['formatted_address'])) # fanciest"
   ]
  },
  {
   "cell_type": "code",
   "execution_count": null,
   "metadata": {},
   "outputs": [],
   "source": []
  }
 ],
 "metadata": {
  "kernelspec": {
   "display_name": "base",
   "language": "python",
   "name": "python3"
  },
  "language_info": {
   "codemirror_mode": {
    "name": "ipython",
    "version": 3
   },
   "file_extension": ".py",
   "mimetype": "text/x-python",
   "name": "python",
   "nbconvert_exporter": "python",
   "pygments_lexer": "ipython3",
   "version": "3.9.13"
  },
  "orig_nbformat": 4
 },
 "nbformat": 4,
 "nbformat_minor": 2
}
