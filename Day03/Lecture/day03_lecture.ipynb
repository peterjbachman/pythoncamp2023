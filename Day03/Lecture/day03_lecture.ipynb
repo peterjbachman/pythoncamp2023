{
 "cells": [
  {
   "cell_type": "markdown",
   "metadata": {},
   "source": [
    "#### Day 3: Error Handling\n",
    "\n",
    "##### Part 1: Types of Errors: \n",
    "1. Syntax Errors\n",
    "2. Runtime Errors (also known as exceptions)\n",
    "3. Logical Errors\n"
   ]
  },
  {
   "cell_type": "markdown",
   "metadata": {},
   "source": [
    "##### 1.1 Syntax Errors:\n",
    "\n",
    "A syntax error occurs in Python when the interpreter is unable to parse the code due to the code violating Python language structure, i.e. when _Python does not understand_ your code. \n",
    "\n",
    "\n",
    "When a syntax error occurs: \n",
    "- code stops running\n",
    "- error message is displayed -> usually informative\n",
    "- relatively easy to fix"
   ]
  },
  {
   "cell_type": "code",
   "execution_count": 25,
   "metadata": {},
   "outputs": [],
   "source": [
    "# # Example: \n",
    "# while True print 'Hello world'"
   ]
  },
  {
   "cell_type": "code",
   "execution_count": null,
   "metadata": {},
   "outputs": [],
   "source": [
    "# # What's wrong with this? \n",
    "# while True:\n",
    "#     print('Hello world') "
   ]
  },
  {
   "cell_type": "markdown",
   "metadata": {},
   "source": [
    "##### 1.2 Runtime Errors (Exceptions)\n",
    "\n",
    "Runtime errors occurs during the execution of the program.    \n",
    "Different from Syntax Errors, Python now understands your command, but cannot follow the instructions. \n",
    "\n",
    "Examples include: \n",
    "- NameError\n",
    "- TypeError\n",
    "- IndexError\n",
    "- AttributeError\n"
   ]
  },
  {
   "cell_type": "code",
   "execution_count": null,
   "metadata": {},
   "outputs": [],
   "source": [
    "# # Example 1 (NameError):\n",
    "# callMe = \"Maybe\"\n",
    "# print(callme)\n",
    "# print(callMe) "
   ]
  },
  {
   "cell_type": "code",
   "execution_count": null,
   "metadata": {},
   "outputs": [],
   "source": [
    "# # Example 2 (TypeError):\n",
    "print(\"you cannot add text and numbers \" + 12)\n",
    "# How do we resolve this? "
   ]
  },
  {
   "cell_type": "markdown",
   "metadata": {},
   "source": [
    "##### 1.3 Logical Errors\n",
    "\n",
    "A logical error occurs in Python when the code runs successfully! (without syntax or runtime errors)   \n",
    "But the output is NOT what you expect. \n",
    "\n",
    "This happens VERY often and is VERY annoying. Hard to debug. "
   ]
  },
  {
   "cell_type": "code",
   "execution_count": null,
   "metadata": {},
   "outputs": [],
   "source": [
    "# Example:\n",
    "# What is wrong? \n",
    "def avg(x, y):\n",
    "    return x + y / 2\n",
    "myAvg = avg(2, 2) \n",
    "print(myAvg)"
   ]
  },
  {
   "cell_type": "markdown",
   "metadata": {},
   "source": [
    "##### 1.4 Simple Tips\n",
    "1. Do not use reserved keywords \n",
    "2. A colon is included after for, while, if, else, def, class, etc. \n",
    "3. Parenthese and quotations must always be closed properly. (use IDE to help highlight that)\n",
    "4. Use = and == corretly\n",
    "5. Use correct indentation (do tabs instead of manually typing out 4 space characters)\n",
    "6. Indexing begin at 0 and EXCLUDES the endpoint (inclusive of the starting point)"
   ]
  },
  {
   "cell_type": "code",
   "execution_count": null,
   "metadata": {},
   "outputs": [],
   "source": [
    "# 1 - Do not use reserved/keywords:\n",
    "# - You can check the reserved/keywords using:\n",
    "import keyword\n",
    "keyword.kwlist"
   ]
  },
  {
   "cell_type": "code",
   "execution_count": null,
   "metadata": {},
   "outputs": [],
   "source": [
    "# 2 - A colon is included after for, while, if, else, def, class, etc.\n",
    "def avg(x, y): \n",
    "    return (x + y)/2\n",
    "avg(2, 2)"
   ]
  },
  {
   "cell_type": "code",
   "execution_count": null,
   "metadata": {},
   "outputs": [],
   "source": [
    "# 3 - Parentheses and quotations are closed properly.\n",
    "print((10*2) + (5*3))"
   ]
  },
  {
   "cell_type": "code",
   "execution_count": null,
   "metadata": {},
   "outputs": [],
   "source": [
    "# 4 - Use = and == correctly\n",
    "myAvg = avg(2, 2)\n",
    "2 == myAvg"
   ]
  },
  {
   "cell_type": "code",
   "execution_count": null,
   "metadata": {},
   "outputs": [],
   "source": [
    "# 5 - Use correct indentation\n",
    "x = 1\n",
    "while x < 5:\n",
    "    x += 1\n",
    "    print(x)"
   ]
  },
  {
   "cell_type": "code",
   "execution_count": null,
   "metadata": {},
   "outputs": [],
   "source": [
    "# 6 - Indexing begins at 0 and **excludes** the endpoint\n",
    "for i in range(0, 5):\n",
    "    print(i)"
   ]
  },
  {
   "cell_type": "markdown",
   "metadata": {},
   "source": [
    "#### Part 2: Exception (Runtime Errors) Handling"
   ]
  },
  {
   "cell_type": "markdown",
   "metadata": {},
   "source": [
    "- We use them when we expect error to occur (very useful when web scraping)\n",
    "- We define what to execute when there is an error\n",
    "- We should deal with multiple errors separately"
   ]
  },
  {
   "cell_type": "markdown",
   "metadata": {},
   "source": [
    "##### List of exception handling tricks:\n",
    "\n",
    "- raise:   \n",
    "     to raise exceptions or errors and your program stops running \n",
    "- try:   \n",
    "     to try to execute the code block (where you expect errors to occur)\n",
    "- except:   \n",
    "     when it fails in the try block, and the expected error occurs, handle it here\n",
    "- else:    \n",
    "     if no exceptions, this block gets executed\n",
    "- finally:   \n",
    "     always runs regardless of what happens\n",
    "- pass:   \n",
    "     to continue execution without doing anything (basically just ignore it)"
   ]
  },
  {
   "cell_type": "markdown",
   "metadata": {},
   "source": [
    "Let's work through an example. Say that we're trying to define a function that divides 2 numbers"
   ]
  },
  {
   "cell_type": "code",
   "execution_count": 34,
   "metadata": {},
   "outputs": [],
   "source": [
    "# not handling errors at all\n",
    "def divide(x, y):\n",
    "    return x / y\n",
    "\n",
    "# divide(5,0) "
   ]
  },
  {
   "cell_type": "code",
   "execution_count": 39,
   "metadata": {},
   "outputs": [],
   "source": [
    "# use raise \n",
    "def divide(x, y):\n",
    "    if y == 0: \n",
    "        raise ZeroDivisionError(\"Cannot divide by zero!\")\n",
    "    return x / y\n",
    "\n",
    "# divide(5,0) "
   ]
  },
  {
   "cell_type": "code",
   "execution_count": 46,
   "metadata": {},
   "outputs": [
    {
     "name": "stdout",
     "output_type": "stream",
     "text": [
      "Your answer is 5.0\n",
      "Cannot divide by zero!\n"
     ]
    }
   ],
   "source": [
    "# use try and except \n",
    "def divide(x, y):\n",
    "    try: \n",
    "        result = x / y\n",
    "        print('Your answer is {}'.format(result))\n",
    "    except ZeroDivisionError: \n",
    "        print(\"Cannot divide by zero!\")\n",
    "\n",
    "divide(5,1) \n",
    "divide(5,0)"
   ]
  },
  {
   "cell_type": "code",
   "execution_count": 48,
   "metadata": {},
   "outputs": [
    {
     "name": "stdout",
     "output_type": "stream",
     "text": [
      "Your answer is 5.0\n",
      "Cannot divide by zero!\n"
     ]
    }
   ],
   "source": [
    "# use try except else\n",
    "def divide(x, y):\n",
    "    try: \n",
    "        result = x / y\n",
    "    except ZeroDivisionError: \n",
    "        print(\"Cannot divide by zero!\")\n",
    "    else: \n",
    "        print('Your answer is {}'.format(result))\n",
    "\n",
    "divide(5,1) \n",
    "divide(5,0)"
   ]
  },
  {
   "cell_type": "code",
   "execution_count": 50,
   "metadata": {},
   "outputs": [
    {
     "name": "stdout",
     "output_type": "stream",
     "text": [
      "Your answer is 5.0\n",
      "Have a great day!\n",
      "Cannot divide by zero!\n",
      "Have a great day!\n"
     ]
    }
   ],
   "source": [
    "# use try except else finally\n",
    "def divide(x, y):\n",
    "    try: \n",
    "        result = x / y\n",
    "    except ZeroDivisionError: \n",
    "        print(\"Cannot divide by zero!\")\n",
    "    else: \n",
    "        print('Your answer is {}'.format(result))\n",
    "    finally: \n",
    "        print('Have a great day!')\n",
    "\n",
    "divide(5,1) \n",
    "divide(5,0)"
   ]
  },
  {
   "cell_type": "code",
   "execution_count": 58,
   "metadata": {},
   "outputs": [
    {
     "name": "stdout",
     "output_type": "stream",
     "text": [
      "TypeError: Make sure you have two numbers!\n",
      "Have a great day!\n"
     ]
    }
   ],
   "source": [
    "# use try except except else finally\n",
    "def divide(x, y):\n",
    "    try: \n",
    "        result = x / y\n",
    "    except ZeroDivisionError: \n",
    "        print(\"ZeroDivisionError: Cannot divide by zero!\")\n",
    "    except TypeError: \n",
    "        print(\"TypeError: Make sure you have two numbers!\")\n",
    "    else: \n",
    "        print('Your answer is {}'.format(result))\n",
    "    finally: \n",
    "        print('Have a great day!')\n",
    "\n",
    "# divide(5,1) \n",
    "# divide(5,0)\n",
    "# divide('Cecilia')\n",
    "divide('Cecilia', 'Sui')"
   ]
  },
  {
   "cell_type": "markdown",
   "metadata": {},
   "source": [
    "#### Exceptions are helpful so our code doesn't break! But they cannot resolve logical errors "
   ]
  },
  {
   "cell_type": "markdown",
   "metadata": {},
   "source": [
    "#### Part 3: Short Class Activity\n",
    "\n",
    "We are trying to print an **integer** using the print_integer() function.   \n",
    "What type of error would occur? How can we fix it? "
   ]
  },
  {
   "cell_type": "code",
   "execution_count": 77,
   "metadata": {},
   "outputs": [],
   "source": [
    "def print_integer(my_integer):\n",
    "    # Let's write this together! \n",
    "    pass\n",
    "\n",
    "print_integer(3.5) # What kind of error? \n",
    "print_integer(3.0)\n",
    "print_integer('Hi I am Cecilia!') # What error? \n",
    "\n",
    "\n",
    "\n",
    "\n",
    "\n",
    "\n"
   ]
  },
  {
   "cell_type": "code",
   "execution_count": 76,
   "metadata": {},
   "outputs": [
    {
     "name": "stdout",
     "output_type": "stream",
     "text": [
      "The number has decimals!\n",
      "The integer is 3.0\n",
      "Enter an integer\n"
     ]
    }
   ],
   "source": [
    "def print_integer(my_integer):\n",
    "    # Let's write this together! \n",
    "    try: \n",
    "        if my_integer % 1 == 0: \n",
    "            print(\"The integer is \" + str(my_integer))\n",
    "        else:\n",
    "            print(\"The number has decimals!\")\n",
    "    except TypeError: \n",
    "        print(\"Enter an integer\")\n",
    "\n",
    "print_integer(3.5) # What kind of error? \n",
    "print_integer(3.0)\n",
    "print_integer('Hi I am Cecilia!') # What error? \n"
   ]
  },
  {
   "cell_type": "code",
   "execution_count": 78,
   "metadata": {},
   "outputs": [],
   "source": [
    "# We can create your own exception as a new class     \n",
    "class CustomException(Exception): \n",
    "    def __init__(self, value):\n",
    "        self.value = value\n",
    "    def __str__(self):\n",
    "        return str(self.value)"
   ]
  },
  {
   "cell_type": "code",
   "execution_count": 96,
   "metadata": {},
   "outputs": [
    {
     "ename": "CustomException",
     "evalue": "Whatever you want to say here",
     "output_type": "error",
     "traceback": [
      "\u001b[0;31m---------------------------------------------------------------------------\u001b[0m",
      "\u001b[0;31mCustomException\u001b[0m                           Traceback (most recent call last)",
      "\u001b[1;32m/Users/ysui/Desktop/PhD/MTE/pythoncamp2023_prep/Day03/Lecture/day03_lecture.ipynb Cell 32\u001b[0m in \u001b[0;36m<cell line: 2>\u001b[0;34m()\u001b[0m\n\u001b[1;32m      <a href='vscode-notebook-cell:/Users/ysui/Desktop/PhD/MTE/pythoncamp2023_prep/Day03/Lecture/day03_lecture.ipynb#X52sZmlsZQ%3D%3D?line=0'>1</a>\u001b[0m \u001b[39m# use\u001b[39;00m\n\u001b[0;32m----> <a href='vscode-notebook-cell:/Users/ysui/Desktop/PhD/MTE/pythoncamp2023_prep/Day03/Lecture/day03_lecture.ipynb#X52sZmlsZQ%3D%3D?line=1'>2</a>\u001b[0m \u001b[39mraise\u001b[39;00m CustomException(\u001b[39m\"\u001b[39m\u001b[39mWhatever you want to say here\u001b[39m\u001b[39m\"\u001b[39m)\n",
      "\u001b[0;31mCustomException\u001b[0m: Whatever you want to say here"
     ]
    }
   ],
   "source": [
    "# use\n",
    "raise CustomException(\"Whatever you want to say here\")"
   ]
  },
  {
   "cell_type": "markdown",
   "metadata": {},
   "source": [
    "Let's look at this more complicated example. \n",
    "\n",
    "In this example, our custom exception is that the integer cannot be 10, 20, or 30. \n",
    "\n",
    "Since this is a ValueError unique to our situation, we need to catch it ourselves!"
   ]
  },
  {
   "cell_type": "code",
   "execution_count": 94,
   "metadata": {},
   "outputs": [],
   "source": [
    "def print_integer(integer):\n",
    "    bad_numbers = [10, 20, 30]\n",
    "    try:\n",
    "        if integer in bad_numbers:\n",
    "            ## raise it ourselves\n",
    "            raise CustomException(integer)\n",
    "        elif integer % 1 != 0:\n",
    "            raise CustomException(integer) \n",
    "        else:\n",
    "            print(\"Congratulations! You entered an integer!\")\n",
    "    ## then catch it\n",
    "    except CustomException as e:\n",
    "        raise ValueError(\"Your number cannot be: %f\" % e.value)\n",
    "    except TypeError:\n",
    "        print(\"You didn't enter a number.\")\n",
    "    else:\n",
    "        return \"Your integer is \" + str(integer)"
   ]
  },
  {
   "cell_type": "code",
   "execution_count": 95,
   "metadata": {},
   "outputs": [
    {
     "name": "stdout",
     "output_type": "stream",
     "text": [
      "Congratulations! You entered an integer!\n"
     ]
    },
    {
     "data": {
      "text/plain": [
       "'Your integer is 1'"
      ]
     },
     "execution_count": 95,
     "metadata": {},
     "output_type": "execute_result"
    }
   ],
   "source": [
    "# print_integer(10) \n",
    "# print_integer(1.2) \n",
    "# print_integer('a')\n",
    "print_integer(1)"
   ]
  },
  {
   "cell_type": "markdown",
   "metadata": {},
   "source": [
    "more on except and raise: https://stackoverflow.com/questions/56942284/what-is-the-difference-between-raise-and-except\n"
   ]
  },
  {
   "cell_type": "code",
   "execution_count": null,
   "metadata": {},
   "outputs": [],
   "source": []
  },
  {
   "cell_type": "code",
   "execution_count": null,
   "metadata": {},
   "outputs": [],
   "source": []
  }
 ],
 "metadata": {
  "kernelspec": {
   "display_name": "base",
   "language": "python",
   "name": "python3"
  },
  "language_info": {
   "codemirror_mode": {
    "name": "ipython",
    "version": 3
   },
   "file_extension": ".py",
   "mimetype": "text/x-python",
   "name": "python",
   "nbconvert_exporter": "python",
   "pygments_lexer": "ipython3",
   "version": "3.9.13"
  },
  "orig_nbformat": 4
 },
 "nbformat": 4,
 "nbformat_minor": 2
}
