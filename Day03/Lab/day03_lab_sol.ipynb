{
 "cells": [
  {
   "cell_type": "markdown",
   "metadata": {},
   "source": [
    "1. Make all characters capitalized. \n",
    "    - check out the .upper()\n",
    "    - handle the exception when intergers are given instead of string"
   ]
  },
  {
   "cell_type": "code",
   "execution_count": 4,
   "metadata": {},
   "outputs": [],
   "source": [
    "def shout(txt):\n",
    "    # YOUR CODE HERE\n",
    "    if type(txt) == str:\n",
    "        return txt.upper()\n",
    "    else: \n",
    "        raise TypeError(\"Must enter a string\")\n",
    "\n",
    "# shout(3)"
   ]
  },
  {
   "cell_type": "markdown",
   "metadata": {},
   "source": [
    "2. Reverse all characters in a string\n",
    "    - handle the exception when integers are given \n",
    "    - use a different method to handle this from 1."
   ]
  },
  {
   "cell_type": "code",
   "execution_count": 5,
   "metadata": {},
   "outputs": [
    {
     "name": "stdout",
     "output_type": "stream",
     "text": [
      "Must enter a string\n"
     ]
    }
   ],
   "source": [
    "def reverse(txt):\n",
    "    try: \n",
    "        return txt[::-1]\n",
    "    except TypeError:\n",
    "        print(\"Must enter a string\")\n",
    "    # YOUR CODE HERE\n",
    "\n",
    "reverse(31)"
   ]
  },
  {
   "cell_type": "markdown",
   "metadata": {},
   "source": [
    "3. Reverse the word ordering in a string\n",
    "    - assume words are separated by space\n",
    "    - think of one error that could occur and handle it accordingly"
   ]
  },
  {
   "cell_type": "code",
   "execution_count": 6,
   "metadata": {},
   "outputs": [
    {
     "data": {
      "text/plain": [
       "'Sui Cecilia'"
      ]
     },
     "execution_count": 6,
     "metadata": {},
     "output_type": "execute_result"
    }
   ],
   "source": [
    "def reversewords(txt):\n",
    "    if type(txt) != str: \n",
    "        raise TypeError(\"Please enter a string!\")\n",
    "    else: \n",
    "        words = txt.split()\n",
    "        return ' '.join(words[::-1])\n",
    "\n",
    "# reversewords(32)\n",
    "reversewords(\"Cecilia Sui\")"
   ]
  },
  {
   "cell_type": "markdown",
   "metadata": {},
   "source": [
    "4. Reverse letters in each word in the string\n",
    "    - The word ordering is preserved\n",
    "    - Only the letters are reversed "
   ]
  },
  {
   "cell_type": "code",
   "execution_count": 12,
   "metadata": {},
   "outputs": [
    {
     "data": {
      "text/plain": [
       "'ailiceC iuS'"
      ]
     },
     "execution_count": 12,
     "metadata": {},
     "output_type": "execute_result"
    }
   ],
   "source": [
    "def reversewordletters(txt):\n",
    "    words = txt.split()\n",
    "    return ' '.join([reverse(w) for w in words])\n",
    "\n",
    "\n",
    "reversewordletters(\"Cecilia Sui\")"
   ]
  },
  {
   "cell_type": "markdown",
   "metadata": {},
   "source": [
    "5. (Optional) Change text to piglatin... Google it! \n",
    "    - Handle errors accordingly"
   ]
  },
  {
   "cell_type": "code",
   "execution_count": 8,
   "metadata": {},
   "outputs": [],
   "source": [
    "def piglatin(txt):\n",
    "    try:\n",
    "        vowels = ['a', 'e', 'i', 'o', 'u']\n",
    "        first_vowel = [i in vowels for i in txt].index(True)\n",
    "    except ValueError:\n",
    "        first_vowel = [i == 'y' for i in txt].index(True)\n",
    "    ordering = [i for i in range(first_vowel, len(txt))]\n",
    "    ordering.extend(range(0, first_vowel))\n",
    "    result = [i for i in map(txt.__getitem__, ordering)]\n",
    "    result.extend('ay')\n",
    "    return ''.join(result)"
   ]
  },
  {
   "cell_type": "code",
   "execution_count": 13,
   "metadata": {},
   "outputs": [],
   "source": [
    "vowels = ['a', 'e', 'i', 'o', 'u']"
   ]
  },
  {
   "cell_type": "code",
   "execution_count": 17,
   "metadata": {},
   "outputs": [
    {
     "data": {
      "text/plain": [
       "1"
      ]
     },
     "execution_count": 17,
     "metadata": {},
     "output_type": "execute_result"
    }
   ],
   "source": [
    "txt = 'Cecilia'\n",
    "[i in vowels for i in txt].index(True)"
   ]
  },
  {
   "cell_type": "code",
   "execution_count": null,
   "metadata": {},
   "outputs": [],
   "source": []
  }
 ],
 "metadata": {
  "kernelspec": {
   "display_name": "base",
   "language": "python",
   "name": "python3"
  },
  "language_info": {
   "codemirror_mode": {
    "name": "ipython",
    "version": 3
   },
   "file_extension": ".py",
   "mimetype": "text/x-python",
   "name": "python",
   "nbconvert_exporter": "python",
   "pygments_lexer": "ipython3",
   "version": "3.9.13"
  },
  "orig_nbformat": 4
 },
 "nbformat": 4,
 "nbformat_minor": 2
}
